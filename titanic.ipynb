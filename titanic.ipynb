{
 "cells": [
  {
   "cell_type": "code",
   "execution_count": 1,
   "id": "8d61182f",
   "metadata": {
    "execution": {
     "iopub.execute_input": "2024-12-27T01:53:20.292164Z",
     "iopub.status.busy": "2024-12-27T01:53:20.291130Z",
     "iopub.status.idle": "2024-12-27T01:53:35.204028Z",
     "shell.execute_reply": "2024-12-27T01:53:35.203089Z"
    },
    "papermill": {
     "duration": 14.925491,
     "end_time": "2024-12-27T01:53:35.206407",
     "exception": false,
     "start_time": "2024-12-27T01:53:20.280916",
     "status": "completed"
    },
    "tags": []
   },
   "outputs": [],
   "source": [
    "import datetime\n",
    "import matplotlib.pyplot as plt\n",
    "import numpy as np\n",
    "import pandas as pd\n",
    "import string\n",
    "\n",
    "from sklearn.base import BaseEstimator\n",
    "from sklearn.ensemble import RandomForestClassifier\n",
    "from sklearn.metrics import accuracy_score\n",
    "from sklearn.model_selection import GridSearchCV, StratifiedKFold\n",
    "from sklearn.preprocessing import StandardScaler\n",
    "from tensorflow.keras import layers, Sequential\n",
    "from tensorflow.keras.callbacks import EarlyStopping\n",
    "from tensorflow.keras.optimizers import Adam\n",
    "from typing import Union\n",
    "from xgboost import XGBClassifier"
   ]
  },
  {
   "cell_type": "code",
   "execution_count": 2,
   "id": "bdfb0fd8",
   "metadata": {
    "execution": {
     "iopub.execute_input": "2024-12-27T01:53:35.230276Z",
     "iopub.status.busy": "2024-12-27T01:53:35.228991Z",
     "iopub.status.idle": "2024-12-27T01:53:35.256846Z",
     "shell.execute_reply": "2024-12-27T01:53:35.255827Z"
    },
    "papermill": {
     "duration": 0.039283,
     "end_time": "2024-12-27T01:53:35.259368",
     "exception": false,
     "start_time": "2024-12-27T01:53:35.220085",
     "status": "completed"
    },
    "tags": []
   },
   "outputs": [],
   "source": [
    "# Loading CSVs into Pandas DataFrame\n",
    "train_df = pd.read_csv('/kaggle/input/titanic/train.csv')\n",
    "X_test = pd.read_csv('/kaggle/input/titanic/test.csv')"
   ]
  },
  {
   "cell_type": "markdown",
   "id": "023cce42",
   "metadata": {
    "papermill": {
     "duration": 0.008053,
     "end_time": "2024-12-27T01:53:35.279179",
     "exception": false,
     "start_time": "2024-12-27T01:53:35.271126",
     "status": "completed"
    },
    "tags": []
   },
   "source": [
    "# Preprocessing"
   ]
  },
  {
   "cell_type": "code",
   "execution_count": 3,
   "id": "77e876e7",
   "metadata": {
    "execution": {
     "iopub.execute_input": "2024-12-27T01:53:35.296113Z",
     "iopub.status.busy": "2024-12-27T01:53:35.295395Z",
     "iopub.status.idle": "2024-12-27T01:53:35.300683Z",
     "shell.execute_reply": "2024-12-27T01:53:35.299747Z"
    },
    "papermill": {
     "duration": 0.016379,
     "end_time": "2024-12-27T01:53:35.303044",
     "exception": false,
     "start_time": "2024-12-27T01:53:35.286665",
     "status": "completed"
    },
    "tags": []
   },
   "outputs": [],
   "source": [
    "def get_is_male(row: pd.Series) -> bool:\n",
    "    \"\"\"\n",
    "    Creates boolen indicator value for men in Titanic data.\n",
    "\n",
    "    Args:\n",
    "        row (pd.Series): A row of Titanic data containing a 'Sex' column.\n",
    "\n",
    "    Returns:\n",
    "        Bool: True if Sex=male, False otherwise.\n",
    "    \"\"\"\n",
    "    return row['Sex'] == 'male'"
   ]
  },
  {
   "cell_type": "code",
   "execution_count": 4,
   "id": "1800cc90",
   "metadata": {
    "execution": {
     "iopub.execute_input": "2024-12-27T01:53:35.321378Z",
     "iopub.status.busy": "2024-12-27T01:53:35.320508Z",
     "iopub.status.idle": "2024-12-27T01:53:35.325942Z",
     "shell.execute_reply": "2024-12-27T01:53:35.324793Z"
    },
    "papermill": {
     "duration": 0.017468,
     "end_time": "2024-12-27T01:53:35.328208",
     "exception": false,
     "start_time": "2024-12-27T01:53:35.310740",
     "status": "completed"
    },
    "tags": []
   },
   "outputs": [],
   "source": [
    "def get_is_child(row: pd.Series) -> bool:\n",
    "    \"\"\"\n",
    "    Creates boolen indicator value for childrean in Titanic data.  Defines a child\n",
    "    to be <18.\n",
    "\n",
    "    Args:\n",
    "        row (pd.Series): A row of Titanic data containing a 'Age' column.\n",
    "\n",
    "    Returns:\n",
    "        Bool: True if Age<18, False otherwise.\n",
    "    \"\"\"\n",
    "    return row['Age'] < 18"
   ]
  },
  {
   "cell_type": "code",
   "execution_count": 5,
   "id": "8995ea8e",
   "metadata": {
    "execution": {
     "iopub.execute_input": "2024-12-27T01:53:35.345605Z",
     "iopub.status.busy": "2024-12-27T01:53:35.344505Z",
     "iopub.status.idle": "2024-12-27T01:53:35.350297Z",
     "shell.execute_reply": "2024-12-27T01:53:35.349328Z"
    },
    "papermill": {
     "duration": 0.016505,
     "end_time": "2024-12-27T01:53:35.352394",
     "exception": false,
     "start_time": "2024-12-27T01:53:35.335889",
     "status": "completed"
    },
    "tags": []
   },
   "outputs": [],
   "source": [
    "def get_is_male_is_child(row: pd.Series) -> str:\n",
    "    \"\"\"\n",
    "    Creates compositie indicator variable for validation set creation.  For this\n",
    "    problem, we have the features for the test set.  The proportions of women and\n",
    "    children in the training set is different than that in the test set.  This\n",
    "    creates lower model preformance on the test features than the validation\n",
    "    features.  We use this indicator to create a custom validation set based on the\n",
    "    proportions of women and children in the test set.\n",
    "    \n",
    "    Args:\n",
    "        row (pd.Series): A row of Titanic data containing 'is_male', and 'is_child'\n",
    "        columns.\n",
    "        \n",
    "    Returns:\n",
    "        str: Concatenated is_male and is_child columns from row.\n",
    "    \"\"\"\n",
    "    return f\"{row['is_male']}_{row['is_child']}\""
   ]
  },
  {
   "cell_type": "markdown",
   "id": "1eeee2a9",
   "metadata": {
    "papermill": {
     "duration": 0.007692,
     "end_time": "2024-12-27T01:53:35.367651",
     "exception": false,
     "start_time": "2024-12-27T01:53:35.359959",
     "status": "completed"
    },
    "tags": []
   },
   "source": [
    "## Creating Training and Validation Sets"
   ]
  },
  {
   "cell_type": "code",
   "execution_count": 6,
   "id": "436fa1c4",
   "metadata": {
    "execution": {
     "iopub.execute_input": "2024-12-27T01:53:35.389976Z",
     "iopub.status.busy": "2024-12-27T01:53:35.389243Z",
     "iopub.status.idle": "2024-12-27T01:53:35.450252Z",
     "shell.execute_reply": "2024-12-27T01:53:35.449112Z"
    },
    "papermill": {
     "duration": 0.0743,
     "end_time": "2024-12-27T01:53:35.452570",
     "exception": false,
     "start_time": "2024-12-27T01:53:35.378270",
     "status": "completed"
    },
    "tags": []
   },
   "outputs": [],
   "source": [
    "train_df['is_male'] = train_df.apply(get_is_male, axis=1)\n",
    "X_test['is_male'] = X_test.apply(get_is_male, axis=1)\n",
    "\n",
    "train_df['is_child'] = train_df.apply(get_is_child, axis=1)\n",
    "X_test['is_child'] = X_test.apply(get_is_child, axis=1)\n",
    "\n",
    "train_df['is_male_is_child'] = train_df.apply(get_is_male_is_child, axis=1)\n",
    "X_test['is_male_is_child'] = X_test.apply(get_is_male_is_child, axis=1)"
   ]
  },
  {
   "cell_type": "code",
   "execution_count": 7,
   "id": "f5f0dd5d",
   "metadata": {
    "execution": {
     "iopub.execute_input": "2024-12-27T01:53:35.469208Z",
     "iopub.status.busy": "2024-12-27T01:53:35.468832Z",
     "iopub.status.idle": "2024-12-27T01:53:35.497018Z",
     "shell.execute_reply": "2024-12-27T01:53:35.495998Z"
    },
    "papermill": {
     "duration": 0.039099,
     "end_time": "2024-12-27T01:53:35.499405",
     "exception": false,
     "start_time": "2024-12-27T01:53:35.460306",
     "status": "completed"
    },
    "tags": []
   },
   "outputs": [],
   "source": [
    "# Creating X_val based on the proportion of women and children in X_test\n",
    "val_df = pd.DataFrame()\n",
    "\n",
    "test_proxy_proportions = X_test[\"is_male_is_child\"].value_counts(normalize=True)\n",
    "for proxy_group, proportion in test_proxy_proportions.items():\n",
    "    group_data = train_df[train_df['is_male_is_child'] == proxy_group]\n",
    "    n_samples = int(proportion * len(train_df) * 0.20)  # 20% for validation set\n",
    "    # Sample without replacement from the group\n",
    "    sampled_group_data = group_data.sample(n=n_samples, replace=False)\n",
    "    val_df = pd.concat([val_df, sampled_group_data])\n",
    "\n",
    "# Drop validation samples from training data to avoid data leakage.\n",
    "train_df = train_df.drop(val_df.index)"
   ]
  },
  {
   "cell_type": "code",
   "execution_count": 8,
   "id": "bbba963d",
   "metadata": {
    "execution": {
     "iopub.execute_input": "2024-12-27T01:53:35.516332Z",
     "iopub.status.busy": "2024-12-27T01:53:35.515927Z",
     "iopub.status.idle": "2024-12-27T01:53:35.524103Z",
     "shell.execute_reply": "2024-12-27T01:53:35.522913Z"
    },
    "papermill": {
     "duration": 0.01896,
     "end_time": "2024-12-27T01:53:35.526239",
     "exception": false,
     "start_time": "2024-12-27T01:53:35.507279",
     "status": "completed"
    },
    "tags": []
   },
   "outputs": [],
   "source": [
    "# Separating features and targets in training and validation sets.\n",
    "y_train = train_df.Survived\n",
    "X_train = train_df.drop(columns=['Survived'])\n",
    "\n",
    "y_val = val_df.Survived\n",
    "X_val = val_df.drop(columns=['Survived'])"
   ]
  },
  {
   "cell_type": "markdown",
   "id": "674f799a",
   "metadata": {
    "papermill": {
     "duration": 0.006896,
     "end_time": "2024-12-27T01:53:35.540638",
     "exception": false,
     "start_time": "2024-12-27T01:53:35.533742",
     "status": "completed"
    },
    "tags": []
   },
   "source": [
    "## Creating Features"
   ]
  },
  {
   "cell_type": "code",
   "execution_count": 9,
   "id": "8c1b7e4e",
   "metadata": {
    "execution": {
     "iopub.execute_input": "2024-12-27T01:53:35.557507Z",
     "iopub.status.busy": "2024-12-27T01:53:35.556476Z",
     "iopub.status.idle": "2024-12-27T01:53:35.562117Z",
     "shell.execute_reply": "2024-12-27T01:53:35.561133Z"
    },
    "papermill": {
     "duration": 0.016026,
     "end_time": "2024-12-27T01:53:35.564107",
     "exception": false,
     "start_time": "2024-12-27T01:53:35.548081",
     "status": "completed"
    },
    "tags": []
   },
   "outputs": [],
   "source": [
    "def get_deck(row: pd.Series) -> str:\n",
    "    \"\"\"\n",
    "    Gets the Deck of a Titanic Ticket.  The Deck of a Titanic Ticket is the first\n",
    "    Character of the Ticket if there's a space in it.  Else 'Numeric'.\n",
    "\n",
    "    Args:\n",
    "        row (pd.Series): Row of titanic training data.\n",
    "\n",
    "    Returns:\n",
    "        str: Deck of a Titanic Ticket.\n",
    "    \"\"\"\n",
    "    ticket = row['Ticket']\n",
    "    if len(ticket.split()) > 1:\n",
    "        return ticket[0]\n",
    "    else:\n",
    "        return 'Numeric'"
   ]
  },
  {
   "cell_type": "code",
   "execution_count": 10,
   "id": "4e22da45",
   "metadata": {
    "execution": {
     "iopub.execute_input": "2024-12-27T01:53:35.580373Z",
     "iopub.status.busy": "2024-12-27T01:53:35.579650Z",
     "iopub.status.idle": "2024-12-27T01:53:35.587847Z",
     "shell.execute_reply": "2024-12-27T01:53:35.586831Z"
    },
    "papermill": {
     "duration": 0.018594,
     "end_time": "2024-12-27T01:53:35.589964",
     "exception": false,
     "start_time": "2024-12-27T01:53:35.571370",
     "status": "completed"
    },
    "tags": []
   },
   "outputs": [],
   "source": [
    "def preprocess(X: pd.DataFrame) -> pd.DataFrame:\n",
    "    \"\"\"\n",
    "    Generates relevant features to predict whether a passenger survived the\n",
    "    Titanic disaster.\n",
    "    \n",
    "    Args:\n",
    "        X (pd.DataFrame): Features.\n",
    "\n",
    "    Returns:\n",
    "        pd.DataFrame: Subset of X with engineered columns defined by features\n",
    "            where multiclass variables are binarized.\n",
    "    \"\"\"\n",
    "    # Making a deep copy of X to not alter our original training data.\n",
    "    X_preprocessed = X.copy()\n",
    "\n",
    "    X_preprocessed['Deck'] = X_preprocessed.apply(get_deck, axis=1)\n",
    "\n",
    "    # Assuming all passengers with null ages are 40.\n",
    "    X_preprocessed['Age_not_null'] = X_preprocessed['Age'].fillna(40)\n",
    "    # Assuming all passengers will null Fares paid $0.\n",
    "    X_preprocessed['Fare_not_null'] = X_preprocessed['Fare'].fillna(0)\n",
    "\n",
    "    # Creating features based on Cabin.\n",
    "    X_preprocessed['no_cabin'] = X_preprocessed.apply(\n",
    "        lambda row: pd.isnull(row['Cabin']), axis=1)\n",
    "    X_preprocessed['cabin_first_char'] = X_preprocessed['Cabin'].apply(\n",
    "        lambda row: row[0] if pd.notnull(row) else row)\n",
    "\n",
    "    # The size of a passenger's family is the number of siblings plus the number of\n",
    "    # parents plus themselves.\n",
    "    X_preprocessed['num_family_members'] = X_preprocessed['SibSp']+X_preprocessed['Parch']+1\n",
    "    X_preprocessed['family_size'] = pd.cut(\n",
    "        x=X_preprocessed['num_family_members'],\n",
    "        bins=[0, 2, 5, float('inf')],\n",
    "        labels=['alone', 'small', 'big'],\n",
    "        right=False\n",
    "    )\n",
    "\n",
    "    # One hot encoding gender, embarkment location, Deck, cabin_first_char, and\n",
    "    # family_size.\n",
    "    X_preprocessed = pd.get_dummies(X_preprocessed, columns=[\n",
    "        'cabin_first_char', 'Deck', 'Embarked', 'family_size', 'Pclass'])\n",
    "    return X_preprocessed"
   ]
  },
  {
   "cell_type": "markdown",
   "id": "16b3402f",
   "metadata": {
    "papermill": {
     "duration": 0.006837,
     "end_time": "2024-12-27T01:53:35.604079",
     "exception": false,
     "start_time": "2024-12-27T01:53:35.597242",
     "status": "completed"
    },
    "tags": []
   },
   "source": [
    "# Models"
   ]
  },
  {
   "cell_type": "code",
   "execution_count": 11,
   "id": "89074564",
   "metadata": {
    "execution": {
     "iopub.execute_input": "2024-12-27T01:53:35.619870Z",
     "iopub.status.busy": "2024-12-27T01:53:35.619445Z",
     "iopub.status.idle": "2024-12-27T01:53:35.626006Z",
     "shell.execute_reply": "2024-12-27T01:53:35.625017Z"
    },
    "papermill": {
     "duration": 0.016786,
     "end_time": "2024-12-27T01:53:35.627960",
     "exception": false,
     "start_time": "2024-12-27T01:53:35.611174",
     "status": "completed"
    },
    "tags": []
   },
   "outputs": [],
   "source": [
    "def evaluate_model(model: BaseEstimator,\n",
    "                   X_train: pd.DataFrame,\n",
    "                   y_train: pd.Series,\n",
    "                   X_val: pd.DataFrame,\n",
    "                   y_val: pd.Series) -> dict[str: Union[str, float]]:\n",
    "    \"\"\"\n",
    "    Returns accuracy on training and validation sets. \n",
    "    \n",
    "    Args:\n",
    "        X_train (pd.DataFrame): Training features.\n",
    "        X_val (pd.DataFrame): Validation features.\n",
    "    \n",
    "    Returns:\n",
    "        (dict[str: Union[str, float]]): dictionary of training and validation\n",
    "            accuracies for model.\n",
    "    \"\"\"\n",
    "    y_pred_train = model.predict(X_train).round()\n",
    "    y_pred_val = model.predict(X_val).round()\n",
    "\n",
    "    train_accuracy = accuracy_score(\n",
    "        y_true=y_train, y_pred=y_pred_train)\n",
    "    val_accuracy = accuracy_score(\n",
    "        y_true=y_val, y_pred=y_pred_val)\n",
    "\n",
    "    return {\n",
    "        'model': model.estimator,\n",
    "        'training_accuracy': train_accuracy,\n",
    "        'validation_accuracy': val_accuracy\n",
    "    }"
   ]
  },
  {
   "cell_type": "markdown",
   "id": "444f7453",
   "metadata": {
    "execution": {
     "iopub.execute_input": "2024-11-27T17:35:56.470211Z",
     "iopub.status.busy": "2024-11-27T17:35:56.469783Z",
     "iopub.status.idle": "2024-11-27T17:35:56.475218Z",
     "shell.execute_reply": "2024-11-27T17:35:56.474034Z",
     "shell.execute_reply.started": "2024-11-27T17:35:56.470175Z"
    },
    "papermill": {
     "duration": 0.007045,
     "end_time": "2024-12-27T01:53:35.642282",
     "exception": false,
     "start_time": "2024-12-27T01:53:35.635237",
     "status": "completed"
    },
    "tags": []
   },
   "source": [
    "## Gender Model"
   ]
  },
  {
   "cell_type": "code",
   "execution_count": 12,
   "id": "0a467e58",
   "metadata": {
    "execution": {
     "iopub.execute_input": "2024-12-27T01:53:35.658548Z",
     "iopub.status.busy": "2024-12-27T01:53:35.658160Z",
     "iopub.status.idle": "2024-12-27T01:53:35.665693Z",
     "shell.execute_reply": "2024-12-27T01:53:35.664485Z"
    },
    "papermill": {
     "duration": 0.018224,
     "end_time": "2024-12-27T01:53:35.667760",
     "exception": false,
     "start_time": "2024-12-27T01:53:35.649536",
     "status": "completed"
    },
    "tags": []
   },
   "outputs": [],
   "source": [
    "class GenderModel(BaseEstimator):\n",
    "    estimator = \"GenderModel\"\n",
    "    def fit(self, X_train: pd.DataFrame, y_train: pd.Series) -> \"GenderModel\":\n",
    "        \"\"\"\n",
    "        Fits a GenderModel for the given training data.\n",
    "\n",
    "        Args:\n",
    "            X (pd.DataFrame): Pandas Dataframe containing 'Sex' column.\n",
    "            y (pd.Series): Boolean target variable.\n",
    "\n",
    "        Retruns:\n",
    "            GenderModel: A fit GenderModel to the training data.\n",
    "        \"\"\"\n",
    "        return self\n",
    "    def predict(self, X: pd.DataFrame) -> np.ndarray:\n",
    "        \"\"\"\n",
    "        Predicts whether a passenger survives the Titanic solely based on gender.\n",
    "        Women are predicted to survive, men are not.\n",
    "    \n",
    "        Args:\n",
    "            X (pd.DataFrame): Pandas Dataframe containing 'Sex' column.\n",
    "    \n",
    "        Returns:\n",
    "            pd.Series: True if female, False otherwise.\n",
    "        \"\"\"\n",
    "        return np.where(X['Sex'] == 'female', 1, 0)\n",
    "    def score(self, X: pd.DataFrame, y_true: pd.DataFrame) -> float:\n",
    "        \"\"\"\n",
    "        Returns the accuracy of predicting a GenderModel on X against y.\n",
    "\n",
    "        Args:\n",
    "            X (pd.DataFrame): Pandas Dataframe containing 'Sex' column.\n",
    "\n",
    "        Returns:\n",
    "            float: accuracy of predictinging a GenderModel on X against y.\n",
    "        \"\"\"\n",
    "        y_pred = self.predict(X)\n",
    "        return (y_pred == y_true).mean()"
   ]
  },
  {
   "cell_type": "code",
   "execution_count": 13,
   "id": "cb08ea35",
   "metadata": {
    "execution": {
     "iopub.execute_input": "2024-12-27T01:53:35.684501Z",
     "iopub.status.busy": "2024-12-27T01:53:35.683543Z",
     "iopub.status.idle": "2024-12-27T01:53:35.707213Z",
     "shell.execute_reply": "2024-12-27T01:53:35.706026Z"
    },
    "papermill": {
     "duration": 0.034375,
     "end_time": "2024-12-27T01:53:35.709482",
     "exception": false,
     "start_time": "2024-12-27T01:53:35.675107",
     "status": "completed"
    },
    "tags": []
   },
   "outputs": [
    {
     "data": {
      "text/html": [
       "<style>#sk-container-id-1 {color: black;background-color: white;}#sk-container-id-1 pre{padding: 0;}#sk-container-id-1 div.sk-toggleable {background-color: white;}#sk-container-id-1 label.sk-toggleable__label {cursor: pointer;display: block;width: 100%;margin-bottom: 0;padding: 0.3em;box-sizing: border-box;text-align: center;}#sk-container-id-1 label.sk-toggleable__label-arrow:before {content: \"▸\";float: left;margin-right: 0.25em;color: #696969;}#sk-container-id-1 label.sk-toggleable__label-arrow:hover:before {color: black;}#sk-container-id-1 div.sk-estimator:hover label.sk-toggleable__label-arrow:before {color: black;}#sk-container-id-1 div.sk-toggleable__content {max-height: 0;max-width: 0;overflow: hidden;text-align: left;background-color: #f0f8ff;}#sk-container-id-1 div.sk-toggleable__content pre {margin: 0.2em;color: black;border-radius: 0.25em;background-color: #f0f8ff;}#sk-container-id-1 input.sk-toggleable__control:checked~div.sk-toggleable__content {max-height: 200px;max-width: 100%;overflow: auto;}#sk-container-id-1 input.sk-toggleable__control:checked~label.sk-toggleable__label-arrow:before {content: \"▾\";}#sk-container-id-1 div.sk-estimator input.sk-toggleable__control:checked~label.sk-toggleable__label {background-color: #d4ebff;}#sk-container-id-1 div.sk-label input.sk-toggleable__control:checked~label.sk-toggleable__label {background-color: #d4ebff;}#sk-container-id-1 input.sk-hidden--visually {border: 0;clip: rect(1px 1px 1px 1px);clip: rect(1px, 1px, 1px, 1px);height: 1px;margin: -1px;overflow: hidden;padding: 0;position: absolute;width: 1px;}#sk-container-id-1 div.sk-estimator {font-family: monospace;background-color: #f0f8ff;border: 1px dotted black;border-radius: 0.25em;box-sizing: border-box;margin-bottom: 0.5em;}#sk-container-id-1 div.sk-estimator:hover {background-color: #d4ebff;}#sk-container-id-1 div.sk-parallel-item::after {content: \"\";width: 100%;border-bottom: 1px solid gray;flex-grow: 1;}#sk-container-id-1 div.sk-label:hover label.sk-toggleable__label {background-color: #d4ebff;}#sk-container-id-1 div.sk-serial::before {content: \"\";position: absolute;border-left: 1px solid gray;box-sizing: border-box;top: 0;bottom: 0;left: 50%;z-index: 0;}#sk-container-id-1 div.sk-serial {display: flex;flex-direction: column;align-items: center;background-color: white;padding-right: 0.2em;padding-left: 0.2em;position: relative;}#sk-container-id-1 div.sk-item {position: relative;z-index: 1;}#sk-container-id-1 div.sk-parallel {display: flex;align-items: stretch;justify-content: center;background-color: white;position: relative;}#sk-container-id-1 div.sk-item::before, #sk-container-id-1 div.sk-parallel-item::before {content: \"\";position: absolute;border-left: 1px solid gray;box-sizing: border-box;top: 0;bottom: 0;left: 50%;z-index: -1;}#sk-container-id-1 div.sk-parallel-item {display: flex;flex-direction: column;z-index: 1;position: relative;background-color: white;}#sk-container-id-1 div.sk-parallel-item:first-child::after {align-self: flex-end;width: 50%;}#sk-container-id-1 div.sk-parallel-item:last-child::after {align-self: flex-start;width: 50%;}#sk-container-id-1 div.sk-parallel-item:only-child::after {width: 0;}#sk-container-id-1 div.sk-dashed-wrapped {border: 1px dashed gray;margin: 0 0.4em 0.5em 0.4em;box-sizing: border-box;padding-bottom: 0.4em;background-color: white;}#sk-container-id-1 div.sk-label label {font-family: monospace;font-weight: bold;display: inline-block;line-height: 1.2em;}#sk-container-id-1 div.sk-label-container {text-align: center;}#sk-container-id-1 div.sk-container {/* jupyter's `normalize.less` sets `[hidden] { display: none; }` but bootstrap.min.css set `[hidden] { display: none !important; }` so we also need the `!important` here to be able to override the default hidden behavior on the sphinx rendered scikit-learn.org. See: https://github.com/scikit-learn/scikit-learn/issues/21755 */display: inline-block !important;position: relative;}#sk-container-id-1 div.sk-text-repr-fallback {display: none;}</style><div id=\"sk-container-id-1\" class=\"sk-top-container\"><div class=\"sk-text-repr-fallback\"><pre>GridSearchCV(estimator=GenderModel(), param_grid={})</pre><b>In a Jupyter environment, please rerun this cell to show the HTML representation or trust the notebook. <br />On GitHub, the HTML representation is unable to render, please try loading this page with nbviewer.org.</b></div><div class=\"sk-container\" hidden><div class=\"sk-item sk-dashed-wrapped\"><div class=\"sk-label-container\"><div class=\"sk-label sk-toggleable\"><input class=\"sk-toggleable__control sk-hidden--visually\" id=\"sk-estimator-id-1\" type=\"checkbox\" ><label for=\"sk-estimator-id-1\" class=\"sk-toggleable__label sk-toggleable__label-arrow\">GridSearchCV</label><div class=\"sk-toggleable__content\"><pre>GridSearchCV(estimator=GenderModel(), param_grid={})</pre></div></div></div><div class=\"sk-parallel\"><div class=\"sk-parallel-item\"><div class=\"sk-item\"><div class=\"sk-label-container\"><div class=\"sk-label sk-toggleable\"><input class=\"sk-toggleable__control sk-hidden--visually\" id=\"sk-estimator-id-2\" type=\"checkbox\" ><label for=\"sk-estimator-id-2\" class=\"sk-toggleable__label sk-toggleable__label-arrow\">estimator: GenderModel</label><div class=\"sk-toggleable__content\"><pre>GenderModel()</pre></div></div></div><div class=\"sk-serial\"><div class=\"sk-item\"><div class=\"sk-estimator sk-toggleable\"><input class=\"sk-toggleable__control sk-hidden--visually\" id=\"sk-estimator-id-3\" type=\"checkbox\" ><label for=\"sk-estimator-id-3\" class=\"sk-toggleable__label sk-toggleable__label-arrow\">GenderModel</label><div class=\"sk-toggleable__content\"><pre>GenderModel()</pre></div></div></div></div></div></div></div></div></div></div>"
      ],
      "text/plain": [
       "GridSearchCV(estimator=GenderModel(), param_grid={})"
      ]
     },
     "execution_count": 13,
     "metadata": {},
     "output_type": "execute_result"
    }
   ],
   "source": [
    "gender_model = GridSearchCV(GenderModel(), param_grid={})\n",
    "\n",
    "gender_model.fit(X_train, y_train)"
   ]
  },
  {
   "cell_type": "markdown",
   "id": "f92a4445",
   "metadata": {
    "papermill": {
     "duration": 0.007405,
     "end_time": "2024-12-27T01:53:35.724583",
     "exception": false,
     "start_time": "2024-12-27T01:53:35.717178",
     "status": "completed"
    },
    "tags": []
   },
   "source": [
    "## Random Forest\n",
    "### Feature Selection"
   ]
  },
  {
   "cell_type": "code",
   "execution_count": 14,
   "id": "3d2cf807",
   "metadata": {
    "execution": {
     "iopub.execute_input": "2024-12-27T01:53:35.742167Z",
     "iopub.status.busy": "2024-12-27T01:53:35.741206Z",
     "iopub.status.idle": "2024-12-27T01:53:35.793956Z",
     "shell.execute_reply": "2024-12-27T01:53:35.792829Z"
    },
    "papermill": {
     "duration": 0.064063,
     "end_time": "2024-12-27T01:53:35.796314",
     "exception": false,
     "start_time": "2024-12-27T01:53:35.732251",
     "status": "completed"
    },
    "tags": []
   },
   "outputs": [],
   "source": [
    "features_rf = [\"is_male\", \"Age_not_null\", \"Fare_not_null\", \"Pclass_1\", \"Pclass_2\",\n",
    "               \"Pclass_3\"]\n",
    "\n",
    "X_train_preprocessed_rf = preprocess(X_train).reindex(columns=features_rf)\n",
    "\n",
    "# Ensuring columns in X_val_preprocessed_rf are the same as the columns in\n",
    "# X_train_preprocessed_rf since we have one hot encodings\n",
    "X_val_preprocessed_rf = preprocess(X_val).reindex(columns=features_rf)"
   ]
  },
  {
   "cell_type": "markdown",
   "id": "df75b106",
   "metadata": {
    "papermill": {
     "duration": 0.007169,
     "end_time": "2024-12-27T01:53:35.811248",
     "exception": false,
     "start_time": "2024-12-27T01:53:35.804079",
     "status": "completed"
    },
    "tags": []
   },
   "source": [
    "### Hyperparameter Tuning"
   ]
  },
  {
   "cell_type": "code",
   "execution_count": 15,
   "id": "6be8fe07",
   "metadata": {
    "execution": {
     "iopub.execute_input": "2024-12-27T01:53:35.828374Z",
     "iopub.status.busy": "2024-12-27T01:53:35.827610Z",
     "iopub.status.idle": "2024-12-27T01:53:45.664485Z",
     "shell.execute_reply": "2024-12-27T01:53:45.663286Z"
    },
    "papermill": {
     "duration": 9.84798,
     "end_time": "2024-12-27T01:53:45.666856",
     "exception": false,
     "start_time": "2024-12-27T01:53:35.818876",
     "status": "completed"
    },
    "tags": []
   },
   "outputs": [
    {
     "name": "stdout",
     "output_type": "stream",
     "text": [
      "Random Forest:\tGridSearchCV took 0:00:09.829292\n"
     ]
    }
   ],
   "source": [
    "# Trying ~10 combinations takes about 10 seconds.\n",
    "param_grid_rf = [{\n",
    "    'max_depth': np.arange(start=2, stop=3, step=1),\n",
    "    'max_features': np.arange(start=2, stop=4, step=1),\n",
    "    'n_estimators': [150, 200, 250]\n",
    "}]\n",
    "\n",
    "start_time = datetime.datetime.now()\n",
    "random_forest_model = GridSearchCV(\n",
    "    estimator=RandomForestClassifier(),\n",
    "    param_grid=param_grid_rf,\n",
    "    cv=StratifiedKFold(n_splits=5, shuffle=True),\n",
    "    # Using roc_auc as we have a class imbalance.\n",
    "    scoring='roc_auc'\n",
    ")\n",
    "random_forest_model.fit(X_train_preprocessed_rf, y_train)\n",
    "end_time = datetime.datetime.now()\n",
    "\n",
    "gridsearch_time = end_time-start_time\n",
    "print(f\"Random Forest:\\tGridSearchCV took {gridsearch_time}\")"
   ]
  },
  {
   "cell_type": "code",
   "execution_count": 16,
   "id": "baff030a",
   "metadata": {
    "execution": {
     "iopub.execute_input": "2024-12-27T01:53:45.684316Z",
     "iopub.status.busy": "2024-12-27T01:53:45.683943Z",
     "iopub.status.idle": "2024-12-27T01:53:45.724239Z",
     "shell.execute_reply": "2024-12-27T01:53:45.723225Z"
    },
    "papermill": {
     "duration": 0.051672,
     "end_time": "2024-12-27T01:53:45.726374",
     "exception": false,
     "start_time": "2024-12-27T01:53:45.674702",
     "status": "completed"
    },
    "tags": []
   },
   "outputs": [
    {
     "data": {
      "text/plain": [
       "{'model': RandomForestClassifier(),\n",
       " 'training_accuracy': 0.773109243697479,\n",
       " 'validation_accuracy': 0.7909604519774012}"
      ]
     },
     "execution_count": 16,
     "metadata": {},
     "output_type": "execute_result"
    }
   ],
   "source": [
    "evaluate_model(\n",
    "    model=random_forest_model, X_train=X_train_preprocessed_rf,\n",
    "    y_train=y_train, X_val=X_val_preprocessed_rf, y_val=y_val)"
   ]
  },
  {
   "cell_type": "markdown",
   "id": "92786a80",
   "metadata": {
    "papermill": {
     "duration": 0.007581,
     "end_time": "2024-12-27T01:53:45.741992",
     "exception": false,
     "start_time": "2024-12-27T01:53:45.734411",
     "status": "completed"
    },
    "tags": []
   },
   "source": [
    "## XGBoost\n",
    "### Feature Selection"
   ]
  },
  {
   "cell_type": "code",
   "execution_count": 17,
   "id": "6225e049",
   "metadata": {
    "execution": {
     "iopub.execute_input": "2024-12-27T01:53:45.759452Z",
     "iopub.status.busy": "2024-12-27T01:53:45.758783Z",
     "iopub.status.idle": "2024-12-27T01:53:45.800009Z",
     "shell.execute_reply": "2024-12-27T01:53:45.799140Z"
    },
    "papermill": {
     "duration": 0.052559,
     "end_time": "2024-12-27T01:53:45.802365",
     "exception": false,
     "start_time": "2024-12-27T01:53:45.749806",
     "status": "completed"
    },
    "tags": []
   },
   "outputs": [],
   "source": [
    "features_xgb = ['Age', 'Fare', 'Pclass_2', 'Pclass_1', 'Pclass_3',\n",
    "                'family_size_alone', 'family_size_big', 'family_size_small',\n",
    "                'is_child', 'is_male', 'no_cabin']\n",
    "\n",
    "X_train_preprocessed_xgb = preprocess(X_train).reindex(columns=features_xgb)\n",
    "\n",
    "# Ensuring columns in X_val_preprocessed_rf are the same as the columns in\n",
    "# X_train_preprocessed_rf since we have one hot encodings\n",
    "X_val_preprocessed_xgb = preprocess(X_val).reindex(columns=features_xgb)"
   ]
  },
  {
   "cell_type": "code",
   "execution_count": 18,
   "id": "62d8e6d6",
   "metadata": {
    "execution": {
     "iopub.execute_input": "2024-12-27T01:53:45.820045Z",
     "iopub.status.busy": "2024-12-27T01:53:45.819410Z",
     "iopub.status.idle": "2024-12-27T01:53:46.846413Z",
     "shell.execute_reply": "2024-12-27T01:53:46.845605Z"
    },
    "papermill": {
     "duration": 1.039566,
     "end_time": "2024-12-27T01:53:46.849901",
     "exception": false,
     "start_time": "2024-12-27T01:53:45.810335",
     "status": "completed"
    },
    "tags": []
   },
   "outputs": [
    {
     "name": "stdout",
     "output_type": "stream",
     "text": [
      "XGBoost:\tGridSearchCV took 0:00:01.020474\n"
     ]
    }
   ],
   "source": [
    "# Trying ~100 combinations takes about 1 minute.\n",
    "param_grid_xgb = [{\n",
    "    'n_estimators': [150],\n",
    "    'max_depth': [3],\n",
    "    'subsample': [0.6],\n",
    "    'colsample_bytree': [0.5],\n",
    "    'gamma': [2, 3],\n",
    "    'reg_alpha': [0, 0.1],\n",
    "    'reg_lambda': [10]\n",
    "}]\n",
    "\n",
    "start_time = datetime.datetime.now()\n",
    "xgboost_model = GridSearchCV(\n",
    "    estimator=XGBClassifier(),\n",
    "    param_grid=param_grid_xgb,\n",
    "    cv=StratifiedKFold(n_splits=5, shuffle=True),\n",
    "    # Using roc_auc as we have a class imbalance.\n",
    "    scoring='roc_auc'\n",
    ")\n",
    "xgboost_model.fit(X_train_preprocessed_xgb, y_train)\n",
    "end_time = datetime.datetime.now()\n",
    "\n",
    "gridsearch_time = end_time-start_time\n",
    "print(f\"XGBoost:\\tGridSearchCV took {gridsearch_time}\")"
   ]
  },
  {
   "cell_type": "code",
   "execution_count": 19,
   "id": "63c949b9",
   "metadata": {
    "execution": {
     "iopub.execute_input": "2024-12-27T01:53:46.867109Z",
     "iopub.status.busy": "2024-12-27T01:53:46.866693Z",
     "iopub.status.idle": "2024-12-27T01:53:46.884845Z",
     "shell.execute_reply": "2024-12-27T01:53:46.883886Z"
    },
    "papermill": {
     "duration": 0.029322,
     "end_time": "2024-12-27T01:53:46.887088",
     "exception": false,
     "start_time": "2024-12-27T01:53:46.857766",
     "status": "completed"
    },
    "tags": []
   },
   "outputs": [
    {
     "data": {
      "text/plain": [
       "{'model': XGBClassifier(base_score=None, booster=None, callbacks=None,\n",
       "               colsample_bylevel=None, colsample_bynode=None,\n",
       "               colsample_bytree=None, device=None, early_stopping_rounds=None,\n",
       "               enable_categorical=False, eval_metric=None, feature_types=None,\n",
       "               gamma=None, grow_policy=None, importance_type=None,\n",
       "               interaction_constraints=None, learning_rate=None, max_bin=None,\n",
       "               max_cat_threshold=None, max_cat_to_onehot=None,\n",
       "               max_delta_step=None, max_depth=None, max_leaves=None,\n",
       "               min_child_weight=None, missing=nan, monotone_constraints=None,\n",
       "               multi_strategy=None, n_estimators=None, n_jobs=None,\n",
       "               num_parallel_tree=None, random_state=None, ...),\n",
       " 'training_accuracy': 0.8403361344537815,\n",
       " 'validation_accuracy': 0.8248587570621468}"
      ]
     },
     "execution_count": 19,
     "metadata": {},
     "output_type": "execute_result"
    }
   ],
   "source": [
    "evaluate_model(model=xgboost_model, X_train=X_train_preprocessed_xgb,\n",
    "               y_train=y_train, X_val=X_val_preprocessed_xgb, y_val=y_val)"
   ]
  },
  {
   "cell_type": "markdown",
   "id": "f429195e",
   "metadata": {
    "papermill": {
     "duration": 0.007645,
     "end_time": "2024-12-27T01:53:46.902849",
     "exception": false,
     "start_time": "2024-12-27T01:53:46.895204",
     "status": "completed"
    },
    "tags": []
   },
   "source": [
    "## Neural Net"
   ]
  },
  {
   "cell_type": "code",
   "execution_count": 20,
   "id": "66a838f4",
   "metadata": {
    "execution": {
     "iopub.execute_input": "2024-12-27T01:53:46.920929Z",
     "iopub.status.busy": "2024-12-27T01:53:46.920007Z",
     "iopub.status.idle": "2024-12-27T01:53:46.961592Z",
     "shell.execute_reply": "2024-12-27T01:53:46.960778Z"
    },
    "papermill": {
     "duration": 0.052922,
     "end_time": "2024-12-27T01:53:46.963820",
     "exception": false,
     "start_time": "2024-12-27T01:53:46.910898",
     "status": "completed"
    },
    "tags": []
   },
   "outputs": [],
   "source": [
    "features_nn = ['Age_not_null', 'Fare_not_null', 'Pclass_2', 'Pclass_1',\n",
    "               'Pclass_3', 'family_size_alone', 'family_size_big',\n",
    "               'family_size_small', 'is_child', 'is_male', 'no_cabin']\n",
    "\n",
    "X_train_preprocessed_nn = preprocess(X_train).reindex(columns=features_nn)\n",
    "\n",
    "# Ensuring columns in X_val_preprocessed_rf are the same as the columns in\n",
    "# X_train_preprocessed_rf since we have one hot encodings\n",
    "X_val_preprocessed_nn = preprocess(X_val).reindex(columns=features_nn)"
   ]
  },
  {
   "cell_type": "code",
   "execution_count": 21,
   "id": "dc749035",
   "metadata": {
    "execution": {
     "iopub.execute_input": "2024-12-27T01:53:46.981809Z",
     "iopub.status.busy": "2024-12-27T01:53:46.981091Z",
     "iopub.status.idle": "2024-12-27T01:53:46.993684Z",
     "shell.execute_reply": "2024-12-27T01:53:46.992683Z"
    },
    "papermill": {
     "duration": 0.023898,
     "end_time": "2024-12-27T01:53:46.995807",
     "exception": false,
     "start_time": "2024-12-27T01:53:46.971909",
     "status": "completed"
    },
    "tags": []
   },
   "outputs": [],
   "source": [
    "# Scale Features.\n",
    "numeric_features_nn = ['Age_not_null', 'Fare_not_null']\n",
    "\n",
    "# Initialize scaler.\n",
    "scaler_nn = StandardScaler()\n",
    "# Fit scaler on training data.\n",
    "scaler_nn.fit(X_train_preprocessed_nn[numeric_features_nn])\n",
    "\n",
    "# Scale only specified columns.\n",
    "X_train_preprocessed_nn[numeric_features_nn] = scaler_nn.transform(\n",
    "    X_train_preprocessed_nn[numeric_features_nn])\n",
    "X_val_preprocessed_nn[numeric_features_nn] = scaler_nn.transform(\n",
    "    X_val_preprocessed_nn[numeric_features_nn])"
   ]
  },
  {
   "cell_type": "code",
   "execution_count": 22,
   "id": "2529209f",
   "metadata": {
    "execution": {
     "iopub.execute_input": "2024-12-27T01:53:47.013406Z",
     "iopub.status.busy": "2024-12-27T01:53:47.013056Z",
     "iopub.status.idle": "2024-12-27T01:54:15.385487Z",
     "shell.execute_reply": "2024-12-27T01:54:15.384448Z"
    },
    "papermill": {
     "duration": 28.38433,
     "end_time": "2024-12-27T01:54:15.388221",
     "exception": false,
     "start_time": "2024-12-27T01:53:47.003891",
     "status": "completed"
    },
    "tags": []
   },
   "outputs": [
    {
     "name": "stdout",
     "output_type": "stream",
     "text": [
      "Epoch 1/100\n",
      "\u001b[1m45/45\u001b[0m \u001b[32m━━━━━━━━━━━━━━━━━━━━\u001b[0m\u001b[37m\u001b[0m \u001b[1m2s\u001b[0m 11ms/step - accuracy: 0.5650 - loss: 0.6814 - val_accuracy: 0.6610 - val_loss: 0.6724\n",
      "Epoch 2/100\n",
      "\u001b[1m45/45\u001b[0m \u001b[32m━━━━━━━━━━━━━━━━━━━━\u001b[0m\u001b[37m\u001b[0m \u001b[1m0s\u001b[0m 6ms/step - accuracy: 0.5963 - loss: 0.6712 - val_accuracy: 0.6610 - val_loss: 0.6603\n",
      "Epoch 3/100\n",
      "\u001b[1m45/45\u001b[0m \u001b[32m━━━━━━━━━━━━━━━━━━━━\u001b[0m\u001b[37m\u001b[0m \u001b[1m0s\u001b[0m 6ms/step - accuracy: 0.6250 - loss: 0.6675 - val_accuracy: 0.6610 - val_loss: 0.6494\n",
      "Epoch 4/100\n",
      "\u001b[1m45/45\u001b[0m \u001b[32m━━━━━━━━━━━━━━━━━━━━\u001b[0m\u001b[37m\u001b[0m \u001b[1m0s\u001b[0m 6ms/step - accuracy: 0.6171 - loss: 0.6592 - val_accuracy: 0.6723 - val_loss: 0.6388\n",
      "Epoch 5/100\n",
      "\u001b[1m45/45\u001b[0m \u001b[32m━━━━━━━━━━━━━━━━━━━━\u001b[0m\u001b[37m\u001b[0m \u001b[1m0s\u001b[0m 6ms/step - accuracy: 0.5980 - loss: 0.6559 - val_accuracy: 0.6723 - val_loss: 0.6286\n",
      "Epoch 6/100\n",
      "\u001b[1m45/45\u001b[0m \u001b[32m━━━━━━━━━━━━━━━━━━━━\u001b[0m\u001b[37m\u001b[0m \u001b[1m0s\u001b[0m 6ms/step - accuracy: 0.6480 - loss: 0.6377 - val_accuracy: 0.6780 - val_loss: 0.6182\n",
      "Epoch 7/100\n",
      "\u001b[1m45/45\u001b[0m \u001b[32m━━━━━━━━━━━━━━━━━━━━\u001b[0m\u001b[37m\u001b[0m \u001b[1m0s\u001b[0m 6ms/step - accuracy: 0.5972 - loss: 0.6449 - val_accuracy: 0.7006 - val_loss: 0.6087\n",
      "Epoch 8/100\n",
      "\u001b[1m45/45\u001b[0m \u001b[32m━━━━━━━━━━━━━━━━━━━━\u001b[0m\u001b[37m\u001b[0m \u001b[1m0s\u001b[0m 6ms/step - accuracy: 0.6307 - loss: 0.6397 - val_accuracy: 0.7006 - val_loss: 0.5990\n",
      "Epoch 9/100\n",
      "\u001b[1m45/45\u001b[0m \u001b[32m━━━━━━━━━━━━━━━━━━━━\u001b[0m\u001b[37m\u001b[0m \u001b[1m0s\u001b[0m 6ms/step - accuracy: 0.6510 - loss: 0.6173 - val_accuracy: 0.7006 - val_loss: 0.5895\n",
      "Epoch 10/100\n",
      "\u001b[1m45/45\u001b[0m \u001b[32m━━━━━━━━━━━━━━━━━━━━\u001b[0m\u001b[37m\u001b[0m \u001b[1m0s\u001b[0m 6ms/step - accuracy: 0.6490 - loss: 0.6174 - val_accuracy: 0.7119 - val_loss: 0.5813\n",
      "Epoch 11/100\n",
      "\u001b[1m45/45\u001b[0m \u001b[32m━━━━━━━━━━━━━━━━━━━━\u001b[0m\u001b[37m\u001b[0m \u001b[1m0s\u001b[0m 6ms/step - accuracy: 0.6093 - loss: 0.6321 - val_accuracy: 0.7232 - val_loss: 0.5743\n",
      "Epoch 12/100\n",
      "\u001b[1m45/45\u001b[0m \u001b[32m━━━━━━━━━━━━━━━━━━━━\u001b[0m\u001b[37m\u001b[0m \u001b[1m0s\u001b[0m 6ms/step - accuracy: 0.6882 - loss: 0.5966 - val_accuracy: 0.7232 - val_loss: 0.5663\n",
      "Epoch 13/100\n",
      "\u001b[1m45/45\u001b[0m \u001b[32m━━━━━━━━━━━━━━━━━━━━\u001b[0m\u001b[37m\u001b[0m \u001b[1m0s\u001b[0m 6ms/step - accuracy: 0.6702 - loss: 0.5940 - val_accuracy: 0.7288 - val_loss: 0.5601\n",
      "Epoch 14/100\n",
      "\u001b[1m45/45\u001b[0m \u001b[32m━━━━━━━━━━━━━━━━━━━━\u001b[0m\u001b[37m\u001b[0m \u001b[1m0s\u001b[0m 6ms/step - accuracy: 0.6715 - loss: 0.5912 - val_accuracy: 0.7288 - val_loss: 0.5542\n",
      "Epoch 15/100\n",
      "\u001b[1m45/45\u001b[0m \u001b[32m━━━━━━━━━━━━━━━━━━━━\u001b[0m\u001b[37m\u001b[0m \u001b[1m0s\u001b[0m 6ms/step - accuracy: 0.7049 - loss: 0.5802 - val_accuracy: 0.7232 - val_loss: 0.5493\n",
      "Epoch 16/100\n",
      "\u001b[1m45/45\u001b[0m \u001b[32m━━━━━━━━━━━━━━━━━━━━\u001b[0m\u001b[37m\u001b[0m \u001b[1m0s\u001b[0m 6ms/step - accuracy: 0.7188 - loss: 0.5796 - val_accuracy: 0.7288 - val_loss: 0.5441\n",
      "Epoch 17/100\n",
      "\u001b[1m45/45\u001b[0m \u001b[32m━━━━━━━━━━━━━━━━━━━━\u001b[0m\u001b[37m\u001b[0m \u001b[1m0s\u001b[0m 6ms/step - accuracy: 0.7325 - loss: 0.5620 - val_accuracy: 0.7401 - val_loss: 0.5388\n",
      "Epoch 18/100\n",
      "\u001b[1m45/45\u001b[0m \u001b[32m━━━━━━━━━━━━━━━━━━━━\u001b[0m\u001b[37m\u001b[0m \u001b[1m0s\u001b[0m 6ms/step - accuracy: 0.7215 - loss: 0.5598 - val_accuracy: 0.7514 - val_loss: 0.5346\n",
      "Epoch 19/100\n",
      "\u001b[1m45/45\u001b[0m \u001b[32m━━━━━━━━━━━━━━━━━━━━\u001b[0m\u001b[37m\u001b[0m \u001b[1m0s\u001b[0m 6ms/step - accuracy: 0.7042 - loss: 0.5693 - val_accuracy: 0.7514 - val_loss: 0.5300\n",
      "Epoch 20/100\n",
      "\u001b[1m45/45\u001b[0m \u001b[32m━━━━━━━━━━━━━━━━━━━━\u001b[0m\u001b[37m\u001b[0m \u001b[1m0s\u001b[0m 6ms/step - accuracy: 0.7275 - loss: 0.5531 - val_accuracy: 0.7571 - val_loss: 0.5264\n",
      "Epoch 21/100\n",
      "\u001b[1m45/45\u001b[0m \u001b[32m━━━━━━━━━━━━━━━━━━━━\u001b[0m\u001b[37m\u001b[0m \u001b[1m0s\u001b[0m 6ms/step - accuracy: 0.7513 - loss: 0.5475 - val_accuracy: 0.7571 - val_loss: 0.5229\n",
      "Epoch 22/100\n",
      "\u001b[1m45/45\u001b[0m \u001b[32m━━━━━━━━━━━━━━━━━━━━\u001b[0m\u001b[37m\u001b[0m \u001b[1m0s\u001b[0m 7ms/step - accuracy: 0.7325 - loss: 0.5865 - val_accuracy: 0.7458 - val_loss: 0.5195\n",
      "Epoch 23/100\n",
      "\u001b[1m45/45\u001b[0m \u001b[32m━━━━━━━━━━━━━━━━━━━━\u001b[0m\u001b[37m\u001b[0m \u001b[1m0s\u001b[0m 6ms/step - accuracy: 0.7739 - loss: 0.5321 - val_accuracy: 0.7458 - val_loss: 0.5162\n",
      "Epoch 24/100\n",
      "\u001b[1m45/45\u001b[0m \u001b[32m━━━━━━━━━━━━━━━━━━━━\u001b[0m\u001b[37m\u001b[0m \u001b[1m0s\u001b[0m 6ms/step - accuracy: 0.7576 - loss: 0.5209 - val_accuracy: 0.7514 - val_loss: 0.5129\n",
      "Epoch 25/100\n",
      "\u001b[1m45/45\u001b[0m \u001b[32m━━━━━━━━━━━━━━━━━━━━\u001b[0m\u001b[37m\u001b[0m \u001b[1m0s\u001b[0m 6ms/step - accuracy: 0.7811 - loss: 0.5319 - val_accuracy: 0.7514 - val_loss: 0.5102\n",
      "Epoch 26/100\n",
      "\u001b[1m45/45\u001b[0m \u001b[32m━━━━━━━━━━━━━━━━━━━━\u001b[0m\u001b[37m\u001b[0m \u001b[1m0s\u001b[0m 6ms/step - accuracy: 0.7538 - loss: 0.5422 - val_accuracy: 0.7571 - val_loss: 0.5076\n",
      "Epoch 27/100\n",
      "\u001b[1m45/45\u001b[0m \u001b[32m━━━━━━━━━━━━━━━━━━━━\u001b[0m\u001b[37m\u001b[0m \u001b[1m0s\u001b[0m 6ms/step - accuracy: 0.7610 - loss: 0.5319 - val_accuracy: 0.7627 - val_loss: 0.5046\n",
      "Epoch 28/100\n",
      "\u001b[1m45/45\u001b[0m \u001b[32m━━━━━━━━━━━━━━━━━━━━\u001b[0m\u001b[37m\u001b[0m \u001b[1m0s\u001b[0m 6ms/step - accuracy: 0.7865 - loss: 0.5228 - val_accuracy: 0.7740 - val_loss: 0.5023\n",
      "Epoch 29/100\n",
      "\u001b[1m45/45\u001b[0m \u001b[32m━━━━━━━━━━━━━━━━━━━━\u001b[0m\u001b[37m\u001b[0m \u001b[1m0s\u001b[0m 6ms/step - accuracy: 0.7926 - loss: 0.4982 - val_accuracy: 0.7740 - val_loss: 0.4989\n",
      "Epoch 30/100\n",
      "\u001b[1m45/45\u001b[0m \u001b[32m━━━━━━━━━━━━━━━━━━━━\u001b[0m\u001b[37m\u001b[0m \u001b[1m0s\u001b[0m 6ms/step - accuracy: 0.7861 - loss: 0.4958 - val_accuracy: 0.7627 - val_loss: 0.4964\n",
      "Epoch 31/100\n",
      "\u001b[1m45/45\u001b[0m \u001b[32m━━━━━━━━━━━━━━━━━━━━\u001b[0m\u001b[37m\u001b[0m \u001b[1m0s\u001b[0m 6ms/step - accuracy: 0.7918 - loss: 0.5064 - val_accuracy: 0.7740 - val_loss: 0.4946\n",
      "Epoch 32/100\n",
      "\u001b[1m45/45\u001b[0m \u001b[32m━━━━━━━━━━━━━━━━━━━━\u001b[0m\u001b[37m\u001b[0m \u001b[1m0s\u001b[0m 6ms/step - accuracy: 0.7961 - loss: 0.4986 - val_accuracy: 0.7684 - val_loss: 0.4915\n",
      "Epoch 33/100\n",
      "\u001b[1m45/45\u001b[0m \u001b[32m━━━━━━━━━━━━━━━━━━━━\u001b[0m\u001b[37m\u001b[0m \u001b[1m0s\u001b[0m 6ms/step - accuracy: 0.7943 - loss: 0.4865 - val_accuracy: 0.7740 - val_loss: 0.4893\n",
      "Epoch 34/100\n",
      "\u001b[1m45/45\u001b[0m \u001b[32m━━━━━━━━━━━━━━━━━━━━\u001b[0m\u001b[37m\u001b[0m \u001b[1m0s\u001b[0m 6ms/step - accuracy: 0.7836 - loss: 0.4887 - val_accuracy: 0.7740 - val_loss: 0.4873\n",
      "Epoch 35/100\n",
      "\u001b[1m45/45\u001b[0m \u001b[32m━━━━━━━━━━━━━━━━━━━━\u001b[0m\u001b[37m\u001b[0m \u001b[1m0s\u001b[0m 6ms/step - accuracy: 0.8036 - loss: 0.4797 - val_accuracy: 0.7740 - val_loss: 0.4853\n",
      "Epoch 36/100\n",
      "\u001b[1m45/45\u001b[0m \u001b[32m━━━━━━━━━━━━━━━━━━━━\u001b[0m\u001b[37m\u001b[0m \u001b[1m0s\u001b[0m 6ms/step - accuracy: 0.7864 - loss: 0.4985 - val_accuracy: 0.7684 - val_loss: 0.4838\n",
      "Epoch 37/100\n",
      "\u001b[1m45/45\u001b[0m \u001b[32m━━━━━━━━━━━━━━━━━━━━\u001b[0m\u001b[37m\u001b[0m \u001b[1m0s\u001b[0m 6ms/step - accuracy: 0.8090 - loss: 0.4633 - val_accuracy: 0.7684 - val_loss: 0.4809\n",
      "Epoch 38/100\n",
      "\u001b[1m45/45\u001b[0m \u001b[32m━━━━━━━━━━━━━━━━━━━━\u001b[0m\u001b[37m\u001b[0m \u001b[1m0s\u001b[0m 6ms/step - accuracy: 0.7737 - loss: 0.5287 - val_accuracy: 0.7740 - val_loss: 0.4800\n",
      "Epoch 39/100\n",
      "\u001b[1m45/45\u001b[0m \u001b[32m━━━━━━━━━━━━━━━━━━━━\u001b[0m\u001b[37m\u001b[0m \u001b[1m0s\u001b[0m 6ms/step - accuracy: 0.8194 - loss: 0.4502 - val_accuracy: 0.7740 - val_loss: 0.4775\n",
      "Epoch 40/100\n",
      "\u001b[1m45/45\u001b[0m \u001b[32m━━━━━━━━━━━━━━━━━━━━\u001b[0m\u001b[37m\u001b[0m \u001b[1m0s\u001b[0m 6ms/step - accuracy: 0.7706 - loss: 0.4932 - val_accuracy: 0.7740 - val_loss: 0.4750\n",
      "Epoch 41/100\n",
      "\u001b[1m45/45\u001b[0m \u001b[32m━━━━━━━━━━━━━━━━━━━━\u001b[0m\u001b[37m\u001b[0m \u001b[1m0s\u001b[0m 6ms/step - accuracy: 0.8063 - loss: 0.4646 - val_accuracy: 0.7740 - val_loss: 0.4734\n",
      "Epoch 42/100\n",
      "\u001b[1m45/45\u001b[0m \u001b[32m━━━━━━━━━━━━━━━━━━━━\u001b[0m\u001b[37m\u001b[0m \u001b[1m0s\u001b[0m 6ms/step - accuracy: 0.8280 - loss: 0.4448 - val_accuracy: 0.7797 - val_loss: 0.4717\n",
      "Epoch 43/100\n",
      "\u001b[1m45/45\u001b[0m \u001b[32m━━━━━━━━━━━━━━━━━━━━\u001b[0m\u001b[37m\u001b[0m \u001b[1m0s\u001b[0m 6ms/step - accuracy: 0.8030 - loss: 0.4628 - val_accuracy: 0.7797 - val_loss: 0.4695\n",
      "Epoch 44/100\n",
      "\u001b[1m45/45\u001b[0m \u001b[32m━━━━━━━━━━━━━━━━━━━━\u001b[0m\u001b[37m\u001b[0m \u001b[1m0s\u001b[0m 6ms/step - accuracy: 0.7942 - loss: 0.4897 - val_accuracy: 0.7853 - val_loss: 0.4670\n",
      "Epoch 45/100\n",
      "\u001b[1m45/45\u001b[0m \u001b[32m━━━━━━━━━━━━━━━━━━━━\u001b[0m\u001b[37m\u001b[0m \u001b[1m0s\u001b[0m 6ms/step - accuracy: 0.8221 - loss: 0.4636 - val_accuracy: 0.7853 - val_loss: 0.4658\n",
      "Epoch 46/100\n",
      "\u001b[1m45/45\u001b[0m \u001b[32m━━━━━━━━━━━━━━━━━━━━\u001b[0m\u001b[37m\u001b[0m \u001b[1m0s\u001b[0m 6ms/step - accuracy: 0.7994 - loss: 0.4743 - val_accuracy: 0.7797 - val_loss: 0.4632\n",
      "Epoch 47/100\n",
      "\u001b[1m45/45\u001b[0m \u001b[32m━━━━━━━━━━━━━━━━━━━━\u001b[0m\u001b[37m\u001b[0m \u001b[1m0s\u001b[0m 6ms/step - accuracy: 0.8105 - loss: 0.4340 - val_accuracy: 0.7797 - val_loss: 0.4624\n",
      "Epoch 48/100\n",
      "\u001b[1m45/45\u001b[0m \u001b[32m━━━━━━━━━━━━━━━━━━━━\u001b[0m\u001b[37m\u001b[0m \u001b[1m0s\u001b[0m 6ms/step - accuracy: 0.8020 - loss: 0.4379 - val_accuracy: 0.7797 - val_loss: 0.4607\n",
      "Epoch 49/100\n",
      "\u001b[1m45/45\u001b[0m \u001b[32m━━━━━━━━━━━━━━━━━━━━\u001b[0m\u001b[37m\u001b[0m \u001b[1m0s\u001b[0m 6ms/step - accuracy: 0.8272 - loss: 0.4493 - val_accuracy: 0.7910 - val_loss: 0.4599\n",
      "Epoch 50/100\n",
      "\u001b[1m45/45\u001b[0m \u001b[32m━━━━━━━━━━━━━━━━━━━━\u001b[0m\u001b[37m\u001b[0m \u001b[1m0s\u001b[0m 6ms/step - accuracy: 0.8277 - loss: 0.4343 - val_accuracy: 0.7910 - val_loss: 0.4579\n",
      "Epoch 51/100\n",
      "\u001b[1m45/45\u001b[0m \u001b[32m━━━━━━━━━━━━━━━━━━━━\u001b[0m\u001b[37m\u001b[0m \u001b[1m0s\u001b[0m 6ms/step - accuracy: 0.8126 - loss: 0.4521 - val_accuracy: 0.7910 - val_loss: 0.4565\n",
      "Epoch 52/100\n",
      "\u001b[1m45/45\u001b[0m \u001b[32m━━━━━━━━━━━━━━━━━━━━\u001b[0m\u001b[37m\u001b[0m \u001b[1m0s\u001b[0m 6ms/step - accuracy: 0.8326 - loss: 0.4260 - val_accuracy: 0.7910 - val_loss: 0.4562\n",
      "Epoch 53/100\n",
      "\u001b[1m45/45\u001b[0m \u001b[32m━━━━━━━━━━━━━━━━━━━━\u001b[0m\u001b[37m\u001b[0m \u001b[1m0s\u001b[0m 6ms/step - accuracy: 0.8368 - loss: 0.4169 - val_accuracy: 0.7910 - val_loss: 0.4543\n",
      "Epoch 54/100\n",
      "\u001b[1m45/45\u001b[0m \u001b[32m━━━━━━━━━━━━━━━━━━━━\u001b[0m\u001b[37m\u001b[0m \u001b[1m0s\u001b[0m 6ms/step - accuracy: 0.8165 - loss: 0.4556 - val_accuracy: 0.7910 - val_loss: 0.4531\n",
      "Epoch 55/100\n",
      "\u001b[1m45/45\u001b[0m \u001b[32m━━━━━━━━━━━━━━━━━━━━\u001b[0m\u001b[37m\u001b[0m \u001b[1m0s\u001b[0m 6ms/step - accuracy: 0.8225 - loss: 0.4339 - val_accuracy: 0.7910 - val_loss: 0.4526\n",
      "Epoch 56/100\n",
      "\u001b[1m45/45\u001b[0m \u001b[32m━━━━━━━━━━━━━━━━━━━━\u001b[0m\u001b[37m\u001b[0m \u001b[1m0s\u001b[0m 7ms/step - accuracy: 0.7968 - loss: 0.4341 - val_accuracy: 0.7966 - val_loss: 0.4502\n",
      "Epoch 57/100\n",
      "\u001b[1m45/45\u001b[0m \u001b[32m━━━━━━━━━━━━━━━━━━━━\u001b[0m\u001b[37m\u001b[0m \u001b[1m0s\u001b[0m 6ms/step - accuracy: 0.7969 - loss: 0.4796 - val_accuracy: 0.7966 - val_loss: 0.4483\n",
      "Epoch 58/100\n",
      "\u001b[1m45/45\u001b[0m \u001b[32m━━━━━━━━━━━━━━━━━━━━\u001b[0m\u001b[37m\u001b[0m \u001b[1m0s\u001b[0m 6ms/step - accuracy: 0.8055 - loss: 0.4392 - val_accuracy: 0.7966 - val_loss: 0.4468\n",
      "Epoch 59/100\n",
      "\u001b[1m45/45\u001b[0m \u001b[32m━━━━━━━━━━━━━━━━━━━━\u001b[0m\u001b[37m\u001b[0m \u001b[1m0s\u001b[0m 6ms/step - accuracy: 0.8206 - loss: 0.4454 - val_accuracy: 0.8079 - val_loss: 0.4483\n",
      "Epoch 60/100\n",
      "\u001b[1m45/45\u001b[0m \u001b[32m━━━━━━━━━━━━━━━━━━━━\u001b[0m\u001b[37m\u001b[0m \u001b[1m0s\u001b[0m 6ms/step - accuracy: 0.8294 - loss: 0.4142 - val_accuracy: 0.8079 - val_loss: 0.4479\n",
      "Epoch 61/100\n",
      "\u001b[1m45/45\u001b[0m \u001b[32m━━━━━━━━━━━━━━━━━━━━\u001b[0m\u001b[37m\u001b[0m \u001b[1m0s\u001b[0m 6ms/step - accuracy: 0.8293 - loss: 0.4255 - val_accuracy: 0.8079 - val_loss: 0.4462\n",
      "Epoch 62/100\n",
      "\u001b[1m45/45\u001b[0m \u001b[32m━━━━━━━━━━━━━━━━━━━━\u001b[0m\u001b[37m\u001b[0m \u001b[1m0s\u001b[0m 6ms/step - accuracy: 0.8038 - loss: 0.4509 - val_accuracy: 0.8079 - val_loss: 0.4447\n",
      "Epoch 63/100\n",
      "\u001b[1m45/45\u001b[0m \u001b[32m━━━━━━━━━━━━━━━━━━━━\u001b[0m\u001b[37m\u001b[0m \u001b[1m0s\u001b[0m 6ms/step - accuracy: 0.8437 - loss: 0.4196 - val_accuracy: 0.8079 - val_loss: 0.4442\n",
      "Epoch 64/100\n",
      "\u001b[1m45/45\u001b[0m \u001b[32m━━━━━━━━━━━━━━━━━━━━\u001b[0m\u001b[37m\u001b[0m \u001b[1m0s\u001b[0m 6ms/step - accuracy: 0.7988 - loss: 0.4596 - val_accuracy: 0.8079 - val_loss: 0.4426\n",
      "Epoch 65/100\n",
      "\u001b[1m45/45\u001b[0m \u001b[32m━━━━━━━━━━━━━━━━━━━━\u001b[0m\u001b[37m\u001b[0m \u001b[1m0s\u001b[0m 6ms/step - accuracy: 0.8468 - loss: 0.4081 - val_accuracy: 0.8079 - val_loss: 0.4405\n",
      "Epoch 66/100\n",
      "\u001b[1m45/45\u001b[0m \u001b[32m━━━━━━━━━━━━━━━━━━━━\u001b[0m\u001b[37m\u001b[0m \u001b[1m0s\u001b[0m 6ms/step - accuracy: 0.8168 - loss: 0.4357 - val_accuracy: 0.8136 - val_loss: 0.4422\n",
      "Epoch 67/100\n",
      "\u001b[1m45/45\u001b[0m \u001b[32m━━━━━━━━━━━━━━━━━━━━\u001b[0m\u001b[37m\u001b[0m \u001b[1m0s\u001b[0m 6ms/step - accuracy: 0.8393 - loss: 0.4172 - val_accuracy: 0.8079 - val_loss: 0.4413\n",
      "Epoch 68/100\n",
      "\u001b[1m45/45\u001b[0m \u001b[32m━━━━━━━━━━━━━━━━━━━━\u001b[0m\u001b[37m\u001b[0m \u001b[1m0s\u001b[0m 6ms/step - accuracy: 0.8256 - loss: 0.4206 - val_accuracy: 0.8079 - val_loss: 0.4401\n",
      "Epoch 69/100\n",
      "\u001b[1m45/45\u001b[0m \u001b[32m━━━━━━━━━━━━━━━━━━━━\u001b[0m\u001b[37m\u001b[0m \u001b[1m0s\u001b[0m 6ms/step - accuracy: 0.8403 - loss: 0.4249 - val_accuracy: 0.8079 - val_loss: 0.4390\n",
      "Epoch 70/100\n",
      "\u001b[1m45/45\u001b[0m \u001b[32m━━━━━━━━━━━━━━━━━━━━\u001b[0m\u001b[37m\u001b[0m \u001b[1m0s\u001b[0m 6ms/step - accuracy: 0.8356 - loss: 0.3978 - val_accuracy: 0.8079 - val_loss: 0.4389\n",
      "Epoch 71/100\n",
      "\u001b[1m45/45\u001b[0m \u001b[32m━━━━━━━━━━━━━━━━━━━━\u001b[0m\u001b[37m\u001b[0m \u001b[1m0s\u001b[0m 6ms/step - accuracy: 0.7925 - loss: 0.4703 - val_accuracy: 0.8079 - val_loss: 0.4384\n",
      "Epoch 72/100\n",
      "\u001b[1m45/45\u001b[0m \u001b[32m━━━━━━━━━━━━━━━━━━━━\u001b[0m\u001b[37m\u001b[0m \u001b[1m0s\u001b[0m 6ms/step - accuracy: 0.8242 - loss: 0.4148 - val_accuracy: 0.8079 - val_loss: 0.4394\n",
      "Epoch 73/100\n",
      "\u001b[1m45/45\u001b[0m \u001b[32m━━━━━━━━━━━━━━━━━━━━\u001b[0m\u001b[37m\u001b[0m \u001b[1m0s\u001b[0m 6ms/step - accuracy: 0.8256 - loss: 0.4331 - val_accuracy: 0.8192 - val_loss: 0.4383\n",
      "Epoch 74/100\n",
      "\u001b[1m45/45\u001b[0m \u001b[32m━━━━━━━━━━━━━━━━━━━━\u001b[0m\u001b[37m\u001b[0m \u001b[1m0s\u001b[0m 6ms/step - accuracy: 0.8262 - loss: 0.4287 - val_accuracy: 0.8079 - val_loss: 0.4367\n",
      "Epoch 75/100\n",
      "\u001b[1m45/45\u001b[0m \u001b[32m━━━━━━━━━━━━━━━━━━━━\u001b[0m\u001b[37m\u001b[0m \u001b[1m0s\u001b[0m 6ms/step - accuracy: 0.8138 - loss: 0.4381 - val_accuracy: 0.8079 - val_loss: 0.4374\n",
      "Epoch 76/100\n",
      "\u001b[1m45/45\u001b[0m \u001b[32m━━━━━━━━━━━━━━━━━━━━\u001b[0m\u001b[37m\u001b[0m \u001b[1m0s\u001b[0m 6ms/step - accuracy: 0.8139 - loss: 0.4280 - val_accuracy: 0.8023 - val_loss: 0.4343\n",
      "Epoch 77/100\n",
      "\u001b[1m45/45\u001b[0m \u001b[32m━━━━━━━━━━━━━━━━━━━━\u001b[0m\u001b[37m\u001b[0m \u001b[1m0s\u001b[0m 6ms/step - accuracy: 0.8350 - loss: 0.3994 - val_accuracy: 0.8079 - val_loss: 0.4353\n",
      "Epoch 78/100\n",
      "\u001b[1m45/45\u001b[0m \u001b[32m━━━━━━━━━━━━━━━━━━━━\u001b[0m\u001b[37m\u001b[0m \u001b[1m0s\u001b[0m 6ms/step - accuracy: 0.8090 - loss: 0.4481 - val_accuracy: 0.8079 - val_loss: 0.4343\n",
      "Epoch 79/100\n",
      "\u001b[1m45/45\u001b[0m \u001b[32m━━━━━━━━━━━━━━━━━━━━\u001b[0m\u001b[37m\u001b[0m \u001b[1m0s\u001b[0m 6ms/step - accuracy: 0.8213 - loss: 0.4098 - val_accuracy: 0.8079 - val_loss: 0.4338\n",
      "Epoch 80/100\n",
      "\u001b[1m45/45\u001b[0m \u001b[32m━━━━━━━━━━━━━━━━━━━━\u001b[0m\u001b[37m\u001b[0m \u001b[1m0s\u001b[0m 6ms/step - accuracy: 0.8213 - loss: 0.4365 - val_accuracy: 0.8079 - val_loss: 0.4344\n",
      "Epoch 81/100\n",
      "\u001b[1m45/45\u001b[0m \u001b[32m━━━━━━━━━━━━━━━━━━━━\u001b[0m\u001b[37m\u001b[0m \u001b[1m1s\u001b[0m 7ms/step - accuracy: 0.8241 - loss: 0.4191 - val_accuracy: 0.8079 - val_loss: 0.4334\n",
      "Epoch 82/100\n",
      "\u001b[1m45/45\u001b[0m \u001b[32m━━━━━━━━━━━━━━━━━━━━\u001b[0m\u001b[37m\u001b[0m \u001b[1m0s\u001b[0m 7ms/step - accuracy: 0.8287 - loss: 0.4285 - val_accuracy: 0.8079 - val_loss: 0.4326\n",
      "Epoch 83/100\n",
      "\u001b[1m45/45\u001b[0m \u001b[32m━━━━━━━━━━━━━━━━━━━━\u001b[0m\u001b[37m\u001b[0m \u001b[1m0s\u001b[0m 6ms/step - accuracy: 0.8178 - loss: 0.4407 - val_accuracy: 0.8079 - val_loss: 0.4322\n",
      "Epoch 84/100\n",
      "\u001b[1m45/45\u001b[0m \u001b[32m━━━━━━━━━━━━━━━━━━━━\u001b[0m\u001b[37m\u001b[0m \u001b[1m0s\u001b[0m 7ms/step - accuracy: 0.8486 - loss: 0.4156 - val_accuracy: 0.8079 - val_loss: 0.4328\n",
      "Epoch 85/100\n",
      "\u001b[1m45/45\u001b[0m \u001b[32m━━━━━━━━━━━━━━━━━━━━\u001b[0m\u001b[37m\u001b[0m \u001b[1m0s\u001b[0m 6ms/step - accuracy: 0.8087 - loss: 0.4290 - val_accuracy: 0.8079 - val_loss: 0.4321\n",
      "Epoch 86/100\n",
      "\u001b[1m45/45\u001b[0m \u001b[32m━━━━━━━━━━━━━━━━━━━━\u001b[0m\u001b[37m\u001b[0m \u001b[1m0s\u001b[0m 6ms/step - accuracy: 0.8394 - loss: 0.3955 - val_accuracy: 0.8136 - val_loss: 0.4314\n",
      "Epoch 87/100\n",
      "\u001b[1m45/45\u001b[0m \u001b[32m━━━━━━━━━━━━━━━━━━━━\u001b[0m\u001b[37m\u001b[0m \u001b[1m0s\u001b[0m 6ms/step - accuracy: 0.8243 - loss: 0.4445 - val_accuracy: 0.8079 - val_loss: 0.4299\n",
      "Epoch 88/100\n",
      "\u001b[1m45/45\u001b[0m \u001b[32m━━━━━━━━━━━━━━━━━━━━\u001b[0m\u001b[37m\u001b[0m \u001b[1m0s\u001b[0m 6ms/step - accuracy: 0.8012 - loss: 0.4827 - val_accuracy: 0.8136 - val_loss: 0.4306\n"
     ]
    }
   ],
   "source": [
    "# Sequential model with 5 layers\n",
    "nn_model = Sequential(\n",
    "    [\n",
    "        layers.Input(shape=((len(features_nn),))),\n",
    "        layers.Dense(512, activation=\"relu\", name=\"layer1\"),\n",
    "        layers.Dropout(0.2),\n",
    "        layers.Dense(512, activation=\"relu\", name=\"layer2\"),\n",
    "        layers.Dropout(0.3),\n",
    "        layers.Dense(256, activation=\"relu\", name=\"layer3\"),\n",
    "        layers.Dropout(0.3),\n",
    "        layers.Dense(128, activation=\"relu\", name=\"layer4\"),\n",
    "        layers.Dropout(0.3),\n",
    "        layers.Dense(1, activation='sigmoid', name=\"layer5\"),\n",
    "    ]\n",
    ")\n",
    "\n",
    "nn_model.compile(\n",
    "    loss='binary_crossentropy',\n",
    "    optimizer=Adam(learning_rate=1e-5),\n",
    "    metrics=['accuracy']\n",
    ")\n",
    "\n",
    "# Setting estimator attribute for Leaderboard\n",
    "nn_model.estimator = \"NeuralNet\"\n",
    "\n",
    "early_stopping = EarlyStopping(\n",
    "    monitor='val_accuracy',\n",
    "    patience=15,\n",
    "    restore_best_weights=True\n",
    ")\n",
    "\n",
    "# Fit the model with early stopping\n",
    "history = nn_model.fit(\n",
    "    X_train_preprocessed_nn, y_train,\n",
    "    validation_data=(X_val_preprocessed_nn, y_val),\n",
    "    epochs=100,\n",
    "    batch_size=16,\n",
    "    callbacks=[early_stopping]\n",
    ")"
   ]
  },
  {
   "cell_type": "markdown",
   "id": "8a0ba103",
   "metadata": {
    "papermill": {
     "duration": 0.045374,
     "end_time": "2024-12-27T01:54:15.485469",
     "exception": false,
     "start_time": "2024-12-27T01:54:15.440095",
     "status": "completed"
    },
    "tags": []
   },
   "source": [
    "## Logistic Regression"
   ]
  },
  {
   "cell_type": "code",
   "execution_count": 23,
   "id": "525ac8a4",
   "metadata": {
    "execution": {
     "iopub.execute_input": "2024-12-27T01:54:15.568461Z",
     "iopub.status.busy": "2024-12-27T01:54:15.567675Z",
     "iopub.status.idle": "2024-12-27T01:54:15.609490Z",
     "shell.execute_reply": "2024-12-27T01:54:15.608394Z"
    },
    "papermill": {
     "duration": 0.086456,
     "end_time": "2024-12-27T01:54:15.611963",
     "exception": false,
     "start_time": "2024-12-27T01:54:15.525507",
     "status": "completed"
    },
    "tags": []
   },
   "outputs": [],
   "source": [
    "features_lr = [\"Age_not_null\", \"is_male\", \"Fare_not_null\", \"Pclass_1\",\n",
    "               \"Pclass_2\", \"Pclass_3\", \"no_cabin\", \"family_size_alone\",\n",
    "               \"family_size_small\", \"family_size_big\"]\n",
    "\n",
    "X_train_preprocessed_lr = preprocess(X_train).reindex(columns=features_lr)\n",
    "X_val_preprocessed_lr = preprocess(X_val).reindex(columns=features_lr)"
   ]
  },
  {
   "cell_type": "code",
   "execution_count": 24,
   "id": "cc2b30a5",
   "metadata": {
    "execution": {
     "iopub.execute_input": "2024-12-27T01:54:15.694807Z",
     "iopub.status.busy": "2024-12-27T01:54:15.693800Z",
     "iopub.status.idle": "2024-12-27T01:54:15.707518Z",
     "shell.execute_reply": "2024-12-27T01:54:15.706480Z"
    },
    "papermill": {
     "duration": 0.057248,
     "end_time": "2024-12-27T01:54:15.709573",
     "exception": false,
     "start_time": "2024-12-27T01:54:15.652325",
     "status": "completed"
    },
    "tags": []
   },
   "outputs": [],
   "source": [
    "# Scale Features.\n",
    "numeric_features_lr = ['Age_not_null', 'Fare_not_null']\n",
    "\n",
    "# Initialize scaler.\n",
    "scaler_lr = StandardScaler()\n",
    "# Fit scaler on training data.\n",
    "scaler_lr.fit(X_train_preprocessed_lr[numeric_features_lr])\n",
    "\n",
    "# Scale only specified columns.\n",
    "X_train_preprocessed_lr[numeric_features_lr] = scaler_lr.transform(\n",
    "    X_train_preprocessed_lr[numeric_features_lr])\n",
    "X_val_preprocessed_lr[numeric_features_lr] = scaler_lr.transform(\n",
    "    X_val_preprocessed_lr[numeric_features_lr])"
   ]
  },
  {
   "cell_type": "code",
   "execution_count": 25,
   "id": "e1cfc6d0",
   "metadata": {
    "execution": {
     "iopub.execute_input": "2024-12-27T01:54:15.792203Z",
     "iopub.status.busy": "2024-12-27T01:54:15.791825Z",
     "iopub.status.idle": "2024-12-27T01:54:15.811500Z",
     "shell.execute_reply": "2024-12-27T01:54:15.810473Z"
    },
    "papermill": {
     "duration": 0.063789,
     "end_time": "2024-12-27T01:54:15.814007",
     "exception": false,
     "start_time": "2024-12-27T01:54:15.750218",
     "status": "completed"
    },
    "tags": []
   },
   "outputs": [],
   "source": [
    "from sklearn.linear_model import LogisticRegression\n",
    "\n",
    "lr_model = LogisticRegression()\n",
    "lr_model.fit(X_train_preprocessed_lr, y_train)\n",
    "\n",
    "lr_model.estimator = \"LogisticRegression\""
   ]
  },
  {
   "cell_type": "code",
   "execution_count": 26,
   "id": "293dc9ba",
   "metadata": {
    "execution": {
     "iopub.execute_input": "2024-12-27T01:54:15.895474Z",
     "iopub.status.busy": "2024-12-27T01:54:15.895106Z",
     "iopub.status.idle": "2024-12-27T01:54:15.906561Z",
     "shell.execute_reply": "2024-12-27T01:54:15.905615Z"
    },
    "papermill": {
     "duration": 0.05447,
     "end_time": "2024-12-27T01:54:15.908551",
     "exception": false,
     "start_time": "2024-12-27T01:54:15.854081",
     "status": "completed"
    },
    "tags": []
   },
   "outputs": [
    {
     "data": {
      "text/plain": [
       "{'model': 'LogisticRegression',\n",
       " 'training_accuracy': 0.8137254901960784,\n",
       " 'validation_accuracy': 0.8135593220338984}"
      ]
     },
     "execution_count": 26,
     "metadata": {},
     "output_type": "execute_result"
    }
   ],
   "source": [
    "evaluate_model(model=lr_model, X_train=X_train_preprocessed_lr, y_train=y_train,\n",
    "               X_val=X_val_preprocessed_lr, y_val=y_val)"
   ]
  },
  {
   "cell_type": "markdown",
   "id": "9ed67da3",
   "metadata": {
    "papermill": {
     "duration": 0.0404,
     "end_time": "2024-12-27T01:54:15.989093",
     "exception": false,
     "start_time": "2024-12-27T01:54:15.948693",
     "status": "completed"
    },
    "tags": []
   },
   "source": [
    "# Leaderboard"
   ]
  },
  {
   "cell_type": "code",
   "execution_count": 27,
   "id": "28986537",
   "metadata": {
    "execution": {
     "iopub.execute_input": "2024-12-27T01:54:16.072337Z",
     "iopub.status.busy": "2024-12-27T01:54:16.071214Z",
     "iopub.status.idle": "2024-12-27T01:54:16.423183Z",
     "shell.execute_reply": "2024-12-27T01:54:16.422178Z"
    },
    "papermill": {
     "duration": 0.395963,
     "end_time": "2024-12-27T01:54:16.425496",
     "exception": false,
     "start_time": "2024-12-27T01:54:16.029533",
     "status": "completed"
    },
    "tags": []
   },
   "outputs": [
    {
     "name": "stdout",
     "output_type": "stream",
     "text": [
      "\u001b[1m23/23\u001b[0m \u001b[32m━━━━━━━━━━━━━━━━━━━━\u001b[0m\u001b[37m\u001b[0m \u001b[1m0s\u001b[0m 4ms/step\n",
      "\u001b[1m6/6\u001b[0m \u001b[32m━━━━━━━━━━━━━━━━━━━━\u001b[0m\u001b[37m\u001b[0m \u001b[1m0s\u001b[0m 2ms/step \n"
     ]
    }
   ],
   "source": [
    "# Adding models to the Leaderboard.\n",
    "gender_model_evaluation = evaluate_model(\n",
    "    model=gender_model, X_train=X_train, y_train=y_train,\n",
    "    X_val=X_val, y_val=y_val)\n",
    "\n",
    "random_forest_evaluation = evaluate_model(\n",
    "    model=random_forest_model, X_train=X_train_preprocessed_rf, y_train=y_train,\n",
    "    X_val=X_val_preprocessed_rf, y_val=y_val)\n",
    "\n",
    "xgb_evaluation = evaluate_model(\n",
    "    model=xgboost_model, X_train=X_train_preprocessed_xgb,\n",
    "    y_train=y_train, X_val=X_val_preprocessed_xgb, y_val=y_val)\n",
    "\n",
    "nn_evaluation = evaluate_model(\n",
    "    model=nn_model, X_train=X_train_preprocessed_nn,\n",
    "    y_train=y_train, X_val=X_val_preprocessed_nn, y_val=y_val)\n",
    "\n",
    "lr_evaluation = evaluate_model(\n",
    "    model=lr_model, X_train=X_train_preprocessed_lr,\n",
    "    y_train=y_train, X_val=X_val_preprocessed_lr, y_val=y_val)"
   ]
  },
  {
   "cell_type": "code",
   "execution_count": 28,
   "id": "2c2f1857",
   "metadata": {
    "execution": {
     "iopub.execute_input": "2024-12-27T01:54:16.561901Z",
     "iopub.status.busy": "2024-12-27T01:54:16.561108Z",
     "iopub.status.idle": "2024-12-27T01:54:16.580400Z",
     "shell.execute_reply": "2024-12-27T01:54:16.579371Z"
    },
    "papermill": {
     "duration": 0.114887,
     "end_time": "2024-12-27T01:54:16.582501",
     "exception": false,
     "start_time": "2024-12-27T01:54:16.467614",
     "status": "completed"
    },
    "tags": []
   },
   "outputs": [
    {
     "data": {
      "text/html": [
       "<div>\n",
       "<style scoped>\n",
       "    .dataframe tbody tr th:only-of-type {\n",
       "        vertical-align: middle;\n",
       "    }\n",
       "\n",
       "    .dataframe tbody tr th {\n",
       "        vertical-align: top;\n",
       "    }\n",
       "\n",
       "    .dataframe thead th {\n",
       "        text-align: right;\n",
       "    }\n",
       "</style>\n",
       "<table border=\"1\" class=\"dataframe\">\n",
       "  <thead>\n",
       "    <tr style=\"text-align: right;\">\n",
       "      <th></th>\n",
       "      <th>model</th>\n",
       "      <th>training_accuracy</th>\n",
       "      <th>validation_accuracy</th>\n",
       "    </tr>\n",
       "  </thead>\n",
       "  <tbody>\n",
       "    <tr>\n",
       "      <th>2</th>\n",
       "      <td>XGBClassifier(base_score=None, booster=None, c...</td>\n",
       "      <td>0.840336</td>\n",
       "      <td>0.824859</td>\n",
       "    </tr>\n",
       "    <tr>\n",
       "      <th>3</th>\n",
       "      <td>NeuralNet</td>\n",
       "      <td>0.827731</td>\n",
       "      <td>0.819209</td>\n",
       "    </tr>\n",
       "    <tr>\n",
       "      <th>4</th>\n",
       "      <td>LogisticRegression</td>\n",
       "      <td>0.813725</td>\n",
       "      <td>0.813559</td>\n",
       "    </tr>\n",
       "    <tr>\n",
       "      <th>1</th>\n",
       "      <td>RandomForestClassifier()</td>\n",
       "      <td>0.773109</td>\n",
       "      <td>0.790960</td>\n",
       "    </tr>\n",
       "    <tr>\n",
       "      <th>0</th>\n",
       "      <td>GenderModel()</td>\n",
       "      <td>0.787115</td>\n",
       "      <td>0.785311</td>\n",
       "    </tr>\n",
       "  </tbody>\n",
       "</table>\n",
       "</div>"
      ],
      "text/plain": [
       "                                               model  training_accuracy  \\\n",
       "2  XGBClassifier(base_score=None, booster=None, c...           0.840336   \n",
       "3                                          NeuralNet           0.827731   \n",
       "4                                 LogisticRegression           0.813725   \n",
       "1                           RandomForestClassifier()           0.773109   \n",
       "0                                      GenderModel()           0.787115   \n",
       "\n",
       "   validation_accuracy  \n",
       "2             0.824859  \n",
       "3             0.819209  \n",
       "4             0.813559  \n",
       "1             0.790960  \n",
       "0             0.785311  "
      ]
     },
     "execution_count": 28,
     "metadata": {},
     "output_type": "execute_result"
    }
   ],
   "source": [
    "leaderboard = pd.DataFrame([\n",
    "    gender_model_evaluation, random_forest_evaluation, xgb_evaluation,\n",
    "    nn_evaluation, lr_evaluation])\n",
    "\n",
    "leaderboard.sort_values(by='validation_accuracy', ascending=False, inplace=True)\n",
    "\n",
    "leaderboard.head(len(leaderboard))"
   ]
  },
  {
   "cell_type": "markdown",
   "id": "7b20d633",
   "metadata": {
    "papermill": {
     "duration": 0.040504,
     "end_time": "2024-12-27T01:54:16.664059",
     "exception": false,
     "start_time": "2024-12-27T01:54:16.623555",
     "status": "completed"
    },
    "tags": []
   },
   "source": [
    "# Submission"
   ]
  },
  {
   "cell_type": "code",
   "execution_count": 29,
   "id": "57fecd85",
   "metadata": {
    "execution": {
     "iopub.execute_input": "2024-12-27T01:54:16.747971Z",
     "iopub.status.busy": "2024-12-27T01:54:16.747548Z",
     "iopub.status.idle": "2024-12-27T01:54:16.783037Z",
     "shell.execute_reply": "2024-12-27T01:54:16.781957Z"
    },
    "papermill": {
     "duration": 0.07964,
     "end_time": "2024-12-27T01:54:16.785019",
     "exception": false,
     "start_time": "2024-12-27T01:54:16.705379",
     "status": "completed"
    },
    "tags": []
   },
   "outputs": [
    {
     "data": {
      "text/html": [
       "<div>\n",
       "<style scoped>\n",
       "    .dataframe tbody tr th:only-of-type {\n",
       "        vertical-align: middle;\n",
       "    }\n",
       "\n",
       "    .dataframe tbody tr th {\n",
       "        vertical-align: top;\n",
       "    }\n",
       "\n",
       "    .dataframe thead th {\n",
       "        text-align: right;\n",
       "    }\n",
       "</style>\n",
       "<table border=\"1\" class=\"dataframe\">\n",
       "  <thead>\n",
       "    <tr style=\"text-align: right;\">\n",
       "      <th></th>\n",
       "      <th>PassengerId</th>\n",
       "      <th>Survived</th>\n",
       "    </tr>\n",
       "  </thead>\n",
       "  <tbody>\n",
       "    <tr>\n",
       "      <th>0</th>\n",
       "      <td>892</td>\n",
       "      <td>0</td>\n",
       "    </tr>\n",
       "    <tr>\n",
       "      <th>1</th>\n",
       "      <td>893</td>\n",
       "      <td>1</td>\n",
       "    </tr>\n",
       "    <tr>\n",
       "      <th>2</th>\n",
       "      <td>894</td>\n",
       "      <td>0</td>\n",
       "    </tr>\n",
       "    <tr>\n",
       "      <th>3</th>\n",
       "      <td>895</td>\n",
       "      <td>0</td>\n",
       "    </tr>\n",
       "    <tr>\n",
       "      <th>4</th>\n",
       "      <td>896</td>\n",
       "      <td>1</td>\n",
       "    </tr>\n",
       "    <tr>\n",
       "      <th>5</th>\n",
       "      <td>897</td>\n",
       "      <td>0</td>\n",
       "    </tr>\n",
       "    <tr>\n",
       "      <th>6</th>\n",
       "      <td>898</td>\n",
       "      <td>1</td>\n",
       "    </tr>\n",
       "    <tr>\n",
       "      <th>7</th>\n",
       "      <td>899</td>\n",
       "      <td>0</td>\n",
       "    </tr>\n",
       "    <tr>\n",
       "      <th>8</th>\n",
       "      <td>900</td>\n",
       "      <td>1</td>\n",
       "    </tr>\n",
       "    <tr>\n",
       "      <th>9</th>\n",
       "      <td>901</td>\n",
       "      <td>0</td>\n",
       "    </tr>\n",
       "    <tr>\n",
       "      <th>10</th>\n",
       "      <td>902</td>\n",
       "      <td>0</td>\n",
       "    </tr>\n",
       "    <tr>\n",
       "      <th>11</th>\n",
       "      <td>903</td>\n",
       "      <td>0</td>\n",
       "    </tr>\n",
       "    <tr>\n",
       "      <th>12</th>\n",
       "      <td>904</td>\n",
       "      <td>1</td>\n",
       "    </tr>\n",
       "    <tr>\n",
       "      <th>13</th>\n",
       "      <td>905</td>\n",
       "      <td>0</td>\n",
       "    </tr>\n",
       "    <tr>\n",
       "      <th>14</th>\n",
       "      <td>906</td>\n",
       "      <td>1</td>\n",
       "    </tr>\n",
       "    <tr>\n",
       "      <th>15</th>\n",
       "      <td>907</td>\n",
       "      <td>1</td>\n",
       "    </tr>\n",
       "    <tr>\n",
       "      <th>16</th>\n",
       "      <td>908</td>\n",
       "      <td>0</td>\n",
       "    </tr>\n",
       "    <tr>\n",
       "      <th>17</th>\n",
       "      <td>909</td>\n",
       "      <td>0</td>\n",
       "    </tr>\n",
       "    <tr>\n",
       "      <th>18</th>\n",
       "      <td>910</td>\n",
       "      <td>1</td>\n",
       "    </tr>\n",
       "    <tr>\n",
       "      <th>19</th>\n",
       "      <td>911</td>\n",
       "      <td>0</td>\n",
       "    </tr>\n",
       "    <tr>\n",
       "      <th>20</th>\n",
       "      <td>912</td>\n",
       "      <td>0</td>\n",
       "    </tr>\n",
       "    <tr>\n",
       "      <th>21</th>\n",
       "      <td>913</td>\n",
       "      <td>0</td>\n",
       "    </tr>\n",
       "    <tr>\n",
       "      <th>22</th>\n",
       "      <td>914</td>\n",
       "      <td>1</td>\n",
       "    </tr>\n",
       "    <tr>\n",
       "      <th>23</th>\n",
       "      <td>915</td>\n",
       "      <td>0</td>\n",
       "    </tr>\n",
       "    <tr>\n",
       "      <th>24</th>\n",
       "      <td>916</td>\n",
       "      <td>1</td>\n",
       "    </tr>\n",
       "    <tr>\n",
       "      <th>25</th>\n",
       "      <td>917</td>\n",
       "      <td>0</td>\n",
       "    </tr>\n",
       "    <tr>\n",
       "      <th>26</th>\n",
       "      <td>918</td>\n",
       "      <td>1</td>\n",
       "    </tr>\n",
       "    <tr>\n",
       "      <th>27</th>\n",
       "      <td>919</td>\n",
       "      <td>0</td>\n",
       "    </tr>\n",
       "    <tr>\n",
       "      <th>28</th>\n",
       "      <td>920</td>\n",
       "      <td>0</td>\n",
       "    </tr>\n",
       "    <tr>\n",
       "      <th>29</th>\n",
       "      <td>921</td>\n",
       "      <td>0</td>\n",
       "    </tr>\n",
       "    <tr>\n",
       "      <th>30</th>\n",
       "      <td>922</td>\n",
       "      <td>0</td>\n",
       "    </tr>\n",
       "    <tr>\n",
       "      <th>31</th>\n",
       "      <td>923</td>\n",
       "      <td>0</td>\n",
       "    </tr>\n",
       "    <tr>\n",
       "      <th>32</th>\n",
       "      <td>924</td>\n",
       "      <td>1</td>\n",
       "    </tr>\n",
       "    <tr>\n",
       "      <th>33</th>\n",
       "      <td>925</td>\n",
       "      <td>1</td>\n",
       "    </tr>\n",
       "    <tr>\n",
       "      <th>34</th>\n",
       "      <td>926</td>\n",
       "      <td>1</td>\n",
       "    </tr>\n",
       "    <tr>\n",
       "      <th>35</th>\n",
       "      <td>927</td>\n",
       "      <td>0</td>\n",
       "    </tr>\n",
       "    <tr>\n",
       "      <th>36</th>\n",
       "      <td>928</td>\n",
       "      <td>1</td>\n",
       "    </tr>\n",
       "    <tr>\n",
       "      <th>37</th>\n",
       "      <td>929</td>\n",
       "      <td>1</td>\n",
       "    </tr>\n",
       "    <tr>\n",
       "      <th>38</th>\n",
       "      <td>930</td>\n",
       "      <td>0</td>\n",
       "    </tr>\n",
       "    <tr>\n",
       "      <th>39</th>\n",
       "      <td>931</td>\n",
       "      <td>0</td>\n",
       "    </tr>\n",
       "    <tr>\n",
       "      <th>40</th>\n",
       "      <td>932</td>\n",
       "      <td>0</td>\n",
       "    </tr>\n",
       "    <tr>\n",
       "      <th>41</th>\n",
       "      <td>933</td>\n",
       "      <td>1</td>\n",
       "    </tr>\n",
       "    <tr>\n",
       "      <th>42</th>\n",
       "      <td>934</td>\n",
       "      <td>0</td>\n",
       "    </tr>\n",
       "    <tr>\n",
       "      <th>43</th>\n",
       "      <td>935</td>\n",
       "      <td>1</td>\n",
       "    </tr>\n",
       "    <tr>\n",
       "      <th>44</th>\n",
       "      <td>936</td>\n",
       "      <td>1</td>\n",
       "    </tr>\n",
       "    <tr>\n",
       "      <th>45</th>\n",
       "      <td>937</td>\n",
       "      <td>0</td>\n",
       "    </tr>\n",
       "    <tr>\n",
       "      <th>46</th>\n",
       "      <td>938</td>\n",
       "      <td>0</td>\n",
       "    </tr>\n",
       "    <tr>\n",
       "      <th>47</th>\n",
       "      <td>939</td>\n",
       "      <td>0</td>\n",
       "    </tr>\n",
       "    <tr>\n",
       "      <th>48</th>\n",
       "      <td>940</td>\n",
       "      <td>1</td>\n",
       "    </tr>\n",
       "    <tr>\n",
       "      <th>49</th>\n",
       "      <td>941</td>\n",
       "      <td>1</td>\n",
       "    </tr>\n",
       "  </tbody>\n",
       "</table>\n",
       "</div>"
      ],
      "text/plain": [
       "    PassengerId  Survived\n",
       "0           892         0\n",
       "1           893         1\n",
       "2           894         0\n",
       "3           895         0\n",
       "4           896         1\n",
       "5           897         0\n",
       "6           898         1\n",
       "7           899         0\n",
       "8           900         1\n",
       "9           901         0\n",
       "10          902         0\n",
       "11          903         0\n",
       "12          904         1\n",
       "13          905         0\n",
       "14          906         1\n",
       "15          907         1\n",
       "16          908         0\n",
       "17          909         0\n",
       "18          910         1\n",
       "19          911         0\n",
       "20          912         0\n",
       "21          913         0\n",
       "22          914         1\n",
       "23          915         0\n",
       "24          916         1\n",
       "25          917         0\n",
       "26          918         1\n",
       "27          919         0\n",
       "28          920         0\n",
       "29          921         0\n",
       "30          922         0\n",
       "31          923         0\n",
       "32          924         1\n",
       "33          925         1\n",
       "34          926         1\n",
       "35          927         0\n",
       "36          928         1\n",
       "37          929         1\n",
       "38          930         0\n",
       "39          931         0\n",
       "40          932         0\n",
       "41          933         1\n",
       "42          934         0\n",
       "43          935         1\n",
       "44          936         1\n",
       "45          937         0\n",
       "46          938         0\n",
       "47          939         0\n",
       "48          940         1\n",
       "49          941         1"
      ]
     },
     "execution_count": 29,
     "metadata": {},
     "output_type": "execute_result"
    }
   ],
   "source": [
    "# Predicting on X_test.\n",
    "X_test_preprocessed_xgb = preprocess(X_test).reindex(\n",
    "    columns=features_xgb, fill_value=0)\n",
    "y_pred_test = xgboost_model.predict(X_test_preprocessed_xgb)\n",
    "\n",
    "submission_df = pd.DataFrame({\n",
    "    \"PassengerId\": X_test.PassengerId,\n",
    "    \"Survived\": y_pred_test\n",
    "})\n",
    "\n",
    "submission_df.head(50)"
   ]
  },
  {
   "cell_type": "code",
   "execution_count": 30,
   "id": "f735ef9c",
   "metadata": {
    "execution": {
     "iopub.execute_input": "2024-12-27T01:54:16.869232Z",
     "iopub.status.busy": "2024-12-27T01:54:16.868357Z",
     "iopub.status.idle": "2024-12-27T01:54:16.876910Z",
     "shell.execute_reply": "2024-12-27T01:54:16.875676Z"
    },
    "papermill": {
     "duration": 0.052749,
     "end_time": "2024-12-27T01:54:16.879022",
     "exception": false,
     "start_time": "2024-12-27T01:54:16.826273",
     "status": "completed"
    },
    "tags": []
   },
   "outputs": [
    {
     "name": "stdout",
     "output_type": "stream",
     "text": [
      "Submission saved to submission.csv\n"
     ]
    }
   ],
   "source": [
    "submission_df.to_csv('submission.csv', index=False)\n",
    "print(\"Submission saved to submission.csv\")"
   ]
  }
 ],
 "metadata": {
  "kaggle": {
   "accelerator": "none",
   "dataSources": [
    {
     "databundleVersionId": 26502,
     "sourceId": 3136,
     "sourceType": "competition"
    }
   ],
   "dockerImageVersionId": 30786,
   "isGpuEnabled": false,
   "isInternetEnabled": true,
   "language": "python",
   "sourceType": "notebook"
  },
  "kernelspec": {
   "display_name": "Python 3",
   "language": "python",
   "name": "python3"
  },
  "language_info": {
   "codemirror_mode": {
    "name": "ipython",
    "version": 3
   },
   "file_extension": ".py",
   "mimetype": "text/x-python",
   "name": "python",
   "nbconvert_exporter": "python",
   "pygments_lexer": "ipython3",
   "version": "3.10.14"
  },
  "papermill": {
   "default_parameters": {},
   "duration": 61.102965,
   "end_time": "2024-12-27T01:54:18.444076",
   "environment_variables": {},
   "exception": null,
   "input_path": "__notebook__.ipynb",
   "output_path": "__notebook__.ipynb",
   "parameters": {},
   "start_time": "2024-12-27T01:53:17.341111",
   "version": "2.6.0"
  }
 },
 "nbformat": 4,
 "nbformat_minor": 5
}
