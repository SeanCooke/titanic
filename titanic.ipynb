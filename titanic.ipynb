{
 "cells": [
  {
   "cell_type": "code",
   "execution_count": 1,
   "id": "b399b634",
   "metadata": {
    "_cell_guid": "b1076dfc-b9ad-4769-8c92-a6c4dae69d19",
    "_uuid": "8f2839f25d086af736a60e9eeb907d3b93b6e0e5",
    "execution": {
     "iopub.execute_input": "2024-11-16T22:16:12.114934Z",
     "iopub.status.busy": "2024-11-16T22:16:12.113962Z",
     "iopub.status.idle": "2024-11-16T22:16:14.624392Z",
     "shell.execute_reply": "2024-11-16T22:16:14.622958Z"
    },
    "papermill": {
     "duration": 2.525068,
     "end_time": "2024-11-16T22:16:14.627247",
     "exception": false,
     "start_time": "2024-11-16T22:16:12.102179",
     "status": "completed"
    },
    "tags": []
   },
   "outputs": [],
   "source": [
    "import pandas as pd\n",
    "import matplotlib.pyplot as plt\n",
    "import numpy as np\n",
    "import string\n",
    "\n",
    "from sklearn.base import BaseEstimator\n",
    "from sklearn.ensemble import RandomForestClassifier\n",
    "from sklearn.metrics import accuracy_score\n",
    "from sklearn.model_selection import train_test_split\n",
    "from typing import Union"
   ]
  },
  {
   "cell_type": "code",
   "execution_count": 2,
   "id": "7001e799",
   "metadata": {
    "execution": {
     "iopub.execute_input": "2024-11-16T22:16:14.649965Z",
     "iopub.status.busy": "2024-11-16T22:16:14.648924Z",
     "iopub.status.idle": "2024-11-16T22:16:14.684009Z",
     "shell.execute_reply": "2024-11-16T22:16:14.683012Z"
    },
    "papermill": {
     "duration": 0.049023,
     "end_time": "2024-11-16T22:16:14.686602",
     "exception": false,
     "start_time": "2024-11-16T22:16:14.637579",
     "status": "completed"
    },
    "tags": []
   },
   "outputs": [],
   "source": [
    "# Loading CSVs into Pandas DataFrame\n",
    "train_df = pd.read_csv('/kaggle/input/titanic/train.csv')\n",
    "X_test = pd.read_csv('/kaggle/input/titanic/test.csv')"
   ]
  },
  {
   "cell_type": "code",
   "execution_count": 3,
   "id": "9cb2f9ad",
   "metadata": {
    "execution": {
     "iopub.execute_input": "2024-11-16T22:16:14.708962Z",
     "iopub.status.busy": "2024-11-16T22:16:14.708303Z",
     "iopub.status.idle": "2024-11-16T22:16:14.727778Z",
     "shell.execute_reply": "2024-11-16T22:16:14.726702Z"
    },
    "papermill": {
     "duration": 0.032748,
     "end_time": "2024-11-16T22:16:14.730386",
     "exception": false,
     "start_time": "2024-11-16T22:16:14.697638",
     "status": "completed"
    },
    "tags": []
   },
   "outputs": [],
   "source": [
    "# Splitting train_df into Training and Validation Sets.\n",
    "y_train_val = train_df.Survived\n",
    "X_train_val = train_df.drop(columns=['Survived'])\n",
    "\n",
    "X_train, X_val, y_train, y_val = train_test_split(\n",
    "    X_train_val, y_train_val, test_size=0.20)"
   ]
  },
  {
   "cell_type": "markdown",
   "id": "f0271dd5",
   "metadata": {
    "papermill": {
     "duration": 0.009467,
     "end_time": "2024-11-16T22:16:14.749616",
     "exception": false,
     "start_time": "2024-11-16T22:16:14.740149",
     "status": "completed"
    },
    "tags": []
   },
   "source": [
    "# Shared Functions"
   ]
  },
  {
   "cell_type": "code",
   "execution_count": 4,
   "id": "161421b0",
   "metadata": {
    "execution": {
     "iopub.execute_input": "2024-11-16T22:16:14.771084Z",
     "iopub.status.busy": "2024-11-16T22:16:14.770646Z",
     "iopub.status.idle": "2024-11-16T22:16:14.780916Z",
     "shell.execute_reply": "2024-11-16T22:16:14.779897Z"
    },
    "papermill": {
     "duration": 0.023076,
     "end_time": "2024-11-16T22:16:14.783207",
     "exception": false,
     "start_time": "2024-11-16T22:16:14.760131",
     "status": "completed"
    },
    "tags": []
   },
   "outputs": [],
   "source": [
    "def evaluate_model(model: BaseEstimator,\n",
    "                   X_train: pd.DataFrame,\n",
    "                   y_train: pd.Series,\n",
    "                   X_val: pd.DataFrame,\n",
    "                   y_val: pd.Series) -> dict[str: Union[str, float]]:\n",
    "    \"\"\"\n",
    "    Returns accuracy on training and validation sets. \n",
    "    \n",
    "    Args:\n",
    "        X_train (pd.DataFrame): Training features.\n",
    "        X_val (pd.DataFrame): Validation features.\n",
    "    \n",
    "    Returns:\n",
    "        (dict[str: Union[str, float]]): dictionary of training and validation\n",
    "            accuracies for model.\n",
    "    \"\"\"\n",
    "    y_pred_train = model.predict(X_train)\n",
    "    y_pred_val = model.predict(X_val)\n",
    "    \n",
    "    train_accuracy = accuracy_score(\n",
    "        y_true=y_train, y_pred=y_pred_train)\n",
    "    val_accuracy = accuracy_score(\n",
    "        y_true=y_val, y_pred=y_pred_val)\n",
    "\n",
    "    # Getting human readable model name\n",
    "    model_name = str(type(model)).split(\"'\")[-2]\n",
    "\n",
    "    return {\n",
    "        'model': model_name,\n",
    "        'training_accuracy': train_accuracy,\n",
    "        'validation_accuracy': val_accuracy\n",
    "    }"
   ]
  },
  {
   "cell_type": "markdown",
   "id": "3b27e485",
   "metadata": {
    "papermill": {
     "duration": 0.009392,
     "end_time": "2024-11-16T22:16:14.802311",
     "exception": false,
     "start_time": "2024-11-16T22:16:14.792919",
     "status": "completed"
    },
    "tags": []
   },
   "source": [
    "# Models\n",
    "## Gender Model"
   ]
  },
  {
   "cell_type": "code",
   "execution_count": 5,
   "id": "3f0e9d12",
   "metadata": {
    "execution": {
     "iopub.execute_input": "2024-11-16T22:16:14.824093Z",
     "iopub.status.busy": "2024-11-16T22:16:14.822663Z",
     "iopub.status.idle": "2024-11-16T22:16:14.829597Z",
     "shell.execute_reply": "2024-11-16T22:16:14.828504Z"
    },
    "papermill": {
     "duration": 0.020475,
     "end_time": "2024-11-16T22:16:14.832362",
     "exception": false,
     "start_time": "2024-11-16T22:16:14.811887",
     "status": "completed"
    },
    "tags": []
   },
   "outputs": [],
   "source": [
    "class GenderModel(BaseEstimator):\n",
    "    def predict(self, X) -> np.ndarray:\n",
    "        \"\"\"\n",
    "        Predicts whether a passenger survives the Titanic solely based on gender.\n",
    "        Women are predicted to survive, men are not.\n",
    "    \n",
    "        Args:\n",
    "            X (pd.DataFrame): Pandas Dataframe containing 'Sex' column.\n",
    "    \n",
    "        Returns:\n",
    "            pd.Series: True if female, False otherwise.\n",
    "        \"\"\"\n",
    "        return np.where(X['Sex'] == 'female', 1, 0)"
   ]
  },
  {
   "cell_type": "code",
   "execution_count": 6,
   "id": "58cecceb",
   "metadata": {
    "execution": {
     "iopub.execute_input": "2024-11-16T22:16:14.854026Z",
     "iopub.status.busy": "2024-11-16T22:16:14.853620Z",
     "iopub.status.idle": "2024-11-16T22:16:14.858804Z",
     "shell.execute_reply": "2024-11-16T22:16:14.857754Z"
    },
    "papermill": {
     "duration": 0.018741,
     "end_time": "2024-11-16T22:16:14.861343",
     "exception": false,
     "start_time": "2024-11-16T22:16:14.842602",
     "status": "completed"
    },
    "tags": []
   },
   "outputs": [],
   "source": [
    "gender_model = GenderModel()"
   ]
  },
  {
   "cell_type": "markdown",
   "id": "9e66caf7",
   "metadata": {
    "papermill": {
     "duration": 0.009381,
     "end_time": "2024-11-16T22:16:14.880397",
     "exception": false,
     "start_time": "2024-11-16T22:16:14.871016",
     "status": "completed"
    },
    "tags": []
   },
   "source": [
    "## Random Forest"
   ]
  },
  {
   "cell_type": "code",
   "execution_count": 7,
   "id": "584e7022",
   "metadata": {
    "execution": {
     "iopub.execute_input": "2024-11-16T22:16:14.901222Z",
     "iopub.status.busy": "2024-11-16T22:16:14.900566Z",
     "iopub.status.idle": "2024-11-16T22:16:14.906596Z",
     "shell.execute_reply": "2024-11-16T22:16:14.905576Z"
    },
    "papermill": {
     "duration": 0.018964,
     "end_time": "2024-11-16T22:16:14.908871",
     "exception": false,
     "start_time": "2024-11-16T22:16:14.889907",
     "status": "completed"
    },
    "tags": []
   },
   "outputs": [],
   "source": [
    "def get_deck(row: pd.Series) -> str:\n",
    "    \"\"\"\n",
    "    Gets the Deck of a Titanic Ticket.  The Deck of a Titanic Ticket is the first\n",
    "    Character of the Ticket if there's a space in it.  Else 'Numeric'.\n",
    "\n",
    "    Args:\n",
    "        row (pd.Series): Row of titanic training data.\n",
    "\n",
    "    Returns:\n",
    "        str: Deck of a Titanic Ticket.\n",
    "    \"\"\"\n",
    "    ticket = row['Ticket']\n",
    "    if len(ticket.split()) > 1:\n",
    "        return ticket[0]\n",
    "    else:\n",
    "        return 'Numeric'"
   ]
  },
  {
   "cell_type": "code",
   "execution_count": 8,
   "id": "57d69819",
   "metadata": {
    "execution": {
     "iopub.execute_input": "2024-11-16T22:16:14.929803Z",
     "iopub.status.busy": "2024-11-16T22:16:14.929374Z",
     "iopub.status.idle": "2024-11-16T22:16:14.936040Z",
     "shell.execute_reply": "2024-11-16T22:16:14.934994Z"
    },
    "papermill": {
     "duration": 0.019783,
     "end_time": "2024-11-16T22:16:14.938337",
     "exception": false,
     "start_time": "2024-11-16T22:16:14.918554",
     "status": "completed"
    },
    "tags": []
   },
   "outputs": [],
   "source": [
    "def get_clean_name_words(row) -> list[str]:\n",
    "    \"\"\"\n",
    "    Listifies, lowercases, and removes punctuation from row['Name'].\n",
    "\n",
    "    Args:\n",
    "        row (pd.Series): Row of titanic training data.\n",
    "\n",
    "    Retruns:\n",
    "        list[str]: A list of strings.  Each list is each token of row['Name']\n",
    "        lowercased and stripped of punctuation.\n",
    "    \"\"\"\n",
    "    name = row['Name']\n",
    "    name_lower = name.lower()\n",
    "    name_lower_no_punct = name_lower.translate(\n",
    "        str.maketrans('', '', string.punctuation))\n",
    "    return name_lower_no_punct.split()"
   ]
  },
  {
   "cell_type": "code",
   "execution_count": 9,
   "id": "e7ad4bf4",
   "metadata": {
    "execution": {
     "iopub.execute_input": "2024-11-16T22:16:14.959867Z",
     "iopub.status.busy": "2024-11-16T22:16:14.958914Z",
     "iopub.status.idle": "2024-11-16T22:16:14.972331Z",
     "shell.execute_reply": "2024-11-16T22:16:14.971266Z"
    },
    "papermill": {
     "duration": 0.026565,
     "end_time": "2024-11-16T22:16:14.974686",
     "exception": false,
     "start_time": "2024-11-16T22:16:14.948121",
     "status": "completed"
    },
    "tags": []
   },
   "outputs": [],
   "source": [
    "def preprocess_random_forest(df: pd.DataFrame) -> pd.DataFrame:\n",
    "    \"\"\"\n",
    "    Puts data in format expected by Random Forest classifier.\n",
    "    \n",
    "    Args:\n",
    "        df (pd.DataFrame): DataFrame for training or inference.\n",
    "\n",
    "    Returns:\n",
    "        pd.DataFrame: Subset of df with engineered columns defined by features\n",
    "            where multiclass variables are binarized.\n",
    "    \"\"\"  \n",
    "    df['Deck'] = df.apply(get_deck, axis=1)\n",
    "    df['Clean_Name_Words'] = df.apply(get_clean_name_words, axis=1)\n",
    "    \n",
    "    # Assuming all passengers with null ages are 40.\n",
    "    df['Age_not_null'] = df['Age'].fillna(40)\n",
    "    # Assuming all passengers will null Fares paid $0.\n",
    "    df['Fare_not_null'] = df['Fare'].fillna(0)\n",
    "\n",
    "    # Creating features based on Cabin.\n",
    "    df['no_cabin'] = df.apply(lambda row: pd.isnull(row['Cabin']), axis=1)\n",
    "    df['cabin_first_char'] = df['Cabin'].apply(\n",
    "        lambda row: row[0] if pd.notnull(row) else row)\n",
    "\n",
    "    # One hot encoding gender, embarkment location, Deck, and cabin_first_char.\n",
    "    df = pd.get_dummies(df, columns=['Sex', 'Embarked', 'Deck',\n",
    "                                     'cabin_first_char'])\n",
    "    df.columns = ['is_male' if x == 'Sex_male' else x for x in df.columns]\n",
    "\n",
    "    # Creating indicator features based on Name.\n",
    "    df['is_married_adult_woman'] = df.apply(\n",
    "        lambda row: not row['is_male']\n",
    "        and 'mrs' in row['Clean_Name_Words']\n",
    "        and row['Age_not_null'] >= 21, axis=1)\n",
    "    df['is_unmarried_adult_woman'] = df.apply(\n",
    "        lambda row: not row['is_male']\n",
    "        and 'miss' in row['Clean_Name_Words']\n",
    "        and row['Age_not_null'] >= 21, axis=1)\n",
    "    df['is_master'] = df.apply(lambda row: 'master' in row['Clean_Name_Words'], axis=1)\n",
    "    df['is_dr']     = df.apply(lambda row: 'dr' in row['Clean_Name_Words'], axis=1)\n",
    "    df['is_rev']    = df.apply(lambda row: 'rev' in row['Clean_Name_Words'], axis=1)\n",
    "    return df"
   ]
  },
  {
   "cell_type": "code",
   "execution_count": 10,
   "id": "684c5b76",
   "metadata": {
    "execution": {
     "iopub.execute_input": "2024-11-16T22:16:14.995332Z",
     "iopub.status.busy": "2024-11-16T22:16:14.994915Z",
     "iopub.status.idle": "2024-11-16T22:16:15.002381Z",
     "shell.execute_reply": "2024-11-16T22:16:15.001093Z"
    },
    "papermill": {
     "duration": 0.020925,
     "end_time": "2024-11-16T22:16:15.005201",
     "exception": false,
     "start_time": "2024-11-16T22:16:14.984276",
     "status": "completed"
    },
    "tags": []
   },
   "outputs": [],
   "source": [
    "def fit_random_forest(X_train: pd.DataFrame,\n",
    "                       y_train: pd.Series,\n",
    "                       n_estimators: int,\n",
    "                       max_depth: int,\n",
    "                       max_features: int) -> RandomForestClassifier:\n",
    "    \"\"\"\n",
    "    Fits a Random Forest binary classifier to the training data.\n",
    "    \n",
    "    Args:\n",
    "        X_train (pd.DataFrame): Feature variables used for Random Forest.\n",
    "        y_train (pd.Series): Target variable used for Random Forest.\n",
    "        n_estimators (int): The number of trees in the forest.\n",
    "        max_depth (int): The maximum depth of the tree.\n",
    "        max_features (int): The number of features to consider when looking\n",
    "            for the best split.\n",
    "\n",
    "    Returns:\n",
    "        RandomForestClassifier: A fit sklearn.ensemble.RandomForestClassifier\n",
    "            according to n_estimators.\n",
    "    \"\"\"\n",
    "    model = RandomForestClassifier(\n",
    "        n_estimators=n_estimators, max_depth=max_depth, max_features=max_features,\n",
    "        random_state=1)\n",
    "    model.fit(X_train, y_train)\n",
    "    \n",
    "    return model"
   ]
  },
  {
   "cell_type": "markdown",
   "id": "eccd2cbf",
   "metadata": {
    "papermill": {
     "duration": 0.009384,
     "end_time": "2024-11-16T22:16:15.024300",
     "exception": false,
     "start_time": "2024-11-16T22:16:15.014916",
     "status": "completed"
    },
    "tags": []
   },
   "source": [
    "### Feature Selection"
   ]
  },
  {
   "cell_type": "code",
   "execution_count": 11,
   "id": "63f6f688",
   "metadata": {
    "execution": {
     "iopub.execute_input": "2024-11-16T22:16:15.045206Z",
     "iopub.status.busy": "2024-11-16T22:16:15.044753Z",
     "iopub.status.idle": "2024-11-16T22:16:15.195705Z",
     "shell.execute_reply": "2024-11-16T22:16:15.194622Z"
    },
    "papermill": {
     "duration": 0.164508,
     "end_time": "2024-11-16T22:16:15.198538",
     "exception": false,
     "start_time": "2024-11-16T22:16:15.034030",
     "status": "completed"
    },
    "tags": []
   },
   "outputs": [],
   "source": [
    "features = [\"Pclass\", \"SibSp\", \"Parch\", \"is_male\", \"Embarked_C\", \"Embarked_Q\",\n",
    "            \"Deck_A\", \"Deck_F\", \"Deck_P\", \"Deck_W\", \"no_cabin\",\n",
    "            \"cabin_first_char_A\", \"cabin_first_char_B\", \"cabin_first_char_C\",\n",
    "            \"cabin_first_char_D\", \"cabin_first_char_E\", \"cabin_first_char_F\",\n",
    "            \"cabin_first_char_G\", \"cabin_first_char_T\", \"Age_not_null\",\n",
    "            \"Fare_not_null\", \"is_married_adult_woman\",\"is_unmarried_adult_woman\",\n",
    "            \"is_master\", \"is_dr\", \"is_rev\"]\n",
    "\n",
    "X_train_preprocessed_rf = preprocess_random_forest(X_train).reindex(\n",
    "    columns=features, fill_value=0)\n",
    "\n",
    "# Ensuring columns in X_val_preprocessed_rf are the same as the columns in\n",
    "# X_train_preprocessed_rf since we have one hot encodings\n",
    "X_val_preprocessed_rf = preprocess_random_forest(X_val).reindex(\n",
    "    columns=features, fill_value=0)"
   ]
  },
  {
   "cell_type": "markdown",
   "id": "5907cd7d",
   "metadata": {
    "papermill": {
     "duration": 0.009376,
     "end_time": "2024-11-16T22:16:15.217789",
     "exception": false,
     "start_time": "2024-11-16T22:16:15.208413",
     "status": "completed"
    },
    "tags": []
   },
   "source": [
    "### Hyperparameter Tuning"
   ]
  },
  {
   "cell_type": "code",
   "execution_count": 12,
   "id": "2bb5e9fb",
   "metadata": {
    "execution": {
     "iopub.execute_input": "2024-11-16T22:16:15.238953Z",
     "iopub.status.busy": "2024-11-16T22:16:15.238500Z",
     "iopub.status.idle": "2024-11-16T22:16:28.911625Z",
     "shell.execute_reply": "2024-11-16T22:16:28.910634Z"
    },
    "papermill": {
     "duration": 13.688435,
     "end_time": "2024-11-16T22:16:28.915917",
     "exception": false,
     "start_time": "2024-11-16T22:16:15.227482",
     "status": "completed"
    },
    "tags": []
   },
   "outputs": [
    {
     "data": {
      "image/png": "[encoded data removed]",
      "text/plain": [
       "<Figure size 640x480 with 1 Axes>"
      ]
     },
     "metadata": {},
     "output_type": "display_data"
    }
   ],
   "source": [
    "# It's impossible to have a tree with depth >= len(features)\n",
    "max_depths = list(range(\n",
    "    1,\n",
    "    min(11, len(features)+1),\n",
    "    1\n",
    "))\n",
    "training_accuracies = []\n",
    "validation_accuracies = []\n",
    "\n",
    "for max_depth in max_depths:\n",
    "    # Training model\n",
    "    random_forrest_model = fit_random_forest(\n",
    "        X_train_preprocessed_rf, y_train, n_estimators=500, max_depth=max_depth,\n",
    "        max_features='sqrt')\n",
    "    # Evaluating model\n",
    "    accuracies = evaluate_model(\n",
    "        model=random_forrest_model, X_train=X_train_preprocessed_rf,\n",
    "        y_train=y_train, X_val=X_val_preprocessed_rf, y_val=y_val)\n",
    "    training_accuracies.append(accuracies['training_accuracy'])\n",
    "    validation_accuracies.append(accuracies['validation_accuracy'])\n",
    "\n",
    "plt.plot(max_depths, training_accuracies)\n",
    "plt.plot(max_depths, validation_accuracies)\n",
    "plt.title(\"max_depth\")\n",
    "plt.legend(('Training Accuracy', 'Validation Accuracy'), loc='lower right')\n",
    "plt.show()"
   ]
  },
  {
   "cell_type": "code",
   "execution_count": 13,
   "id": "f753b9f0",
   "metadata": {
    "execution": {
     "iopub.execute_input": "2024-11-16T22:16:28.939245Z",
     "iopub.status.busy": "2024-11-16T22:16:28.938738Z",
     "iopub.status.idle": "2024-11-16T22:16:42.104559Z",
     "shell.execute_reply": "2024-11-16T22:16:42.103459Z"
    },
    "papermill": {
     "duration": 13.180337,
     "end_time": "2024-11-16T22:16:42.107124",
     "exception": false,
     "start_time": "2024-11-16T22:16:28.926787",
     "status": "completed"
    },
    "tags": []
   },
   "outputs": [
    {
     "data": {
      "image/png": "[encoded data removed]",
      "text/plain": [
       "<Figure size 640x480 with 1 Axes>"
      ]
     },
     "metadata": {},
     "output_type": "display_data"
    }
   ],
   "source": [
    "# It's impossible to consider more features than len(features) for a split.\n",
    "max_features = list(range(\n",
    "    1,\n",
    "    min(11, len(features)+1),\n",
    "    1\n",
    "))\n",
    "training_accuracies = []\n",
    "validation_accuracies = []\n",
    "\n",
    "for max_feature in max_features:\n",
    "    # Training model\n",
    "    random_forrest_model = fit_random_forest(\n",
    "        X_train_preprocessed_rf, y_train, n_estimators=500, max_depth=4,\n",
    "        max_features=max_feature)\n",
    "    # Evaluating model\n",
    "    accuracies = evaluate_model(\n",
    "        model=random_forrest_model, X_train=X_train_preprocessed_rf,\n",
    "        y_train=y_train, X_val=X_val_preprocessed_rf, y_val=y_val)\n",
    "    training_accuracies.append(accuracies['training_accuracy'])\n",
    "    validation_accuracies.append(accuracies['validation_accuracy'])\n",
    "\n",
    "plt.plot(max_depths, training_accuracies)\n",
    "plt.plot(max_depths, validation_accuracies)\n",
    "plt.title(\"max_features\")\n",
    "plt.legend(('Training Accuracy', 'Validation Accuracy'), loc='lower right')\n",
    "plt.show()"
   ]
  },
  {
   "cell_type": "code",
   "execution_count": 14,
   "id": "37d93d47",
   "metadata": {
    "execution": {
     "iopub.execute_input": "2024-11-16T22:16:42.131708Z",
     "iopub.status.busy": "2024-11-16T22:16:42.131266Z",
     "iopub.status.idle": "2024-11-16T22:16:51.034322Z",
     "shell.execute_reply": "2024-11-16T22:16:51.033065Z"
    },
    "papermill": {
     "duration": 8.918567,
     "end_time": "2024-11-16T22:16:51.037197",
     "exception": false,
     "start_time": "2024-11-16T22:16:42.118630",
     "status": "completed"
    },
    "tags": []
   },
   "outputs": [
    {
     "data": {
      "image/png": "[encoded data removed]",
      "text/plain": [
       "<Figure size 640x480 with 1 Axes>"
      ]
     },
     "metadata": {},
     "output_type": "display_data"
    }
   ],
   "source": [
    "# It's impossible to consider more features than len(features) for a split.\n",
    "num_estimators = list(range(\n",
    "    50,\n",
    "    600,\n",
    "    50\n",
    "))\n",
    "training_accuracies = []\n",
    "validation_accuracies = []\n",
    "\n",
    "for n_estimator in num_estimators:\n",
    "    # Training model\n",
    "    random_forrest_model = fit_random_forest(\n",
    "        X_train_preprocessed_rf, y_train, n_estimators=n_estimator, max_depth=4,\n",
    "        max_features='sqrt')\n",
    "    # Evaluating model\n",
    "    accuracies = evaluate_model(\n",
    "        model=random_forrest_model, X_train=X_train_preprocessed_rf,\n",
    "        y_train=y_train, X_val=X_val_preprocessed_rf, y_val=y_val)\n",
    "    training_accuracies.append(accuracies['training_accuracy'])\n",
    "    validation_accuracies.append(accuracies['validation_accuracy'])\n",
    "\n",
    "plt.plot(num_estimators, training_accuracies)\n",
    "plt.plot(num_estimators, validation_accuracies)\n",
    "plt.title(\"n_estimators\")\n",
    "plt.legend(('Training Accuracy', 'Validation Accuracy'), loc='lower right')\n",
    "plt.show()"
   ]
  },
  {
   "cell_type": "code",
   "execution_count": 15,
   "id": "884e88db",
   "metadata": {
    "execution": {
     "iopub.execute_input": "2024-11-16T22:16:51.062627Z",
     "iopub.status.busy": "2024-11-16T22:16:51.061912Z",
     "iopub.status.idle": "2024-11-16T22:16:51.429670Z",
     "shell.execute_reply": "2024-11-16T22:16:51.428649Z"
    },
    "papermill": {
     "duration": 0.383548,
     "end_time": "2024-11-16T22:16:51.432445",
     "exception": false,
     "start_time": "2024-11-16T22:16:51.048897",
     "status": "completed"
    },
    "tags": []
   },
   "outputs": [],
   "source": [
    "random_forest_model = fit_random_forest(X_train_preprocessed_rf, y_train,\n",
    "                                        n_estimators=150, max_depth=4,\n",
    "                                        max_features='sqrt')"
   ]
  },
  {
   "cell_type": "markdown",
   "id": "374355e9",
   "metadata": {
    "papermill": {
     "duration": 0.010932,
     "end_time": "2024-11-16T22:16:51.454803",
     "exception": false,
     "start_time": "2024-11-16T22:16:51.443871",
     "status": "completed"
    },
    "tags": []
   },
   "source": [
    "## XGBoost"
   ]
  },
  {
   "cell_type": "code",
   "execution_count": 16,
   "id": "69f44cdf",
   "metadata": {
    "execution": {
     "iopub.execute_input": "2024-11-16T22:16:51.479135Z",
     "iopub.status.busy": "2024-11-16T22:16:51.478717Z",
     "iopub.status.idle": "2024-11-16T22:16:51.483452Z",
     "shell.execute_reply": "2024-11-16T22:16:51.482296Z"
    },
    "papermill": {
     "duration": 0.019734,
     "end_time": "2024-11-16T22:16:51.485857",
     "exception": false,
     "start_time": "2024-11-16T22:16:51.466123",
     "status": "completed"
    },
    "tags": []
   },
   "outputs": [],
   "source": [
    "# TODO read\n",
    "# https://machinelearningmastery.com/gentle-introduction-xgboost-applied-machine-learning/"
   ]
  },
  {
   "cell_type": "code",
   "execution_count": 17,
   "id": "75891d8a",
   "metadata": {
    "execution": {
     "iopub.execute_input": "2024-11-16T22:16:51.510984Z",
     "iopub.status.busy": "2024-11-16T22:16:51.509952Z",
     "iopub.status.idle": "2024-11-16T22:16:52.007116Z",
     "shell.execute_reply": "2024-11-16T22:16:52.006137Z"
    },
    "papermill": {
     "duration": 0.512041,
     "end_time": "2024-11-16T22:16:52.009262",
     "exception": false,
     "start_time": "2024-11-16T22:16:51.497221",
     "status": "completed"
    },
    "tags": []
   },
   "outputs": [
    {
     "data": {
      "text/html": [
       "<style>#sk-container-id-1 {color: black;background-color: white;}#sk-container-id-1 pre{padding: 0;}#sk-container-id-1 div.sk-toggleable {background-color: white;}#sk-container-id-1 label.sk-toggleable__label {cursor: pointer;display: block;width: 100%;margin-bottom: 0;padding: 0.3em;box-sizing: border-box;text-align: center;}#sk-container-id-1 label.sk-toggleable__label-arrow:before {content: \"▸\";float: left;margin-right: 0.25em;color: #696969;}#sk-container-id-1 label.sk-toggleable__label-arrow:hover:before {color: black;}#sk-container-id-1 div.sk-estimator:hover label.sk-toggleable__label-arrow:before {color: black;}#sk-container-id-1 div.sk-toggleable__content {max-height: 0;max-width: 0;overflow: hidden;text-align: left;background-color: #f0f8ff;}#sk-container-id-1 div.sk-toggleable__content pre {margin: 0.2em;color: black;border-radius: 0.25em;background-color: #f0f8ff;}#sk-container-id-1 input.sk-toggleable__control:checked~div.sk-toggleable__content {max-height: 200px;max-width: 100%;overflow: auto;}#sk-container-id-1 input.sk-toggleable__control:checked~label.sk-toggleable__label-arrow:before {content: \"▾\";}#sk-container-id-1 div.sk-estimator input.sk-toggleable__control:checked~label.sk-toggleable__label {background-color: #d4ebff;}#sk-container-id-1 div.sk-label input.sk-toggleable__control:checked~label.sk-toggleable__label {background-color: #d4ebff;}#sk-container-id-1 input.sk-hidden--visually {border: 0;clip: rect(1px 1px 1px 1px);clip: rect(1px, 1px, 1px, 1px);height: 1px;margin: -1px;overflow: hidden;padding: 0;position: absolute;width: 1px;}#sk-container-id-1 div.sk-estimator {font-family: monospace;background-color: #f0f8ff;border: 1px dotted black;border-radius: 0.25em;box-sizing: border-box;margin-bottom: 0.5em;}#sk-container-id-1 div.sk-estimator:hover {background-color: #d4ebff;}#sk-container-id-1 div.sk-parallel-item::after {content: \"\";width: 100%;border-bottom: 1px solid gray;flex-grow: 1;}#sk-container-id-1 div.sk-label:hover label.sk-toggleable__label {background-color: #d4ebff;}#sk-container-id-1 div.sk-serial::before {content: \"\";position: absolute;border-left: 1px solid gray;box-sizing: border-box;top: 0;bottom: 0;left: 50%;z-index: 0;}#sk-container-id-1 div.sk-serial {display: flex;flex-direction: column;align-items: center;background-color: white;padding-right: 0.2em;padding-left: 0.2em;position: relative;}#sk-container-id-1 div.sk-item {position: relative;z-index: 1;}#sk-container-id-1 div.sk-parallel {display: flex;align-items: stretch;justify-content: center;background-color: white;position: relative;}#sk-container-id-1 div.sk-item::before, #sk-container-id-1 div.sk-parallel-item::before {content: \"\";position: absolute;border-left: 1px solid gray;box-sizing: border-box;top: 0;bottom: 0;left: 50%;z-index: -1;}#sk-container-id-1 div.sk-parallel-item {display: flex;flex-direction: column;z-index: 1;position: relative;background-color: white;}#sk-container-id-1 div.sk-parallel-item:first-child::after {align-self: flex-end;width: 50%;}#sk-container-id-1 div.sk-parallel-item:last-child::after {align-self: flex-start;width: 50%;}#sk-container-id-1 div.sk-parallel-item:only-child::after {width: 0;}#sk-container-id-1 div.sk-dashed-wrapped {border: 1px dashed gray;margin: 0 0.4em 0.5em 0.4em;box-sizing: border-box;padding-bottom: 0.4em;background-color: white;}#sk-container-id-1 div.sk-label label {font-family: monospace;font-weight: bold;display: inline-block;line-height: 1.2em;}#sk-container-id-1 div.sk-label-container {text-align: center;}#sk-container-id-1 div.sk-container {/* jupyter's `normalize.less` sets `[hidden] { display: none; }` but bootstrap.min.css set `[hidden] { display: none !important; }` so we also need the `!important` here to be able to override the default hidden behavior on the sphinx rendered scikit-learn.org. See: https://github.com/scikit-learn/scikit-learn/issues/21755 */display: inline-block !important;position: relative;}#sk-container-id-1 div.sk-text-repr-fallback {display: none;}</style><div id=\"sk-container-id-1\" class=\"sk-top-container\"><div class=\"sk-text-repr-fallback\"><pre>XGBRFClassifier(base_score=None, booster=None, callbacks=None,\n",
       "                colsample_bylevel=None, colsample_bynode=0.2,\n",
       "                colsample_bytree=None, device=None, early_stopping_rounds=None,\n",
       "                enable_categorical=False, eval_metric=None, feature_types=None,\n",
       "                gamma=None, grow_policy=None, importance_type=None,\n",
       "                interaction_constraints=None, max_bin=None,\n",
       "                max_cat_threshold=None, max_cat_to_onehot=None,\n",
       "                max_delta_step=None, max_depth=None, max_leaves=None,\n",
       "                min_child_weight=None, missing=nan, monotone_constraints=None,\n",
       "                multi_strategy=None, n_estimators=500, n_jobs=None,\n",
       "                num_parallel_tree=None, objective=&#x27;binary:logistic&#x27;,\n",
       "                random_state=None, ...)</pre><b>In a Jupyter environment, please rerun this cell to show the HTML representation or trust the notebook. <br />On GitHub, the HTML representation is unable to render, please try loading this page with nbviewer.org.</b></div><div class=\"sk-container\" hidden><div class=\"sk-item\"><div class=\"sk-estimator sk-toggleable\"><input class=\"sk-toggleable__control sk-hidden--visually\" id=\"sk-estimator-id-1\" type=\"checkbox\" checked><label for=\"sk-estimator-id-1\" class=\"sk-toggleable__label sk-toggleable__label-arrow\">XGBRFClassifier</label><div class=\"sk-toggleable__content\"><pre>XGBRFClassifier(base_score=None, booster=None, callbacks=None,\n",
       "                colsample_bylevel=None, colsample_bynode=0.2,\n",
       "                colsample_bytree=None, device=None, early_stopping_rounds=None,\n",
       "                enable_categorical=False, eval_metric=None, feature_types=None,\n",
       "                gamma=None, grow_policy=None, importance_type=None,\n",
       "                interaction_constraints=None, max_bin=None,\n",
       "                max_cat_threshold=None, max_cat_to_onehot=None,\n",
       "                max_delta_step=None, max_depth=None, max_leaves=None,\n",
       "                min_child_weight=None, missing=nan, monotone_constraints=None,\n",
       "                multi_strategy=None, n_estimators=500, n_jobs=None,\n",
       "                num_parallel_tree=None, objective=&#x27;binary:logistic&#x27;,\n",
       "                random_state=None, ...)</pre></div></div></div></div></div>"
      ],
      "text/plain": [
       "XGBRFClassifier(base_score=None, booster=None, callbacks=None,\n",
       "                colsample_bylevel=None, colsample_bynode=0.2,\n",
       "                colsample_bytree=None, device=None, early_stopping_rounds=None,\n",
       "                enable_categorical=False, eval_metric=None, feature_types=None,\n",
       "                gamma=None, grow_policy=None, importance_type=None,\n",
       "                interaction_constraints=None, max_bin=None,\n",
       "                max_cat_threshold=None, max_cat_to_onehot=None,\n",
       "                max_delta_step=None, max_depth=None, max_leaves=None,\n",
       "                min_child_weight=None, missing=nan, monotone_constraints=None,\n",
       "                multi_strategy=None, n_estimators=500, n_jobs=None,\n",
       "                num_parallel_tree=None, objective='binary:logistic',\n",
       "                random_state=None, ...)"
      ]
     },
     "execution_count": 17,
     "metadata": {},
     "output_type": "execute_result"
    }
   ],
   "source": [
    "# Generally, XGBoost is fast. Really fast when compared to other implementations\n",
    "# of gradient boosting.\n",
    "# Sparse Aware\n",
    "from xgboost import XGBRFClassifier\n",
    "\n",
    "xgboost_model = XGBRFClassifier(\n",
    "    n_estimators=500, subsample=0.9, colsample_bynode=0.2)\n",
    "\n",
    "xgboost_model.fit(X_train_preprocessed_rf, y_train)"
   ]
  },
  {
   "cell_type": "code",
   "execution_count": 18,
   "id": "bfec88fa",
   "metadata": {
    "execution": {
     "iopub.execute_input": "2024-11-16T22:16:52.035426Z",
     "iopub.status.busy": "2024-11-16T22:16:52.034714Z",
     "iopub.status.idle": "2024-11-16T22:16:52.067100Z",
     "shell.execute_reply": "2024-11-16T22:16:52.065980Z"
    },
    "papermill": {
     "duration": 0.047692,
     "end_time": "2024-11-16T22:16:52.069376",
     "exception": false,
     "start_time": "2024-11-16T22:16:52.021684",
     "status": "completed"
    },
    "tags": []
   },
   "outputs": [
    {
     "data": {
      "text/plain": [
       "{'model': 'xgboost.sklearn.XGBRFClassifier',\n",
       " 'training_accuracy': 0.8497191011235955,\n",
       " 'validation_accuracy': 0.8715083798882681}"
      ]
     },
     "execution_count": 18,
     "metadata": {},
     "output_type": "execute_result"
    }
   ],
   "source": [
    "evaluate_model(model=xgboost_model, X_train=X_train_preprocessed_rf,\n",
    "               y_train=y_train, X_val=X_val_preprocessed_rf, y_val=y_val)"
   ]
  },
  {
   "cell_type": "code",
   "execution_count": 19,
   "id": "d6dd88bc",
   "metadata": {
    "execution": {
     "iopub.execute_input": "2024-11-16T22:16:52.095199Z",
     "iopub.status.busy": "2024-11-16T22:16:52.094771Z",
     "iopub.status.idle": "2024-11-16T22:16:52.099320Z",
     "shell.execute_reply": "2024-11-16T22:16:52.098277Z"
    },
    "papermill": {
     "duration": 0.019477,
     "end_time": "2024-11-16T22:16:52.101438",
     "exception": false,
     "start_time": "2024-11-16T22:16:52.081961",
     "status": "completed"
    },
    "tags": []
   },
   "outputs": [],
   "source": [
    "# TODO:\n",
    "# Tune\n",
    "# n_estimators\n",
    "# * values up to 750(?)\n",
    "# colsample_bynode\n",
    "# * values from 0.0 to 1.0 with an increment of 0.1"
   ]
  },
  {
   "cell_type": "markdown",
   "id": "ce97dafb",
   "metadata": {
    "papermill": {
     "duration": 0.010979,
     "end_time": "2024-11-16T22:16:52.123844",
     "exception": false,
     "start_time": "2024-11-16T22:16:52.112865",
     "status": "completed"
    },
    "tags": []
   },
   "source": [
    "### Leaderboard"
   ]
  },
  {
   "cell_type": "code",
   "execution_count": 20,
   "id": "4f313f88",
   "metadata": {
    "execution": {
     "iopub.execute_input": "2024-11-16T22:16:52.148876Z",
     "iopub.status.busy": "2024-11-16T22:16:52.148455Z",
     "iopub.status.idle": "2024-11-16T22:16:52.215755Z",
     "shell.execute_reply": "2024-11-16T22:16:52.214731Z"
    },
    "papermill": {
     "duration": 0.083067,
     "end_time": "2024-11-16T22:16:52.218467",
     "exception": false,
     "start_time": "2024-11-16T22:16:52.135400",
     "status": "completed"
    },
    "tags": []
   },
   "outputs": [],
   "source": [
    "# Adding models to the Leaderboard.\n",
    "gender_model_evaluation = evaluate_model(\n",
    "    model=gender_model, X_train=X_train, y_train=y_train,\n",
    "    X_val=X_val, y_val=y_val)\n",
    "\n",
    "random_forest_evaluation = evaluate_model(\n",
    "    model=random_forest_model, X_train=X_train_preprocessed_rf, y_train=y_train,\n",
    "    X_val=X_val_preprocessed_rf, y_val=y_val)\n",
    "\n",
    "xgb_evaluation = evaluate_model(\n",
    "    model=xgboost_model, X_train=X_train_preprocessed_rf,\n",
    "    y_train=y_train, X_val=X_val_preprocessed_rf, y_val=y_val)"
   ]
  },
  {
   "cell_type": "code",
   "execution_count": 21,
   "id": "0418ebcb",
   "metadata": {
    "execution": {
     "iopub.execute_input": "2024-11-16T22:16:52.245780Z",
     "iopub.status.busy": "2024-11-16T22:16:52.245356Z",
     "iopub.status.idle": "2024-11-16T22:16:52.264122Z",
     "shell.execute_reply": "2024-11-16T22:16:52.263103Z"
    },
    "papermill": {
     "duration": 0.034284,
     "end_time": "2024-11-16T22:16:52.266488",
     "exception": false,
     "start_time": "2024-11-16T22:16:52.232204",
     "status": "completed"
    },
    "tags": []
   },
   "outputs": [
    {
     "data": {
      "text/html": [
       "<div>\n",
       "<style scoped>\n",
       "    .dataframe tbody tr th:only-of-type {\n",
       "        vertical-align: middle;\n",
       "    }\n",
       "\n",
       "    .dataframe tbody tr th {\n",
       "        vertical-align: top;\n",
       "    }\n",
       "\n",
       "    .dataframe thead th {\n",
       "        text-align: right;\n",
       "    }\n",
       "</style>\n",
       "<table border=\"1\" class=\"dataframe\">\n",
       "  <thead>\n",
       "    <tr style=\"text-align: right;\">\n",
       "      <th></th>\n",
       "      <th>model</th>\n",
       "      <th>training_accuracy</th>\n",
       "      <th>validation_accuracy</th>\n",
       "    </tr>\n",
       "  </thead>\n",
       "  <tbody>\n",
       "    <tr>\n",
       "      <th>0</th>\n",
       "      <td>__main__.GenderModel</td>\n",
       "      <td>0.762640</td>\n",
       "      <td>0.882682</td>\n",
       "    </tr>\n",
       "    <tr>\n",
       "      <th>1</th>\n",
       "      <td>sklearn.ensemble._forest.RandomForestClassifier</td>\n",
       "      <td>0.834270</td>\n",
       "      <td>0.877095</td>\n",
       "    </tr>\n",
       "    <tr>\n",
       "      <th>2</th>\n",
       "      <td>xgboost.sklearn.XGBRFClassifier</td>\n",
       "      <td>0.849719</td>\n",
       "      <td>0.871508</td>\n",
       "    </tr>\n",
       "  </tbody>\n",
       "</table>\n",
       "</div>"
      ],
      "text/plain": [
       "                                             model  training_accuracy  \\\n",
       "0                             __main__.GenderModel           0.762640   \n",
       "1  sklearn.ensemble._forest.RandomForestClassifier           0.834270   \n",
       "2                  xgboost.sklearn.XGBRFClassifier           0.849719   \n",
       "\n",
       "   validation_accuracy  \n",
       "0             0.882682  \n",
       "1             0.877095  \n",
       "2             0.871508  "
      ]
     },
     "execution_count": 21,
     "metadata": {},
     "output_type": "execute_result"
    }
   ],
   "source": [
    "leaderboard = pd.DataFrame([\n",
    "gender_model_evaluation, random_forest_evaluation, xgb_evaluation])\n",
    "\n",
    "leaderboard.sort_values(by='validation_accuracy', ascending=False, inplace=True)\n",
    "\n",
    "leaderboard.head(len(leaderboard))"
   ]
  },
  {
   "cell_type": "markdown",
   "id": "b89a0d3d",
   "metadata": {
    "papermill": {
     "duration": 0.01198,
     "end_time": "2024-11-16T22:16:52.290726",
     "exception": false,
     "start_time": "2024-11-16T22:16:52.278746",
     "status": "completed"
    },
    "tags": []
   },
   "source": [
    "# Submission"
   ]
  },
  {
   "cell_type": "code",
   "execution_count": 22,
   "id": "118b59ee",
   "metadata": {
    "execution": {
     "iopub.execute_input": "2024-11-16T22:16:52.317012Z",
     "iopub.status.busy": "2024-11-16T22:16:52.316483Z",
     "iopub.status.idle": "2024-11-16T22:16:52.414124Z",
     "shell.execute_reply": "2024-11-16T22:16:52.413132Z"
    },
    "papermill": {
     "duration": 0.113612,
     "end_time": "2024-11-16T22:16:52.416505",
     "exception": false,
     "start_time": "2024-11-16T22:16:52.302893",
     "status": "completed"
    },
    "tags": []
   },
   "outputs": [
    {
     "data": {
      "text/html": [
       "<div>\n",
       "<style scoped>\n",
       "    .dataframe tbody tr th:only-of-type {\n",
       "        vertical-align: middle;\n",
       "    }\n",
       "\n",
       "    .dataframe tbody tr th {\n",
       "        vertical-align: top;\n",
       "    }\n",
       "\n",
       "    .dataframe thead th {\n",
       "        text-align: right;\n",
       "    }\n",
       "</style>\n",
       "<table border=\"1\" class=\"dataframe\">\n",
       "  <thead>\n",
       "    <tr style=\"text-align: right;\">\n",
       "      <th></th>\n",
       "      <th>PassengerId</th>\n",
       "      <th>Survived</th>\n",
       "    </tr>\n",
       "  </thead>\n",
       "  <tbody>\n",
       "    <tr>\n",
       "      <th>0</th>\n",
       "      <td>892</td>\n",
       "      <td>0</td>\n",
       "    </tr>\n",
       "    <tr>\n",
       "      <th>1</th>\n",
       "      <td>893</td>\n",
       "      <td>0</td>\n",
       "    </tr>\n",
       "    <tr>\n",
       "      <th>2</th>\n",
       "      <td>894</td>\n",
       "      <td>0</td>\n",
       "    </tr>\n",
       "    <tr>\n",
       "      <th>3</th>\n",
       "      <td>895</td>\n",
       "      <td>0</td>\n",
       "    </tr>\n",
       "    <tr>\n",
       "      <th>4</th>\n",
       "      <td>896</td>\n",
       "      <td>1</td>\n",
       "    </tr>\n",
       "  </tbody>\n",
       "</table>\n",
       "</div>"
      ],
      "text/plain": [
       "   PassengerId  Survived\n",
       "0          892         0\n",
       "1          893         0\n",
       "2          894         0\n",
       "3          895         0\n",
       "4          896         1"
      ]
     },
     "execution_count": 22,
     "metadata": {},
     "output_type": "execute_result"
    }
   ],
   "source": [
    "# Predicting on X_test.\n",
    "X_test_preprocessed_rf = preprocess_random_forest(X_test).reindex(\n",
    "    columns=features, fill_value=0)\n",
    "y_pred_test = random_forest_model.predict(X_test_preprocessed_rf[features])\n",
    "\n",
    "submission_df = pd.DataFrame({\n",
    "    \"PassengerId\": X_test.PassengerId,\n",
    "    \"Survived\": y_pred_test\n",
    "})\n",
    "\n",
    "submission_df.head()"
   ]
  },
  {
   "cell_type": "code",
   "execution_count": 23,
   "id": "e53fabc6",
   "metadata": {
    "execution": {
     "iopub.execute_input": "2024-11-16T22:16:52.443304Z",
     "iopub.status.busy": "2024-11-16T22:16:52.442854Z",
     "iopub.status.idle": "2024-11-16T22:16:52.452277Z",
     "shell.execute_reply": "2024-11-16T22:16:52.451027Z"
    },
    "papermill": {
     "duration": 0.0257,
     "end_time": "2024-11-16T22:16:52.454533",
     "exception": false,
     "start_time": "2024-11-16T22:16:52.428833",
     "status": "completed"
    },
    "tags": []
   },
   "outputs": [
    {
     "name": "stdout",
     "output_type": "stream",
     "text": [
      "Submission saved to submission.csv\n"
     ]
    }
   ],
   "source": [
    "submission_df.to_csv('submission.csv', index=False)\n",
    "print(\"Submission saved to submission.csv\")"
   ]
  }
 ],
 "metadata": {
  "kaggle": {
   "accelerator": "none",
   "dataSources": [
    {
     "databundleVersionId": 26502,
     "sourceId": 3136,
     "sourceType": "competition"
    }
   ],
   "dockerImageVersionId": 30786,
   "isGpuEnabled": false,
   "isInternetEnabled": true,
   "language": "python",
   "sourceType": "notebook"
  },
  "kernelspec": {
   "display_name": "Python 3",
   "language": "python",
   "name": "python3"
  },
  "language_info": {
   "codemirror_mode": {
    "name": "ipython",
    "version": 3
   },
   "file_extension": ".py",
   "mimetype": "text/x-python",
   "name": "python",
   "nbconvert_exporter": "python",
   "pygments_lexer": "ipython3",
   "version": "3.10.14"
  },
  "papermill": {
   "default_parameters": {},
   "duration": 43.869256,
   "end_time": "2024-11-16T22:16:53.087197",
   "environment_variables": {},
   "exception": null,
   "input_path": "__notebook__.ipynb",
   "output_path": "__notebook__.ipynb",
   "parameters": {},
   "start_time": "2024-11-16T22:16:09.217941",
   "version": "2.6.0"
  }
 },
 "nbformat": 4,
 "nbformat_minor": 5
}
