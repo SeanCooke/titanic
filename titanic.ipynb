{
 "cells": [
  {
   "cell_type": "code",
   "execution_count": 1,
   "id": "8bc7975f",
   "metadata": {
    "execution": {
     "iopub.execute_input": "2024-12-01T17:27:03.700963Z",
     "iopub.status.busy": "2024-12-01T17:27:03.700603Z",
     "iopub.status.idle": "2024-12-01T17:27:19.070022Z",
     "shell.execute_reply": "2024-12-01T17:27:19.069156Z"
    },
    "papermill": {
     "duration": 15.38117,
     "end_time": "2024-12-01T17:27:19.072546",
     "exception": false,
     "start_time": "2024-12-01T17:27:03.691376",
     "status": "completed"
    },
    "tags": []
   },
   "outputs": [],
   "source": [
    "import datetime\n",
    "import matplotlib.pyplot as plt\n",
    "import numpy as np\n",
    "import pandas as pd\n",
    "import string\n",
    "\n",
    "from sklearn.base import BaseEstimator\n",
    "from sklearn.ensemble import RandomForestClassifier\n",
    "from sklearn.metrics import accuracy_score\n",
    "from sklearn.model_selection import GridSearchCV, StratifiedKFold\n",
    "from sklearn.preprocessing import StandardScaler\n",
    "from tensorflow.keras import layers, Sequential\n",
    "from tensorflow.keras.callbacks import EarlyStopping\n",
    "from tensorflow.keras.optimizers import Adam\n",
    "from typing import Union\n",
    "from xgboost import XGBClassifier"
   ]
  },
  {
   "cell_type": "code",
   "execution_count": 2,
   "id": "4ff00ea6",
   "metadata": {
    "execution": {
     "iopub.execute_input": "2024-12-01T17:27:19.088271Z",
     "iopub.status.busy": "2024-12-01T17:27:19.087637Z",
     "iopub.status.idle": "2024-12-01T17:27:19.113891Z",
     "shell.execute_reply": "2024-12-01T17:27:19.112732Z"
    },
    "papermill": {
     "duration": 0.036707,
     "end_time": "2024-12-01T17:27:19.116564",
     "exception": false,
     "start_time": "2024-12-01T17:27:19.079857",
     "status": "completed"
    },
    "tags": []
   },
   "outputs": [],
   "source": [
    "# Loading CSVs into Pandas DataFrame\n",
    "train_df = pd.read_csv('/kaggle/input/titanic/train.csv')\n",
    "X_test = pd.read_csv('/kaggle/input/titanic/test.csv')"
   ]
  },
  {
   "cell_type": "markdown",
   "id": "98818ae3",
   "metadata": {
    "papermill": {
     "duration": 0.006641,
     "end_time": "2024-12-01T17:27:19.130045",
     "exception": false,
     "start_time": "2024-12-01T17:27:19.123404",
     "status": "completed"
    },
    "tags": []
   },
   "source": [
    "# Preprocessing"
   ]
  },
  {
   "cell_type": "code",
   "execution_count": 3,
   "id": "49058ba2",
   "metadata": {
    "execution": {
     "iopub.execute_input": "2024-12-01T17:27:19.145333Z",
     "iopub.status.busy": "2024-12-01T17:27:19.144961Z",
     "iopub.status.idle": "2024-12-01T17:27:19.150029Z",
     "shell.execute_reply": "2024-12-01T17:27:19.149098Z"
    },
    "papermill": {
     "duration": 0.014623,
     "end_time": "2024-12-01T17:27:19.151957",
     "exception": false,
     "start_time": "2024-12-01T17:27:19.137334",
     "status": "completed"
    },
    "tags": []
   },
   "outputs": [],
   "source": [
    "def get_is_male(row: pd.Series) -> bool:\n",
    "    \"\"\"\n",
    "    Creates boolen indicator value for men in Titanic data.\n",
    "\n",
    "    Args:\n",
    "        row (pd.Series): A row of Titanic data containing a 'Sex' column.\n",
    "\n",
    "    Returns:\n",
    "        Bool: True if Sex=male, False otherwise.\n",
    "    \"\"\"\n",
    "    return row['Sex'] == 'male'"
   ]
  },
  {
   "cell_type": "code",
   "execution_count": 4,
   "id": "1fe5383d",
   "metadata": {
    "execution": {
     "iopub.execute_input": "2024-12-01T17:27:19.168190Z",
     "iopub.status.busy": "2024-12-01T17:27:19.167800Z",
     "iopub.status.idle": "2024-12-01T17:27:19.173127Z",
     "shell.execute_reply": "2024-12-01T17:27:19.172104Z"
    },
    "papermill": {
     "duration": 0.015408,
     "end_time": "2024-12-01T17:27:19.175267",
     "exception": false,
     "start_time": "2024-12-01T17:27:19.159859",
     "status": "completed"
    },
    "tags": []
   },
   "outputs": [],
   "source": [
    "def get_is_child(row: pd.Series) -> bool:\n",
    "    \"\"\"\n",
    "    Creates boolen indicator value for childrean in Titanic data.  Defines a child\n",
    "    to be <18.\n",
    "\n",
    "    Args:\n",
    "        row (pd.Series): A row of Titanic data containing a 'Age' column.\n",
    "\n",
    "    Returns:\n",
    "        Bool: True if Age<18, False otherwise.\n",
    "    \"\"\"\n",
    "    return row['Age'] < 18"
   ]
  },
  {
   "cell_type": "code",
   "execution_count": 5,
   "id": "073cbc35",
   "metadata": {
    "execution": {
     "iopub.execute_input": "2024-12-01T17:27:19.190225Z",
     "iopub.status.busy": "2024-12-01T17:27:19.189809Z",
     "iopub.status.idle": "2024-12-01T17:27:19.195154Z",
     "shell.execute_reply": "2024-12-01T17:27:19.194013Z"
    },
    "papermill": {
     "duration": 0.015325,
     "end_time": "2024-12-01T17:27:19.197261",
     "exception": false,
     "start_time": "2024-12-01T17:27:19.181936",
     "status": "completed"
    },
    "tags": []
   },
   "outputs": [],
   "source": [
    "def get_is_male_is_child(row: pd.Series) -> str:\n",
    "    \"\"\"\n",
    "    Creates compositie indicator variable for validation set creation.  For this\n",
    "    problem, we have the features for the test set.  The proportions of women and\n",
    "    children in the training set is different than that in the test set.  This\n",
    "    creates lower model preformance on the test features than the validation\n",
    "    features.  We use this indicator to create a custom validation set based on the\n",
    "    proportions of women and children in the test set.\n",
    "    \n",
    "    Args:\n",
    "        row (pd.Series): A row of Titanic data containing 'is_male', and 'is_child'\n",
    "        columns.\n",
    "        \n",
    "    Returns:\n",
    "        str: Concatenated is_male and is_child columns from row.\n",
    "    \"\"\"\n",
    "    return f\"{row['is_male']}_{row['is_child']}\""
   ]
  },
  {
   "cell_type": "markdown",
   "id": "2777ffc1",
   "metadata": {
    "papermill": {
     "duration": 0.006235,
     "end_time": "2024-12-01T17:27:19.210200",
     "exception": false,
     "start_time": "2024-12-01T17:27:19.203965",
     "status": "completed"
    },
    "tags": []
   },
   "source": [
    "## Creating Training and Validation Sets"
   ]
  },
  {
   "cell_type": "code",
   "execution_count": 6,
   "id": "f4895c2e",
   "metadata": {
    "execution": {
     "iopub.execute_input": "2024-12-01T17:27:19.224760Z",
     "iopub.status.busy": "2024-12-01T17:27:19.224396Z",
     "iopub.status.idle": "2024-12-01T17:27:19.268727Z",
     "shell.execute_reply": "2024-12-01T17:27:19.267664Z"
    },
    "papermill": {
     "duration": 0.054164,
     "end_time": "2024-12-01T17:27:19.270851",
     "exception": false,
     "start_time": "2024-12-01T17:27:19.216687",
     "status": "completed"
    },
    "tags": []
   },
   "outputs": [],
   "source": [
    "train_df['is_male'] = train_df.apply(get_is_male, axis=1)\n",
    "X_test['is_male'] = X_test.apply(get_is_male, axis=1)\n",
    "\n",
    "train_df['is_child'] = train_df.apply(get_is_child, axis=1)\n",
    "X_test['is_child'] = X_test.apply(get_is_child, axis=1)\n",
    "\n",
    "train_df['is_male_is_child'] = train_df.apply(get_is_male_is_child, axis=1)\n",
    "X_test['is_male_is_child'] = X_test.apply(get_is_male_is_child, axis=1)"
   ]
  },
  {
   "cell_type": "code",
   "execution_count": 7,
   "id": "97829195",
   "metadata": {
    "execution": {
     "iopub.execute_input": "2024-12-01T17:27:19.285757Z",
     "iopub.status.busy": "2024-12-01T17:27:19.285379Z",
     "iopub.status.idle": "2024-12-01T17:27:19.313838Z",
     "shell.execute_reply": "2024-12-01T17:27:19.312678Z"
    },
    "papermill": {
     "duration": 0.038722,
     "end_time": "2024-12-01T17:27:19.316300",
     "exception": false,
     "start_time": "2024-12-01T17:27:19.277578",
     "status": "completed"
    },
    "tags": []
   },
   "outputs": [],
   "source": [
    "# Creating X_val based on the proportion of women and children in X_test\n",
    "val_df = pd.DataFrame()\n",
    "\n",
    "test_proxy_proportions = X_test[\"is_male_is_child\"].value_counts(normalize=True)\n",
    "for proxy_group, proportion in test_proxy_proportions.items():\n",
    "    group_data = train_df[train_df['is_male_is_child'] == proxy_group]\n",
    "    n_samples = int(proportion * len(train_df) * 0.20)  # 20% for validation set\n",
    "    # Sample without replacement from the group\n",
    "    sampled_group_data = group_data.sample(n=n_samples, replace=False)\n",
    "    val_df = pd.concat([val_df, sampled_group_data])\n",
    "\n",
    "# Drop validation samples from training data to avoid data leakage.\n",
    "train_df = train_df.drop(val_df.index)"
   ]
  },
  {
   "cell_type": "code",
   "execution_count": 8,
   "id": "f420a71c",
   "metadata": {
    "execution": {
     "iopub.execute_input": "2024-12-01T17:27:19.331378Z",
     "iopub.status.busy": "2024-12-01T17:27:19.330898Z",
     "iopub.status.idle": "2024-12-01T17:27:19.338949Z",
     "shell.execute_reply": "2024-12-01T17:27:19.337711Z"
    },
    "papermill": {
     "duration": 0.01816,
     "end_time": "2024-12-01T17:27:19.341033",
     "exception": false,
     "start_time": "2024-12-01T17:27:19.322873",
     "status": "completed"
    },
    "tags": []
   },
   "outputs": [],
   "source": [
    "# Separating features and targets in training and validation sets.\n",
    "y_train = train_df.Survived\n",
    "X_train = train_df.drop(columns=['Survived'])\n",
    "\n",
    "y_val = val_df.Survived\n",
    "X_val = val_df.drop(columns=['Survived'])"
   ]
  },
  {
   "cell_type": "markdown",
   "id": "8a293371",
   "metadata": {
    "papermill": {
     "duration": 0.006951,
     "end_time": "2024-12-01T17:27:19.359842",
     "exception": false,
     "start_time": "2024-12-01T17:27:19.352891",
     "status": "completed"
    },
    "tags": []
   },
   "source": [
    "## Creating Features"
   ]
  },
  {
   "cell_type": "code",
   "execution_count": 9,
   "id": "cda00798",
   "metadata": {
    "execution": {
     "iopub.execute_input": "2024-12-01T17:27:19.375706Z",
     "iopub.status.busy": "2024-12-01T17:27:19.375313Z",
     "iopub.status.idle": "2024-12-01T17:27:19.381074Z",
     "shell.execute_reply": "2024-12-01T17:27:19.380037Z"
    },
    "papermill": {
     "duration": 0.01625,
     "end_time": "2024-12-01T17:27:19.383089",
     "exception": false,
     "start_time": "2024-12-01T17:27:19.366839",
     "status": "completed"
    },
    "tags": []
   },
   "outputs": [],
   "source": [
    "def get_deck(row: pd.Series) -> str:\n",
    "    \"\"\"\n",
    "    Gets the Deck of a Titanic Ticket.  The Deck of a Titanic Ticket is the first\n",
    "    Character of the Ticket if there's a space in it.  Else 'Numeric'.\n",
    "\n",
    "    Args:\n",
    "        row (pd.Series): Row of titanic training data.\n",
    "\n",
    "    Returns:\n",
    "        str: Deck of a Titanic Ticket.\n",
    "    \"\"\"\n",
    "    ticket = row['Ticket']\n",
    "    if len(ticket.split()) > 1:\n",
    "        return ticket[0]\n",
    "    else:\n",
    "        return 'Numeric'"
   ]
  },
  {
   "cell_type": "code",
   "execution_count": 10,
   "id": "33c9901a",
   "metadata": {
    "execution": {
     "iopub.execute_input": "2024-12-01T17:27:19.397979Z",
     "iopub.status.busy": "2024-12-01T17:27:19.397587Z",
     "iopub.status.idle": "2024-12-01T17:27:19.406079Z",
     "shell.execute_reply": "2024-12-01T17:27:19.405109Z"
    },
    "papermill": {
     "duration": 0.018329,
     "end_time": "2024-12-01T17:27:19.408089",
     "exception": false,
     "start_time": "2024-12-01T17:27:19.389760",
     "status": "completed"
    },
    "tags": []
   },
   "outputs": [],
   "source": [
    "def preprocess(X: pd.DataFrame) -> pd.DataFrame:\n",
    "    \"\"\"\n",
    "    Generates relevant features to predict whether a passenger survived the\n",
    "    Titanic disaster.\n",
    "    \n",
    "    Args:\n",
    "        X (pd.DataFrame): Features.\n",
    "\n",
    "    Returns:\n",
    "        pd.DataFrame: Subset of X with engineered columns defined by features\n",
    "            where multiclass variables are binarized.\n",
    "    \"\"\"\n",
    "    # Making a deep copy of X to not alter our original training data.\n",
    "    X_preprocessed = X.copy()\n",
    "\n",
    "    X_preprocessed['Deck'] = X_preprocessed.apply(get_deck, axis=1)\n",
    "\n",
    "    # Assuming all passengers with null ages are 40.\n",
    "    X_preprocessed['Age_not_null'] = X_preprocessed['Age'].fillna(40)\n",
    "    # Assuming all passengers will null Fares paid $0.\n",
    "    X_preprocessed['Fare_not_null'] = X_preprocessed['Fare'].fillna(0)\n",
    "\n",
    "    # Creating features based on Cabin.\n",
    "    X_preprocessed['no_cabin'] = X_preprocessed.apply(\n",
    "        lambda row: pd.isnull(row['Cabin']), axis=1)\n",
    "    X_preprocessed['cabin_first_char'] = X_preprocessed['Cabin'].apply(\n",
    "        lambda row: row[0] if pd.notnull(row) else row)\n",
    "\n",
    "    # The size of a passenger's family is the number of siblings plus the number of\n",
    "    # parents plus themselves.\n",
    "    X_preprocessed['num_family_members'] = X_preprocessed['SibSp']+X_preprocessed['Parch']+1\n",
    "    X_preprocessed['family_size'] = pd.cut(\n",
    "        x=X_preprocessed['num_family_members'],\n",
    "        bins=[0, 2, 5, float('inf')],\n",
    "        labels=['alone', 'small', 'big'],\n",
    "        right=False\n",
    "    )\n",
    "\n",
    "    # One hot encoding gender, embarkment location, Deck, cabin_first_char, and\n",
    "    # family_size.\n",
    "    X_preprocessed = pd.get_dummies(X_preprocessed, columns=[\n",
    "        'cabin_first_char', 'Deck', 'Embarked', 'family_size', 'Pclass'])\n",
    "    return X_preprocessed"
   ]
  },
  {
   "cell_type": "markdown",
   "id": "22c7e812",
   "metadata": {
    "papermill": {
     "duration": 0.006341,
     "end_time": "2024-12-01T17:27:19.421704",
     "exception": false,
     "start_time": "2024-12-01T17:27:19.415363",
     "status": "completed"
    },
    "tags": []
   },
   "source": [
    "# Models"
   ]
  },
  {
   "cell_type": "code",
   "execution_count": 11,
   "id": "d4d96a50",
   "metadata": {
    "execution": {
     "iopub.execute_input": "2024-12-01T17:27:19.437373Z",
     "iopub.status.busy": "2024-12-01T17:27:19.436562Z",
     "iopub.status.idle": "2024-12-01T17:27:19.444633Z",
     "shell.execute_reply": "2024-12-01T17:27:19.443528Z"
    },
    "papermill": {
     "duration": 0.018522,
     "end_time": "2024-12-01T17:27:19.446798",
     "exception": false,
     "start_time": "2024-12-01T17:27:19.428276",
     "status": "completed"
    },
    "tags": []
   },
   "outputs": [],
   "source": [
    "def evaluate_model(model: BaseEstimator,\n",
    "                   X_train: pd.DataFrame,\n",
    "                   y_train: pd.Series,\n",
    "                   X_val: pd.DataFrame,\n",
    "                   y_val: pd.Series) -> dict[str: Union[str, float]]:\n",
    "    \"\"\"\n",
    "    Returns accuracy on training and validation sets. \n",
    "    \n",
    "    Args:\n",
    "        X_train (pd.DataFrame): Training features.\n",
    "        X_val (pd.DataFrame): Validation features.\n",
    "    \n",
    "    Returns:\n",
    "        (dict[str: Union[str, float]]): dictionary of training and validation\n",
    "            accuracies for model.\n",
    "    \"\"\"\n",
    "    y_pred_train = model.predict(X_train).round()\n",
    "    y_pred_val = model.predict(X_val).round()\n",
    "\n",
    "    train_accuracy = accuracy_score(\n",
    "        y_true=y_train, y_pred=y_pred_train)\n",
    "    val_accuracy = accuracy_score(\n",
    "        y_true=y_val, y_pred=y_pred_val)\n",
    "\n",
    "    return {\n",
    "        'model': model.estimator,\n",
    "        'training_accuracy': train_accuracy,\n",
    "        'validation_accuracy': val_accuracy\n",
    "    }"
   ]
  },
  {
   "cell_type": "markdown",
   "id": "1f7620ae",
   "metadata": {
    "execution": {
     "iopub.execute_input": "2024-11-27T17:35:56.470211Z",
     "iopub.status.busy": "2024-11-27T17:35:56.469783Z",
     "iopub.status.idle": "2024-11-27T17:35:56.475218Z",
     "shell.execute_reply": "2024-11-27T17:35:56.474034Z",
     "shell.execute_reply.started": "2024-11-27T17:35:56.470175Z"
    },
    "papermill": {
     "duration": 0.006403,
     "end_time": "2024-12-01T17:27:19.459617",
     "exception": false,
     "start_time": "2024-12-01T17:27:19.453214",
     "status": "completed"
    },
    "tags": []
   },
   "source": [
    "## Gender Model"
   ]
  },
  {
   "cell_type": "code",
   "execution_count": 12,
   "id": "9fa969f2",
   "metadata": {
    "execution": {
     "iopub.execute_input": "2024-12-01T17:27:19.474399Z",
     "iopub.status.busy": "2024-12-01T17:27:19.473759Z",
     "iopub.status.idle": "2024-12-01T17:27:19.480828Z",
     "shell.execute_reply": "2024-12-01T17:27:19.479854Z"
    },
    "papermill": {
     "duration": 0.016608,
     "end_time": "2024-12-01T17:27:19.482847",
     "exception": false,
     "start_time": "2024-12-01T17:27:19.466239",
     "status": "completed"
    },
    "tags": []
   },
   "outputs": [],
   "source": [
    "class GenderModel(BaseEstimator):\n",
    "    estimator = \"GenderModel\"\n",
    "    def fit(self, X_train: pd.DataFrame, y_train: pd.Series) -> \"GenderModel\":\n",
    "        \"\"\"\n",
    "        Fits a GenderModel for the given training data.\n",
    "\n",
    "        Args:\n",
    "            X (pd.DataFrame): Pandas Dataframe containing 'Sex' column.\n",
    "            y (pd.Series): Boolean target variable.\n",
    "\n",
    "        Retruns:\n",
    "            GenderModel: A fit GenderModel to the training data.\n",
    "        \"\"\"\n",
    "        return self\n",
    "    def predict(self, X: pd.DataFrame) -> np.ndarray:\n",
    "        \"\"\"\n",
    "        Predicts whether a passenger survives the Titanic solely based on gender.\n",
    "        Women are predicted to survive, men are not.\n",
    "    \n",
    "        Args:\n",
    "            X (pd.DataFrame): Pandas Dataframe containing 'Sex' column.\n",
    "    \n",
    "        Returns:\n",
    "            pd.Series: True if female, False otherwise.\n",
    "        \"\"\"\n",
    "        return np.where(X['Sex'] == 'female', 1, 0)\n",
    "    def score(self, X: pd.DataFrame, y_true: pd.DataFrame) -> float:\n",
    "        \"\"\"\n",
    "        Returns the accuracy of predicting a GenderModel on X against y.\n",
    "\n",
    "        Args:\n",
    "            X (pd.DataFrame): Pandas Dataframe containing 'Sex' column.\n",
    "\n",
    "        Returns:\n",
    "            float: accuracy of predictinging a GenderModel on X against y.\n",
    "        \"\"\"\n",
    "        y_pred = self.predict(X)\n",
    "        return (y_pred == y_true).mean()"
   ]
  },
  {
   "cell_type": "code",
   "execution_count": 13,
   "id": "36cc143a",
   "metadata": {
    "execution": {
     "iopub.execute_input": "2024-12-01T17:27:19.497845Z",
     "iopub.status.busy": "2024-12-01T17:27:19.497492Z",
     "iopub.status.idle": "2024-12-01T17:27:19.521209Z",
     "shell.execute_reply": "2024-12-01T17:27:19.520195Z"
    },
    "papermill": {
     "duration": 0.033891,
     "end_time": "2024-12-01T17:27:19.523465",
     "exception": false,
     "start_time": "2024-12-01T17:27:19.489574",
     "status": "completed"
    },
    "tags": []
   },
   "outputs": [
    {
     "data": {
      "text/html": [
       "<style>#sk-container-id-1 {color: black;background-color: white;}#sk-container-id-1 pre{padding: 0;}#sk-container-id-1 div.sk-toggleable {background-color: white;}#sk-container-id-1 label.sk-toggleable__label {cursor: pointer;display: block;width: 100%;margin-bottom: 0;padding: 0.3em;box-sizing: border-box;text-align: center;}#sk-container-id-1 label.sk-toggleable__label-arrow:before {content: \"▸\";float: left;margin-right: 0.25em;color: #696969;}#sk-container-id-1 label.sk-toggleable__label-arrow:hover:before {color: black;}#sk-container-id-1 div.sk-estimator:hover label.sk-toggleable__label-arrow:before {color: black;}#sk-container-id-1 div.sk-toggleable__content {max-height: 0;max-width: 0;overflow: hidden;text-align: left;background-color: #f0f8ff;}#sk-container-id-1 div.sk-toggleable__content pre {margin: 0.2em;color: black;border-radius: 0.25em;background-color: #f0f8ff;}#sk-container-id-1 input.sk-toggleable__control:checked~div.sk-toggleable__content {max-height: 200px;max-width: 100%;overflow: auto;}#sk-container-id-1 input.sk-toggleable__control:checked~label.sk-toggleable__label-arrow:before {content: \"▾\";}#sk-container-id-1 div.sk-estimator input.sk-toggleable__control:checked~label.sk-toggleable__label {background-color: #d4ebff;}#sk-container-id-1 div.sk-label input.sk-toggleable__control:checked~label.sk-toggleable__label {background-color: #d4ebff;}#sk-container-id-1 input.sk-hidden--visually {border: 0;clip: rect(1px 1px 1px 1px);clip: rect(1px, 1px, 1px, 1px);height: 1px;margin: -1px;overflow: hidden;padding: 0;position: absolute;width: 1px;}#sk-container-id-1 div.sk-estimator {font-family: monospace;background-color: #f0f8ff;border: 1px dotted black;border-radius: 0.25em;box-sizing: border-box;margin-bottom: 0.5em;}#sk-container-id-1 div.sk-estimator:hover {background-color: #d4ebff;}#sk-container-id-1 div.sk-parallel-item::after {content: \"\";width: 100%;border-bottom: 1px solid gray;flex-grow: 1;}#sk-container-id-1 div.sk-label:hover label.sk-toggleable__label {background-color: #d4ebff;}#sk-container-id-1 div.sk-serial::before {content: \"\";position: absolute;border-left: 1px solid gray;box-sizing: border-box;top: 0;bottom: 0;left: 50%;z-index: 0;}#sk-container-id-1 div.sk-serial {display: flex;flex-direction: column;align-items: center;background-color: white;padding-right: 0.2em;padding-left: 0.2em;position: relative;}#sk-container-id-1 div.sk-item {position: relative;z-index: 1;}#sk-container-id-1 div.sk-parallel {display: flex;align-items: stretch;justify-content: center;background-color: white;position: relative;}#sk-container-id-1 div.sk-item::before, #sk-container-id-1 div.sk-parallel-item::before {content: \"\";position: absolute;border-left: 1px solid gray;box-sizing: border-box;top: 0;bottom: 0;left: 50%;z-index: -1;}#sk-container-id-1 div.sk-parallel-item {display: flex;flex-direction: column;z-index: 1;position: relative;background-color: white;}#sk-container-id-1 div.sk-parallel-item:first-child::after {align-self: flex-end;width: 50%;}#sk-container-id-1 div.sk-parallel-item:last-child::after {align-self: flex-start;width: 50%;}#sk-container-id-1 div.sk-parallel-item:only-child::after {width: 0;}#sk-container-id-1 div.sk-dashed-wrapped {border: 1px dashed gray;margin: 0 0.4em 0.5em 0.4em;box-sizing: border-box;padding-bottom: 0.4em;background-color: white;}#sk-container-id-1 div.sk-label label {font-family: monospace;font-weight: bold;display: inline-block;line-height: 1.2em;}#sk-container-id-1 div.sk-label-container {text-align: center;}#sk-container-id-1 div.sk-container {/* jupyter's `normalize.less` sets `[hidden] { display: none; }` but bootstrap.min.css set `[hidden] { display: none !important; }` so we also need the `!important` here to be able to override the default hidden behavior on the sphinx rendered scikit-learn.org. See: https://github.com/scikit-learn/scikit-learn/issues/21755 */display: inline-block !important;position: relative;}#sk-container-id-1 div.sk-text-repr-fallback {display: none;}</style><div id=\"sk-container-id-1\" class=\"sk-top-container\"><div class=\"sk-text-repr-fallback\"><pre>GridSearchCV(estimator=GenderModel(), param_grid={})</pre><b>In a Jupyter environment, please rerun this cell to show the HTML representation or trust the notebook. <br />On GitHub, the HTML representation is unable to render, please try loading this page with nbviewer.org.</b></div><div class=\"sk-container\" hidden><div class=\"sk-item sk-dashed-wrapped\"><div class=\"sk-label-container\"><div class=\"sk-label sk-toggleable\"><input class=\"sk-toggleable__control sk-hidden--visually\" id=\"sk-estimator-id-1\" type=\"checkbox\" ><label for=\"sk-estimator-id-1\" class=\"sk-toggleable__label sk-toggleable__label-arrow\">GridSearchCV</label><div class=\"sk-toggleable__content\"><pre>GridSearchCV(estimator=GenderModel(), param_grid={})</pre></div></div></div><div class=\"sk-parallel\"><div class=\"sk-parallel-item\"><div class=\"sk-item\"><div class=\"sk-label-container\"><div class=\"sk-label sk-toggleable\"><input class=\"sk-toggleable__control sk-hidden--visually\" id=\"sk-estimator-id-2\" type=\"checkbox\" ><label for=\"sk-estimator-id-2\" class=\"sk-toggleable__label sk-toggleable__label-arrow\">estimator: GenderModel</label><div class=\"sk-toggleable__content\"><pre>GenderModel()</pre></div></div></div><div class=\"sk-serial\"><div class=\"sk-item\"><div class=\"sk-estimator sk-toggleable\"><input class=\"sk-toggleable__control sk-hidden--visually\" id=\"sk-estimator-id-3\" type=\"checkbox\" ><label for=\"sk-estimator-id-3\" class=\"sk-toggleable__label sk-toggleable__label-arrow\">GenderModel</label><div class=\"sk-toggleable__content\"><pre>GenderModel()</pre></div></div></div></div></div></div></div></div></div></div>"
      ],
      "text/plain": [
       "GridSearchCV(estimator=GenderModel(), param_grid={})"
      ]
     },
     "execution_count": 13,
     "metadata": {},
     "output_type": "execute_result"
    }
   ],
   "source": [
    "gender_model = GridSearchCV(GenderModel(), param_grid={})\n",
    "\n",
    "gender_model.fit(X_train, y_train)"
   ]
  },
  {
   "cell_type": "markdown",
   "id": "5fd29b0e",
   "metadata": {
    "papermill": {
     "duration": 0.006661,
     "end_time": "2024-12-01T17:27:19.537585",
     "exception": false,
     "start_time": "2024-12-01T17:27:19.530924",
     "status": "completed"
    },
    "tags": []
   },
   "source": [
    "## Random Forest\n",
    "### Feature Selection"
   ]
  },
  {
   "cell_type": "code",
   "execution_count": 14,
   "id": "8f578486",
   "metadata": {
    "execution": {
     "iopub.execute_input": "2024-12-01T17:27:19.552529Z",
     "iopub.status.busy": "2024-12-01T17:27:19.552121Z",
     "iopub.status.idle": "2024-12-01T17:27:19.596693Z",
     "shell.execute_reply": "2024-12-01T17:27:19.595793Z"
    },
    "papermill": {
     "duration": 0.054732,
     "end_time": "2024-12-01T17:27:19.599057",
     "exception": false,
     "start_time": "2024-12-01T17:27:19.544325",
     "status": "completed"
    },
    "tags": []
   },
   "outputs": [],
   "source": [
    "features_rf = [\"is_male\", \"Age_not_null\", \"Fare_not_null\", \"Pclass\"]\n",
    "\n",
    "X_train_preprocessed_rf = preprocess(X_train).reindex(\n",
    "    columns=features_rf, fill_value=0)\n",
    "\n",
    "# Ensuring columns in X_val_preprocessed_rf are the same as the columns in\n",
    "# X_train_preprocessed_rf since we have one hot encodings\n",
    "X_val_preprocessed_rf = preprocess(X_val).reindex(\n",
    "    columns=features_rf, fill_value=0)"
   ]
  },
  {
   "cell_type": "markdown",
   "id": "f7b4e0f2",
   "metadata": {
    "papermill": {
     "duration": 0.006561,
     "end_time": "2024-12-01T17:27:19.612580",
     "exception": false,
     "start_time": "2024-12-01T17:27:19.606019",
     "status": "completed"
    },
    "tags": []
   },
   "source": [
    "### Hyperparameter Tuning"
   ]
  },
  {
   "cell_type": "code",
   "execution_count": 15,
   "id": "8ff101f2",
   "metadata": {
    "execution": {
     "iopub.execute_input": "2024-12-01T17:27:19.627668Z",
     "iopub.status.busy": "2024-12-01T17:27:19.627311Z",
     "iopub.status.idle": "2024-12-01T17:28:01.557315Z",
     "shell.execute_reply": "2024-12-01T17:28:01.556294Z"
    },
    "papermill": {
     "duration": 41.946518,
     "end_time": "2024-12-01T17:28:01.565862",
     "exception": false,
     "start_time": "2024-12-01T17:27:19.619344",
     "status": "completed"
    },
    "tags": []
   },
   "outputs": [
    {
     "name": "stdout",
     "output_type": "stream",
     "text": [
      "Random Forest:\tGridSearchCV took 0:00:41.923258\n"
     ]
    }
   ],
   "source": [
    "# Trying ~30 combinations takes about 45 seconds.\n",
    "param_grid_rf = [{\n",
    "    'max_depth': np.arange(start=1, stop=4, step=1),\n",
    "    'max_features': np.arange(start=1, stop=4, step=1),\n",
    "    'n_estimators': [150, 200, 250]\n",
    "}]\n",
    "\n",
    "start_time = datetime.datetime.now()\n",
    "random_forest_model = GridSearchCV(\n",
    "    estimator=RandomForestClassifier(),\n",
    "    param_grid=param_grid_rf,\n",
    "    cv=StratifiedKFold(n_splits=5, shuffle=True),\n",
    "    # Using roc_auc as we have a class imbalance.\n",
    "    scoring='roc_auc'\n",
    ")\n",
    "random_forest_model.fit(X_train_preprocessed_rf, y_train)\n",
    "end_time = datetime.datetime.now()\n",
    "\n",
    "gridsearch_time = end_time-start_time\n",
    "print(f\"Random Forest:\\tGridSearchCV took {gridsearch_time}\")"
   ]
  },
  {
   "cell_type": "code",
   "execution_count": 16,
   "id": "1195d387",
   "metadata": {
    "execution": {
     "iopub.execute_input": "2024-12-01T17:28:01.581861Z",
     "iopub.status.busy": "2024-12-01T17:28:01.581476Z",
     "iopub.status.idle": "2024-12-01T17:28:01.617973Z",
     "shell.execute_reply": "2024-12-01T17:28:01.616589Z"
    },
    "papermill": {
     "duration": 0.047033,
     "end_time": "2024-12-01T17:28:01.620236",
     "exception": false,
     "start_time": "2024-12-01T17:28:01.573203",
     "status": "completed"
    },
    "tags": []
   },
   "outputs": [
    {
     "data": {
      "text/plain": [
       "{'model': RandomForestClassifier(),\n",
       " 'training_accuracy': 0.803921568627451,\n",
       " 'validation_accuracy': 0.7909604519774012}"
      ]
     },
     "execution_count": 16,
     "metadata": {},
     "output_type": "execute_result"
    }
   ],
   "source": [
    "evaluate_model(\n",
    "    model=random_forest_model, X_train=X_train_preprocessed_rf,\n",
    "    y_train=y_train, X_val=X_val_preprocessed_rf, y_val=y_val)"
   ]
  },
  {
   "cell_type": "markdown",
   "id": "3294902e",
   "metadata": {
    "papermill": {
     "duration": 0.006863,
     "end_time": "2024-12-01T17:28:01.634607",
     "exception": false,
     "start_time": "2024-12-01T17:28:01.627744",
     "status": "completed"
    },
    "tags": []
   },
   "source": [
    "## XGBoost\n",
    "### Feature Selection"
   ]
  },
  {
   "cell_type": "code",
   "execution_count": 17,
   "id": "98cd5fe5",
   "metadata": {
    "execution": {
     "iopub.execute_input": "2024-12-01T17:28:01.650120Z",
     "iopub.status.busy": "2024-12-01T17:28:01.649701Z",
     "iopub.status.idle": "2024-12-01T17:28:01.676972Z",
     "shell.execute_reply": "2024-12-01T17:28:01.675946Z"
    },
    "papermill": {
     "duration": 0.037571,
     "end_time": "2024-12-01T17:28:01.678951",
     "exception": false,
     "start_time": "2024-12-01T17:28:01.641380",
     "status": "completed"
    },
    "tags": []
   },
   "outputs": [
    {
     "data": {
      "text/plain": [
       "Index(['PassengerId', 'Name', 'Sex', 'Age', 'SibSp', 'Parch', 'Ticket', 'Fare',\n",
       "       'Cabin', 'is_male', 'is_child', 'is_male_is_child', 'Age_not_null',\n",
       "       'Fare_not_null', 'no_cabin', 'num_family_members', 'cabin_first_char_A',\n",
       "       'cabin_first_char_B', 'cabin_first_char_C', 'cabin_first_char_D',\n",
       "       'cabin_first_char_E', 'cabin_first_char_F', 'cabin_first_char_G',\n",
       "       'cabin_first_char_T', 'Deck_A', 'Deck_C', 'Deck_F', 'Deck_Numeric',\n",
       "       'Deck_P', 'Deck_S', 'Deck_W', 'Embarked_C', 'Embarked_Q', 'Embarked_S',\n",
       "       'family_size_alone', 'family_size_small', 'family_size_big', 'Pclass_1',\n",
       "       'Pclass_2', 'Pclass_3'],\n",
       "      dtype='object')"
      ]
     },
     "execution_count": 17,
     "metadata": {},
     "output_type": "execute_result"
    }
   ],
   "source": [
    "preprocess(X_train).columns"
   ]
  },
  {
   "cell_type": "code",
   "execution_count": 18,
   "id": "9306318e",
   "metadata": {
    "execution": {
     "iopub.execute_input": "2024-12-01T17:28:01.694899Z",
     "iopub.status.busy": "2024-12-01T17:28:01.694541Z",
     "iopub.status.idle": "2024-12-01T17:28:01.733001Z",
     "shell.execute_reply": "2024-12-01T17:28:01.731932Z"
    },
    "papermill": {
     "duration": 0.049304,
     "end_time": "2024-12-01T17:28:01.735369",
     "exception": false,
     "start_time": "2024-12-01T17:28:01.686065",
     "status": "completed"
    },
    "tags": []
   },
   "outputs": [],
   "source": [
    "features_xgb = ['Age', 'Fare', 'P_class_2', 'Pclass_1', 'Pclass_3',\n",
    "                'family_size_alone', 'family_size_big', 'family_size_small',\n",
    "                'is_child', 'is_male', 'no_cabin']\n",
    "\n",
    "X_train_preprocessed_xgb = preprocess(X_train).reindex(\n",
    "    columns=features_xgb, fill_value=0)\n",
    "\n",
    "# Ensuring columns in X_val_preprocessed_rf are the same as the columns in\n",
    "# X_train_preprocessed_rf since we have one hot encodings\n",
    "X_val_preprocessed_xgb = preprocess(X_val).reindex(\n",
    "    columns=features_xgb, fill_value=0)"
   ]
  },
  {
   "cell_type": "code",
   "execution_count": 19,
   "id": "e749b4ab",
   "metadata": {
    "execution": {
     "iopub.execute_input": "2024-12-01T17:28:01.751819Z",
     "iopub.status.busy": "2024-12-01T17:28:01.750741Z",
     "iopub.status.idle": "2024-12-01T17:28:02.759181Z",
     "shell.execute_reply": "2024-12-01T17:28:02.758067Z"
    },
    "papermill": {
     "duration": 1.019132,
     "end_time": "2024-12-01T17:28:02.761645",
     "exception": false,
     "start_time": "2024-12-01T17:28:01.742513",
     "status": "completed"
    },
    "tags": []
   },
   "outputs": [
    {
     "name": "stdout",
     "output_type": "stream",
     "text": [
      "XGBoost:\tGridSearchCV took 0:00:00.998437\n"
     ]
    }
   ],
   "source": [
    "# Trying ~100 combinations takes about 1 minute.\n",
    "param_grid_xgb = [{\n",
    "    'n_estimators': [150],\n",
    "    'max_depth': [3],\n",
    "    'subsample': [0.6],\n",
    "    'colsample_bytree': [0.5],\n",
    "    'gamma': [2, 3],\n",
    "    'reg_alpha': [0, 0.1],\n",
    "    'reg_lambda': [10]\n",
    "}]\n",
    "\n",
    "start_time = datetime.datetime.now()\n",
    "xgboost_model = GridSearchCV(\n",
    "    estimator=XGBClassifier(),\n",
    "    param_grid=param_grid_xgb,\n",
    "    cv=StratifiedKFold(n_splits=5, shuffle=True),\n",
    "    # Using roc_auc as we have a class imbalance.\n",
    "    scoring='roc_auc'\n",
    ")\n",
    "xgboost_model.fit(X_train_preprocessed_xgb, y_train)\n",
    "end_time = datetime.datetime.now()\n",
    "\n",
    "gridsearch_time = end_time-start_time\n",
    "print(f\"XGBoost:\\tGridSearchCV took {gridsearch_time}\")"
   ]
  },
  {
   "cell_type": "code",
   "execution_count": 20,
   "id": "8be24b53",
   "metadata": {
    "execution": {
     "iopub.execute_input": "2024-12-01T17:28:02.777717Z",
     "iopub.status.busy": "2024-12-01T17:28:02.777341Z",
     "iopub.status.idle": "2024-12-01T17:28:02.794686Z",
     "shell.execute_reply": "2024-12-01T17:28:02.793679Z"
    },
    "papermill": {
     "duration": 0.027854,
     "end_time": "2024-12-01T17:28:02.796745",
     "exception": false,
     "start_time": "2024-12-01T17:28:02.768891",
     "status": "completed"
    },
    "tags": []
   },
   "outputs": [
    {
     "data": {
      "text/plain": [
       "{'model': XGBClassifier(base_score=None, booster=None, callbacks=None,\n",
       "               colsample_bylevel=None, colsample_bynode=None,\n",
       "               colsample_bytree=None, device=None, early_stopping_rounds=None,\n",
       "               enable_categorical=False, eval_metric=None, feature_types=None,\n",
       "               gamma=None, grow_policy=None, importance_type=None,\n",
       "               interaction_constraints=None, learning_rate=None, max_bin=None,\n",
       "               max_cat_threshold=None, max_cat_to_onehot=None,\n",
       "               max_delta_step=None, max_depth=None, max_leaves=None,\n",
       "               min_child_weight=None, missing=nan, monotone_constraints=None,\n",
       "               multi_strategy=None, n_estimators=None, n_jobs=None,\n",
       "               num_parallel_tree=None, random_state=None, ...),\n",
       " 'training_accuracy': 0.834733893557423,\n",
       " 'validation_accuracy': 0.807909604519774}"
      ]
     },
     "execution_count": 20,
     "metadata": {},
     "output_type": "execute_result"
    }
   ],
   "source": [
    "evaluate_model(model=xgboost_model, X_train=X_train_preprocessed_xgb,\n",
    "               y_train=y_train, X_val=X_val_preprocessed_xgb, y_val=y_val)"
   ]
  },
  {
   "cell_type": "markdown",
   "id": "07c5bf42",
   "metadata": {
    "papermill": {
     "duration": 0.007043,
     "end_time": "2024-12-01T17:28:02.810981",
     "exception": false,
     "start_time": "2024-12-01T17:28:02.803938",
     "status": "completed"
    },
    "tags": []
   },
   "source": [
    "## Neural Net"
   ]
  },
  {
   "cell_type": "code",
   "execution_count": 21,
   "id": "435e6844",
   "metadata": {
    "execution": {
     "iopub.execute_input": "2024-12-01T17:28:02.826917Z",
     "iopub.status.busy": "2024-12-01T17:28:02.826545Z",
     "iopub.status.idle": "2024-12-01T17:28:02.866221Z",
     "shell.execute_reply": "2024-12-01T17:28:02.865202Z"
    },
    "papermill": {
     "duration": 0.050214,
     "end_time": "2024-12-01T17:28:02.868492",
     "exception": false,
     "start_time": "2024-12-01T17:28:02.818278",
     "status": "completed"
    },
    "tags": []
   },
   "outputs": [],
   "source": [
    "features_nn = ['Age_not_null', 'Fare_not_null', 'P_class_2', 'Pclass_1',\n",
    "               'Pclass_3', 'family_size_alone', 'family_size_big',\n",
    "               'family_size_small', 'is_child', 'is_male', 'no_cabin'\n",
    "]\n",
    "\n",
    "X_train_preprocessed_nn = preprocess(X_train).reindex(\n",
    "    columns=features_nn, fill_value=0)\n",
    "\n",
    "# Ensuring columns in X_val_preprocessed_rf are the same as the columns in\n",
    "# X_train_preprocessed_rf since we have one hot encodings\n",
    "X_val_preprocessed_nn = preprocess(X_val).reindex(\n",
    "    columns=features_nn, fill_value=0)"
   ]
  },
  {
   "cell_type": "code",
   "execution_count": 22,
   "id": "2742024b",
   "metadata": {
    "execution": {
     "iopub.execute_input": "2024-12-01T17:28:02.884617Z",
     "iopub.status.busy": "2024-12-01T17:28:02.884249Z",
     "iopub.status.idle": "2024-12-01T17:28:02.896066Z",
     "shell.execute_reply": "2024-12-01T17:28:02.895004Z"
    },
    "papermill": {
     "duration": 0.022184,
     "end_time": "2024-12-01T17:28:02.898077",
     "exception": false,
     "start_time": "2024-12-01T17:28:02.875893",
     "status": "completed"
    },
    "tags": []
   },
   "outputs": [],
   "source": [
    "# Scale Features.\n",
    "numeric_features_nn = ['Age_not_null', 'Fare_not_null']\n",
    "\n",
    "# Initialize scaler.\n",
    "scaler_nn = StandardScaler()\n",
    "# Fit scalar on training data.\n",
    "scaler_nn.fit(X_train_preprocessed_nn[numeric_features_nn])\n",
    "\n",
    "# Scale only specified columns.\n",
    "X_train_preprocessed_nn[numeric_features_nn] = scaler_nn.transform(\n",
    "    X_train_preprocessed_nn[numeric_features_nn])\n",
    "X_val_preprocessed_nn[numeric_features_nn] = scaler_nn.transform(\n",
    "    X_val_preprocessed_nn[numeric_features_nn])"
   ]
  },
  {
   "cell_type": "code",
   "execution_count": 23,
   "id": "1eae7eb5",
   "metadata": {
    "execution": {
     "iopub.execute_input": "2024-12-01T17:28:02.915174Z",
     "iopub.status.busy": "2024-12-01T17:28:02.914523Z",
     "iopub.status.idle": "2024-12-01T17:28:25.648476Z",
     "shell.execute_reply": "2024-12-01T17:28:25.647461Z"
    },
    "papermill": {
     "duration": 22.745195,
     "end_time": "2024-12-01T17:28:25.650837",
     "exception": false,
     "start_time": "2024-12-01T17:28:02.905642",
     "status": "completed"
    },
    "tags": []
   },
   "outputs": [
    {
     "name": "stdout",
     "output_type": "stream",
     "text": [
      "Epoch 1/100\n",
      "\u001b[1m45/45\u001b[0m \u001b[32m━━━━━━━━━━━━━━━━━━━━\u001b[0m\u001b[37m\u001b[0m \u001b[1m2s\u001b[0m 11ms/step - accuracy: 0.4927 - loss: 0.6925 - val_accuracy: 0.7006 - val_loss: 0.6798\n",
      "Epoch 2/100\n",
      "\u001b[1m45/45\u001b[0m \u001b[32m━━━━━━━━━━━━━━━━━━━━\u001b[0m\u001b[37m\u001b[0m \u001b[1m0s\u001b[0m 6ms/step - accuracy: 0.5735 - loss: 0.6819 - val_accuracy: 0.6949 - val_loss: 0.6688\n",
      "Epoch 3/100\n",
      "\u001b[1m45/45\u001b[0m \u001b[32m━━━━━━━━━━━━━━━━━━━━\u001b[0m\u001b[37m\u001b[0m \u001b[1m0s\u001b[0m 6ms/step - accuracy: 0.5833 - loss: 0.6802 - val_accuracy: 0.6836 - val_loss: 0.6586\n",
      "Epoch 4/100\n",
      "\u001b[1m45/45\u001b[0m \u001b[32m━━━━━━━━━━━━━━━━━━━━\u001b[0m\u001b[37m\u001b[0m \u001b[1m0s\u001b[0m 6ms/step - accuracy: 0.6496 - loss: 0.6629 - val_accuracy: 0.6893 - val_loss: 0.6487\n",
      "Epoch 5/100\n",
      "\u001b[1m45/45\u001b[0m \u001b[32m━━━━━━━━━━━━━━━━━━━━\u001b[0m\u001b[37m\u001b[0m \u001b[1m0s\u001b[0m 6ms/step - accuracy: 0.6683 - loss: 0.6571 - val_accuracy: 0.6893 - val_loss: 0.6390\n",
      "Epoch 6/100\n",
      "\u001b[1m45/45\u001b[0m \u001b[32m━━━━━━━━━━━━━━━━━━━━\u001b[0m\u001b[37m\u001b[0m \u001b[1m0s\u001b[0m 6ms/step - accuracy: 0.6591 - loss: 0.6510 - val_accuracy: 0.6893 - val_loss: 0.6300\n",
      "Epoch 7/100\n",
      "\u001b[1m45/45\u001b[0m \u001b[32m━━━━━━━━━━━━━━━━━━━━\u001b[0m\u001b[37m\u001b[0m \u001b[1m0s\u001b[0m 6ms/step - accuracy: 0.6760 - loss: 0.6409 - val_accuracy: 0.6893 - val_loss: 0.6207\n",
      "Epoch 8/100\n",
      "\u001b[1m45/45\u001b[0m \u001b[32m━━━━━━━━━━━━━━━━━━━━\u001b[0m\u001b[37m\u001b[0m \u001b[1m0s\u001b[0m 6ms/step - accuracy: 0.6542 - loss: 0.6429 - val_accuracy: 0.6893 - val_loss: 0.6126\n",
      "Epoch 9/100\n",
      "\u001b[1m45/45\u001b[0m \u001b[32m━━━━━━━━━━━━━━━━━━━━\u001b[0m\u001b[37m\u001b[0m \u001b[1m0s\u001b[0m 6ms/step - accuracy: 0.6844 - loss: 0.6238 - val_accuracy: 0.6949 - val_loss: 0.6036\n",
      "Epoch 10/100\n",
      "\u001b[1m45/45\u001b[0m \u001b[32m━━━━━━━━━━━━━━━━━━━━\u001b[0m\u001b[37m\u001b[0m \u001b[1m0s\u001b[0m 6ms/step - accuracy: 0.6918 - loss: 0.6074 - val_accuracy: 0.6949 - val_loss: 0.5961\n",
      "Epoch 11/100\n",
      "\u001b[1m45/45\u001b[0m \u001b[32m━━━━━━━━━━━━━━━━━━━━\u001b[0m\u001b[37m\u001b[0m \u001b[1m0s\u001b[0m 6ms/step - accuracy: 0.6728 - loss: 0.6124 - val_accuracy: 0.6949 - val_loss: 0.5887\n",
      "Epoch 12/100\n",
      "\u001b[1m45/45\u001b[0m \u001b[32m━━━━━━━━━━━━━━━━━━━━\u001b[0m\u001b[37m\u001b[0m \u001b[1m0s\u001b[0m 6ms/step - accuracy: 0.6742 - loss: 0.6005 - val_accuracy: 0.6949 - val_loss: 0.5820\n",
      "Epoch 13/100\n",
      "\u001b[1m45/45\u001b[0m \u001b[32m━━━━━━━━━━━━━━━━━━━━\u001b[0m\u001b[37m\u001b[0m \u001b[1m0s\u001b[0m 6ms/step - accuracy: 0.6696 - loss: 0.6009 - val_accuracy: 0.6893 - val_loss: 0.5754\n",
      "Epoch 14/100\n",
      "\u001b[1m45/45\u001b[0m \u001b[32m━━━━━━━━━━━━━━━━━━━━\u001b[0m\u001b[37m\u001b[0m \u001b[1m0s\u001b[0m 6ms/step - accuracy: 0.6941 - loss: 0.5930 - val_accuracy: 0.6893 - val_loss: 0.5691\n",
      "Epoch 15/100\n",
      "\u001b[1m45/45\u001b[0m \u001b[32m━━━━━━━━━━━━━━━━━━━━\u001b[0m\u001b[37m\u001b[0m \u001b[1m0s\u001b[0m 6ms/step - accuracy: 0.7047 - loss: 0.5743 - val_accuracy: 0.7006 - val_loss: 0.5632\n",
      "Epoch 16/100\n",
      "\u001b[1m45/45\u001b[0m \u001b[32m━━━━━━━━━━━━━━━━━━━━\u001b[0m\u001b[37m\u001b[0m \u001b[1m0s\u001b[0m 6ms/step - accuracy: 0.6922 - loss: 0.5820 - val_accuracy: 0.7062 - val_loss: 0.5574\n",
      "Epoch 17/100\n",
      "\u001b[1m45/45\u001b[0m \u001b[32m━━━━━━━━━━━━━━━━━━━━\u001b[0m\u001b[37m\u001b[0m \u001b[1m0s\u001b[0m 6ms/step - accuracy: 0.7241 - loss: 0.5555 - val_accuracy: 0.7175 - val_loss: 0.5518\n",
      "Epoch 18/100\n",
      "\u001b[1m45/45\u001b[0m \u001b[32m━━━━━━━━━━━━━━━━━━━━\u001b[0m\u001b[37m\u001b[0m \u001b[1m0s\u001b[0m 6ms/step - accuracy: 0.7151 - loss: 0.5650 - val_accuracy: 0.7288 - val_loss: 0.5468\n",
      "Epoch 19/100\n",
      "\u001b[1m45/45\u001b[0m \u001b[32m━━━━━━━━━━━━━━━━━━━━\u001b[0m\u001b[37m\u001b[0m \u001b[1m0s\u001b[0m 6ms/step - accuracy: 0.7231 - loss: 0.5608 - val_accuracy: 0.7288 - val_loss: 0.5422\n",
      "Epoch 20/100\n",
      "\u001b[1m45/45\u001b[0m \u001b[32m━━━━━━━━━━━━━━━━━━━━\u001b[0m\u001b[37m\u001b[0m \u001b[1m0s\u001b[0m 7ms/step - accuracy: 0.7068 - loss: 0.5810 - val_accuracy: 0.7288 - val_loss: 0.5378\n",
      "Epoch 21/100\n",
      "\u001b[1m45/45\u001b[0m \u001b[32m━━━━━━━━━━━━━━━━━━━━\u001b[0m\u001b[37m\u001b[0m \u001b[1m0s\u001b[0m 6ms/step - accuracy: 0.7147 - loss: 0.5782 - val_accuracy: 0.7288 - val_loss: 0.5335\n",
      "Epoch 22/100\n",
      "\u001b[1m45/45\u001b[0m \u001b[32m━━━━━━━━━━━━━━━━━━━━\u001b[0m\u001b[37m\u001b[0m \u001b[1m0s\u001b[0m 6ms/step - accuracy: 0.6942 - loss: 0.5678 - val_accuracy: 0.7345 - val_loss: 0.5297\n",
      "Epoch 23/100\n",
      "\u001b[1m45/45\u001b[0m \u001b[32m━━━━━━━━━━━━━━━━━━━━\u001b[0m\u001b[37m\u001b[0m \u001b[1m0s\u001b[0m 6ms/step - accuracy: 0.7109 - loss: 0.5682 - val_accuracy: 0.7401 - val_loss: 0.5248\n",
      "Epoch 24/100\n",
      "\u001b[1m45/45\u001b[0m \u001b[32m━━━━━━━━━━━━━━━━━━━━\u001b[0m\u001b[37m\u001b[0m \u001b[1m0s\u001b[0m 6ms/step - accuracy: 0.7668 - loss: 0.5282 - val_accuracy: 0.7458 - val_loss: 0.5204\n",
      "Epoch 25/100\n",
      "\u001b[1m45/45\u001b[0m \u001b[32m━━━━━━━━━━━━━━━━━━━━\u001b[0m\u001b[37m\u001b[0m \u001b[1m0s\u001b[0m 6ms/step - accuracy: 0.7397 - loss: 0.5416 - val_accuracy: 0.7627 - val_loss: 0.5162\n",
      "Epoch 26/100\n",
      "\u001b[1m45/45\u001b[0m \u001b[32m━━━━━━━━━━━━━━━━━━━━\u001b[0m\u001b[37m\u001b[0m \u001b[1m0s\u001b[0m 6ms/step - accuracy: 0.7576 - loss: 0.5248 - val_accuracy: 0.7571 - val_loss: 0.5122\n",
      "Epoch 27/100\n",
      "\u001b[1m45/45\u001b[0m \u001b[32m━━━━━━━━━━━━━━━━━━━━\u001b[0m\u001b[37m\u001b[0m \u001b[1m0s\u001b[0m 6ms/step - accuracy: 0.7417 - loss: 0.5321 - val_accuracy: 0.7627 - val_loss: 0.5077\n",
      "Epoch 28/100\n",
      "\u001b[1m45/45\u001b[0m \u001b[32m━━━━━━━━━━━━━━━━━━━━\u001b[0m\u001b[37m\u001b[0m \u001b[1m0s\u001b[0m 6ms/step - accuracy: 0.7450 - loss: 0.5528 - val_accuracy: 0.7627 - val_loss: 0.5040\n",
      "Epoch 29/100\n",
      "\u001b[1m45/45\u001b[0m \u001b[32m━━━━━━━━━━━━━━━━━━━━\u001b[0m\u001b[37m\u001b[0m \u001b[1m0s\u001b[0m 6ms/step - accuracy: 0.7409 - loss: 0.5320 - val_accuracy: 0.7684 - val_loss: 0.4998\n",
      "Epoch 30/100\n",
      "\u001b[1m45/45\u001b[0m \u001b[32m━━━━━━━━━━━━━━━━━━━━\u001b[0m\u001b[37m\u001b[0m \u001b[1m0s\u001b[0m 6ms/step - accuracy: 0.7599 - loss: 0.5191 - val_accuracy: 0.7684 - val_loss: 0.4956\n",
      "Epoch 31/100\n",
      "\u001b[1m45/45\u001b[0m \u001b[32m━━━━━━━━━━━━━━━━━━━━\u001b[0m\u001b[37m\u001b[0m \u001b[1m0s\u001b[0m 6ms/step - accuracy: 0.7750 - loss: 0.5025 - val_accuracy: 0.7740 - val_loss: 0.4913\n",
      "Epoch 32/100\n",
      "\u001b[1m45/45\u001b[0m \u001b[32m━━━━━━━━━━━━━━━━━━━━\u001b[0m\u001b[37m\u001b[0m \u001b[1m0s\u001b[0m 6ms/step - accuracy: 0.7644 - loss: 0.5167 - val_accuracy: 0.7797 - val_loss: 0.4872\n",
      "Epoch 33/100\n",
      "\u001b[1m45/45\u001b[0m \u001b[32m━━━━━━━━━━━━━━━━━━━━\u001b[0m\u001b[37m\u001b[0m \u001b[1m0s\u001b[0m 6ms/step - accuracy: 0.7600 - loss: 0.5236 - val_accuracy: 0.7797 - val_loss: 0.4834\n",
      "Epoch 34/100\n",
      "\u001b[1m45/45\u001b[0m \u001b[32m━━━━━━━━━━━━━━━━━━━━\u001b[0m\u001b[37m\u001b[0m \u001b[1m0s\u001b[0m 6ms/step - accuracy: 0.7659 - loss: 0.5124 - val_accuracy: 0.7740 - val_loss: 0.4799\n",
      "Epoch 35/100\n",
      "\u001b[1m45/45\u001b[0m \u001b[32m━━━━━━━━━━━━━━━━━━━━\u001b[0m\u001b[37m\u001b[0m \u001b[1m0s\u001b[0m 6ms/step - accuracy: 0.7768 - loss: 0.4948 - val_accuracy: 0.7684 - val_loss: 0.4759\n",
      "Epoch 36/100\n",
      "\u001b[1m45/45\u001b[0m \u001b[32m━━━━━━━━━━━━━━━━━━━━\u001b[0m\u001b[37m\u001b[0m \u001b[1m0s\u001b[0m 6ms/step - accuracy: 0.7800 - loss: 0.5228 - val_accuracy: 0.7684 - val_loss: 0.4727\n",
      "Epoch 37/100\n",
      "\u001b[1m45/45\u001b[0m \u001b[32m━━━━━━━━━━━━━━━━━━━━\u001b[0m\u001b[37m\u001b[0m \u001b[1m0s\u001b[0m 6ms/step - accuracy: 0.7785 - loss: 0.5112 - val_accuracy: 0.7740 - val_loss: 0.4696\n",
      "Epoch 38/100\n",
      "\u001b[1m45/45\u001b[0m \u001b[32m━━━━━━━━━━━━━━━━━━━━\u001b[0m\u001b[37m\u001b[0m \u001b[1m0s\u001b[0m 6ms/step - accuracy: 0.7777 - loss: 0.5062 - val_accuracy: 0.7740 - val_loss: 0.4661\n",
      "Epoch 39/100\n",
      "\u001b[1m45/45\u001b[0m \u001b[32m━━━━━━━━━━━━━━━━━━━━\u001b[0m\u001b[37m\u001b[0m \u001b[1m0s\u001b[0m 6ms/step - accuracy: 0.7663 - loss: 0.5197 - val_accuracy: 0.7740 - val_loss: 0.4625\n",
      "Epoch 40/100\n",
      "\u001b[1m45/45\u001b[0m \u001b[32m━━━━━━━━━━━━━━━━━━━━\u001b[0m\u001b[37m\u001b[0m \u001b[1m0s\u001b[0m 6ms/step - accuracy: 0.7772 - loss: 0.5150 - val_accuracy: 0.7853 - val_loss: 0.4596\n",
      "Epoch 41/100\n",
      "\u001b[1m45/45\u001b[0m \u001b[32m━━━━━━━━━━━━━━━━━━━━\u001b[0m\u001b[37m\u001b[0m \u001b[1m0s\u001b[0m 6ms/step - accuracy: 0.8140 - loss: 0.4853 - val_accuracy: 0.7797 - val_loss: 0.4570\n",
      "Epoch 42/100\n",
      "\u001b[1m45/45\u001b[0m \u001b[32m━━━━━━━━━━━━━━━━━━━━\u001b[0m\u001b[37m\u001b[0m \u001b[1m0s\u001b[0m 6ms/step - accuracy: 0.8139 - loss: 0.4628 - val_accuracy: 0.7853 - val_loss: 0.4541\n",
      "Epoch 43/100\n",
      "\u001b[1m45/45\u001b[0m \u001b[32m━━━━━━━━━━━━━━━━━━━━\u001b[0m\u001b[37m\u001b[0m \u001b[1m0s\u001b[0m 6ms/step - accuracy: 0.8067 - loss: 0.4767 - val_accuracy: 0.7853 - val_loss: 0.4515\n",
      "Epoch 44/100\n",
      "\u001b[1m45/45\u001b[0m \u001b[32m━━━━━━━━━━━━━━━━━━━━\u001b[0m\u001b[37m\u001b[0m \u001b[1m0s\u001b[0m 6ms/step - accuracy: 0.8172 - loss: 0.4571 - val_accuracy: 0.7853 - val_loss: 0.4493\n",
      "Epoch 45/100\n",
      "\u001b[1m45/45\u001b[0m \u001b[32m━━━━━━━━━━━━━━━━━━━━\u001b[0m\u001b[37m\u001b[0m \u001b[1m0s\u001b[0m 6ms/step - accuracy: 0.8072 - loss: 0.4737 - val_accuracy: 0.7853 - val_loss: 0.4470\n",
      "Epoch 46/100\n",
      "\u001b[1m45/45\u001b[0m \u001b[32m━━━━━━━━━━━━━━━━━━━━\u001b[0m\u001b[37m\u001b[0m \u001b[1m0s\u001b[0m 6ms/step - accuracy: 0.8130 - loss: 0.4374 - val_accuracy: 0.7853 - val_loss: 0.4446\n",
      "Epoch 47/100\n",
      "\u001b[1m45/45\u001b[0m \u001b[32m━━━━━━━━━━━━━━━━━━━━\u001b[0m\u001b[37m\u001b[0m \u001b[1m0s\u001b[0m 6ms/step - accuracy: 0.7760 - loss: 0.4636 - val_accuracy: 0.7853 - val_loss: 0.4426\n",
      "Epoch 48/100\n",
      "\u001b[1m45/45\u001b[0m \u001b[32m━━━━━━━━━━━━━━━━━━━━\u001b[0m\u001b[37m\u001b[0m \u001b[1m0s\u001b[0m 6ms/step - accuracy: 0.7861 - loss: 0.4863 - val_accuracy: 0.7853 - val_loss: 0.4409\n",
      "Epoch 49/100\n",
      "\u001b[1m45/45\u001b[0m \u001b[32m━━━━━━━━━━━━━━━━━━━━\u001b[0m\u001b[37m\u001b[0m \u001b[1m0s\u001b[0m 6ms/step - accuracy: 0.8161 - loss: 0.4667 - val_accuracy: 0.7853 - val_loss: 0.4392\n",
      "Epoch 50/100\n",
      "\u001b[1m45/45\u001b[0m \u001b[32m━━━━━━━━━━━━━━━━━━━━\u001b[0m\u001b[37m\u001b[0m \u001b[1m0s\u001b[0m 6ms/step - accuracy: 0.8254 - loss: 0.4458 - val_accuracy: 0.7910 - val_loss: 0.4375\n",
      "Epoch 51/100\n",
      "\u001b[1m45/45\u001b[0m \u001b[32m━━━━━━━━━━━━━━━━━━━━\u001b[0m\u001b[37m\u001b[0m \u001b[1m0s\u001b[0m 6ms/step - accuracy: 0.8159 - loss: 0.4543 - val_accuracy: 0.7910 - val_loss: 0.4362\n",
      "Epoch 52/100\n",
      "\u001b[1m45/45\u001b[0m \u001b[32m━━━━━━━━━━━━━━━━━━━━\u001b[0m\u001b[37m\u001b[0m \u001b[1m0s\u001b[0m 6ms/step - accuracy: 0.7935 - loss: 0.4678 - val_accuracy: 0.7910 - val_loss: 0.4348\n",
      "Epoch 53/100\n",
      "\u001b[1m45/45\u001b[0m \u001b[32m━━━━━━━━━━━━━━━━━━━━\u001b[0m\u001b[37m\u001b[0m \u001b[1m0s\u001b[0m 6ms/step - accuracy: 0.7967 - loss: 0.4877 - val_accuracy: 0.8079 - val_loss: 0.4341\n",
      "Epoch 54/100\n",
      "\u001b[1m45/45\u001b[0m \u001b[32m━━━━━━━━━━━━━━━━━━━━\u001b[0m\u001b[37m\u001b[0m \u001b[1m0s\u001b[0m 6ms/step - accuracy: 0.8130 - loss: 0.4614 - val_accuracy: 0.8023 - val_loss: 0.4331\n",
      "Epoch 55/100\n",
      "\u001b[1m45/45\u001b[0m \u001b[32m━━━━━━━━━━━━━━━━━━━━\u001b[0m\u001b[37m\u001b[0m \u001b[1m0s\u001b[0m 6ms/step - accuracy: 0.8145 - loss: 0.4511 - val_accuracy: 0.8192 - val_loss: 0.4321\n",
      "Epoch 56/100\n",
      "\u001b[1m45/45\u001b[0m \u001b[32m━━━━━━━━━━━━━━━━━━━━\u001b[0m\u001b[37m\u001b[0m \u001b[1m0s\u001b[0m 6ms/step - accuracy: 0.7930 - loss: 0.4751 - val_accuracy: 0.8079 - val_loss: 0.4314\n",
      "Epoch 57/100\n",
      "\u001b[1m45/45\u001b[0m \u001b[32m━━━━━━━━━━━━━━━━━━━━\u001b[0m\u001b[37m\u001b[0m \u001b[1m0s\u001b[0m 6ms/step - accuracy: 0.8204 - loss: 0.4447 - val_accuracy: 0.8136 - val_loss: 0.4309\n",
      "Epoch 58/100\n",
      "\u001b[1m45/45\u001b[0m \u001b[32m━━━━━━━━━━━━━━━━━━━━\u001b[0m\u001b[37m\u001b[0m \u001b[1m0s\u001b[0m 6ms/step - accuracy: 0.8244 - loss: 0.4456 - val_accuracy: 0.8136 - val_loss: 0.4302\n",
      "Epoch 59/100\n",
      "\u001b[1m45/45\u001b[0m \u001b[32m━━━━━━━━━━━━━━━━━━━━\u001b[0m\u001b[37m\u001b[0m \u001b[1m0s\u001b[0m 6ms/step - accuracy: 0.8150 - loss: 0.4470 - val_accuracy: 0.8136 - val_loss: 0.4298\n",
      "Epoch 60/100\n",
      "\u001b[1m45/45\u001b[0m \u001b[32m━━━━━━━━━━━━━━━━━━━━\u001b[0m\u001b[37m\u001b[0m \u001b[1m0s\u001b[0m 6ms/step - accuracy: 0.8442 - loss: 0.4190 - val_accuracy: 0.8136 - val_loss: 0.4293\n",
      "Epoch 61/100\n",
      "\u001b[1m45/45\u001b[0m \u001b[32m━━━━━━━━━━━━━━━━━━━━\u001b[0m\u001b[37m\u001b[0m \u001b[1m0s\u001b[0m 6ms/step - accuracy: 0.8164 - loss: 0.4481 - val_accuracy: 0.8079 - val_loss: 0.4288\n",
      "Epoch 62/100\n",
      "\u001b[1m45/45\u001b[0m \u001b[32m━━━━━━━━━━━━━━━━━━━━\u001b[0m\u001b[37m\u001b[0m \u001b[1m0s\u001b[0m 6ms/step - accuracy: 0.8304 - loss: 0.4127 - val_accuracy: 0.8079 - val_loss: 0.4281\n",
      "Epoch 63/100\n",
      "\u001b[1m45/45\u001b[0m \u001b[32m━━━━━━━━━━━━━━━━━━━━\u001b[0m\u001b[37m\u001b[0m \u001b[1m0s\u001b[0m 6ms/step - accuracy: 0.8177 - loss: 0.4373 - val_accuracy: 0.8079 - val_loss: 0.4279\n",
      "Epoch 64/100\n",
      "\u001b[1m45/45\u001b[0m \u001b[32m━━━━━━━━━━━━━━━━━━━━\u001b[0m\u001b[37m\u001b[0m \u001b[1m0s\u001b[0m 6ms/step - accuracy: 0.8197 - loss: 0.4534 - val_accuracy: 0.8079 - val_loss: 0.4277\n",
      "Epoch 65/100\n",
      "\u001b[1m45/45\u001b[0m \u001b[32m━━━━━━━━━━━━━━━━━━━━\u001b[0m\u001b[37m\u001b[0m \u001b[1m0s\u001b[0m 6ms/step - accuracy: 0.7993 - loss: 0.4632 - val_accuracy: 0.8079 - val_loss: 0.4274\n",
      "Epoch 66/100\n",
      "\u001b[1m45/45\u001b[0m \u001b[32m━━━━━━━━━━━━━━━━━━━━\u001b[0m\u001b[37m\u001b[0m \u001b[1m0s\u001b[0m 6ms/step - accuracy: 0.8305 - loss: 0.4344 - val_accuracy: 0.8079 - val_loss: 0.4273\n",
      "Epoch 67/100\n",
      "\u001b[1m45/45\u001b[0m \u001b[32m━━━━━━━━━━━━━━━━━━━━\u001b[0m\u001b[37m\u001b[0m \u001b[1m0s\u001b[0m 6ms/step - accuracy: 0.8138 - loss: 0.4662 - val_accuracy: 0.8079 - val_loss: 0.4272\n",
      "Epoch 68/100\n",
      "\u001b[1m45/45\u001b[0m \u001b[32m━━━━━━━━━━━━━━━━━━━━\u001b[0m\u001b[37m\u001b[0m \u001b[1m0s\u001b[0m 6ms/step - accuracy: 0.8054 - loss: 0.4339 - val_accuracy: 0.8079 - val_loss: 0.4270\n",
      "Epoch 69/100\n",
      "\u001b[1m45/45\u001b[0m \u001b[32m━━━━━━━━━━━━━━━━━━━━\u001b[0m\u001b[37m\u001b[0m \u001b[1m0s\u001b[0m 6ms/step - accuracy: 0.8594 - loss: 0.3903 - val_accuracy: 0.8079 - val_loss: 0.4271\n",
      "Epoch 70/100\n",
      "\u001b[1m45/45\u001b[0m \u001b[32m━━━━━━━━━━━━━━━━━━━━\u001b[0m\u001b[37m\u001b[0m \u001b[1m0s\u001b[0m 6ms/step - accuracy: 0.8253 - loss: 0.4231 - val_accuracy: 0.8023 - val_loss: 0.4273\n"
     ]
    }
   ],
   "source": [
    "# Sequential model with 5 layers\n",
    "nn_model = Sequential(\n",
    "    [\n",
    "        layers.Input(shape=((len(features_nn),))),\n",
    "        layers.Dense(512, activation=\"relu\", name=\"layer1\"),\n",
    "        layers.Dropout(0.2),\n",
    "        layers.Dense(512, activation=\"relu\", name=\"layer2\"),\n",
    "        layers.Dropout(0.3),\n",
    "        layers.Dense(256, activation=\"relu\", name=\"layer3\"),\n",
    "        layers.Dropout(0.3),\n",
    "        layers.Dense(128, activation=\"relu\", name=\"layer4\"),\n",
    "        layers.Dropout(0.3),\n",
    "        layers.Dense(1, activation='sigmoid', name=\"layer5\"),\n",
    "    ]\n",
    ")\n",
    "\n",
    "nn_model.compile(\n",
    "    loss='binary_crossentropy',\n",
    "    optimizer=Adam(learning_rate=1e-5),\n",
    "    metrics=['accuracy']\n",
    ")\n",
    "\n",
    "# Setting estimator attribute for Leaderboard\n",
    "nn_model.estimator = \"NeuralNet\"\n",
    "\n",
    "early_stopping = EarlyStopping(\n",
    "    monitor='val_accuracy',\n",
    "    patience=15,\n",
    "    restore_best_weights=True\n",
    ")\n",
    "\n",
    "# Fit the model with early stopping\n",
    "history = nn_model.fit(\n",
    "    X_train_preprocessed_nn, y_train,\n",
    "    validation_data=(X_val_preprocessed_nn, y_val),\n",
    "    epochs=100,\n",
    "    batch_size=16,\n",
    "    callbacks=[early_stopping]\n",
    ")"
   ]
  },
  {
   "cell_type": "markdown",
   "id": "e9e1d237",
   "metadata": {
    "papermill": {
     "duration": 0.032074,
     "end_time": "2024-12-01T17:28:25.717454",
     "exception": false,
     "start_time": "2024-12-01T17:28:25.685380",
     "status": "completed"
    },
    "tags": []
   },
   "source": [
    "# Leaderboard"
   ]
  },
  {
   "cell_type": "code",
   "execution_count": 24,
   "id": "ca447ba8",
   "metadata": {
    "execution": {
     "iopub.execute_input": "2024-12-01T17:28:25.783950Z",
     "iopub.status.busy": "2024-12-01T17:28:25.783013Z",
     "iopub.status.idle": "2024-12-01T17:28:26.124296Z",
     "shell.execute_reply": "2024-12-01T17:28:26.123272Z"
    },
    "papermill": {
     "duration": 0.377301,
     "end_time": "2024-12-01T17:28:26.126622",
     "exception": false,
     "start_time": "2024-12-01T17:28:25.749321",
     "status": "completed"
    },
    "tags": []
   },
   "outputs": [
    {
     "name": "stdout",
     "output_type": "stream",
     "text": [
      "\u001b[1m23/23\u001b[0m \u001b[32m━━━━━━━━━━━━━━━━━━━━\u001b[0m\u001b[37m\u001b[0m \u001b[1m0s\u001b[0m 4ms/step\n",
      "\u001b[1m6/6\u001b[0m \u001b[32m━━━━━━━━━━━━━━━━━━━━\u001b[0m\u001b[37m\u001b[0m \u001b[1m0s\u001b[0m 2ms/step \n"
     ]
    }
   ],
   "source": [
    "# Adding models to the Leaderboard.\n",
    "gender_model_evaluation = evaluate_model(\n",
    "    model=gender_model, X_train=X_train, y_train=y_train,\n",
    "    X_val=X_val, y_val=y_val)\n",
    "\n",
    "random_forest_evaluation = evaluate_model(\n",
    "    model=random_forest_model, X_train=X_train_preprocessed_rf, y_train=y_train,\n",
    "    X_val=X_val_preprocessed_rf, y_val=y_val)\n",
    "\n",
    "xgb_evaluation = evaluate_model(\n",
    "    model=xgboost_model, X_train=X_train_preprocessed_xgb,\n",
    "    y_train=y_train, X_val=X_val_preprocessed_xgb, y_val=y_val)\n",
    "\n",
    "nn_evaluation = evaluate_model(\n",
    "    model=nn_model, X_train=X_train_preprocessed_nn,\n",
    "    y_train=y_train, X_val=X_val_preprocessed_nn, y_val=y_val)"
   ]
  },
  {
   "cell_type": "code",
   "execution_count": 25,
   "id": "0bd3dec6",
   "metadata": {
    "execution": {
     "iopub.execute_input": "2024-12-01T17:28:26.194821Z",
     "iopub.status.busy": "2024-12-01T17:28:26.194438Z",
     "iopub.status.idle": "2024-12-01T17:28:26.214445Z",
     "shell.execute_reply": "2024-12-01T17:28:26.213431Z"
    },
    "papermill": {
     "duration": 0.05608,
     "end_time": "2024-12-01T17:28:26.216553",
     "exception": false,
     "start_time": "2024-12-01T17:28:26.160473",
     "status": "completed"
    },
    "tags": []
   },
   "outputs": [
    {
     "data": {
      "text/html": [
       "<div>\n",
       "<style scoped>\n",
       "    .dataframe tbody tr th:only-of-type {\n",
       "        vertical-align: middle;\n",
       "    }\n",
       "\n",
       "    .dataframe tbody tr th {\n",
       "        vertical-align: top;\n",
       "    }\n",
       "\n",
       "    .dataframe thead th {\n",
       "        text-align: right;\n",
       "    }\n",
       "</style>\n",
       "<table border=\"1\" class=\"dataframe\">\n",
       "  <thead>\n",
       "    <tr style=\"text-align: right;\">\n",
       "      <th></th>\n",
       "      <th>model</th>\n",
       "      <th>training_accuracy</th>\n",
       "      <th>validation_accuracy</th>\n",
       "    </tr>\n",
       "  </thead>\n",
       "  <tbody>\n",
       "    <tr>\n",
       "      <th>3</th>\n",
       "      <td>NeuralNet</td>\n",
       "      <td>0.824930</td>\n",
       "      <td>0.819209</td>\n",
       "    </tr>\n",
       "    <tr>\n",
       "      <th>2</th>\n",
       "      <td>XGBClassifier(base_score=None, booster=None, c...</td>\n",
       "      <td>0.834734</td>\n",
       "      <td>0.807910</td>\n",
       "    </tr>\n",
       "    <tr>\n",
       "      <th>0</th>\n",
       "      <td>GenderModel()</td>\n",
       "      <td>0.782913</td>\n",
       "      <td>0.802260</td>\n",
       "    </tr>\n",
       "    <tr>\n",
       "      <th>1</th>\n",
       "      <td>RandomForestClassifier()</td>\n",
       "      <td>0.803922</td>\n",
       "      <td>0.790960</td>\n",
       "    </tr>\n",
       "  </tbody>\n",
       "</table>\n",
       "</div>"
      ],
      "text/plain": [
       "                                               model  training_accuracy  \\\n",
       "3                                          NeuralNet           0.824930   \n",
       "2  XGBClassifier(base_score=None, booster=None, c...           0.834734   \n",
       "0                                      GenderModel()           0.782913   \n",
       "1                           RandomForestClassifier()           0.803922   \n",
       "\n",
       "   validation_accuracy  \n",
       "3             0.819209  \n",
       "2             0.807910  \n",
       "0             0.802260  \n",
       "1             0.790960  "
      ]
     },
     "execution_count": 25,
     "metadata": {},
     "output_type": "execute_result"
    }
   ],
   "source": [
    "leaderboard = pd.DataFrame([\n",
    "gender_model_evaluation, random_forest_evaluation, xgb_evaluation, nn_evaluation])\n",
    "\n",
    "leaderboard.sort_values(by='validation_accuracy', ascending=False, inplace=True)\n",
    "\n",
    "leaderboard.head(len(leaderboard))"
   ]
  },
  {
   "cell_type": "markdown",
   "id": "a14f2440",
   "metadata": {
    "papermill": {
     "duration": 0.032392,
     "end_time": "2024-12-01T17:28:26.281684",
     "exception": false,
     "start_time": "2024-12-01T17:28:26.249292",
     "status": "completed"
    },
    "tags": []
   },
   "source": [
    "# Submission"
   ]
  },
  {
   "cell_type": "code",
   "execution_count": 26,
   "id": "351713aa",
   "metadata": {
    "execution": {
     "iopub.execute_input": "2024-12-01T17:28:26.348838Z",
     "iopub.status.busy": "2024-12-01T17:28:26.348452Z",
     "iopub.status.idle": "2024-12-01T17:28:26.381283Z",
     "shell.execute_reply": "2024-12-01T17:28:26.380151Z"
    },
    "papermill": {
     "duration": 0.068762,
     "end_time": "2024-12-01T17:28:26.383285",
     "exception": false,
     "start_time": "2024-12-01T17:28:26.314523",
     "status": "completed"
    },
    "tags": []
   },
   "outputs": [
    {
     "data": {
      "text/html": [
       "<div>\n",
       "<style scoped>\n",
       "    .dataframe tbody tr th:only-of-type {\n",
       "        vertical-align: middle;\n",
       "    }\n",
       "\n",
       "    .dataframe tbody tr th {\n",
       "        vertical-align: top;\n",
       "    }\n",
       "\n",
       "    .dataframe thead th {\n",
       "        text-align: right;\n",
       "    }\n",
       "</style>\n",
       "<table border=\"1\" class=\"dataframe\">\n",
       "  <thead>\n",
       "    <tr style=\"text-align: right;\">\n",
       "      <th></th>\n",
       "      <th>PassengerId</th>\n",
       "      <th>Survived</th>\n",
       "    </tr>\n",
       "  </thead>\n",
       "  <tbody>\n",
       "    <tr>\n",
       "      <th>0</th>\n",
       "      <td>892</td>\n",
       "      <td>0</td>\n",
       "    </tr>\n",
       "    <tr>\n",
       "      <th>1</th>\n",
       "      <td>893</td>\n",
       "      <td>1</td>\n",
       "    </tr>\n",
       "    <tr>\n",
       "      <th>2</th>\n",
       "      <td>894</td>\n",
       "      <td>0</td>\n",
       "    </tr>\n",
       "    <tr>\n",
       "      <th>3</th>\n",
       "      <td>895</td>\n",
       "      <td>0</td>\n",
       "    </tr>\n",
       "    <tr>\n",
       "      <th>4</th>\n",
       "      <td>896</td>\n",
       "      <td>1</td>\n",
       "    </tr>\n",
       "    <tr>\n",
       "      <th>5</th>\n",
       "      <td>897</td>\n",
       "      <td>0</td>\n",
       "    </tr>\n",
       "    <tr>\n",
       "      <th>6</th>\n",
       "      <td>898</td>\n",
       "      <td>1</td>\n",
       "    </tr>\n",
       "    <tr>\n",
       "      <th>7</th>\n",
       "      <td>899</td>\n",
       "      <td>0</td>\n",
       "    </tr>\n",
       "    <tr>\n",
       "      <th>8</th>\n",
       "      <td>900</td>\n",
       "      <td>1</td>\n",
       "    </tr>\n",
       "    <tr>\n",
       "      <th>9</th>\n",
       "      <td>901</td>\n",
       "      <td>0</td>\n",
       "    </tr>\n",
       "    <tr>\n",
       "      <th>10</th>\n",
       "      <td>902</td>\n",
       "      <td>0</td>\n",
       "    </tr>\n",
       "    <tr>\n",
       "      <th>11</th>\n",
       "      <td>903</td>\n",
       "      <td>0</td>\n",
       "    </tr>\n",
       "    <tr>\n",
       "      <th>12</th>\n",
       "      <td>904</td>\n",
       "      <td>1</td>\n",
       "    </tr>\n",
       "    <tr>\n",
       "      <th>13</th>\n",
       "      <td>905</td>\n",
       "      <td>0</td>\n",
       "    </tr>\n",
       "    <tr>\n",
       "      <th>14</th>\n",
       "      <td>906</td>\n",
       "      <td>1</td>\n",
       "    </tr>\n",
       "    <tr>\n",
       "      <th>15</th>\n",
       "      <td>907</td>\n",
       "      <td>1</td>\n",
       "    </tr>\n",
       "    <tr>\n",
       "      <th>16</th>\n",
       "      <td>908</td>\n",
       "      <td>0</td>\n",
       "    </tr>\n",
       "    <tr>\n",
       "      <th>17</th>\n",
       "      <td>909</td>\n",
       "      <td>0</td>\n",
       "    </tr>\n",
       "    <tr>\n",
       "      <th>18</th>\n",
       "      <td>910</td>\n",
       "      <td>1</td>\n",
       "    </tr>\n",
       "    <tr>\n",
       "      <th>19</th>\n",
       "      <td>911</td>\n",
       "      <td>1</td>\n",
       "    </tr>\n",
       "    <tr>\n",
       "      <th>20</th>\n",
       "      <td>912</td>\n",
       "      <td>0</td>\n",
       "    </tr>\n",
       "    <tr>\n",
       "      <th>21</th>\n",
       "      <td>913</td>\n",
       "      <td>0</td>\n",
       "    </tr>\n",
       "    <tr>\n",
       "      <th>22</th>\n",
       "      <td>914</td>\n",
       "      <td>1</td>\n",
       "    </tr>\n",
       "    <tr>\n",
       "      <th>23</th>\n",
       "      <td>915</td>\n",
       "      <td>0</td>\n",
       "    </tr>\n",
       "    <tr>\n",
       "      <th>24</th>\n",
       "      <td>916</td>\n",
       "      <td>1</td>\n",
       "    </tr>\n",
       "    <tr>\n",
       "      <th>25</th>\n",
       "      <td>917</td>\n",
       "      <td>0</td>\n",
       "    </tr>\n",
       "    <tr>\n",
       "      <th>26</th>\n",
       "      <td>918</td>\n",
       "      <td>1</td>\n",
       "    </tr>\n",
       "    <tr>\n",
       "      <th>27</th>\n",
       "      <td>919</td>\n",
       "      <td>0</td>\n",
       "    </tr>\n",
       "    <tr>\n",
       "      <th>28</th>\n",
       "      <td>920</td>\n",
       "      <td>0</td>\n",
       "    </tr>\n",
       "    <tr>\n",
       "      <th>29</th>\n",
       "      <td>921</td>\n",
       "      <td>0</td>\n",
       "    </tr>\n",
       "    <tr>\n",
       "      <th>30</th>\n",
       "      <td>922</td>\n",
       "      <td>0</td>\n",
       "    </tr>\n",
       "    <tr>\n",
       "      <th>31</th>\n",
       "      <td>923</td>\n",
       "      <td>0</td>\n",
       "    </tr>\n",
       "    <tr>\n",
       "      <th>32</th>\n",
       "      <td>924</td>\n",
       "      <td>1</td>\n",
       "    </tr>\n",
       "    <tr>\n",
       "      <th>33</th>\n",
       "      <td>925</td>\n",
       "      <td>0</td>\n",
       "    </tr>\n",
       "    <tr>\n",
       "      <th>34</th>\n",
       "      <td>926</td>\n",
       "      <td>1</td>\n",
       "    </tr>\n",
       "    <tr>\n",
       "      <th>35</th>\n",
       "      <td>927</td>\n",
       "      <td>0</td>\n",
       "    </tr>\n",
       "    <tr>\n",
       "      <th>36</th>\n",
       "      <td>928</td>\n",
       "      <td>1</td>\n",
       "    </tr>\n",
       "    <tr>\n",
       "      <th>37</th>\n",
       "      <td>929</td>\n",
       "      <td>1</td>\n",
       "    </tr>\n",
       "    <tr>\n",
       "      <th>38</th>\n",
       "      <td>930</td>\n",
       "      <td>0</td>\n",
       "    </tr>\n",
       "    <tr>\n",
       "      <th>39</th>\n",
       "      <td>931</td>\n",
       "      <td>0</td>\n",
       "    </tr>\n",
       "    <tr>\n",
       "      <th>40</th>\n",
       "      <td>932</td>\n",
       "      <td>0</td>\n",
       "    </tr>\n",
       "    <tr>\n",
       "      <th>41</th>\n",
       "      <td>933</td>\n",
       "      <td>0</td>\n",
       "    </tr>\n",
       "    <tr>\n",
       "      <th>42</th>\n",
       "      <td>934</td>\n",
       "      <td>0</td>\n",
       "    </tr>\n",
       "    <tr>\n",
       "      <th>43</th>\n",
       "      <td>935</td>\n",
       "      <td>1</td>\n",
       "    </tr>\n",
       "    <tr>\n",
       "      <th>44</th>\n",
       "      <td>936</td>\n",
       "      <td>1</td>\n",
       "    </tr>\n",
       "    <tr>\n",
       "      <th>45</th>\n",
       "      <td>937</td>\n",
       "      <td>0</td>\n",
       "    </tr>\n",
       "    <tr>\n",
       "      <th>46</th>\n",
       "      <td>938</td>\n",
       "      <td>0</td>\n",
       "    </tr>\n",
       "    <tr>\n",
       "      <th>47</th>\n",
       "      <td>939</td>\n",
       "      <td>0</td>\n",
       "    </tr>\n",
       "    <tr>\n",
       "      <th>48</th>\n",
       "      <td>940</td>\n",
       "      <td>1</td>\n",
       "    </tr>\n",
       "    <tr>\n",
       "      <th>49</th>\n",
       "      <td>941</td>\n",
       "      <td>1</td>\n",
       "    </tr>\n",
       "  </tbody>\n",
       "</table>\n",
       "</div>"
      ],
      "text/plain": [
       "    PassengerId  Survived\n",
       "0           892         0\n",
       "1           893         1\n",
       "2           894         0\n",
       "3           895         0\n",
       "4           896         1\n",
       "5           897         0\n",
       "6           898         1\n",
       "7           899         0\n",
       "8           900         1\n",
       "9           901         0\n",
       "10          902         0\n",
       "11          903         0\n",
       "12          904         1\n",
       "13          905         0\n",
       "14          906         1\n",
       "15          907         1\n",
       "16          908         0\n",
       "17          909         0\n",
       "18          910         1\n",
       "19          911         1\n",
       "20          912         0\n",
       "21          913         0\n",
       "22          914         1\n",
       "23          915         0\n",
       "24          916         1\n",
       "25          917         0\n",
       "26          918         1\n",
       "27          919         0\n",
       "28          920         0\n",
       "29          921         0\n",
       "30          922         0\n",
       "31          923         0\n",
       "32          924         1\n",
       "33          925         0\n",
       "34          926         1\n",
       "35          927         0\n",
       "36          928         1\n",
       "37          929         1\n",
       "38          930         0\n",
       "39          931         0\n",
       "40          932         0\n",
       "41          933         0\n",
       "42          934         0\n",
       "43          935         1\n",
       "44          936         1\n",
       "45          937         0\n",
       "46          938         0\n",
       "47          939         0\n",
       "48          940         1\n",
       "49          941         1"
      ]
     },
     "execution_count": 26,
     "metadata": {},
     "output_type": "execute_result"
    }
   ],
   "source": [
    "# Predicting on X_test.\n",
    "X_test_preprocessed_xgb = preprocess(X_test).reindex(\n",
    "    columns=features_xgb, fill_value=0)\n",
    "y_pred_test = xgboost_model.predict(X_test_preprocessed_xgb)\n",
    "\n",
    "submission_df = pd.DataFrame({\n",
    "    \"PassengerId\": X_test.PassengerId,\n",
    "    \"Survived\": y_pred_test\n",
    "})\n",
    "\n",
    "submission_df.head(50)"
   ]
  },
  {
   "cell_type": "code",
   "execution_count": 27,
   "id": "8c01eced",
   "metadata": {
    "execution": {
     "iopub.execute_input": "2024-12-01T17:28:26.450800Z",
     "iopub.status.busy": "2024-12-01T17:28:26.450409Z",
     "iopub.status.idle": "2024-12-01T17:28:26.458911Z",
     "shell.execute_reply": "2024-12-01T17:28:26.457792Z"
    },
    "papermill": {
     "duration": 0.04466,
     "end_time": "2024-12-01T17:28:26.460981",
     "exception": false,
     "start_time": "2024-12-01T17:28:26.416321",
     "status": "completed"
    },
    "tags": []
   },
   "outputs": [
    {
     "name": "stdout",
     "output_type": "stream",
     "text": [
      "Submission saved to submission.csv\n"
     ]
    }
   ],
   "source": [
    "submission_df.to_csv('submission.csv', index=False)\n",
    "print(\"Submission saved to submission.csv\")"
   ]
  }
 ],
 "metadata": {
  "kaggle": {
   "accelerator": "none",
   "dataSources": [
    {
     "databundleVersionId": 26502,
     "sourceId": 3136,
     "sourceType": "competition"
    }
   ],
   "dockerImageVersionId": 30786,
   "isGpuEnabled": false,
   "isInternetEnabled": true,
   "language": "python",
   "sourceType": "notebook"
  },
  "kernelspec": {
   "display_name": "Python 3",
   "language": "python",
   "name": "python3"
  },
  "language_info": {
   "codemirror_mode": {
    "name": "ipython",
    "version": 3
   },
   "file_extension": ".py",
   "mimetype": "text/x-python",
   "name": "python",
   "nbconvert_exporter": "python",
   "pygments_lexer": "ipython3",
   "version": "3.10.14"
  },
  "papermill": {
   "default_parameters": {},
   "duration": 86.874321,
   "end_time": "2024-12-01T17:28:28.019508",
   "environment_variables": {},
   "exception": null,
   "input_path": "__notebook__.ipynb",
   "output_path": "__notebook__.ipynb",
   "parameters": {},
   "start_time": "2024-12-01T17:27:01.145187",
   "version": "2.6.0"
  }
 },
 "nbformat": 4,
 "nbformat_minor": 5
}
