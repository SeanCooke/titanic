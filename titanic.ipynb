{
 "cells": [
  {
   "cell_type": "code",
   "execution_count": 1,
   "id": "d3610fd2",
   "metadata": {
    "_cell_guid": "b1076dfc-b9ad-4769-8c92-a6c4dae69d19",
    "_uuid": "8f2839f25d086af736a60e9eeb907d3b93b6e0e5",
    "execution": {
     "iopub.execute_input": "2024-11-21T02:08:36.565902Z",
     "iopub.status.busy": "2024-11-21T02:08:36.565376Z",
     "iopub.status.idle": "2024-11-21T02:08:39.829878Z",
     "shell.execute_reply": "2024-11-21T02:08:39.828686Z"
    },
    "papermill": {
     "duration": 3.275605,
     "end_time": "2024-11-21T02:08:39.832221",
     "exception": false,
     "start_time": "2024-11-21T02:08:36.556616",
     "status": "completed"
    },
    "tags": []
   },
   "outputs": [],
   "source": [
    "import datetime\n",
    "import matplotlib.pyplot as plt\n",
    "import numpy as np\n",
    "import pandas as pd\n",
    "import string\n",
    "\n",
    "from sklearn.base import BaseEstimator\n",
    "from sklearn.ensemble import RandomForestClassifier\n",
    "from sklearn.metrics import accuracy_score\n",
    "from sklearn.model_selection import GridSearchCV, StratifiedKFold, train_test_split\n",
    "from typing import Union\n",
    "from xgboost import XGBRFClassifier"
   ]
  },
  {
   "cell_type": "code",
   "execution_count": 2,
   "id": "7e781a3b",
   "metadata": {
    "execution": {
     "iopub.execute_input": "2024-11-21T02:08:39.846312Z",
     "iopub.status.busy": "2024-11-21T02:08:39.845798Z",
     "iopub.status.idle": "2024-11-21T02:08:39.878542Z",
     "shell.execute_reply": "2024-11-21T02:08:39.877546Z"
    },
    "papermill": {
     "duration": 0.043242,
     "end_time": "2024-11-21T02:08:39.882018",
     "exception": false,
     "start_time": "2024-11-21T02:08:39.838776",
     "status": "completed"
    },
    "tags": []
   },
   "outputs": [],
   "source": [
    "# Loading CSVs into Pandas DataFrame\n",
    "train_df = pd.read_csv('/kaggle/input/titanic/train.csv')\n",
    "X_test = pd.read_csv('/kaggle/input/titanic/test.csv')"
   ]
  },
  {
   "cell_type": "code",
   "execution_count": 3,
   "id": "28134d94",
   "metadata": {
    "execution": {
     "iopub.execute_input": "2024-11-21T02:08:39.895704Z",
     "iopub.status.busy": "2024-11-21T02:08:39.895291Z",
     "iopub.status.idle": "2024-11-21T02:08:39.920035Z",
     "shell.execute_reply": "2024-11-21T02:08:39.918893Z"
    },
    "papermill": {
     "duration": 0.034435,
     "end_time": "2024-11-21T02:08:39.922794",
     "exception": false,
     "start_time": "2024-11-21T02:08:39.888359",
     "status": "completed"
    },
    "tags": []
   },
   "outputs": [],
   "source": [
    "# Splitting train_df into Training and Validation sets.\n",
    "X_train_val = train_df.drop(columns=['Survived'])\n",
    "y_train_val = train_df['Survived']\n",
    "\n",
    "# Ensuring proportion of survivors is same in Training and Validation sets.\n",
    "X_train, X_val, y_train, y_val = train_test_split(\n",
    "    X_train_val, y_train_val, test_size=0.20, stratify=y_train_val)"
   ]
  },
  {
   "cell_type": "markdown",
   "id": "0ee75710",
   "metadata": {
    "papermill": {
     "duration": 0.005349,
     "end_time": "2024-11-21T02:08:39.934003",
     "exception": false,
     "start_time": "2024-11-21T02:08:39.928654",
     "status": "completed"
    },
    "tags": []
   },
   "source": [
    "# Shared Functions"
   ]
  },
  {
   "cell_type": "code",
   "execution_count": 4,
   "id": "d36e1dbd",
   "metadata": {
    "execution": {
     "iopub.execute_input": "2024-11-21T02:08:39.947923Z",
     "iopub.status.busy": "2024-11-21T02:08:39.947519Z",
     "iopub.status.idle": "2024-11-21T02:08:39.955333Z",
     "shell.execute_reply": "2024-11-21T02:08:39.953952Z"
    },
    "papermill": {
     "duration": 0.017907,
     "end_time": "2024-11-21T02:08:39.958611",
     "exception": false,
     "start_time": "2024-11-21T02:08:39.940704",
     "status": "completed"
    },
    "tags": []
   },
   "outputs": [],
   "source": [
    "def evaluate_model(model: BaseEstimator,\n",
    "                   X_train: pd.DataFrame,\n",
    "                   y_train: pd.Series,\n",
    "                   X_val: pd.DataFrame,\n",
    "                   y_val: pd.Series) -> dict[str: Union[str, float]]:\n",
    "    \"\"\"\n",
    "    Returns accuracy on training and validation sets. \n",
    "    \n",
    "    Args:\n",
    "        X_train (pd.DataFrame): Training features.\n",
    "        X_val (pd.DataFrame): Validation features.\n",
    "    \n",
    "    Returns:\n",
    "        (dict[str: Union[str, float]]): dictionary of training and validation\n",
    "            accuracies for model.\n",
    "    \"\"\"\n",
    "    y_pred_train = model.predict(X_train)\n",
    "    y_pred_val = model.predict(X_val)\n",
    "    \n",
    "    train_accuracy = accuracy_score(\n",
    "        y_true=y_train, y_pred=y_pred_train)\n",
    "    val_accuracy = accuracy_score(\n",
    "        y_true=y_val, y_pred=y_pred_val)\n",
    "\n",
    "    return {\n",
    "        'model': model.estimator,\n",
    "        'training_accuracy': train_accuracy,\n",
    "        'validation_accuracy': val_accuracy\n",
    "    }"
   ]
  },
  {
   "cell_type": "markdown",
   "id": "cd767e5b",
   "metadata": {
    "papermill": {
     "duration": 0.005412,
     "end_time": "2024-11-21T02:08:39.971351",
     "exception": false,
     "start_time": "2024-11-21T02:08:39.965939",
     "status": "completed"
    },
    "tags": []
   },
   "source": [
    "# Models\n",
    "## Gender Model"
   ]
  },
  {
   "cell_type": "code",
   "execution_count": 5,
   "id": "623dc7fa",
   "metadata": {
    "execution": {
     "iopub.execute_input": "2024-11-21T02:08:39.986041Z",
     "iopub.status.busy": "2024-11-21T02:08:39.985646Z",
     "iopub.status.idle": "2024-11-21T02:08:39.992992Z",
     "shell.execute_reply": "2024-11-21T02:08:39.991902Z"
    },
    "papermill": {
     "duration": 0.01843,
     "end_time": "2024-11-21T02:08:39.995956",
     "exception": false,
     "start_time": "2024-11-21T02:08:39.977526",
     "status": "completed"
    },
    "tags": []
   },
   "outputs": [],
   "source": [
    "class GenderModel(BaseEstimator):\n",
    "    estimator = \"GenderModel\"\n",
    "    def fit(self, X, y) -> \"GenderModel\":\n",
    "        # TODO: docstring\n",
    "        return self\n",
    "    def predict(self, X) -> np.ndarray:\n",
    "        \"\"\"\n",
    "        Predicts whether a passenger survives the Titanic solely based on gender.\n",
    "        Women are predicted to survive, men are not.\n",
    "    \n",
    "        Args:\n",
    "            X (pd.DataFrame): Pandas Dataframe containing 'Sex' column.\n",
    "    \n",
    "        Returns:\n",
    "            pd.Series: True if female, False otherwise.\n",
    "        \"\"\"\n",
    "        return np.where(X['Sex'] == 'female', 1, 0)\n",
    "    def score(self, X, y) -> float:\n",
    "        # TODO: docstring\n",
    "        predictions = self.predict(X)\n",
    "        return (predictions == y).mean()"
   ]
  },
  {
   "cell_type": "code",
   "execution_count": 6,
   "id": "007220e2",
   "metadata": {
    "execution": {
     "iopub.execute_input": "2024-11-21T02:08:40.010650Z",
     "iopub.status.busy": "2024-11-21T02:08:40.010246Z",
     "iopub.status.idle": "2024-11-21T02:08:40.034708Z",
     "shell.execute_reply": "2024-11-21T02:08:40.033655Z"
    },
    "papermill": {
     "duration": 0.034658,
     "end_time": "2024-11-21T02:08:40.037048",
     "exception": false,
     "start_time": "2024-11-21T02:08:40.002390",
     "status": "completed"
    },
    "tags": []
   },
   "outputs": [
    {
     "data": {
      "text/html": [
       "<style>#sk-container-id-1 {color: black;background-color: white;}#sk-container-id-1 pre{padding: 0;}#sk-container-id-1 div.sk-toggleable {background-color: white;}#sk-container-id-1 label.sk-toggleable__label {cursor: pointer;display: block;width: 100%;margin-bottom: 0;padding: 0.3em;box-sizing: border-box;text-align: center;}#sk-container-id-1 label.sk-toggleable__label-arrow:before {content: \"▸\";float: left;margin-right: 0.25em;color: #696969;}#sk-container-id-1 label.sk-toggleable__label-arrow:hover:before {color: black;}#sk-container-id-1 div.sk-estimator:hover label.sk-toggleable__label-arrow:before {color: black;}#sk-container-id-1 div.sk-toggleable__content {max-height: 0;max-width: 0;overflow: hidden;text-align: left;background-color: #f0f8ff;}#sk-container-id-1 div.sk-toggleable__content pre {margin: 0.2em;color: black;border-radius: 0.25em;background-color: #f0f8ff;}#sk-container-id-1 input.sk-toggleable__control:checked~div.sk-toggleable__content {max-height: 200px;max-width: 100%;overflow: auto;}#sk-container-id-1 input.sk-toggleable__control:checked~label.sk-toggleable__label-arrow:before {content: \"▾\";}#sk-container-id-1 div.sk-estimator input.sk-toggleable__control:checked~label.sk-toggleable__label {background-color: #d4ebff;}#sk-container-id-1 div.sk-label input.sk-toggleable__control:checked~label.sk-toggleable__label {background-color: #d4ebff;}#sk-container-id-1 input.sk-hidden--visually {border: 0;clip: rect(1px 1px 1px 1px);clip: rect(1px, 1px, 1px, 1px);height: 1px;margin: -1px;overflow: hidden;padding: 0;position: absolute;width: 1px;}#sk-container-id-1 div.sk-estimator {font-family: monospace;background-color: #f0f8ff;border: 1px dotted black;border-radius: 0.25em;box-sizing: border-box;margin-bottom: 0.5em;}#sk-container-id-1 div.sk-estimator:hover {background-color: #d4ebff;}#sk-container-id-1 div.sk-parallel-item::after {content: \"\";width: 100%;border-bottom: 1px solid gray;flex-grow: 1;}#sk-container-id-1 div.sk-label:hover label.sk-toggleable__label {background-color: #d4ebff;}#sk-container-id-1 div.sk-serial::before {content: \"\";position: absolute;border-left: 1px solid gray;box-sizing: border-box;top: 0;bottom: 0;left: 50%;z-index: 0;}#sk-container-id-1 div.sk-serial {display: flex;flex-direction: column;align-items: center;background-color: white;padding-right: 0.2em;padding-left: 0.2em;position: relative;}#sk-container-id-1 div.sk-item {position: relative;z-index: 1;}#sk-container-id-1 div.sk-parallel {display: flex;align-items: stretch;justify-content: center;background-color: white;position: relative;}#sk-container-id-1 div.sk-item::before, #sk-container-id-1 div.sk-parallel-item::before {content: \"\";position: absolute;border-left: 1px solid gray;box-sizing: border-box;top: 0;bottom: 0;left: 50%;z-index: -1;}#sk-container-id-1 div.sk-parallel-item {display: flex;flex-direction: column;z-index: 1;position: relative;background-color: white;}#sk-container-id-1 div.sk-parallel-item:first-child::after {align-self: flex-end;width: 50%;}#sk-container-id-1 div.sk-parallel-item:last-child::after {align-self: flex-start;width: 50%;}#sk-container-id-1 div.sk-parallel-item:only-child::after {width: 0;}#sk-container-id-1 div.sk-dashed-wrapped {border: 1px dashed gray;margin: 0 0.4em 0.5em 0.4em;box-sizing: border-box;padding-bottom: 0.4em;background-color: white;}#sk-container-id-1 div.sk-label label {font-family: monospace;font-weight: bold;display: inline-block;line-height: 1.2em;}#sk-container-id-1 div.sk-label-container {text-align: center;}#sk-container-id-1 div.sk-container {/* jupyter's `normalize.less` sets `[hidden] { display: none; }` but bootstrap.min.css set `[hidden] { display: none !important; }` so we also need the `!important` here to be able to override the default hidden behavior on the sphinx rendered scikit-learn.org. See: https://github.com/scikit-learn/scikit-learn/issues/21755 */display: inline-block !important;position: relative;}#sk-container-id-1 div.sk-text-repr-fallback {display: none;}</style><div id=\"sk-container-id-1\" class=\"sk-top-container\"><div class=\"sk-text-repr-fallback\"><pre>GridSearchCV(estimator=GenderModel(), param_grid={})</pre><b>In a Jupyter environment, please rerun this cell to show the HTML representation or trust the notebook. <br />On GitHub, the HTML representation is unable to render, please try loading this page with nbviewer.org.</b></div><div class=\"sk-container\" hidden><div class=\"sk-item sk-dashed-wrapped\"><div class=\"sk-label-container\"><div class=\"sk-label sk-toggleable\"><input class=\"sk-toggleable__control sk-hidden--visually\" id=\"sk-estimator-id-1\" type=\"checkbox\" ><label for=\"sk-estimator-id-1\" class=\"sk-toggleable__label sk-toggleable__label-arrow\">GridSearchCV</label><div class=\"sk-toggleable__content\"><pre>GridSearchCV(estimator=GenderModel(), param_grid={})</pre></div></div></div><div class=\"sk-parallel\"><div class=\"sk-parallel-item\"><div class=\"sk-item\"><div class=\"sk-label-container\"><div class=\"sk-label sk-toggleable\"><input class=\"sk-toggleable__control sk-hidden--visually\" id=\"sk-estimator-id-2\" type=\"checkbox\" ><label for=\"sk-estimator-id-2\" class=\"sk-toggleable__label sk-toggleable__label-arrow\">estimator: GenderModel</label><div class=\"sk-toggleable__content\"><pre>GenderModel()</pre></div></div></div><div class=\"sk-serial\"><div class=\"sk-item\"><div class=\"sk-estimator sk-toggleable\"><input class=\"sk-toggleable__control sk-hidden--visually\" id=\"sk-estimator-id-3\" type=\"checkbox\" ><label for=\"sk-estimator-id-3\" class=\"sk-toggleable__label sk-toggleable__label-arrow\">GenderModel</label><div class=\"sk-toggleable__content\"><pre>GenderModel()</pre></div></div></div></div></div></div></div></div></div></div>"
      ],
      "text/plain": [
       "GridSearchCV(estimator=GenderModel(), param_grid={})"
      ]
     },
     "execution_count": 6,
     "metadata": {},
     "output_type": "execute_result"
    }
   ],
   "source": [
    "gender_model = GridSearchCV(GenderModel(), param_grid={})\n",
    "\n",
    "gender_model.fit(X_train, y_train)"
   ]
  },
  {
   "cell_type": "markdown",
   "id": "f3c90913",
   "metadata": {
    "papermill": {
     "duration": 0.005999,
     "end_time": "2024-11-21T02:08:40.049665",
     "exception": false,
     "start_time": "2024-11-21T02:08:40.043666",
     "status": "completed"
    },
    "tags": []
   },
   "source": [
    "## Random Forest"
   ]
  },
  {
   "cell_type": "code",
   "execution_count": 7,
   "id": "298dfc70",
   "metadata": {
    "execution": {
     "iopub.execute_input": "2024-11-21T02:08:40.064491Z",
     "iopub.status.busy": "2024-11-21T02:08:40.064076Z",
     "iopub.status.idle": "2024-11-21T02:08:40.069532Z",
     "shell.execute_reply": "2024-11-21T02:08:40.068569Z"
    },
    "papermill": {
     "duration": 0.01529,
     "end_time": "2024-11-21T02:08:40.071441",
     "exception": false,
     "start_time": "2024-11-21T02:08:40.056151",
     "status": "completed"
    },
    "tags": []
   },
   "outputs": [],
   "source": [
    "def get_deck(row: pd.Series) -> str:\n",
    "    \"\"\"\n",
    "    Gets the Deck of a Titanic Ticket.  The Deck of a Titanic Ticket is the first\n",
    "    Character of the Ticket if there's a space in it.  Else 'Numeric'.\n",
    "\n",
    "    Args:\n",
    "        row (pd.Series): Row of titanic training data.\n",
    "\n",
    "    Returns:\n",
    "        str: Deck of a Titanic Ticket.\n",
    "    \"\"\"\n",
    "    ticket = row['Ticket']\n",
    "    if len(ticket.split()) > 1:\n",
    "        return ticket[0]\n",
    "    else:\n",
    "        return 'Numeric'"
   ]
  },
  {
   "cell_type": "code",
   "execution_count": 8,
   "id": "74730c31",
   "metadata": {
    "execution": {
     "iopub.execute_input": "2024-11-21T02:08:40.085550Z",
     "iopub.status.busy": "2024-11-21T02:08:40.085128Z",
     "iopub.status.idle": "2024-11-21T02:08:40.090804Z",
     "shell.execute_reply": "2024-11-21T02:08:40.089774Z"
    },
    "papermill": {
     "duration": 0.015263,
     "end_time": "2024-11-21T02:08:40.092846",
     "exception": false,
     "start_time": "2024-11-21T02:08:40.077583",
     "status": "completed"
    },
    "tags": []
   },
   "outputs": [],
   "source": [
    "def get_clean_name_words(row) -> list[str]:\n",
    "    \"\"\"\n",
    "    Listifies, lowercases, and removes punctuation from row['Name'].\n",
    "\n",
    "    Args:\n",
    "        row (pd.Series): Row of titanic training data.\n",
    "\n",
    "    Retruns:\n",
    "        list[str]: A list of strings.  Each list is each token of row['Name']\n",
    "        lowercased and stripped of punctuation.\n",
    "    \"\"\"\n",
    "    name = row['Name']\n",
    "    name_lower = name.lower()\n",
    "    name_lower_no_punct = name_lower.translate(\n",
    "        str.maketrans('', '', string.punctuation))\n",
    "    return name_lower_no_punct.split()"
   ]
  },
  {
   "cell_type": "code",
   "execution_count": 9,
   "id": "77619147",
   "metadata": {
    "execution": {
     "iopub.execute_input": "2024-11-21T02:08:40.106659Z",
     "iopub.status.busy": "2024-11-21T02:08:40.106267Z",
     "iopub.status.idle": "2024-11-21T02:08:40.116553Z",
     "shell.execute_reply": "2024-11-21T02:08:40.115515Z"
    },
    "papermill": {
     "duration": 0.01965,
     "end_time": "2024-11-21T02:08:40.118538",
     "exception": false,
     "start_time": "2024-11-21T02:08:40.098888",
     "status": "completed"
    },
    "tags": []
   },
   "outputs": [],
   "source": [
    "def preprocess_random_forest(df: pd.DataFrame) -> pd.DataFrame:\n",
    "    \"\"\"\n",
    "    Puts data in format expected by Random Forest classifier.\n",
    "    \n",
    "    Args:\n",
    "        df (pd.DataFrame): DataFrame for training or inference.\n",
    "\n",
    "    Returns:\n",
    "        pd.DataFrame: Subset of df with engineered columns defined by features\n",
    "            where multiclass variables are binarized.\n",
    "    \"\"\"  \n",
    "    df['Deck'] = df.apply(get_deck, axis=1)\n",
    "    df['Clean_Name_Words'] = df.apply(get_clean_name_words, axis=1)\n",
    "    \n",
    "    # Assuming all passengers with null ages are 40.\n",
    "    df['Age_not_null'] = df['Age'].fillna(40)\n",
    "    # Assuming all passengers will null Fares paid $0.\n",
    "    df['Fare_not_null'] = df['Fare'].fillna(0)\n",
    "\n",
    "    # Creating features based on Cabin.\n",
    "    df['no_cabin'] = df.apply(lambda row: pd.isnull(row['Cabin']), axis=1)\n",
    "    df['cabin_first_char'] = df['Cabin'].apply(\n",
    "        lambda row: row[0] if pd.notnull(row) else row)\n",
    "\n",
    "    # One hot encoding gender, embarkment location, Deck, and cabin_first_char.\n",
    "    df = pd.get_dummies(df, columns=['Sex', 'Embarked', 'Deck',\n",
    "                                     'cabin_first_char'])\n",
    "    df.columns = ['is_male' if x == 'Sex_male' else x for x in df.columns]\n",
    "\n",
    "    # Creating indicator features based on Name.\n",
    "    df['is_married_adult_woman'] = df.apply(\n",
    "        lambda row: not row['is_male']\n",
    "        and 'mrs' in row['Clean_Name_Words']\n",
    "        and row['Age_not_null'] >= 21, axis=1)\n",
    "    df['is_unmarried_adult_woman'] = df.apply(\n",
    "        lambda row: not row['is_male']\n",
    "        and 'miss' in row['Clean_Name_Words']\n",
    "        and row['Age_not_null'] >= 21, axis=1)\n",
    "    df['is_master'] = df.apply(lambda row: 'master' in row['Clean_Name_Words'], axis=1)\n",
    "    df['is_dr']     = df.apply(lambda row: 'dr' in row['Clean_Name_Words'], axis=1)\n",
    "    df['is_rev']    = df.apply(lambda row: 'rev' in row['Clean_Name_Words'], axis=1)\n",
    "    return df"
   ]
  },
  {
   "cell_type": "code",
   "execution_count": 10,
   "id": "998f83f4",
   "metadata": {
    "execution": {
     "iopub.execute_input": "2024-11-21T02:08:40.132497Z",
     "iopub.status.busy": "2024-11-21T02:08:40.132061Z",
     "iopub.status.idle": "2024-11-21T02:08:40.138396Z",
     "shell.execute_reply": "2024-11-21T02:08:40.137327Z"
    },
    "papermill": {
     "duration": 0.015737,
     "end_time": "2024-11-21T02:08:40.140698",
     "exception": false,
     "start_time": "2024-11-21T02:08:40.124961",
     "status": "completed"
    },
    "tags": []
   },
   "outputs": [],
   "source": [
    "def fit_random_forest(X_train: pd.DataFrame,\n",
    "                       y_train: pd.Series,\n",
    "                       n_estimators: int,\n",
    "                       max_depth: int,\n",
    "                       max_features: int) -> RandomForestClassifier:\n",
    "    \"\"\"\n",
    "    Fits a Random Forest binary classifier to the training data.\n",
    "    \n",
    "    Args:\n",
    "        X_train (pd.DataFrame): Feature variables used for Random Forest.\n",
    "        y_train (pd.Series): Target variable used for Random Forest.\n",
    "        n_estimators (int): The number of trees in the forest.\n",
    "        max_depth (int): The maximum depth of the tree.\n",
    "        max_features (int): The number of features to consider when looking\n",
    "            for the best split.\n",
    "\n",
    "    Returns:\n",
    "        RandomForestClassifier: A fit sklearn.ensemble.RandomForestClassifier\n",
    "            according to n_estimators.\n",
    "    \"\"\"\n",
    "    model = RandomForestClassifier(\n",
    "        n_estimators=n_estimators, max_depth=max_depth, max_features=max_features,\n",
    "        random_state=1)\n",
    "    model.fit(X_train, y_train)\n",
    "    \n",
    "    return model"
   ]
  },
  {
   "cell_type": "markdown",
   "id": "639966d5",
   "metadata": {
    "papermill": {
     "duration": 0.00655,
     "end_time": "2024-11-21T02:08:40.153514",
     "exception": false,
     "start_time": "2024-11-21T02:08:40.146964",
     "status": "completed"
    },
    "tags": []
   },
   "source": [
    "### Feature Selection"
   ]
  },
  {
   "cell_type": "code",
   "execution_count": 11,
   "id": "1c884e03",
   "metadata": {
    "execution": {
     "iopub.execute_input": "2024-11-21T02:08:40.168050Z",
     "iopub.status.busy": "2024-11-21T02:08:40.167660Z",
     "iopub.status.idle": "2024-11-21T02:08:40.269879Z",
     "shell.execute_reply": "2024-11-21T02:08:40.268765Z"
    },
    "papermill": {
     "duration": 0.112319,
     "end_time": "2024-11-21T02:08:40.272763",
     "exception": false,
     "start_time": "2024-11-21T02:08:40.160444",
     "status": "completed"
    },
    "tags": []
   },
   "outputs": [],
   "source": [
    "features_rf = [\"Pclass\", \"SibSp\", \"Parch\", \"is_male\", \"Embarked_C\", \"Embarked_Q\",\n",
    "               \"Deck_A\", \"Deck_F\", \"Deck_P\", \"Deck_W\", \"no_cabin\",\n",
    "               \"cabin_first_char_A\", \"cabin_first_char_B\", \"cabin_first_char_C\",\n",
    "               \"cabin_first_char_D\", \"cabin_first_char_E\", \"cabin_first_char_F\",\n",
    "               \"cabin_first_char_G\", \"cabin_first_char_T\", \"Age_not_null\",\n",
    "               \"Fare_not_null\", \"is_married_adult_woman\",\n",
    "               \"is_unmarried_adult_woman\", \"is_master\", \"is_dr\", \"is_rev\"]\n",
    "\n",
    "X_train_preprocessed_rf = preprocess_random_forest(X_train).reindex(\n",
    "    columns=features_rf, fill_value=0)\n",
    "\n",
    "# Ensuring columns in X_val_preprocessed_rf are the same as the columns in\n",
    "# X_train_preprocessed_rf since we have one hot encodings\n",
    "X_val_preprocessed_rf = preprocess_random_forest(X_val).reindex(\n",
    "    columns=features_rf, fill_value=0)"
   ]
  },
  {
   "cell_type": "markdown",
   "id": "d1791a1c",
   "metadata": {
    "papermill": {
     "duration": 0.005626,
     "end_time": "2024-11-21T02:08:40.284359",
     "exception": false,
     "start_time": "2024-11-21T02:08:40.278733",
     "status": "completed"
    },
    "tags": []
   },
   "source": [
    "### Hyperparameter Tuning"
   ]
  },
  {
   "cell_type": "code",
   "execution_count": 12,
   "id": "47c5ce23",
   "metadata": {
    "execution": {
     "iopub.execute_input": "2024-11-21T02:08:40.297722Z",
     "iopub.status.busy": "2024-11-21T02:08:40.297279Z",
     "iopub.status.idle": "2024-11-21T02:10:27.301979Z",
     "shell.execute_reply": "2024-11-21T02:10:27.300888Z"
    },
    "papermill": {
     "duration": 107.020274,
     "end_time": "2024-11-21T02:10:27.310527",
     "exception": false,
     "start_time": "2024-11-21T02:08:40.290253",
     "status": "completed"
    },
    "tags": []
   },
   "outputs": [
    {
     "name": "stdout",
     "output_type": "stream",
     "text": [
      "Random Forest:\tGridSearchCV took 0:01:46.997413\n"
     ]
    }
   ],
   "source": [
    "# Trying ~80 combinations takes about 2 minutes.\n",
    "param_grid_rf = [{\n",
    "    'max_depth': np.arange(start=1, stop=4, step=1),\n",
    "    'max_features': np.arange(start=1, stop=10, step=1),\n",
    "    'n_estimators': [100, 150, 200]\n",
    "}]\n",
    "\n",
    "start_time = datetime.datetime.now()\n",
    "random_forest_model = GridSearchCV(\n",
    "    estimator=RandomForestClassifier(),\n",
    "    param_grid=param_grid_rf,\n",
    "    cv=StratifiedKFold(n_splits=5, shuffle=True),\n",
    "    # Using roc_auc as we have a class imbalance.\n",
    "    scoring='roc_auc'\n",
    ")\n",
    "random_forest_model.fit(X_train_preprocessed_rf, y_train)\n",
    "end_time = datetime.datetime.now()\n",
    "\n",
    "gridsearch_time = end_time-start_time\n",
    "print(f\"Random Forest:\\tGridSearchCV took {gridsearch_time}\")"
   ]
  },
  {
   "cell_type": "code",
   "execution_count": 13,
   "id": "576c1fd2",
   "metadata": {
    "execution": {
     "iopub.execute_input": "2024-11-21T02:10:27.324567Z",
     "iopub.status.busy": "2024-11-21T02:10:27.324121Z",
     "iopub.status.idle": "2024-11-21T02:10:27.366803Z",
     "shell.execute_reply": "2024-11-21T02:10:27.365694Z"
    },
    "papermill": {
     "duration": 0.052598,
     "end_time": "2024-11-21T02:10:27.369261",
     "exception": false,
     "start_time": "2024-11-21T02:10:27.316663",
     "status": "completed"
    },
    "tags": []
   },
   "outputs": [
    {
     "data": {
      "text/plain": [
       "{'model': RandomForestClassifier(),\n",
       " 'training_accuracy': 0.8300561797752809,\n",
       " 'validation_accuracy': 0.8268156424581006}"
      ]
     },
     "execution_count": 13,
     "metadata": {},
     "output_type": "execute_result"
    }
   ],
   "source": [
    "evaluate_model(\n",
    "    model=random_forest_model, X_train=X_train_preprocessed_rf,\n",
    "    y_train=y_train, X_val=X_val_preprocessed_rf, y_val=y_val)"
   ]
  },
  {
   "cell_type": "markdown",
   "id": "85400543",
   "metadata": {
    "papermill": {
     "duration": 0.005755,
     "end_time": "2024-11-21T02:10:27.381616",
     "exception": false,
     "start_time": "2024-11-21T02:10:27.375861",
     "status": "completed"
    },
    "tags": []
   },
   "source": [
    "## XGBoost"
   ]
  },
  {
   "cell_type": "code",
   "execution_count": 14,
   "id": "74bb00d7",
   "metadata": {
    "execution": {
     "iopub.execute_input": "2024-11-21T02:10:27.396633Z",
     "iopub.status.busy": "2024-11-21T02:10:27.396210Z",
     "iopub.status.idle": "2024-11-21T02:10:27.721475Z",
     "shell.execute_reply": "2024-11-21T02:10:27.720571Z"
    },
    "papermill": {
     "duration": 0.336076,
     "end_time": "2024-11-21T02:10:27.724009",
     "exception": false,
     "start_time": "2024-11-21T02:10:27.387933",
     "status": "completed"
    },
    "tags": []
   },
   "outputs": [
    {
     "data": {
      "text/html": [
       "<style>#sk-container-id-2 {color: black;background-color: white;}#sk-container-id-2 pre{padding: 0;}#sk-container-id-2 div.sk-toggleable {background-color: white;}#sk-container-id-2 label.sk-toggleable__label {cursor: pointer;display: block;width: 100%;margin-bottom: 0;padding: 0.3em;box-sizing: border-box;text-align: center;}#sk-container-id-2 label.sk-toggleable__label-arrow:before {content: \"▸\";float: left;margin-right: 0.25em;color: #696969;}#sk-container-id-2 label.sk-toggleable__label-arrow:hover:before {color: black;}#sk-container-id-2 div.sk-estimator:hover label.sk-toggleable__label-arrow:before {color: black;}#sk-container-id-2 div.sk-toggleable__content {max-height: 0;max-width: 0;overflow: hidden;text-align: left;background-color: #f0f8ff;}#sk-container-id-2 div.sk-toggleable__content pre {margin: 0.2em;color: black;border-radius: 0.25em;background-color: #f0f8ff;}#sk-container-id-2 input.sk-toggleable__control:checked~div.sk-toggleable__content {max-height: 200px;max-width: 100%;overflow: auto;}#sk-container-id-2 input.sk-toggleable__control:checked~label.sk-toggleable__label-arrow:before {content: \"▾\";}#sk-container-id-2 div.sk-estimator input.sk-toggleable__control:checked~label.sk-toggleable__label {background-color: #d4ebff;}#sk-container-id-2 div.sk-label input.sk-toggleable__control:checked~label.sk-toggleable__label {background-color: #d4ebff;}#sk-container-id-2 input.sk-hidden--visually {border: 0;clip: rect(1px 1px 1px 1px);clip: rect(1px, 1px, 1px, 1px);height: 1px;margin: -1px;overflow: hidden;padding: 0;position: absolute;width: 1px;}#sk-container-id-2 div.sk-estimator {font-family: monospace;background-color: #f0f8ff;border: 1px dotted black;border-radius: 0.25em;box-sizing: border-box;margin-bottom: 0.5em;}#sk-container-id-2 div.sk-estimator:hover {background-color: #d4ebff;}#sk-container-id-2 div.sk-parallel-item::after {content: \"\";width: 100%;border-bottom: 1px solid gray;flex-grow: 1;}#sk-container-id-2 div.sk-label:hover label.sk-toggleable__label {background-color: #d4ebff;}#sk-container-id-2 div.sk-serial::before {content: \"\";position: absolute;border-left: 1px solid gray;box-sizing: border-box;top: 0;bottom: 0;left: 50%;z-index: 0;}#sk-container-id-2 div.sk-serial {display: flex;flex-direction: column;align-items: center;background-color: white;padding-right: 0.2em;padding-left: 0.2em;position: relative;}#sk-container-id-2 div.sk-item {position: relative;z-index: 1;}#sk-container-id-2 div.sk-parallel {display: flex;align-items: stretch;justify-content: center;background-color: white;position: relative;}#sk-container-id-2 div.sk-item::before, #sk-container-id-2 div.sk-parallel-item::before {content: \"\";position: absolute;border-left: 1px solid gray;box-sizing: border-box;top: 0;bottom: 0;left: 50%;z-index: -1;}#sk-container-id-2 div.sk-parallel-item {display: flex;flex-direction: column;z-index: 1;position: relative;background-color: white;}#sk-container-id-2 div.sk-parallel-item:first-child::after {align-self: flex-end;width: 50%;}#sk-container-id-2 div.sk-parallel-item:last-child::after {align-self: flex-start;width: 50%;}#sk-container-id-2 div.sk-parallel-item:only-child::after {width: 0;}#sk-container-id-2 div.sk-dashed-wrapped {border: 1px dashed gray;margin: 0 0.4em 0.5em 0.4em;box-sizing: border-box;padding-bottom: 0.4em;background-color: white;}#sk-container-id-2 div.sk-label label {font-family: monospace;font-weight: bold;display: inline-block;line-height: 1.2em;}#sk-container-id-2 div.sk-label-container {text-align: center;}#sk-container-id-2 div.sk-container {/* jupyter's `normalize.less` sets `[hidden] { display: none; }` but bootstrap.min.css set `[hidden] { display: none !important; }` so we also need the `!important` here to be able to override the default hidden behavior on the sphinx rendered scikit-learn.org. See: https://github.com/scikit-learn/scikit-learn/issues/21755 */display: inline-block !important;position: relative;}#sk-container-id-2 div.sk-text-repr-fallback {display: none;}</style><div id=\"sk-container-id-2\" class=\"sk-top-container\"><div class=\"sk-text-repr-fallback\"><pre>XGBRFClassifier(base_score=None, booster=None, callbacks=None,\n",
       "                colsample_bylevel=None, colsample_bynode=0.2,\n",
       "                colsample_bytree=None, device=None, early_stopping_rounds=None,\n",
       "                enable_categorical=False, eval_metric=None, feature_types=None,\n",
       "                gamma=None, grow_policy=None, importance_type=None,\n",
       "                interaction_constraints=None, max_bin=None,\n",
       "                max_cat_threshold=None, max_cat_to_onehot=None,\n",
       "                max_delta_step=None, max_depth=None, max_leaves=None,\n",
       "                min_child_weight=None, missing=nan, monotone_constraints=None,\n",
       "                multi_strategy=None, n_estimators=500, n_jobs=None,\n",
       "                num_parallel_tree=None, objective=&#x27;binary:logistic&#x27;,\n",
       "                random_state=None, ...)</pre><b>In a Jupyter environment, please rerun this cell to show the HTML representation or trust the notebook. <br />On GitHub, the HTML representation is unable to render, please try loading this page with nbviewer.org.</b></div><div class=\"sk-container\" hidden><div class=\"sk-item\"><div class=\"sk-estimator sk-toggleable\"><input class=\"sk-toggleable__control sk-hidden--visually\" id=\"sk-estimator-id-4\" type=\"checkbox\" checked><label for=\"sk-estimator-id-4\" class=\"sk-toggleable__label sk-toggleable__label-arrow\">XGBRFClassifier</label><div class=\"sk-toggleable__content\"><pre>XGBRFClassifier(base_score=None, booster=None, callbacks=None,\n",
       "                colsample_bylevel=None, colsample_bynode=0.2,\n",
       "                colsample_bytree=None, device=None, early_stopping_rounds=None,\n",
       "                enable_categorical=False, eval_metric=None, feature_types=None,\n",
       "                gamma=None, grow_policy=None, importance_type=None,\n",
       "                interaction_constraints=None, max_bin=None,\n",
       "                max_cat_threshold=None, max_cat_to_onehot=None,\n",
       "                max_delta_step=None, max_depth=None, max_leaves=None,\n",
       "                min_child_weight=None, missing=nan, monotone_constraints=None,\n",
       "                multi_strategy=None, n_estimators=500, n_jobs=None,\n",
       "                num_parallel_tree=None, objective=&#x27;binary:logistic&#x27;,\n",
       "                random_state=None, ...)</pre></div></div></div></div></div>"
      ],
      "text/plain": [
       "XGBRFClassifier(base_score=None, booster=None, callbacks=None,\n",
       "                colsample_bylevel=None, colsample_bynode=0.2,\n",
       "                colsample_bytree=None, device=None, early_stopping_rounds=None,\n",
       "                enable_categorical=False, eval_metric=None, feature_types=None,\n",
       "                gamma=None, grow_policy=None, importance_type=None,\n",
       "                interaction_constraints=None, max_bin=None,\n",
       "                max_cat_threshold=None, max_cat_to_onehot=None,\n",
       "                max_delta_step=None, max_depth=None, max_leaves=None,\n",
       "                min_child_weight=None, missing=nan, monotone_constraints=None,\n",
       "                multi_strategy=None, n_estimators=500, n_jobs=None,\n",
       "                num_parallel_tree=None, objective='binary:logistic',\n",
       "                random_state=None, ...)"
      ]
     },
     "execution_count": 14,
     "metadata": {},
     "output_type": "execute_result"
    }
   ],
   "source": [
    "# Generally, XGBoost is fast. Really fast when compared to other implementations\n",
    "# of gradient boosting.\n",
    "# Sparse Aware.\n",
    "# No normalization needed.\n",
    "# https://xgboost.readthedocs.io/en/stable/tutorials/categorical.html\n",
    "xgboost_model = XGBRFClassifier(\n",
    "    n_estimators=500, subsample=0.9, colsample_bynode=0.2)\n",
    "\n",
    "xgboost_model.fit(X_train_preprocessed_rf, y_train)"
   ]
  },
  {
   "cell_type": "markdown",
   "id": "4f71ffe8",
   "metadata": {
    "papermill": {
     "duration": 0.005958,
     "end_time": "2024-11-21T02:10:27.736390",
     "exception": false,
     "start_time": "2024-11-21T02:10:27.730432",
     "status": "completed"
    },
    "tags": []
   },
   "source": [
    "### Feature Selection"
   ]
  },
  {
   "cell_type": "code",
   "execution_count": 15,
   "id": "fe22c423",
   "metadata": {
    "execution": {
     "iopub.execute_input": "2024-11-21T02:10:27.751768Z",
     "iopub.status.busy": "2024-11-21T02:10:27.749984Z",
     "iopub.status.idle": "2024-11-21T02:10:27.840580Z",
     "shell.execute_reply": "2024-11-21T02:10:27.839560Z"
    },
    "papermill": {
     "duration": 0.100332,
     "end_time": "2024-11-21T02:10:27.842991",
     "exception": false,
     "start_time": "2024-11-21T02:10:27.742659",
     "status": "completed"
    },
    "tags": []
   },
   "outputs": [],
   "source": [
    "features_xgb = [\"Pclass\", \"Age\", \"SibSp\", \"Parch\", \"Fare\", \"is_male\",\n",
    "                \"Embarked_C\", \"Embarked_Q\", \"Deck_A\", \"Deck_F\", \"Deck_P\", \"Deck_W\",\n",
    "                \"no_cabin\", \"cabin_first_char_A\", \"cabin_first_char_B\",\n",
    "                \"cabin_first_char_C\", \"cabin_first_char_D\", \"cabin_first_char_E\",\n",
    "                \"cabin_first_char_F\", \"cabin_first_char_G\", \"cabin_first_char_T\",\n",
    "                \"is_married_adult_woman\", \"is_unmarried_adult_woman\", \"is_master\",\n",
    "                \"is_dr\", \"is_rev\"]\n",
    "\n",
    "X_train_preprocessed_xgb = preprocess_random_forest(X_train).reindex(\n",
    "    columns=features_xgb, fill_value=0)\n",
    "\n",
    "# Ensuring columns in X_val_preprocessed_rf are the same as the columns in\n",
    "# X_train_preprocessed_rf since we have one hot encodings\n",
    "X_val_preprocessed_xgb = preprocess_random_forest(X_val).reindex(\n",
    "    columns=features_xgb, fill_value=0)"
   ]
  },
  {
   "cell_type": "code",
   "execution_count": 16,
   "id": "d5343122",
   "metadata": {
    "execution": {
     "iopub.execute_input": "2024-11-21T02:10:27.859092Z",
     "iopub.status.busy": "2024-11-21T02:10:27.858720Z",
     "iopub.status.idle": "2024-11-21T02:10:45.468963Z",
     "shell.execute_reply": "2024-11-21T02:10:45.468004Z"
    },
    "papermill": {
     "duration": 17.620893,
     "end_time": "2024-11-21T02:10:45.471400",
     "exception": false,
     "start_time": "2024-11-21T02:10:27.850507",
     "status": "completed"
    },
    "tags": []
   },
   "outputs": [
    {
     "name": "stdout",
     "output_type": "stream",
     "text": [
      "XGBoost:\tGridSearchCV took 0:00:17.602244\n"
     ]
    }
   ],
   "source": [
    "# Trying ~30 combinations takes about 15 seconds.\n",
    "param_grid_xgb = [{\n",
    "    'colsample_bynode': np.arange(start=0, stop=1.1, step=.1),\n",
    "    'n_estimators': [100, 150, 200]\n",
    "}]\n",
    "\n",
    "start_time = datetime.datetime.now()\n",
    "xgboost_model = GridSearchCV(\n",
    "    estimator=XGBRFClassifier(),\n",
    "    param_grid=param_grid_xgb,\n",
    "    cv=StratifiedKFold(n_splits=5, shuffle=True),\n",
    "    # Using roc_auc as we have a class imbalance.\n",
    "    scoring='roc_auc'\n",
    ")\n",
    "xgboost_model.fit(X_train_preprocessed_xgb, y_train)\n",
    "end_time = datetime.datetime.now()\n",
    "\n",
    "gridsearch_time = end_time-start_time\n",
    "print(f\"XGBoost:\\tGridSearchCV took {gridsearch_time}\")"
   ]
  },
  {
   "cell_type": "code",
   "execution_count": 17,
   "id": "a0d9b1db",
   "metadata": {
    "execution": {
     "iopub.execute_input": "2024-11-21T02:10:45.488146Z",
     "iopub.status.busy": "2024-11-21T02:10:45.487346Z",
     "iopub.status.idle": "2024-11-21T02:10:45.511628Z",
     "shell.execute_reply": "2024-11-21T02:10:45.510744Z"
    },
    "papermill": {
     "duration": 0.034373,
     "end_time": "2024-11-21T02:10:45.513954",
     "exception": false,
     "start_time": "2024-11-21T02:10:45.479581",
     "status": "completed"
    },
    "tags": []
   },
   "outputs": [
    {
     "data": {
      "text/plain": [
       "{'model': XGBRFClassifier(base_score=None, booster=None, callbacks=None,\n",
       "                 colsample_bylevel=None, colsample_bytree=None, device=None,\n",
       "                 early_stopping_rounds=None, enable_categorical=False,\n",
       "                 eval_metric=None, feature_types=None, gamma=None,\n",
       "                 grow_policy=None, importance_type=None,\n",
       "                 interaction_constraints=None, max_bin=None,\n",
       "                 max_cat_threshold=None, max_cat_to_onehot=None,\n",
       "                 max_delta_step=None, max_depth=None, max_leaves=None,\n",
       "                 min_child_weight=None, missing=nan, monotone_constraints=None,\n",
       "                 multi_strategy=None, n_estimators=None, n_jobs=None,\n",
       "                 num_parallel_tree=None, objective='binary:logistic',\n",
       "                 random_state=None, reg_alpha=None, ...),\n",
       " 'training_accuracy': 0.8764044943820225,\n",
       " 'validation_accuracy': 0.8379888268156425}"
      ]
     },
     "execution_count": 17,
     "metadata": {},
     "output_type": "execute_result"
    }
   ],
   "source": [
    "evaluate_model(model=xgboost_model, X_train=X_train_preprocessed_xgb,\n",
    "               y_train=y_train, X_val=X_val_preprocessed_xgb, y_val=y_val)"
   ]
  },
  {
   "cell_type": "markdown",
   "id": "4a1b8a4b",
   "metadata": {
    "papermill": {
     "duration": 0.006184,
     "end_time": "2024-11-21T02:10:45.529279",
     "exception": false,
     "start_time": "2024-11-21T02:10:45.523095",
     "status": "completed"
    },
    "tags": []
   },
   "source": [
    "### Leaderboard"
   ]
  },
  {
   "cell_type": "code",
   "execution_count": 18,
   "id": "f6e6131d",
   "metadata": {
    "execution": {
     "iopub.execute_input": "2024-11-21T02:10:45.544762Z",
     "iopub.status.busy": "2024-11-21T02:10:45.543996Z",
     "iopub.status.idle": "2024-11-21T02:10:45.594665Z",
     "shell.execute_reply": "2024-11-21T02:10:45.593866Z"
    },
    "papermill": {
     "duration": 0.061547,
     "end_time": "2024-11-21T02:10:45.597485",
     "exception": false,
     "start_time": "2024-11-21T02:10:45.535938",
     "status": "completed"
    },
    "tags": []
   },
   "outputs": [],
   "source": [
    "# Adding models to the Leaderboard.\n",
    "gender_model_evaluation = evaluate_model(\n",
    "    model=gender_model, X_train=X_train, y_train=y_train,\n",
    "    X_val=X_val, y_val=y_val)\n",
    "\n",
    "random_forest_evaluation = evaluate_model(\n",
    "    model=random_forest_model, X_train=X_train_preprocessed_rf, y_train=y_train,\n",
    "    X_val=X_val_preprocessed_rf, y_val=y_val)\n",
    "\n",
    "xgb_evaluation = evaluate_model(\n",
    "    model=xgboost_model, X_train=X_train_preprocessed_xgb,\n",
    "    y_train=y_train, X_val=X_val_preprocessed_xgb, y_val=y_val)"
   ]
  },
  {
   "cell_type": "code",
   "execution_count": 19,
   "id": "22dfb946",
   "metadata": {
    "execution": {
     "iopub.execute_input": "2024-11-21T02:10:45.615989Z",
     "iopub.status.busy": "2024-11-21T02:10:45.615582Z",
     "iopub.status.idle": "2024-11-21T02:10:45.641830Z",
     "shell.execute_reply": "2024-11-21T02:10:45.640382Z"
    },
    "papermill": {
     "duration": 0.037273,
     "end_time": "2024-11-21T02:10:45.644008",
     "exception": false,
     "start_time": "2024-11-21T02:10:45.606735",
     "status": "completed"
    },
    "tags": []
   },
   "outputs": [
    {
     "data": {
      "text/html": [
       "<div>\n",
       "<style scoped>\n",
       "    .dataframe tbody tr th:only-of-type {\n",
       "        vertical-align: middle;\n",
       "    }\n",
       "\n",
       "    .dataframe tbody tr th {\n",
       "        vertical-align: top;\n",
       "    }\n",
       "\n",
       "    .dataframe thead th {\n",
       "        text-align: right;\n",
       "    }\n",
       "</style>\n",
       "<table border=\"1\" class=\"dataframe\">\n",
       "  <thead>\n",
       "    <tr style=\"text-align: right;\">\n",
       "      <th></th>\n",
       "      <th>model</th>\n",
       "      <th>training_accuracy</th>\n",
       "      <th>validation_accuracy</th>\n",
       "    </tr>\n",
       "  </thead>\n",
       "  <tbody>\n",
       "    <tr>\n",
       "      <th>2</th>\n",
       "      <td>XGBRFClassifier(base_score=None, booster=None,...</td>\n",
       "      <td>0.876404</td>\n",
       "      <td>0.837989</td>\n",
       "    </tr>\n",
       "    <tr>\n",
       "      <th>1</th>\n",
       "      <td>RandomForestClassifier()</td>\n",
       "      <td>0.830056</td>\n",
       "      <td>0.826816</td>\n",
       "    </tr>\n",
       "    <tr>\n",
       "      <th>0</th>\n",
       "      <td>GenderModel()</td>\n",
       "      <td>0.782303</td>\n",
       "      <td>0.804469</td>\n",
       "    </tr>\n",
       "  </tbody>\n",
       "</table>\n",
       "</div>"
      ],
      "text/plain": [
       "                                               model  training_accuracy  \\\n",
       "2  XGBRFClassifier(base_score=None, booster=None,...           0.876404   \n",
       "1                           RandomForestClassifier()           0.830056   \n",
       "0                                      GenderModel()           0.782303   \n",
       "\n",
       "   validation_accuracy  \n",
       "2             0.837989  \n",
       "1             0.826816  \n",
       "0             0.804469  "
      ]
     },
     "execution_count": 19,
     "metadata": {},
     "output_type": "execute_result"
    }
   ],
   "source": [
    "leaderboard = pd.DataFrame([\n",
    "gender_model_evaluation, random_forest_evaluation, xgb_evaluation])\n",
    "\n",
    "leaderboard.sort_values(by='validation_accuracy', ascending=False, inplace=True)\n",
    "\n",
    "leaderboard.head(len(leaderboard))"
   ]
  },
  {
   "cell_type": "markdown",
   "id": "1efc9f1f",
   "metadata": {
    "papermill": {
     "duration": 0.006707,
     "end_time": "2024-11-21T02:10:45.657347",
     "exception": false,
     "start_time": "2024-11-21T02:10:45.650640",
     "status": "completed"
    },
    "tags": []
   },
   "source": [
    "# Submission"
   ]
  },
  {
   "cell_type": "code",
   "execution_count": 20,
   "id": "0ffec421",
   "metadata": {
    "execution": {
     "iopub.execute_input": "2024-11-21T02:10:45.672373Z",
     "iopub.status.busy": "2024-11-21T02:10:45.671997Z",
     "iopub.status.idle": "2024-11-21T02:10:45.741289Z",
     "shell.execute_reply": "2024-11-21T02:10:45.739722Z"
    },
    "papermill": {
     "duration": 0.079532,
     "end_time": "2024-11-21T02:10:45.743577",
     "exception": false,
     "start_time": "2024-11-21T02:10:45.664045",
     "status": "completed"
    },
    "tags": []
   },
   "outputs": [
    {
     "data": {
      "text/html": [
       "<div>\n",
       "<style scoped>\n",
       "    .dataframe tbody tr th:only-of-type {\n",
       "        vertical-align: middle;\n",
       "    }\n",
       "\n",
       "    .dataframe tbody tr th {\n",
       "        vertical-align: top;\n",
       "    }\n",
       "\n",
       "    .dataframe thead th {\n",
       "        text-align: right;\n",
       "    }\n",
       "</style>\n",
       "<table border=\"1\" class=\"dataframe\">\n",
       "  <thead>\n",
       "    <tr style=\"text-align: right;\">\n",
       "      <th></th>\n",
       "      <th>PassengerId</th>\n",
       "      <th>Survived</th>\n",
       "    </tr>\n",
       "  </thead>\n",
       "  <tbody>\n",
       "    <tr>\n",
       "      <th>0</th>\n",
       "      <td>892</td>\n",
       "      <td>0</td>\n",
       "    </tr>\n",
       "    <tr>\n",
       "      <th>1</th>\n",
       "      <td>893</td>\n",
       "      <td>1</td>\n",
       "    </tr>\n",
       "    <tr>\n",
       "      <th>2</th>\n",
       "      <td>894</td>\n",
       "      <td>0</td>\n",
       "    </tr>\n",
       "    <tr>\n",
       "      <th>3</th>\n",
       "      <td>895</td>\n",
       "      <td>0</td>\n",
       "    </tr>\n",
       "    <tr>\n",
       "      <th>4</th>\n",
       "      <td>896</td>\n",
       "      <td>1</td>\n",
       "    </tr>\n",
       "  </tbody>\n",
       "</table>\n",
       "</div>"
      ],
      "text/plain": [
       "   PassengerId  Survived\n",
       "0          892         0\n",
       "1          893         1\n",
       "2          894         0\n",
       "3          895         0\n",
       "4          896         1"
      ]
     },
     "execution_count": 20,
     "metadata": {},
     "output_type": "execute_result"
    }
   ],
   "source": [
    "# Predicting on X_test.\n",
    "X_test_preprocessed_rf = preprocess_random_forest(X_test).reindex(\n",
    "    columns=features_rf, fill_value=0)\n",
    "y_pred_test = random_forest_model.predict(X_test_preprocessed_rf)\n",
    "\n",
    "submission_df = pd.DataFrame({\n",
    "    \"PassengerId\": X_test.PassengerId,\n",
    "    \"Survived\": y_pred_test\n",
    "})\n",
    "\n",
    "submission_df.head()"
   ]
  },
  {
   "cell_type": "code",
   "execution_count": 21,
   "id": "8ccea3e8",
   "metadata": {
    "execution": {
     "iopub.execute_input": "2024-11-21T02:10:45.759024Z",
     "iopub.status.busy": "2024-11-21T02:10:45.758683Z",
     "iopub.status.idle": "2024-11-21T02:10:45.767529Z",
     "shell.execute_reply": "2024-11-21T02:10:45.766220Z"
    },
    "papermill": {
     "duration": 0.019304,
     "end_time": "2024-11-21T02:10:45.769624",
     "exception": false,
     "start_time": "2024-11-21T02:10:45.750320",
     "status": "completed"
    },
    "tags": []
   },
   "outputs": [
    {
     "name": "stdout",
     "output_type": "stream",
     "text": [
      "Submission saved to submission.csv\n"
     ]
    }
   ],
   "source": [
    "submission_df.to_csv('submission.csv', index=False)\n",
    "print(\"Submission saved to submission.csv\")"
   ]
  }
 ],
 "metadata": {
  "kaggle": {
   "accelerator": "none",
   "dataSources": [
    {
     "databundleVersionId": 26502,
     "sourceId": 3136,
     "sourceType": "competition"
    }
   ],
   "dockerImageVersionId": 30786,
   "isGpuEnabled": false,
   "isInternetEnabled": true,
   "language": "python",
   "sourceType": "notebook"
  },
  "kernelspec": {
   "display_name": "Python 3",
   "language": "python",
   "name": "python3"
  },
  "language_info": {
   "codemirror_mode": {
    "name": "ipython",
    "version": 3
   },
   "file_extension": ".py",
   "mimetype": "text/x-python",
   "name": "python",
   "nbconvert_exporter": "python",
   "pygments_lexer": "ipython3",
   "version": "3.10.14"
  },
  "papermill": {
   "default_parameters": {},
   "duration": 132.89234,
   "end_time": "2024-11-21T02:10:46.497319",
   "environment_variables": {},
   "exception": null,
   "input_path": "__notebook__.ipynb",
   "output_path": "__notebook__.ipynb",
   "parameters": {},
   "start_time": "2024-11-21T02:08:33.604979",
   "version": "2.6.0"
  }
 },
 "nbformat": 4,
 "nbformat_minor": 5
}
