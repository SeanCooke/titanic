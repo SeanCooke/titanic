{
 "cells": [
  {
   "cell_type": "code",
   "execution_count": 1,
   "id": "714ef8d6",
   "metadata": {
    "execution": {
     "iopub.execute_input": "2024-11-28T17:12:59.322989Z",
     "iopub.status.busy": "2024-11-28T17:12:59.322566Z",
     "iopub.status.idle": "2024-11-28T17:13:02.540737Z",
     "shell.execute_reply": "2024-11-28T17:13:02.539762Z"
    },
    "papermill": {
     "duration": 3.230142,
     "end_time": "2024-11-28T17:13:02.543334",
     "exception": false,
     "start_time": "2024-11-28T17:12:59.313192",
     "status": "completed"
    },
    "tags": []
   },
   "outputs": [],
   "source": [
    "import datetime\n",
    "import matplotlib.pyplot as plt\n",
    "import numpy as np\n",
    "import pandas as pd\n",
    "import string\n",
    "\n",
    "from sklearn.base import BaseEstimator\n",
    "from sklearn.ensemble import RandomForestClassifier\n",
    "from sklearn.metrics import accuracy_score\n",
    "from sklearn.model_selection import GridSearchCV, StratifiedKFold\n",
    "from typing import Union\n",
    "from xgboost import XGBRFClassifier"
   ]
  },
  {
   "cell_type": "code",
   "execution_count": 2,
   "id": "05365301",
   "metadata": {
    "execution": {
     "iopub.execute_input": "2024-11-28T17:13:02.560210Z",
     "iopub.status.busy": "2024-11-28T17:13:02.559483Z",
     "iopub.status.idle": "2024-11-28T17:13:02.591620Z",
     "shell.execute_reply": "2024-11-28T17:13:02.590092Z"
    },
    "papermill": {
     "duration": 0.043498,
     "end_time": "2024-11-28T17:13:02.594286",
     "exception": false,
     "start_time": "2024-11-28T17:13:02.550788",
     "status": "completed"
    },
    "tags": []
   },
   "outputs": [],
   "source": [
    "# Loading CSVs into Pandas DataFrame\n",
    "train_df = pd.read_csv('/kaggle/input/titanic/train.csv')\n",
    "X_test = pd.read_csv('/kaggle/input/titanic/test.csv')"
   ]
  },
  {
   "cell_type": "markdown",
   "id": "8bc504be",
   "metadata": {
    "papermill": {
     "duration": 0.006675,
     "end_time": "2024-11-28T17:13:02.608368",
     "exception": false,
     "start_time": "2024-11-28T17:13:02.601693",
     "status": "completed"
    },
    "tags": []
   },
   "source": [
    "# Preprocessing"
   ]
  },
  {
   "cell_type": "code",
   "execution_count": 3,
   "id": "8e010bef",
   "metadata": {
    "execution": {
     "iopub.execute_input": "2024-11-28T17:13:02.625253Z",
     "iopub.status.busy": "2024-11-28T17:13:02.624816Z",
     "iopub.status.idle": "2024-11-28T17:13:02.630850Z",
     "shell.execute_reply": "2024-11-28T17:13:02.629427Z"
    },
    "papermill": {
     "duration": 0.016807,
     "end_time": "2024-11-28T17:13:02.633350",
     "exception": false,
     "start_time": "2024-11-28T17:13:02.616543",
     "status": "completed"
    },
    "tags": []
   },
   "outputs": [],
   "source": [
    "def get_is_male(row: pd.Series) -> bool:\n",
    "    \"\"\"\n",
    "    Creates boolen indicator value for men in Titanic data.\n",
    "\n",
    "    Args:\n",
    "        row (pd.Series): A row of Titanic data containing a 'Sex' column.\n",
    "\n",
    "    Returns:\n",
    "        Bool: True if Sex=male, False otherwise.\n",
    "    \"\"\"\n",
    "    return row['Sex'] == 'male'"
   ]
  },
  {
   "cell_type": "code",
   "execution_count": 4,
   "id": "ae41ff63",
   "metadata": {
    "execution": {
     "iopub.execute_input": "2024-11-28T17:13:02.650576Z",
     "iopub.status.busy": "2024-11-28T17:13:02.650177Z",
     "iopub.status.idle": "2024-11-28T17:13:02.656549Z",
     "shell.execute_reply": "2024-11-28T17:13:02.654690Z"
    },
    "papermill": {
     "duration": 0.018179,
     "end_time": "2024-11-28T17:13:02.659324",
     "exception": false,
     "start_time": "2024-11-28T17:13:02.641145",
     "status": "completed"
    },
    "tags": []
   },
   "outputs": [],
   "source": [
    "def get_is_child(row: pd.Series) -> bool:\n",
    "    \"\"\"\n",
    "    Creates boolen indicator value for childrean in Titanic data.  Defines a child\n",
    "    to be <18.\n",
    "\n",
    "    Args:\n",
    "        row (pd.Series): A row of Titanic data containing a 'Age' column.\n",
    "\n",
    "    Returns:\n",
    "        Bool: True if Age<18, False otherwise.\n",
    "    \"\"\"\n",
    "    return row['Age'] < 18"
   ]
  },
  {
   "cell_type": "code",
   "execution_count": 5,
   "id": "a7198f34",
   "metadata": {
    "execution": {
     "iopub.execute_input": "2024-11-28T17:13:02.675101Z",
     "iopub.status.busy": "2024-11-28T17:13:02.674614Z",
     "iopub.status.idle": "2024-11-28T17:13:02.681134Z",
     "shell.execute_reply": "2024-11-28T17:13:02.679981Z"
    },
    "papermill": {
     "duration": 0.017283,
     "end_time": "2024-11-28T17:13:02.683712",
     "exception": false,
     "start_time": "2024-11-28T17:13:02.666429",
     "status": "completed"
    },
    "tags": []
   },
   "outputs": [],
   "source": [
    "def get_is_male_is_child(row: pd.Series) -> str:\n",
    "    \"\"\"\n",
    "    Creates compositie indicator variable for validation set creation.  For this\n",
    "    problem, we have the features for the test set.  The proportions of women and\n",
    "    children in the training set is different than that in the test set.  This\n",
    "    creates lower model preformance on the test features than the validation\n",
    "    features.  We use this indicator to create a custom validation set based on the\n",
    "    proportions of women and children in the test set.\n",
    "    \n",
    "    Args:\n",
    "        row (pd.Series): A row of Titanic data containing 'is_male', and 'is_child'\n",
    "        columns.\n",
    "        \n",
    "    Returns:\n",
    "        str: Concatenated is_male and is_child columns from row.\n",
    "    \"\"\"\n",
    "    return f\"{row['is_male']}_{row['is_child']}\""
   ]
  },
  {
   "cell_type": "markdown",
   "id": "c8c2b160",
   "metadata": {
    "papermill": {
     "duration": 0.006667,
     "end_time": "2024-11-28T17:13:02.697629",
     "exception": false,
     "start_time": "2024-11-28T17:13:02.690962",
     "status": "completed"
    },
    "tags": []
   },
   "source": [
    "## Creating Training and Validation Sets"
   ]
  },
  {
   "cell_type": "code",
   "execution_count": 6,
   "id": "38e6be35",
   "metadata": {
    "execution": {
     "iopub.execute_input": "2024-11-28T17:13:02.713722Z",
     "iopub.status.busy": "2024-11-28T17:13:02.713362Z",
     "iopub.status.idle": "2024-11-28T17:13:02.763446Z",
     "shell.execute_reply": "2024-11-28T17:13:02.762252Z"
    },
    "papermill": {
     "duration": 0.061432,
     "end_time": "2024-11-28T17:13:02.765994",
     "exception": false,
     "start_time": "2024-11-28T17:13:02.704562",
     "status": "completed"
    },
    "tags": []
   },
   "outputs": [],
   "source": [
    "train_df['is_male'] = train_df.apply(get_is_male, axis=1)\n",
    "X_test['is_male'] = X_test.apply(get_is_male, axis=1)\n",
    "\n",
    "train_df['is_child'] = train_df.apply(get_is_child, axis=1)\n",
    "X_test['is_child'] = X_test.apply(get_is_child, axis=1)\n",
    "\n",
    "train_df['is_male_is_child'] = train_df.apply(get_is_male_is_child, axis=1)\n",
    "X_test['is_male_is_child'] = X_test.apply(get_is_male_is_child, axis=1)"
   ]
  },
  {
   "cell_type": "code",
   "execution_count": 7,
   "id": "fbf266ae",
   "metadata": {
    "execution": {
     "iopub.execute_input": "2024-11-28T17:13:02.781878Z",
     "iopub.status.busy": "2024-11-28T17:13:02.781450Z",
     "iopub.status.idle": "2024-11-28T17:13:02.820170Z",
     "shell.execute_reply": "2024-11-28T17:13:02.818804Z"
    },
    "papermill": {
     "duration": 0.049737,
     "end_time": "2024-11-28T17:13:02.822766",
     "exception": false,
     "start_time": "2024-11-28T17:13:02.773029",
     "status": "completed"
    },
    "tags": []
   },
   "outputs": [],
   "source": [
    "# Creating X_val based on the proportion of women and children in X_test\n",
    "val_df = pd.DataFrame()\n",
    "\n",
    "test_proxy_proportions = X_test[\"is_male_is_child\"].value_counts(normalize=True)\n",
    "for proxy_group, proportion in test_proxy_proportions.items():\n",
    "    group_data = train_df[train_df['is_male_is_child'] == proxy_group]\n",
    "    n_samples = int(proportion * len(train_df) * 0.15)  # 15% for validation set\n",
    "    # Sample without replacement from the group\n",
    "    sampled_group_data = group_data.sample(n=n_samples, replace=False)\n",
    "    val_df = pd.concat([val_df, sampled_group_data])\n",
    "\n",
    "# Drop validation samples from training data to avoid data leakage.\n",
    "train_df = train_df.drop(val_df.index)"
   ]
  },
  {
   "cell_type": "code",
   "execution_count": 8,
   "id": "98dc8d68",
   "metadata": {
    "execution": {
     "iopub.execute_input": "2024-11-28T17:13:02.839016Z",
     "iopub.status.busy": "2024-11-28T17:13:02.838526Z",
     "iopub.status.idle": "2024-11-28T17:13:02.847348Z",
     "shell.execute_reply": "2024-11-28T17:13:02.845918Z"
    },
    "papermill": {
     "duration": 0.020074,
     "end_time": "2024-11-28T17:13:02.850213",
     "exception": false,
     "start_time": "2024-11-28T17:13:02.830139",
     "status": "completed"
    },
    "tags": []
   },
   "outputs": [],
   "source": [
    "# Separating features and targets in training and validation sets.\n",
    "y_train = train_df.Survived\n",
    "X_train = train_df.drop(columns=['Survived'])\n",
    "\n",
    "y_val = val_df.Survived\n",
    "X_val = val_df.drop(columns=['Survived'])"
   ]
  },
  {
   "cell_type": "markdown",
   "id": "ea6c5aee",
   "metadata": {
    "papermill": {
     "duration": 0.006528,
     "end_time": "2024-11-28T17:13:02.863874",
     "exception": false,
     "start_time": "2024-11-28T17:13:02.857346",
     "status": "completed"
    },
    "tags": []
   },
   "source": [
    "## Creating Features"
   ]
  },
  {
   "cell_type": "code",
   "execution_count": 9,
   "id": "eaca3b38",
   "metadata": {
    "execution": {
     "iopub.execute_input": "2024-11-28T17:13:02.879798Z",
     "iopub.status.busy": "2024-11-28T17:13:02.879318Z",
     "iopub.status.idle": "2024-11-28T17:13:02.885558Z",
     "shell.execute_reply": "2024-11-28T17:13:02.884239Z"
    },
    "papermill": {
     "duration": 0.016872,
     "end_time": "2024-11-28T17:13:02.887888",
     "exception": false,
     "start_time": "2024-11-28T17:13:02.871016",
     "status": "completed"
    },
    "tags": []
   },
   "outputs": [],
   "source": [
    "def get_deck(row: pd.Series) -> str:\n",
    "    \"\"\"\n",
    "    Gets the Deck of a Titanic Ticket.  The Deck of a Titanic Ticket is the first\n",
    "    Character of the Ticket if there's a space in it.  Else 'Numeric'.\n",
    "\n",
    "    Args:\n",
    "        row (pd.Series): Row of titanic training data.\n",
    "\n",
    "    Returns:\n",
    "        str: Deck of a Titanic Ticket.\n",
    "    \"\"\"\n",
    "    ticket = row['Ticket']\n",
    "    if len(ticket.split()) > 1:\n",
    "        return ticket[0]\n",
    "    else:\n",
    "        return 'Numeric'"
   ]
  },
  {
   "cell_type": "code",
   "execution_count": 10,
   "id": "16098a25",
   "metadata": {
    "execution": {
     "iopub.execute_input": "2024-11-28T17:13:02.903553Z",
     "iopub.status.busy": "2024-11-28T17:13:02.903189Z",
     "iopub.status.idle": "2024-11-28T17:13:02.911899Z",
     "shell.execute_reply": "2024-11-28T17:13:02.910646Z"
    },
    "papermill": {
     "duration": 0.019103,
     "end_time": "2024-11-28T17:13:02.914154",
     "exception": false,
     "start_time": "2024-11-28T17:13:02.895051",
     "status": "completed"
    },
    "tags": []
   },
   "outputs": [],
   "source": [
    "def preprocess(X: pd.DataFrame) -> pd.DataFrame:\n",
    "    \"\"\"\n",
    "    Generates relevant features to predict whether a passenger survived the\n",
    "    Titanic disaster.\n",
    "    \n",
    "    Args:\n",
    "        X (pd.DataFrame): Features.\n",
    "\n",
    "    Returns:\n",
    "        pd.DataFrame: Subset of X with engineered columns defined by features\n",
    "            where multiclass variables are binarized.\n",
    "    \"\"\"\n",
    "    # Making a deep copy of X to not alter our original training data.\n",
    "    X_preprocessed = X.copy()\n",
    "\n",
    "    X_preprocessed['Deck'] = X_preprocessed.apply(get_deck, axis=1)\n",
    "\n",
    "    # Assuming all passengers with null ages are 40.\n",
    "    X_preprocessed['Age_not_null'] = X_preprocessed['Age'].fillna(40)\n",
    "    # Assuming all passengers will null Fares paid $0.\n",
    "    X_preprocessed['Fare_not_null'] = X_preprocessed['Fare'].fillna(0)\n",
    "\n",
    "    # Creating features based on Cabin.\n",
    "    X_preprocessed['no_cabin'] = X_preprocessed.apply(\n",
    "        lambda row: pd.isnull(row['Cabin']), axis=1)\n",
    "    X_preprocessed['cabin_first_char'] = X_preprocessed['Cabin'].apply(\n",
    "        lambda row: row[0] if pd.notnull(row) else row)\n",
    "\n",
    "    # The size of a passenger's family is the number of siblings plus the number of\n",
    "    # parents plus themselves.\n",
    "    X_preprocessed['num_family_members'] = X_preprocessed['SibSp']+X_preprocessed['Parch']+1\n",
    "    X_preprocessed['family_size'] = pd.cut(\n",
    "        x=X_preprocessed['num_family_members'],\n",
    "        bins=[0, 2, 5, float('inf')],\n",
    "        labels=['alone', 'small', 'big'],\n",
    "        right=False\n",
    "    )\n",
    "\n",
    "    # One hot encoding gender, embarkment location, Deck, cabin_first_char, and\n",
    "    # family_size.\n",
    "    X_preprocessed = pd.get_dummies(X_preprocessed, columns=[\n",
    "        'cabin_first_char', 'Deck', 'Embarked', 'family_size', 'Pclass'])\n",
    "    return X_preprocessed"
   ]
  },
  {
   "cell_type": "markdown",
   "id": "cf7e6c87",
   "metadata": {
    "papermill": {
     "duration": 0.006601,
     "end_time": "2024-11-28T17:13:02.927869",
     "exception": false,
     "start_time": "2024-11-28T17:13:02.921268",
     "status": "completed"
    },
    "tags": []
   },
   "source": [
    "# Models"
   ]
  },
  {
   "cell_type": "code",
   "execution_count": 11,
   "id": "89ac997b",
   "metadata": {
    "execution": {
     "iopub.execute_input": "2024-11-28T17:13:02.943309Z",
     "iopub.status.busy": "2024-11-28T17:13:02.942931Z",
     "iopub.status.idle": "2024-11-28T17:13:02.949597Z",
     "shell.execute_reply": "2024-11-28T17:13:02.948470Z"
    },
    "papermill": {
     "duration": 0.016924,
     "end_time": "2024-11-28T17:13:02.951639",
     "exception": false,
     "start_time": "2024-11-28T17:13:02.934715",
     "status": "completed"
    },
    "tags": []
   },
   "outputs": [],
   "source": [
    "def evaluate_model(model: BaseEstimator,\n",
    "                   X_train: pd.DataFrame,\n",
    "                   y_train: pd.Series,\n",
    "                   X_val: pd.DataFrame,\n",
    "                   y_val: pd.Series) -> dict[str: Union[str, float]]:\n",
    "    \"\"\"\n",
    "    Returns accuracy on training and validation sets. \n",
    "    \n",
    "    Args:\n",
    "        X_train (pd.DataFrame): Training features.\n",
    "        X_val (pd.DataFrame): Validation features.\n",
    "    \n",
    "    Returns:\n",
    "        (dict[str: Union[str, float]]): dictionary of training and validation\n",
    "            accuracies for model.\n",
    "    \"\"\"\n",
    "    y_pred_train = model.predict(X_train)\n",
    "    y_pred_val = model.predict(X_val)\n",
    "    \n",
    "    train_accuracy = accuracy_score(\n",
    "        y_true=y_train, y_pred=y_pred_train)\n",
    "    val_accuracy = accuracy_score(\n",
    "        y_true=y_val, y_pred=y_pred_val)\n",
    "\n",
    "    return {\n",
    "        'model': model.estimator,\n",
    "        'training_accuracy': train_accuracy,\n",
    "        'validation_accuracy': val_accuracy\n",
    "    }"
   ]
  },
  {
   "cell_type": "markdown",
   "id": "9177fd63",
   "metadata": {
    "execution": {
     "iopub.execute_input": "2024-11-27T17:35:56.470211Z",
     "iopub.status.busy": "2024-11-27T17:35:56.469783Z",
     "iopub.status.idle": "2024-11-27T17:35:56.475218Z",
     "shell.execute_reply": "2024-11-27T17:35:56.474034Z",
     "shell.execute_reply.started": "2024-11-27T17:35:56.470175Z"
    },
    "papermill": {
     "duration": 0.006705,
     "end_time": "2024-11-28T17:13:02.966063",
     "exception": false,
     "start_time": "2024-11-28T17:13:02.959358",
     "status": "completed"
    },
    "tags": []
   },
   "source": [
    "## Gender Model"
   ]
  },
  {
   "cell_type": "code",
   "execution_count": 12,
   "id": "d1575c84",
   "metadata": {
    "execution": {
     "iopub.execute_input": "2024-11-28T17:13:02.981690Z",
     "iopub.status.busy": "2024-11-28T17:13:02.981315Z",
     "iopub.status.idle": "2024-11-28T17:13:02.988954Z",
     "shell.execute_reply": "2024-11-28T17:13:02.987652Z"
    },
    "papermill": {
     "duration": 0.018493,
     "end_time": "2024-11-28T17:13:02.991683",
     "exception": false,
     "start_time": "2024-11-28T17:13:02.973190",
     "status": "completed"
    },
    "tags": []
   },
   "outputs": [],
   "source": [
    "class GenderModel(BaseEstimator):\n",
    "    estimator = \"GenderModel\"\n",
    "    def fit(self, X_train: pd.DataFrame, y_train: pd.Series) -> \"GenderModel\":\n",
    "        \"\"\"\n",
    "        Fits a GenderModel for the given training data.\n",
    "\n",
    "        Args:\n",
    "            X (pd.DataFrame): Pandas Dataframe containing 'Sex' column.\n",
    "            y (pd.Series): Boolean target variable.\n",
    "\n",
    "        Retruns:\n",
    "            GenderModel: A fit GenderModel to the training data.\n",
    "        \"\"\"\n",
    "        return self\n",
    "    def predict(self, X: pd.DataFrame) -> np.ndarray:\n",
    "        \"\"\"\n",
    "        Predicts whether a passenger survives the Titanic solely based on gender.\n",
    "        Women are predicted to survive, men are not.\n",
    "    \n",
    "        Args:\n",
    "            X (pd.DataFrame): Pandas Dataframe containing 'Sex' column.\n",
    "    \n",
    "        Returns:\n",
    "            pd.Series: True if female, False otherwise.\n",
    "        \"\"\"\n",
    "        return np.where(X['Sex'] == 'female', 1, 0)\n",
    "    def score(self, X: pd.DataFrame, y_true: pd.DataFrame) -> float:\n",
    "        \"\"\"\n",
    "        Returns the accuracy of predicting a GenderModel on X against y.\n",
    "\n",
    "        Args:\n",
    "            X (pd.DataFrame): Pandas Dataframe containing 'Sex' column.\n",
    "\n",
    "        Returns:\n",
    "            float: accuracy of predictinging a GenderModel on X against y.\n",
    "        \"\"\"\n",
    "        y_pred = self.predict(X)\n",
    "        return (y_pred == y_true).mean()"
   ]
  },
  {
   "cell_type": "code",
   "execution_count": 13,
   "id": "399cabb3",
   "metadata": {
    "execution": {
     "iopub.execute_input": "2024-11-28T17:13:03.007979Z",
     "iopub.status.busy": "2024-11-28T17:13:03.007541Z",
     "iopub.status.idle": "2024-11-28T17:13:03.033209Z",
     "shell.execute_reply": "2024-11-28T17:13:03.032112Z"
    },
    "papermill": {
     "duration": 0.036865,
     "end_time": "2024-11-28T17:13:03.035477",
     "exception": false,
     "start_time": "2024-11-28T17:13:02.998612",
     "status": "completed"
    },
    "tags": []
   },
   "outputs": [
    {
     "data": {
      "text/html": [
       "<style>#sk-container-id-1 {color: black;background-color: white;}#sk-container-id-1 pre{padding: 0;}#sk-container-id-1 div.sk-toggleable {background-color: white;}#sk-container-id-1 label.sk-toggleable__label {cursor: pointer;display: block;width: 100%;margin-bottom: 0;padding: 0.3em;box-sizing: border-box;text-align: center;}#sk-container-id-1 label.sk-toggleable__label-arrow:before {content: \"▸\";float: left;margin-right: 0.25em;color: #696969;}#sk-container-id-1 label.sk-toggleable__label-arrow:hover:before {color: black;}#sk-container-id-1 div.sk-estimator:hover label.sk-toggleable__label-arrow:before {color: black;}#sk-container-id-1 div.sk-toggleable__content {max-height: 0;max-width: 0;overflow: hidden;text-align: left;background-color: #f0f8ff;}#sk-container-id-1 div.sk-toggleable__content pre {margin: 0.2em;color: black;border-radius: 0.25em;background-color: #f0f8ff;}#sk-container-id-1 input.sk-toggleable__control:checked~div.sk-toggleable__content {max-height: 200px;max-width: 100%;overflow: auto;}#sk-container-id-1 input.sk-toggleable__control:checked~label.sk-toggleable__label-arrow:before {content: \"▾\";}#sk-container-id-1 div.sk-estimator input.sk-toggleable__control:checked~label.sk-toggleable__label {background-color: #d4ebff;}#sk-container-id-1 div.sk-label input.sk-toggleable__control:checked~label.sk-toggleable__label {background-color: #d4ebff;}#sk-container-id-1 input.sk-hidden--visually {border: 0;clip: rect(1px 1px 1px 1px);clip: rect(1px, 1px, 1px, 1px);height: 1px;margin: -1px;overflow: hidden;padding: 0;position: absolute;width: 1px;}#sk-container-id-1 div.sk-estimator {font-family: monospace;background-color: #f0f8ff;border: 1px dotted black;border-radius: 0.25em;box-sizing: border-box;margin-bottom: 0.5em;}#sk-container-id-1 div.sk-estimator:hover {background-color: #d4ebff;}#sk-container-id-1 div.sk-parallel-item::after {content: \"\";width: 100%;border-bottom: 1px solid gray;flex-grow: 1;}#sk-container-id-1 div.sk-label:hover label.sk-toggleable__label {background-color: #d4ebff;}#sk-container-id-1 div.sk-serial::before {content: \"\";position: absolute;border-left: 1px solid gray;box-sizing: border-box;top: 0;bottom: 0;left: 50%;z-index: 0;}#sk-container-id-1 div.sk-serial {display: flex;flex-direction: column;align-items: center;background-color: white;padding-right: 0.2em;padding-left: 0.2em;position: relative;}#sk-container-id-1 div.sk-item {position: relative;z-index: 1;}#sk-container-id-1 div.sk-parallel {display: flex;align-items: stretch;justify-content: center;background-color: white;position: relative;}#sk-container-id-1 div.sk-item::before, #sk-container-id-1 div.sk-parallel-item::before {content: \"\";position: absolute;border-left: 1px solid gray;box-sizing: border-box;top: 0;bottom: 0;left: 50%;z-index: -1;}#sk-container-id-1 div.sk-parallel-item {display: flex;flex-direction: column;z-index: 1;position: relative;background-color: white;}#sk-container-id-1 div.sk-parallel-item:first-child::after {align-self: flex-end;width: 50%;}#sk-container-id-1 div.sk-parallel-item:last-child::after {align-self: flex-start;width: 50%;}#sk-container-id-1 div.sk-parallel-item:only-child::after {width: 0;}#sk-container-id-1 div.sk-dashed-wrapped {border: 1px dashed gray;margin: 0 0.4em 0.5em 0.4em;box-sizing: border-box;padding-bottom: 0.4em;background-color: white;}#sk-container-id-1 div.sk-label label {font-family: monospace;font-weight: bold;display: inline-block;line-height: 1.2em;}#sk-container-id-1 div.sk-label-container {text-align: center;}#sk-container-id-1 div.sk-container {/* jupyter's `normalize.less` sets `[hidden] { display: none; }` but bootstrap.min.css set `[hidden] { display: none !important; }` so we also need the `!important` here to be able to override the default hidden behavior on the sphinx rendered scikit-learn.org. See: https://github.com/scikit-learn/scikit-learn/issues/21755 */display: inline-block !important;position: relative;}#sk-container-id-1 div.sk-text-repr-fallback {display: none;}</style><div id=\"sk-container-id-1\" class=\"sk-top-container\"><div class=\"sk-text-repr-fallback\"><pre>GridSearchCV(estimator=GenderModel(), param_grid={})</pre><b>In a Jupyter environment, please rerun this cell to show the HTML representation or trust the notebook. <br />On GitHub, the HTML representation is unable to render, please try loading this page with nbviewer.org.</b></div><div class=\"sk-container\" hidden><div class=\"sk-item sk-dashed-wrapped\"><div class=\"sk-label-container\"><div class=\"sk-label sk-toggleable\"><input class=\"sk-toggleable__control sk-hidden--visually\" id=\"sk-estimator-id-1\" type=\"checkbox\" ><label for=\"sk-estimator-id-1\" class=\"sk-toggleable__label sk-toggleable__label-arrow\">GridSearchCV</label><div class=\"sk-toggleable__content\"><pre>GridSearchCV(estimator=GenderModel(), param_grid={})</pre></div></div></div><div class=\"sk-parallel\"><div class=\"sk-parallel-item\"><div class=\"sk-item\"><div class=\"sk-label-container\"><div class=\"sk-label sk-toggleable\"><input class=\"sk-toggleable__control sk-hidden--visually\" id=\"sk-estimator-id-2\" type=\"checkbox\" ><label for=\"sk-estimator-id-2\" class=\"sk-toggleable__label sk-toggleable__label-arrow\">estimator: GenderModel</label><div class=\"sk-toggleable__content\"><pre>GenderModel()</pre></div></div></div><div class=\"sk-serial\"><div class=\"sk-item\"><div class=\"sk-estimator sk-toggleable\"><input class=\"sk-toggleable__control sk-hidden--visually\" id=\"sk-estimator-id-3\" type=\"checkbox\" ><label for=\"sk-estimator-id-3\" class=\"sk-toggleable__label sk-toggleable__label-arrow\">GenderModel</label><div class=\"sk-toggleable__content\"><pre>GenderModel()</pre></div></div></div></div></div></div></div></div></div></div>"
      ],
      "text/plain": [
       "GridSearchCV(estimator=GenderModel(), param_grid={})"
      ]
     },
     "execution_count": 13,
     "metadata": {},
     "output_type": "execute_result"
    }
   ],
   "source": [
    "gender_model = GridSearchCV(GenderModel(), param_grid={})\n",
    "\n",
    "gender_model.fit(X_train, y_train)"
   ]
  },
  {
   "cell_type": "markdown",
   "id": "1f7f5177",
   "metadata": {
    "papermill": {
     "duration": 0.007136,
     "end_time": "2024-11-28T17:13:03.049757",
     "exception": false,
     "start_time": "2024-11-28T17:13:03.042621",
     "status": "completed"
    },
    "tags": []
   },
   "source": [
    "## Random Forest\n",
    "### Feature Selection"
   ]
  },
  {
   "cell_type": "code",
   "execution_count": 14,
   "id": "5e568c49",
   "metadata": {
    "execution": {
     "iopub.execute_input": "2024-11-28T17:13:03.066666Z",
     "iopub.status.busy": "2024-11-28T17:13:03.066272Z",
     "iopub.status.idle": "2024-11-28T17:13:03.116030Z",
     "shell.execute_reply": "2024-11-28T17:13:03.115020Z"
    },
    "papermill": {
     "duration": 0.060983,
     "end_time": "2024-11-28T17:13:03.118371",
     "exception": false,
     "start_time": "2024-11-28T17:13:03.057388",
     "status": "completed"
    },
    "tags": []
   },
   "outputs": [],
   "source": [
    "features_rf = [\"is_male\", \"Age_not_null\", \"Fare_not_null\", \"Pclass\"]\n",
    "\n",
    "X_train_preprocessed_rf = preprocess(X_train).reindex(\n",
    "    columns=features_rf, fill_value=0)\n",
    "\n",
    "# Ensuring columns in X_val_preprocessed_rf are the same as the columns in\n",
    "# X_train_preprocessed_rf since we have one hot encodings\n",
    "X_val_preprocessed_rf = preprocess(X_val).reindex(\n",
    "    columns=features_rf, fill_value=0)"
   ]
  },
  {
   "cell_type": "markdown",
   "id": "0ddf21cb",
   "metadata": {
    "papermill": {
     "duration": 0.006904,
     "end_time": "2024-11-28T17:13:03.132695",
     "exception": false,
     "start_time": "2024-11-28T17:13:03.125791",
     "status": "completed"
    },
    "tags": []
   },
   "source": [
    "### Hyperparameter Tuning"
   ]
  },
  {
   "cell_type": "code",
   "execution_count": 15,
   "id": "bfd15050",
   "metadata": {
    "execution": {
     "iopub.execute_input": "2024-11-28T17:13:03.148849Z",
     "iopub.status.busy": "2024-11-28T17:13:03.148477Z",
     "iopub.status.idle": "2024-11-28T17:13:50.387058Z",
     "shell.execute_reply": "2024-11-28T17:13:50.385405Z"
    },
    "papermill": {
     "duration": 47.257036,
     "end_time": "2024-11-28T17:13:50.397146",
     "exception": false,
     "start_time": "2024-11-28T17:13:03.140110",
     "status": "completed"
    },
    "tags": []
   },
   "outputs": [
    {
     "name": "stdout",
     "output_type": "stream",
     "text": [
      "Random Forest:\tGridSearchCV took 0:00:47.230777\n"
     ]
    }
   ],
   "source": [
    "# Trying ~30 combinations takes about 45 seconds.\n",
    "param_grid_rf = [{\n",
    "    'max_depth': np.arange(start=1, stop=4, step=1),\n",
    "    'max_features': np.arange(start=1, stop=4, step=1),\n",
    "    'n_estimators': [150, 200, 250]\n",
    "}]\n",
    "\n",
    "start_time = datetime.datetime.now()\n",
    "random_forest_model = GridSearchCV(\n",
    "    estimator=RandomForestClassifier(),\n",
    "    param_grid=param_grid_rf,\n",
    "    cv=StratifiedKFold(n_splits=5, shuffle=True),\n",
    "    # Using roc_auc as we have a class imbalance.\n",
    "    scoring='roc_auc'\n",
    ")\n",
    "random_forest_model.fit(X_train_preprocessed_rf, y_train)\n",
    "end_time = datetime.datetime.now()\n",
    "\n",
    "gridsearch_time = end_time-start_time\n",
    "print(f\"Random Forest:\\tGridSearchCV took {gridsearch_time}\")"
   ]
  },
  {
   "cell_type": "code",
   "execution_count": 16,
   "id": "a2fa570d",
   "metadata": {
    "execution": {
     "iopub.execute_input": "2024-11-28T17:13:50.414682Z",
     "iopub.status.busy": "2024-11-28T17:13:50.413871Z",
     "iopub.status.idle": "2024-11-28T17:13:50.463088Z",
     "shell.execute_reply": "2024-11-28T17:13:50.461899Z"
    },
    "papermill": {
     "duration": 0.06068,
     "end_time": "2024-11-28T17:13:50.465471",
     "exception": false,
     "start_time": "2024-11-28T17:13:50.404791",
     "status": "completed"
    },
    "tags": []
   },
   "outputs": [
    {
     "data": {
      "text/plain": [
       "{'model': RandomForestClassifier(),\n",
       " 'training_accuracy': 0.7984189723320159,\n",
       " 'validation_accuracy': 0.8106060606060606}"
      ]
     },
     "execution_count": 16,
     "metadata": {},
     "output_type": "execute_result"
    }
   ],
   "source": [
    "evaluate_model(\n",
    "    model=random_forest_model, X_train=X_train_preprocessed_rf,\n",
    "    y_train=y_train, X_val=X_val_preprocessed_rf, y_val=y_val)"
   ]
  },
  {
   "cell_type": "markdown",
   "id": "427be07b",
   "metadata": {
    "papermill": {
     "duration": 0.007995,
     "end_time": "2024-11-28T17:13:50.480821",
     "exception": false,
     "start_time": "2024-11-28T17:13:50.472826",
     "status": "completed"
    },
    "tags": []
   },
   "source": [
    "## XGBoost\n",
    "### Feature Selection"
   ]
  },
  {
   "cell_type": "code",
   "execution_count": 17,
   "id": "b146683f",
   "metadata": {
    "execution": {
     "iopub.execute_input": "2024-11-28T17:13:50.497324Z",
     "iopub.status.busy": "2024-11-28T17:13:50.496914Z",
     "iopub.status.idle": "2024-11-28T17:13:50.540050Z",
     "shell.execute_reply": "2024-11-28T17:13:50.539049Z"
    },
    "papermill": {
     "duration": 0.054065,
     "end_time": "2024-11-28T17:13:50.542470",
     "exception": false,
     "start_time": "2024-11-28T17:13:50.488405",
     "status": "completed"
    },
    "tags": []
   },
   "outputs": [],
   "source": [
    "features_xgb = ['Age', 'Fare', 'P_class_2', 'Pclass_1', 'Pclass_3',\n",
    "                'family_size_alone', 'family_size_big', 'family_size_small',\n",
    "                'is_child', 'is_male', 'no_cabin']\n",
    "\n",
    "X_train_preprocessed_xgb = preprocess(X_train).reindex(\n",
    "    columns=features_xgb, fill_value=0)\n",
    "\n",
    "# Ensuring columns in X_val_preprocessed_rf are the same as the columns in\n",
    "# X_train_preprocessed_rf since we have one hot encodings\n",
    "X_val_preprocessed_xgb = preprocess(X_val).reindex(\n",
    "    columns=features_xgb, fill_value=0)"
   ]
  },
  {
   "cell_type": "code",
   "execution_count": 18,
   "id": "ea48d24d",
   "metadata": {
    "execution": {
     "iopub.execute_input": "2024-11-28T17:13:50.559471Z",
     "iopub.status.busy": "2024-11-28T17:13:50.559036Z",
     "iopub.status.idle": "2024-11-28T17:13:50.885794Z",
     "shell.execute_reply": "2024-11-28T17:13:50.883092Z"
    },
    "papermill": {
     "duration": 0.339466,
     "end_time": "2024-11-28T17:13:50.889359",
     "exception": false,
     "start_time": "2024-11-28T17:13:50.549893",
     "status": "completed"
    },
    "tags": []
   },
   "outputs": [
    {
     "name": "stdout",
     "output_type": "stream",
     "text": [
      "XGBoost:\tGridSearchCV took 0:00:00.318620\n"
     ]
    }
   ],
   "source": [
    "# Trying ~100 combinations takes about 1 minute.\n",
    "param_grid_xgb = [{\n",
    "    'n_estimators': [100],\n",
    "    'max_depth': [3],\n",
    "    'learning_rate': [1],\n",
    "    'subsample': [.9],\n",
    "    'colsample_bytree': [1],\n",
    "    'gamma': [1]\n",
    "}]\n",
    "\n",
    "start_time = datetime.datetime.now()\n",
    "xgboost_model = GridSearchCV(\n",
    "    estimator=XGBRFClassifier(),\n",
    "    param_grid=param_grid_xgb,\n",
    "    cv=StratifiedKFold(n_splits=5, shuffle=True),\n",
    "    # Using roc_auc as we have a class imbalance.\n",
    "    scoring='roc_auc'\n",
    ")\n",
    "xgboost_model.fit(X_train_preprocessed_xgb, y_train)\n",
    "end_time = datetime.datetime.now()\n",
    "\n",
    "gridsearch_time = end_time-start_time\n",
    "print(f\"XGBoost:\\tGridSearchCV took {gridsearch_time}\")"
   ]
  },
  {
   "cell_type": "code",
   "execution_count": 19,
   "id": "28b69d29",
   "metadata": {
    "execution": {
     "iopub.execute_input": "2024-11-28T17:13:50.909546Z",
     "iopub.status.busy": "2024-11-28T17:13:50.908894Z",
     "iopub.status.idle": "2024-11-28T17:13:50.928302Z",
     "shell.execute_reply": "2024-11-28T17:13:50.925104Z"
    },
    "papermill": {
     "duration": 0.031488,
     "end_time": "2024-11-28T17:13:50.931042",
     "exception": false,
     "start_time": "2024-11-28T17:13:50.899554",
     "status": "completed"
    },
    "tags": []
   },
   "outputs": [
    {
     "data": {
      "text/plain": [
       "{'model': XGBRFClassifier(base_score=None, booster=None, callbacks=None,\n",
       "                 colsample_bylevel=None, colsample_bytree=None, device=None,\n",
       "                 early_stopping_rounds=None, enable_categorical=False,\n",
       "                 eval_metric=None, feature_types=None, gamma=None,\n",
       "                 grow_policy=None, importance_type=None,\n",
       "                 interaction_constraints=None, max_bin=None,\n",
       "                 max_cat_threshold=None, max_cat_to_onehot=None,\n",
       "                 max_delta_step=None, max_depth=None, max_leaves=None,\n",
       "                 min_child_weight=None, missing=nan, monotone_constraints=None,\n",
       "                 multi_strategy=None, n_estimators=None, n_jobs=None,\n",
       "                 num_parallel_tree=None, objective='binary:logistic',\n",
       "                 random_state=None, reg_alpha=None, ...),\n",
       " 'training_accuracy': 0.8287220026350461,\n",
       " 'validation_accuracy': 0.8333333333333334}"
      ]
     },
     "execution_count": 19,
     "metadata": {},
     "output_type": "execute_result"
    }
   ],
   "source": [
    "evaluate_model(model=xgboost_model, X_train=X_train_preprocessed_xgb,\n",
    "               y_train=y_train, X_val=X_val_preprocessed_xgb, y_val=y_val)"
   ]
  },
  {
   "cell_type": "markdown",
   "id": "34f8cd3e",
   "metadata": {
    "papermill": {
     "duration": 0.007332,
     "end_time": "2024-11-28T17:13:50.947237",
     "exception": false,
     "start_time": "2024-11-28T17:13:50.939905",
     "status": "completed"
    },
    "tags": []
   },
   "source": [
    "## Neural Net"
   ]
  },
  {
   "cell_type": "code",
   "execution_count": 20,
   "id": "e66f3783",
   "metadata": {
    "execution": {
     "iopub.execute_input": "2024-11-28T17:13:50.963979Z",
     "iopub.status.busy": "2024-11-28T17:13:50.963552Z",
     "iopub.status.idle": "2024-11-28T17:14:05.816285Z",
     "shell.execute_reply": "2024-11-28T17:14:05.815052Z"
    },
    "papermill": {
     "duration": 14.864059,
     "end_time": "2024-11-28T17:14:05.818785",
     "exception": false,
     "start_time": "2024-11-28T17:13:50.954726",
     "status": "completed"
    },
    "tags": []
   },
   "outputs": [],
   "source": [
    "import tensorflow as tf\n",
    "from tensorflow.keras.models import Sequential\n",
    "from tensorflow.keras.layers import Input, Dense, Dropout"
   ]
  },
  {
   "cell_type": "code",
   "execution_count": 21,
   "id": "f5e85982",
   "metadata": {
    "execution": {
     "iopub.execute_input": "2024-11-28T17:14:05.836502Z",
     "iopub.status.busy": "2024-11-28T17:14:05.835785Z",
     "iopub.status.idle": "2024-11-28T17:14:05.880957Z",
     "shell.execute_reply": "2024-11-28T17:14:05.879742Z"
    },
    "papermill": {
     "duration": 0.057318,
     "end_time": "2024-11-28T17:14:05.883862",
     "exception": false,
     "start_time": "2024-11-28T17:14:05.826544",
     "status": "completed"
    },
    "tags": []
   },
   "outputs": [],
   "source": [
    "features_nn = ['Age_not_null', 'Fare_not_null', 'P_class_2', 'Pclass_1',\n",
    "               'Pclass_3', 'family_size_alone', 'family_size_big',\n",
    "               'family_size_small', 'is_child', 'is_male', 'no_cabin']\n",
    "\n",
    "X_train_preprocessed_nn = preprocess(X_train).reindex(\n",
    "    columns=features_nn, fill_value=0)\n",
    "\n",
    "# Ensuring columns in X_val_preprocessed_rf are the same as the columns in\n",
    "# X_train_preprocessed_rf since we have one hot encodings\n",
    "X_val_preprocessed_nn = preprocess(X_val).reindex(\n",
    "    columns=features_nn, fill_value=0)"
   ]
  },
  {
   "cell_type": "code",
   "execution_count": 22,
   "id": "6bbde4d3",
   "metadata": {
    "execution": {
     "iopub.execute_input": "2024-11-28T17:14:05.900914Z",
     "iopub.status.busy": "2024-11-28T17:14:05.900478Z",
     "iopub.status.idle": "2024-11-28T17:14:12.855307Z",
     "shell.execute_reply": "2024-11-28T17:14:12.854076Z"
    },
    "papermill": {
     "duration": 6.966895,
     "end_time": "2024-11-28T17:14:12.858284",
     "exception": false,
     "start_time": "2024-11-28T17:14:05.891389",
     "status": "completed"
    },
    "tags": []
   },
   "outputs": [
    {
     "data": {
      "text/html": [
       "<pre style=\"white-space:pre;overflow-x:auto;line-height:normal;font-family:Menlo,'DejaVu Sans Mono',consolas,'Courier New',monospace\"><span style=\"font-weight: bold\">Model: \"sequential\"</span>\n",
       "</pre>\n"
      ],
      "text/plain": [
       "\u001b[1mModel: \"sequential\"\u001b[0m\n"
      ]
     },
     "metadata": {},
     "output_type": "display_data"
    },
    {
     "data": {
      "text/html": [
       "<pre style=\"white-space:pre;overflow-x:auto;line-height:normal;font-family:Menlo,'DejaVu Sans Mono',consolas,'Courier New',monospace\">┏━━━━━━━━━━━━━━━━━━━━━━━━━━━━━━━━━┳━━━━━━━━━━━━━━━━━━━━━━━━┳━━━━━━━━━━━━━━━┓\n",
       "┃<span style=\"font-weight: bold\"> Layer (type)                    </span>┃<span style=\"font-weight: bold\"> Output Shape           </span>┃<span style=\"font-weight: bold\">       Param # </span>┃\n",
       "┡━━━━━━━━━━━━━━━━━━━━━━━━━━━━━━━━━╇━━━━━━━━━━━━━━━━━━━━━━━━╇━━━━━━━━━━━━━━━┩\n",
       "│ dense (<span style=\"color: #0087ff; text-decoration-color: #0087ff\">Dense</span>)                   │ (<span style=\"color: #00d7ff; text-decoration-color: #00d7ff\">None</span>, <span style=\"color: #00af00; text-decoration-color: #00af00\">64</span>)             │           <span style=\"color: #00af00; text-decoration-color: #00af00\">768</span> │\n",
       "├─────────────────────────────────┼────────────────────────┼───────────────┤\n",
       "│ dropout (<span style=\"color: #0087ff; text-decoration-color: #0087ff\">Dropout</span>)               │ (<span style=\"color: #00d7ff; text-decoration-color: #00d7ff\">None</span>, <span style=\"color: #00af00; text-decoration-color: #00af00\">64</span>)             │             <span style=\"color: #00af00; text-decoration-color: #00af00\">0</span> │\n",
       "├─────────────────────────────────┼────────────────────────┼───────────────┤\n",
       "│ dense_1 (<span style=\"color: #0087ff; text-decoration-color: #0087ff\">Dense</span>)                 │ (<span style=\"color: #00d7ff; text-decoration-color: #00d7ff\">None</span>, <span style=\"color: #00af00; text-decoration-color: #00af00\">32</span>)             │         <span style=\"color: #00af00; text-decoration-color: #00af00\">2,080</span> │\n",
       "├─────────────────────────────────┼────────────────────────┼───────────────┤\n",
       "│ dropout_1 (<span style=\"color: #0087ff; text-decoration-color: #0087ff\">Dropout</span>)             │ (<span style=\"color: #00d7ff; text-decoration-color: #00d7ff\">None</span>, <span style=\"color: #00af00; text-decoration-color: #00af00\">32</span>)             │             <span style=\"color: #00af00; text-decoration-color: #00af00\">0</span> │\n",
       "├─────────────────────────────────┼────────────────────────┼───────────────┤\n",
       "│ dense_2 (<span style=\"color: #0087ff; text-decoration-color: #0087ff\">Dense</span>)                 │ (<span style=\"color: #00d7ff; text-decoration-color: #00d7ff\">None</span>, <span style=\"color: #00af00; text-decoration-color: #00af00\">1</span>)              │            <span style=\"color: #00af00; text-decoration-color: #00af00\">33</span> │\n",
       "└─────────────────────────────────┴────────────────────────┴───────────────┘\n",
       "</pre>\n"
      ],
      "text/plain": [
       "┏━━━━━━━━━━━━━━━━━━━━━━━━━━━━━━━━━┳━━━━━━━━━━━━━━━━━━━━━━━━┳━━━━━━━━━━━━━━━┓\n",
       "┃\u001b[1m \u001b[0m\u001b[1mLayer (type)                   \u001b[0m\u001b[1m \u001b[0m┃\u001b[1m \u001b[0m\u001b[1mOutput Shape          \u001b[0m\u001b[1m \u001b[0m┃\u001b[1m \u001b[0m\u001b[1m      Param #\u001b[0m\u001b[1m \u001b[0m┃\n",
       "┡━━━━━━━━━━━━━━━━━━━━━━━━━━━━━━━━━╇━━━━━━━━━━━━━━━━━━━━━━━━╇━━━━━━━━━━━━━━━┩\n",
       "│ dense (\u001b[38;5;33mDense\u001b[0m)                   │ (\u001b[38;5;45mNone\u001b[0m, \u001b[38;5;34m64\u001b[0m)             │           \u001b[38;5;34m768\u001b[0m │\n",
       "├─────────────────────────────────┼────────────────────────┼───────────────┤\n",
       "│ dropout (\u001b[38;5;33mDropout\u001b[0m)               │ (\u001b[38;5;45mNone\u001b[0m, \u001b[38;5;34m64\u001b[0m)             │             \u001b[38;5;34m0\u001b[0m │\n",
       "├─────────────────────────────────┼────────────────────────┼───────────────┤\n",
       "│ dense_1 (\u001b[38;5;33mDense\u001b[0m)                 │ (\u001b[38;5;45mNone\u001b[0m, \u001b[38;5;34m32\u001b[0m)             │         \u001b[38;5;34m2,080\u001b[0m │\n",
       "├─────────────────────────────────┼────────────────────────┼───────────────┤\n",
       "│ dropout_1 (\u001b[38;5;33mDropout\u001b[0m)             │ (\u001b[38;5;45mNone\u001b[0m, \u001b[38;5;34m32\u001b[0m)             │             \u001b[38;5;34m0\u001b[0m │\n",
       "├─────────────────────────────────┼────────────────────────┼───────────────┤\n",
       "│ dense_2 (\u001b[38;5;33mDense\u001b[0m)                 │ (\u001b[38;5;45mNone\u001b[0m, \u001b[38;5;34m1\u001b[0m)              │            \u001b[38;5;34m33\u001b[0m │\n",
       "└─────────────────────────────────┴────────────────────────┴───────────────┘\n"
      ]
     },
     "metadata": {},
     "output_type": "display_data"
    },
    {
     "data": {
      "text/html": [
       "<pre style=\"white-space:pre;overflow-x:auto;line-height:normal;font-family:Menlo,'DejaVu Sans Mono',consolas,'Courier New',monospace\"><span style=\"font-weight: bold\"> Total params: </span><span style=\"color: #00af00; text-decoration-color: #00af00\">2,881</span> (11.25 KB)\n",
       "</pre>\n"
      ],
      "text/plain": [
       "\u001b[1m Total params: \u001b[0m\u001b[38;5;34m2,881\u001b[0m (11.25 KB)\n"
      ]
     },
     "metadata": {},
     "output_type": "display_data"
    },
    {
     "data": {
      "text/html": [
       "<pre style=\"white-space:pre;overflow-x:auto;line-height:normal;font-family:Menlo,'DejaVu Sans Mono',consolas,'Courier New',monospace\"><span style=\"font-weight: bold\"> Trainable params: </span><span style=\"color: #00af00; text-decoration-color: #00af00\">2,881</span> (11.25 KB)\n",
       "</pre>\n"
      ],
      "text/plain": [
       "\u001b[1m Trainable params: \u001b[0m\u001b[38;5;34m2,881\u001b[0m (11.25 KB)\n"
      ]
     },
     "metadata": {},
     "output_type": "display_data"
    },
    {
     "data": {
      "text/html": [
       "<pre style=\"white-space:pre;overflow-x:auto;line-height:normal;font-family:Menlo,'DejaVu Sans Mono',consolas,'Courier New',monospace\"><span style=\"font-weight: bold\"> Non-trainable params: </span><span style=\"color: #00af00; text-decoration-color: #00af00\">0</span> (0.00 B)\n",
       "</pre>\n"
      ],
      "text/plain": [
       "\u001b[1m Non-trainable params: \u001b[0m\u001b[38;5;34m0\u001b[0m (0.00 B)\n"
      ]
     },
     "metadata": {},
     "output_type": "display_data"
    },
    {
     "name": "stdout",
     "output_type": "stream",
     "text": [
      "Epoch 1/50\n",
      "\u001b[1m24/24\u001b[0m \u001b[32m━━━━━━━━━━━━━━━━━━━━\u001b[0m\u001b[37m\u001b[0m \u001b[1m2s\u001b[0m 10ms/step - accuracy: 0.4716 - loss: 3.1798 - val_accuracy: 0.6136 - val_loss: 0.9922\n",
      "Epoch 2/50\n",
      "\u001b[1m24/24\u001b[0m \u001b[32m━━━━━━━━━━━━━━━━━━━━\u001b[0m\u001b[37m\u001b[0m \u001b[1m0s\u001b[0m 3ms/step - accuracy: 0.5771 - loss: 1.7939 - val_accuracy: 0.6136 - val_loss: 1.0217\n",
      "Epoch 3/50\n",
      "\u001b[1m24/24\u001b[0m \u001b[32m━━━━━━━━━━━━━━━━━━━━\u001b[0m\u001b[37m\u001b[0m \u001b[1m0s\u001b[0m 3ms/step - accuracy: 0.6238 - loss: 1.3647 - val_accuracy: 0.5833 - val_loss: 0.7655\n",
      "Epoch 4/50\n",
      "\u001b[1m24/24\u001b[0m \u001b[32m━━━━━━━━━━━━━━━━━━━━\u001b[0m\u001b[37m\u001b[0m \u001b[1m0s\u001b[0m 3ms/step - accuracy: 0.5996 - loss: 1.2296 - val_accuracy: 0.6061 - val_loss: 0.6659\n",
      "Epoch 5/50\n",
      "\u001b[1m24/24\u001b[0m \u001b[32m━━━━━━━━━━━━━━━━━━━━\u001b[0m\u001b[37m\u001b[0m \u001b[1m0s\u001b[0m 3ms/step - accuracy: 0.6097 - loss: 1.0162 - val_accuracy: 0.6136 - val_loss: 0.6367\n",
      "Epoch 6/50\n",
      "\u001b[1m24/24\u001b[0m \u001b[32m━━━━━━━━━━━━━━━━━━━━\u001b[0m\u001b[37m\u001b[0m \u001b[1m0s\u001b[0m 3ms/step - accuracy: 0.6009 - loss: 1.1086 - val_accuracy: 0.6061 - val_loss: 0.6407\n",
      "Epoch 7/50\n",
      "\u001b[1m24/24\u001b[0m \u001b[32m━━━━━━━━━━━━━━━━━━━━\u001b[0m\u001b[37m\u001b[0m \u001b[1m0s\u001b[0m 3ms/step - accuracy: 0.6625 - loss: 0.7366 - val_accuracy: 0.5985 - val_loss: 0.6382\n",
      "Epoch 8/50\n",
      "\u001b[1m24/24\u001b[0m \u001b[32m━━━━━━━━━━━━━━━━━━━━\u001b[0m\u001b[37m\u001b[0m \u001b[1m0s\u001b[0m 3ms/step - accuracy: 0.6494 - loss: 0.8757 - val_accuracy: 0.5909 - val_loss: 0.6425\n",
      "Epoch 9/50\n",
      "\u001b[1m24/24\u001b[0m \u001b[32m━━━━━━━━━━━━━━━━━━━━\u001b[0m\u001b[37m\u001b[0m \u001b[1m0s\u001b[0m 3ms/step - accuracy: 0.6060 - loss: 0.8879 - val_accuracy: 0.5909 - val_loss: 0.6495\n",
      "Epoch 10/50\n",
      "\u001b[1m24/24\u001b[0m \u001b[32m━━━━━━━━━━━━━━━━━━━━\u001b[0m\u001b[37m\u001b[0m \u001b[1m0s\u001b[0m 3ms/step - accuracy: 0.6839 - loss: 0.7151 - val_accuracy: 0.5909 - val_loss: 0.6479\n",
      "Epoch 11/50\n",
      "\u001b[1m24/24\u001b[0m \u001b[32m━━━━━━━━━━━━━━━━━━━━\u001b[0m\u001b[37m\u001b[0m \u001b[1m0s\u001b[0m 3ms/step - accuracy: 0.6462 - loss: 0.7808 - val_accuracy: 0.5833 - val_loss: 0.6515\n",
      "Epoch 12/50\n",
      "\u001b[1m24/24\u001b[0m \u001b[32m━━━━━━━━━━━━━━━━━━━━\u001b[0m\u001b[37m\u001b[0m \u001b[1m0s\u001b[0m 3ms/step - accuracy: 0.6869 - loss: 0.7179 - val_accuracy: 0.5833 - val_loss: 0.6502\n",
      "Epoch 13/50\n",
      "\u001b[1m24/24\u001b[0m \u001b[32m━━━━━━━━━━━━━━━━━━━━\u001b[0m\u001b[37m\u001b[0m \u001b[1m0s\u001b[0m 3ms/step - accuracy: 0.6652 - loss: 0.7403 - val_accuracy: 0.5833 - val_loss: 0.6506\n",
      "Epoch 14/50\n",
      "\u001b[1m24/24\u001b[0m \u001b[32m━━━━━━━━━━━━━━━━━━━━\u001b[0m\u001b[37m\u001b[0m \u001b[1m0s\u001b[0m 3ms/step - accuracy: 0.6461 - loss: 0.7074 - val_accuracy: 0.5833 - val_loss: 0.6505\n",
      "Epoch 15/50\n",
      "\u001b[1m24/24\u001b[0m \u001b[32m━━━━━━━━━━━━━━━━━━━━\u001b[0m\u001b[37m\u001b[0m \u001b[1m0s\u001b[0m 3ms/step - accuracy: 0.6890 - loss: 0.6327 - val_accuracy: 0.5985 - val_loss: 0.6470\n",
      "Epoch 16/50\n",
      "\u001b[1m24/24\u001b[0m \u001b[32m━━━━━━━━━━━━━━━━━━━━\u001b[0m\u001b[37m\u001b[0m \u001b[1m0s\u001b[0m 3ms/step - accuracy: 0.6212 - loss: 0.7121 - val_accuracy: 0.5606 - val_loss: 0.6488\n",
      "Epoch 17/50\n",
      "\u001b[1m24/24\u001b[0m \u001b[32m━━━━━━━━━━━━━━━━━━━━\u001b[0m\u001b[37m\u001b[0m \u001b[1m0s\u001b[0m 4ms/step - accuracy: 0.6824 - loss: 0.6241 - val_accuracy: 0.5606 - val_loss: 0.6459\n",
      "Epoch 18/50\n",
      "\u001b[1m24/24\u001b[0m \u001b[32m━━━━━━━━━━━━━━━━━━━━\u001b[0m\u001b[37m\u001b[0m \u001b[1m0s\u001b[0m 3ms/step - accuracy: 0.6658 - loss: 0.6492 - val_accuracy: 0.5606 - val_loss: 0.6428\n",
      "Epoch 19/50\n",
      "\u001b[1m24/24\u001b[0m \u001b[32m━━━━━━━━━━━━━━━━━━━━\u001b[0m\u001b[37m\u001b[0m \u001b[1m0s\u001b[0m 3ms/step - accuracy: 0.6692 - loss: 0.6517 - val_accuracy: 0.5758 - val_loss: 0.6399\n",
      "Epoch 20/50\n",
      "\u001b[1m24/24\u001b[0m \u001b[32m━━━━━━━━━━━━━━━━━━━━\u001b[0m\u001b[37m\u001b[0m \u001b[1m0s\u001b[0m 4ms/step - accuracy: 0.6460 - loss: 0.6511 - val_accuracy: 0.5909 - val_loss: 0.6388\n",
      "Epoch 21/50\n",
      "\u001b[1m24/24\u001b[0m \u001b[32m━━━━━━━━━━━━━━━━━━━━\u001b[0m\u001b[37m\u001b[0m \u001b[1m0s\u001b[0m 3ms/step - accuracy: 0.6905 - loss: 0.6106 - val_accuracy: 0.5606 - val_loss: 0.6437\n",
      "Epoch 22/50\n",
      "\u001b[1m24/24\u001b[0m \u001b[32m━━━━━━━━━━━━━━━━━━━━\u001b[0m\u001b[37m\u001b[0m \u001b[1m0s\u001b[0m 3ms/step - accuracy: 0.6763 - loss: 0.6341 - val_accuracy: 0.5682 - val_loss: 0.6459\n",
      "Epoch 23/50\n",
      "\u001b[1m24/24\u001b[0m \u001b[32m━━━━━━━━━━━━━━━━━━━━\u001b[0m\u001b[37m\u001b[0m \u001b[1m0s\u001b[0m 3ms/step - accuracy: 0.6734 - loss: 0.6033 - val_accuracy: 0.5682 - val_loss: 0.6444\n",
      "Epoch 24/50\n",
      "\u001b[1m24/24\u001b[0m \u001b[32m━━━━━━━━━━━━━━━━━━━━\u001b[0m\u001b[37m\u001b[0m \u001b[1m0s\u001b[0m 3ms/step - accuracy: 0.6594 - loss: 0.7290 - val_accuracy: 0.5758 - val_loss: 0.6446\n",
      "Epoch 25/50\n",
      "\u001b[1m24/24\u001b[0m \u001b[32m━━━━━━━━━━━━━━━━━━━━\u001b[0m\u001b[37m\u001b[0m \u001b[1m0s\u001b[0m 3ms/step - accuracy: 0.6867 - loss: 0.6441 - val_accuracy: 0.5682 - val_loss: 0.6446\n",
      "Epoch 26/50\n",
      "\u001b[1m24/24\u001b[0m \u001b[32m━━━━━━━━━━━━━━━━━━━━\u001b[0m\u001b[37m\u001b[0m \u001b[1m0s\u001b[0m 3ms/step - accuracy: 0.6896 - loss: 0.6384 - val_accuracy: 0.5833 - val_loss: 0.6451\n",
      "Epoch 27/50\n",
      "\u001b[1m24/24\u001b[0m \u001b[32m━━━━━━━━━━━━━━━━━━━━\u001b[0m\u001b[37m\u001b[0m \u001b[1m0s\u001b[0m 3ms/step - accuracy: 0.6979 - loss: 0.6201 - val_accuracy: 0.5758 - val_loss: 0.6432\n",
      "Epoch 28/50\n",
      "\u001b[1m24/24\u001b[0m \u001b[32m━━━━━━━━━━━━━━━━━━━━\u001b[0m\u001b[37m\u001b[0m \u001b[1m0s\u001b[0m 3ms/step - accuracy: 0.6901 - loss: 0.6092 - val_accuracy: 0.5682 - val_loss: 0.6420\n",
      "Epoch 29/50\n",
      "\u001b[1m24/24\u001b[0m \u001b[32m━━━━━━━━━━━━━━━━━━━━\u001b[0m\u001b[37m\u001b[0m \u001b[1m0s\u001b[0m 3ms/step - accuracy: 0.6863 - loss: 0.6223 - val_accuracy: 0.5758 - val_loss: 0.6438\n",
      "Epoch 30/50\n",
      "\u001b[1m24/24\u001b[0m \u001b[32m━━━━━━━━━━━━━━━━━━━━\u001b[0m\u001b[37m\u001b[0m \u001b[1m0s\u001b[0m 3ms/step - accuracy: 0.6902 - loss: 0.6079 - val_accuracy: 0.5682 - val_loss: 0.6433\n",
      "Epoch 31/50\n",
      "\u001b[1m24/24\u001b[0m \u001b[32m━━━━━━━━━━━━━━━━━━━━\u001b[0m\u001b[37m\u001b[0m \u001b[1m0s\u001b[0m 3ms/step - accuracy: 0.6584 - loss: 0.6178 - val_accuracy: 0.5758 - val_loss: 0.6390\n",
      "Epoch 32/50\n",
      "\u001b[1m24/24\u001b[0m \u001b[32m━━━━━━━━━━━━━━━━━━━━\u001b[0m\u001b[37m\u001b[0m \u001b[1m0s\u001b[0m 3ms/step - accuracy: 0.6704 - loss: 0.6645 - val_accuracy: 0.5758 - val_loss: 0.6385\n",
      "Epoch 33/50\n",
      "\u001b[1m24/24\u001b[0m \u001b[32m━━━━━━━━━━━━━━━━━━━━\u001b[0m\u001b[37m\u001b[0m \u001b[1m0s\u001b[0m 3ms/step - accuracy: 0.6597 - loss: 0.6320 - val_accuracy: 0.5758 - val_loss: 0.6370\n",
      "Epoch 34/50\n",
      "\u001b[1m24/24\u001b[0m \u001b[32m━━━━━━━━━━━━━━━━━━━━\u001b[0m\u001b[37m\u001b[0m \u001b[1m0s\u001b[0m 3ms/step - accuracy: 0.6733 - loss: 0.6189 - val_accuracy: 0.5758 - val_loss: 0.6368\n",
      "Epoch 35/50\n",
      "\u001b[1m24/24\u001b[0m \u001b[32m━━━━━━━━━━━━━━━━━━━━\u001b[0m\u001b[37m\u001b[0m \u001b[1m0s\u001b[0m 3ms/step - accuracy: 0.6879 - loss: 0.6003 - val_accuracy: 0.5833 - val_loss: 0.6317\n",
      "Epoch 36/50\n",
      "\u001b[1m24/24\u001b[0m \u001b[32m━━━━━━━━━━━━━━━━━━━━\u001b[0m\u001b[37m\u001b[0m \u001b[1m0s\u001b[0m 3ms/step - accuracy: 0.6405 - loss: 0.6507 - val_accuracy: 0.5909 - val_loss: 0.6311\n",
      "Epoch 37/50\n",
      "\u001b[1m24/24\u001b[0m \u001b[32m━━━━━━━━━━━━━━━━━━━━\u001b[0m\u001b[37m\u001b[0m \u001b[1m0s\u001b[0m 3ms/step - accuracy: 0.6834 - loss: 0.5987 - val_accuracy: 0.5833 - val_loss: 0.6289\n",
      "Epoch 38/50\n",
      "\u001b[1m24/24\u001b[0m \u001b[32m━━━━━━━━━━━━━━━━━━━━\u001b[0m\u001b[37m\u001b[0m \u001b[1m0s\u001b[0m 3ms/step - accuracy: 0.6710 - loss: 0.5906 - val_accuracy: 0.5909 - val_loss: 0.6285\n",
      "Epoch 39/50\n",
      "\u001b[1m24/24\u001b[0m \u001b[32m━━━━━━━━━━━━━━━━━━━━\u001b[0m\u001b[37m\u001b[0m \u001b[1m0s\u001b[0m 3ms/step - accuracy: 0.6863 - loss: 0.5892 - val_accuracy: 0.5833 - val_loss: 0.6295\n",
      "Epoch 40/50\n",
      "\u001b[1m24/24\u001b[0m \u001b[32m━━━━━━━━━━━━━━━━━━━━\u001b[0m\u001b[37m\u001b[0m \u001b[1m0s\u001b[0m 3ms/step - accuracy: 0.6912 - loss: 0.5986 - val_accuracy: 0.5833 - val_loss: 0.6314\n",
      "Epoch 41/50\n",
      "\u001b[1m24/24\u001b[0m \u001b[32m━━━━━━━━━━━━━━━━━━━━\u001b[0m\u001b[37m\u001b[0m \u001b[1m0s\u001b[0m 3ms/step - accuracy: 0.7091 - loss: 0.5841 - val_accuracy: 0.5833 - val_loss: 0.6288\n",
      "Epoch 42/50\n",
      "\u001b[1m24/24\u001b[0m \u001b[32m━━━━━━━━━━━━━━━━━━━━\u001b[0m\u001b[37m\u001b[0m \u001b[1m0s\u001b[0m 3ms/step - accuracy: 0.6703 - loss: 0.6049 - val_accuracy: 0.5833 - val_loss: 0.6255\n",
      "Epoch 43/50\n",
      "\u001b[1m24/24\u001b[0m \u001b[32m━━━━━━━━━━━━━━━━━━━━\u001b[0m\u001b[37m\u001b[0m \u001b[1m0s\u001b[0m 3ms/step - accuracy: 0.6706 - loss: 0.6170 - val_accuracy: 0.5833 - val_loss: 0.6254\n",
      "Epoch 44/50\n",
      "\u001b[1m24/24\u001b[0m \u001b[32m━━━━━━━━━━━━━━━━━━━━\u001b[0m\u001b[37m\u001b[0m \u001b[1m0s\u001b[0m 3ms/step - accuracy: 0.6929 - loss: 0.5774 - val_accuracy: 0.5909 - val_loss: 0.6289\n",
      "Epoch 45/50\n",
      "\u001b[1m24/24\u001b[0m \u001b[32m━━━━━━━━━━━━━━━━━━━━\u001b[0m\u001b[37m\u001b[0m \u001b[1m0s\u001b[0m 3ms/step - accuracy: 0.6837 - loss: 0.5886 - val_accuracy: 0.5758 - val_loss: 0.6240\n",
      "Epoch 46/50\n",
      "\u001b[1m24/24\u001b[0m \u001b[32m━━━━━━━━━━━━━━━━━━━━\u001b[0m\u001b[37m\u001b[0m \u001b[1m0s\u001b[0m 3ms/step - accuracy: 0.6796 - loss: 0.6001 - val_accuracy: 0.5758 - val_loss: 0.6228\n",
      "Epoch 47/50\n",
      "\u001b[1m24/24\u001b[0m \u001b[32m━━━━━━━━━━━━━━━━━━━━\u001b[0m\u001b[37m\u001b[0m \u001b[1m0s\u001b[0m 3ms/step - accuracy: 0.6749 - loss: 0.5943 - val_accuracy: 0.5833 - val_loss: 0.6192\n",
      "Epoch 48/50\n",
      "\u001b[1m24/24\u001b[0m \u001b[32m━━━━━━━━━━━━━━━━━━━━\u001b[0m\u001b[37m\u001b[0m \u001b[1m0s\u001b[0m 3ms/step - accuracy: 0.6879 - loss: 0.5943 - val_accuracy: 0.5909 - val_loss: 0.6196\n",
      "Epoch 49/50\n",
      "\u001b[1m24/24\u001b[0m \u001b[32m━━━━━━━━━━━━━━━━━━━━\u001b[0m\u001b[37m\u001b[0m \u001b[1m0s\u001b[0m 3ms/step - accuracy: 0.6940 - loss: 0.5903 - val_accuracy: 0.5833 - val_loss: 0.6193\n",
      "Epoch 50/50\n",
      "\u001b[1m24/24\u001b[0m \u001b[32m━━━━━━━━━━━━━━━━━━━━\u001b[0m\u001b[37m\u001b[0m \u001b[1m0s\u001b[0m 3ms/step - accuracy: 0.6775 - loss: 0.5908 - val_accuracy: 0.5833 - val_loss: 0.6169\n"
     ]
    }
   ],
   "source": [
    "# Define the model\n",
    "model_nn = Sequential([\n",
    "    Input(shape=(len(features_nn),)),\n",
    "    Dense(64, activation='relu'),\n",
    "    Dropout(0.3),\n",
    "    Dense(32, activation='relu'),\n",
    "    Dropout(0.3),\n",
    "    Dense(1, activation='sigmoid')  # Output layer for binary classification\n",
    "])\n",
    "\n",
    "# Compile the model\n",
    "model_nn.compile(optimizer='adam',  # Adam optimizer\n",
    "              loss='binary_crossentropy',  # Loss function for binary classification\n",
    "              metrics=['accuracy'])  # Metrics to monitor during training\n",
    "\n",
    "# Summary of the model\n",
    "model_nn.summary()\n",
    "\n",
    "# Training the model\n",
    "# Replace `X_train`, `y_train` with your training data\n",
    "history = model_nn.fit(X_train_preprocessed_nn, y_train, \n",
    "                    validation_data=(X_val_preprocessed_nn, y_val),\n",
    "                    epochs=50,  # Number of epochs\n",
    "                    batch_size=32)  # Batch size"
   ]
  },
  {
   "cell_type": "code",
   "execution_count": 23,
   "id": "843d2fd7",
   "metadata": {
    "execution": {
     "iopub.execute_input": "2024-11-28T17:14:12.896354Z",
     "iopub.status.busy": "2024-11-28T17:14:12.894878Z",
     "iopub.status.idle": "2024-11-28T17:14:13.173318Z",
     "shell.execute_reply": "2024-11-28T17:14:13.172183Z"
    },
    "papermill": {
     "duration": 0.300098,
     "end_time": "2024-11-28T17:14:13.176068",
     "exception": false,
     "start_time": "2024-11-28T17:14:12.875970",
     "status": "completed"
    },
    "tags": []
   },
   "outputs": [
    {
     "name": "stdout",
     "output_type": "stream",
     "text": [
      "\u001b[1m24/24\u001b[0m \u001b[32m━━━━━━━━━━━━━━━━━━━━\u001b[0m\u001b[37m\u001b[0m \u001b[1m0s\u001b[0m 3ms/step\n",
      "\u001b[1m5/5\u001b[0m \u001b[32m━━━━━━━━━━━━━━━━━━━━\u001b[0m\u001b[37m\u001b[0m \u001b[1m0s\u001b[0m 2ms/step \n"
     ]
    }
   ],
   "source": [
    "y_pred_train = model_nn.predict(X_train_preprocessed_nn).round()\n",
    "y_pred_val = model_nn.predict(X_val_preprocessed_nn).round()"
   ]
  },
  {
   "cell_type": "code",
   "execution_count": 24,
   "id": "7938f1a1",
   "metadata": {
    "execution": {
     "iopub.execute_input": "2024-11-28T17:14:13.211646Z",
     "iopub.status.busy": "2024-11-28T17:14:13.211253Z",
     "iopub.status.idle": "2024-11-28T17:14:13.221861Z",
     "shell.execute_reply": "2024-11-28T17:14:13.220369Z"
    },
    "papermill": {
     "duration": 0.031797,
     "end_time": "2024-11-28T17:14:13.224609",
     "exception": false,
     "start_time": "2024-11-28T17:14:13.192812",
     "status": "completed"
    },
    "tags": []
   },
   "outputs": [
    {
     "data": {
      "text/plain": [
       "0.6877470355731226"
      ]
     },
     "execution_count": 24,
     "metadata": {},
     "output_type": "execute_result"
    }
   ],
   "source": [
    "accuracy_score(y_pred_train, y_train)"
   ]
  },
  {
   "cell_type": "code",
   "execution_count": 25,
   "id": "6b631ac8",
   "metadata": {
    "execution": {
     "iopub.execute_input": "2024-11-28T17:14:13.259760Z",
     "iopub.status.busy": "2024-11-28T17:14:13.259355Z",
     "iopub.status.idle": "2024-11-28T17:14:13.268151Z",
     "shell.execute_reply": "2024-11-28T17:14:13.267188Z"
    },
    "papermill": {
     "duration": 0.028823,
     "end_time": "2024-11-28T17:14:13.270273",
     "exception": false,
     "start_time": "2024-11-28T17:14:13.241450",
     "status": "completed"
    },
    "tags": []
   },
   "outputs": [
    {
     "data": {
      "text/plain": [
       "0.5833333333333334"
      ]
     },
     "execution_count": 25,
     "metadata": {},
     "output_type": "execute_result"
    }
   ],
   "source": [
    "accuracy_score(y_pred_val, y_val)"
   ]
  },
  {
   "cell_type": "markdown",
   "id": "6f32950a",
   "metadata": {
    "papermill": {
     "duration": 0.019244,
     "end_time": "2024-11-28T17:14:13.306756",
     "exception": false,
     "start_time": "2024-11-28T17:14:13.287512",
     "status": "completed"
    },
    "tags": []
   },
   "source": [
    "# Leaderboard"
   ]
  },
  {
   "cell_type": "code",
   "execution_count": 26,
   "id": "afa6812c",
   "metadata": {
    "execution": {
     "iopub.execute_input": "2024-11-28T17:14:13.342610Z",
     "iopub.status.busy": "2024-11-28T17:14:13.342204Z",
     "iopub.status.idle": "2024-11-28T17:14:13.400521Z",
     "shell.execute_reply": "2024-11-28T17:14:13.399547Z"
    },
    "papermill": {
     "duration": 0.079389,
     "end_time": "2024-11-28T17:14:13.403385",
     "exception": false,
     "start_time": "2024-11-28T17:14:13.323996",
     "status": "completed"
    },
    "tags": []
   },
   "outputs": [],
   "source": [
    "# Adding models to the Leaderboard.\n",
    "gender_model_evaluation = evaluate_model(\n",
    "    model=gender_model, X_train=X_train, y_train=y_train,\n",
    "    X_val=X_val, y_val=y_val)\n",
    "\n",
    "random_forest_evaluation = evaluate_model(\n",
    "    model=random_forest_model, X_train=X_train_preprocessed_rf, y_train=y_train,\n",
    "    X_val=X_val_preprocessed_rf, y_val=y_val)\n",
    "\n",
    "xgb_evaluation = evaluate_model(\n",
    "    model=xgboost_model, X_train=X_train_preprocessed_xgb,\n",
    "    y_train=y_train, X_val=X_val_preprocessed_xgb, y_val=y_val)"
   ]
  },
  {
   "cell_type": "code",
   "execution_count": 27,
   "id": "de01ca42",
   "metadata": {
    "execution": {
     "iopub.execute_input": "2024-11-28T17:14:13.441882Z",
     "iopub.status.busy": "2024-11-28T17:14:13.440746Z",
     "iopub.status.idle": "2024-11-28T17:14:13.464679Z",
     "shell.execute_reply": "2024-11-28T17:14:13.462624Z"
    },
    "papermill": {
     "duration": 0.044741,
     "end_time": "2024-11-28T17:14:13.467291",
     "exception": false,
     "start_time": "2024-11-28T17:14:13.422550",
     "status": "completed"
    },
    "tags": []
   },
   "outputs": [
    {
     "data": {
      "text/html": [
       "<div>\n",
       "<style scoped>\n",
       "    .dataframe tbody tr th:only-of-type {\n",
       "        vertical-align: middle;\n",
       "    }\n",
       "\n",
       "    .dataframe tbody tr th {\n",
       "        vertical-align: top;\n",
       "    }\n",
       "\n",
       "    .dataframe thead th {\n",
       "        text-align: right;\n",
       "    }\n",
       "</style>\n",
       "<table border=\"1\" class=\"dataframe\">\n",
       "  <thead>\n",
       "    <tr style=\"text-align: right;\">\n",
       "      <th></th>\n",
       "      <th>model</th>\n",
       "      <th>training_accuracy</th>\n",
       "      <th>validation_accuracy</th>\n",
       "    </tr>\n",
       "  </thead>\n",
       "  <tbody>\n",
       "    <tr>\n",
       "      <th>2</th>\n",
       "      <td>XGBRFClassifier(base_score=None, booster=None,...</td>\n",
       "      <td>0.828722</td>\n",
       "      <td>0.833333</td>\n",
       "    </tr>\n",
       "    <tr>\n",
       "      <th>1</th>\n",
       "      <td>RandomForestClassifier()</td>\n",
       "      <td>0.798419</td>\n",
       "      <td>0.810606</td>\n",
       "    </tr>\n",
       "    <tr>\n",
       "      <th>0</th>\n",
       "      <td>GenderModel()</td>\n",
       "      <td>0.783926</td>\n",
       "      <td>0.803030</td>\n",
       "    </tr>\n",
       "  </tbody>\n",
       "</table>\n",
       "</div>"
      ],
      "text/plain": [
       "                                               model  training_accuracy  \\\n",
       "2  XGBRFClassifier(base_score=None, booster=None,...           0.828722   \n",
       "1                           RandomForestClassifier()           0.798419   \n",
       "0                                      GenderModel()           0.783926   \n",
       "\n",
       "   validation_accuracy  \n",
       "2             0.833333  \n",
       "1             0.810606  \n",
       "0             0.803030  "
      ]
     },
     "execution_count": 27,
     "metadata": {},
     "output_type": "execute_result"
    }
   ],
   "source": [
    "leaderboard = pd.DataFrame([\n",
    "gender_model_evaluation, random_forest_evaluation, xgb_evaluation])\n",
    "\n",
    "leaderboard.sort_values(by='validation_accuracy', ascending=False, inplace=True)\n",
    "\n",
    "leaderboard.head(len(leaderboard))"
   ]
  },
  {
   "cell_type": "code",
   "execution_count": 28,
   "id": "cbcdccf3",
   "metadata": {
    "execution": {
     "iopub.execute_input": "2024-11-28T17:14:13.504712Z",
     "iopub.status.busy": "2024-11-28T17:14:13.504325Z",
     "iopub.status.idle": "2024-11-28T17:14:13.543868Z",
     "shell.execute_reply": "2024-11-28T17:14:13.542925Z"
    },
    "papermill": {
     "duration": 0.061559,
     "end_time": "2024-11-28T17:14:13.546454",
     "exception": false,
     "start_time": "2024-11-28T17:14:13.484895",
     "status": "completed"
    },
    "tags": []
   },
   "outputs": [
    {
     "data": {
      "text/html": [
       "<div>\n",
       "<style scoped>\n",
       "    .dataframe tbody tr th:only-of-type {\n",
       "        vertical-align: middle;\n",
       "    }\n",
       "\n",
       "    .dataframe tbody tr th {\n",
       "        vertical-align: top;\n",
       "    }\n",
       "\n",
       "    .dataframe thead th {\n",
       "        text-align: right;\n",
       "    }\n",
       "</style>\n",
       "<table border=\"1\" class=\"dataframe\">\n",
       "  <thead>\n",
       "    <tr style=\"text-align: right;\">\n",
       "      <th></th>\n",
       "      <th>PassengerId</th>\n",
       "      <th>Survived</th>\n",
       "    </tr>\n",
       "  </thead>\n",
       "  <tbody>\n",
       "    <tr>\n",
       "      <th>0</th>\n",
       "      <td>892</td>\n",
       "      <td>0</td>\n",
       "    </tr>\n",
       "    <tr>\n",
       "      <th>1</th>\n",
       "      <td>893</td>\n",
       "      <td>1</td>\n",
       "    </tr>\n",
       "    <tr>\n",
       "      <th>2</th>\n",
       "      <td>894</td>\n",
       "      <td>0</td>\n",
       "    </tr>\n",
       "    <tr>\n",
       "      <th>3</th>\n",
       "      <td>895</td>\n",
       "      <td>0</td>\n",
       "    </tr>\n",
       "    <tr>\n",
       "      <th>4</th>\n",
       "      <td>896</td>\n",
       "      <td>1</td>\n",
       "    </tr>\n",
       "  </tbody>\n",
       "</table>\n",
       "</div>"
      ],
      "text/plain": [
       "   PassengerId  Survived\n",
       "0          892         0\n",
       "1          893         1\n",
       "2          894         0\n",
       "3          895         0\n",
       "4          896         1"
      ]
     },
     "execution_count": 28,
     "metadata": {},
     "output_type": "execute_result"
    }
   ],
   "source": [
    "# Predicting on X_test.\n",
    "X_test_preprocessed_xgb = preprocess(X_test).reindex(\n",
    "    columns=features_xgb, fill_value=0)\n",
    "y_pred_test = xgboost_model.predict(X_test_preprocessed_xgb)\n",
    "\n",
    "submission_df = pd.DataFrame({\n",
    "    \"PassengerId\": X_test.PassengerId,\n",
    "    \"Survived\": y_pred_test\n",
    "})\n",
    "\n",
    "submission_df.head()"
   ]
  },
  {
   "cell_type": "code",
   "execution_count": 29,
   "id": "5752a0a9",
   "metadata": {
    "execution": {
     "iopub.execute_input": "2024-11-28T17:14:13.583495Z",
     "iopub.status.busy": "2024-11-28T17:14:13.583099Z",
     "iopub.status.idle": "2024-11-28T17:14:13.592538Z",
     "shell.execute_reply": "2024-11-28T17:14:13.591331Z"
    },
    "papermill": {
     "duration": 0.03012,
     "end_time": "2024-11-28T17:14:13.594657",
     "exception": false,
     "start_time": "2024-11-28T17:14:13.564537",
     "status": "completed"
    },
    "tags": []
   },
   "outputs": [
    {
     "name": "stdout",
     "output_type": "stream",
     "text": [
      "Submission saved to submission.csv\n"
     ]
    }
   ],
   "source": [
    "submission_df.to_csv('submission.csv', index=False)\n",
    "print(\"Submission saved to submission.csv\")"
   ]
  }
 ],
 "metadata": {
  "kaggle": {
   "accelerator": "none",
   "dataSources": [
    {
     "databundleVersionId": 26502,
     "sourceId": 3136,
     "sourceType": "competition"
    }
   ],
   "dockerImageVersionId": 30786,
   "isGpuEnabled": false,
   "isInternetEnabled": true,
   "language": "python",
   "sourceType": "notebook"
  },
  "kernelspec": {
   "display_name": "Python 3",
   "language": "python",
   "name": "python3"
  },
  "language_info": {
   "codemirror_mode": {
    "name": "ipython",
    "version": 3
   },
   "file_extension": ".py",
   "mimetype": "text/x-python",
   "name": "python",
   "nbconvert_exporter": "python",
   "pygments_lexer": "ipython3",
   "version": "3.10.14"
  },
  "papermill": {
   "default_parameters": {},
   "duration": 79.550806,
   "end_time": "2024-11-28T17:14:15.910304",
   "environment_variables": {},
   "exception": null,
   "input_path": "__notebook__.ipynb",
   "output_path": "__notebook__.ipynb",
   "parameters": {},
   "start_time": "2024-11-28T17:12:56.359498",
   "version": "2.6.0"
  }
 },
 "nbformat": 4,
 "nbformat_minor": 5
}
