{
 "cells": [
  {
   "cell_type": "code",
   "execution_count": 1,
   "id": "6b0d5abf",
   "metadata": {
    "execution": {
     "iopub.execute_input": "2024-12-31T17:16:40.044617Z",
     "iopub.status.busy": "2024-12-31T17:16:40.044224Z",
     "iopub.status.idle": "2024-12-31T17:16:55.517532Z",
     "shell.execute_reply": "2024-12-31T17:16:55.516489Z"
    },
    "papermill": {
     "duration": 15.492456,
     "end_time": "2024-12-31T17:16:55.519945",
     "exception": false,
     "start_time": "2024-12-31T17:16:40.027489",
     "status": "completed"
    },
    "tags": []
   },
   "outputs": [],
   "source": [
    "# TODO: Do a better job imputing missing values.\n",
    "# https://www.kaggle.com/code/allohvk/titanic-missing-age-imputation-tutorial-advanced\n",
    "# https://scikit-learn.org/stable/modules/impute.html\n",
    "# $0 Fares could be for crew members.\n",
    "import datetime\n",
    "import matplotlib.pyplot as plt\n",
    "import numpy as np\n",
    "import pandas as pd\n",
    "import string\n",
    "\n",
    "from sklearn.base import BaseEstimator\n",
    "from sklearn.ensemble import RandomForestClassifier\n",
    "from sklearn.linear_model import LogisticRegression\n",
    "from sklearn.metrics import accuracy_score\n",
    "from sklearn.model_selection import GridSearchCV, StratifiedKFold, train_test_split\n",
    "from sklearn.preprocessing import StandardScaler\n",
    "from tensorflow.keras import layers, Sequential\n",
    "from tensorflow.keras.callbacks import EarlyStopping\n",
    "from tensorflow.keras.optimizers import Adam\n",
    "from typing import Union\n",
    "from xgboost import XGBClassifier"
   ]
  },
  {
   "cell_type": "code",
   "execution_count": 2,
   "id": "eb846dd5",
   "metadata": {
    "execution": {
     "iopub.execute_input": "2024-12-31T17:16:55.536822Z",
     "iopub.status.busy": "2024-12-31T17:16:55.536199Z",
     "iopub.status.idle": "2024-12-31T17:16:55.561532Z",
     "shell.execute_reply": "2024-12-31T17:16:55.560553Z"
    },
    "papermill": {
     "duration": 0.036138,
     "end_time": "2024-12-31T17:16:55.563747",
     "exception": false,
     "start_time": "2024-12-31T17:16:55.527609",
     "status": "completed"
    },
    "tags": []
   },
   "outputs": [],
   "source": [
    "# Loading CSVs into Pandas DataFrame\n",
    "train_df = pd.read_csv('/kaggle/input/titanic/train.csv')\n",
    "X_test = pd.read_csv('/kaggle/input/titanic/test.csv')"
   ]
  },
  {
   "cell_type": "markdown",
   "id": "37dcdc51",
   "metadata": {
    "papermill": {
     "duration": 0.007049,
     "end_time": "2024-12-31T17:16:55.579132",
     "exception": false,
     "start_time": "2024-12-31T17:16:55.572083",
     "status": "completed"
    },
    "tags": []
   },
   "source": [
    "# Preprocessing\n",
    "## Creating Training and Validation Sets"
   ]
  },
  {
   "cell_type": "code",
   "execution_count": 3,
   "id": "7c23c89f",
   "metadata": {
    "execution": {
     "iopub.execute_input": "2024-12-31T17:16:55.595112Z",
     "iopub.status.busy": "2024-12-31T17:16:55.594715Z",
     "iopub.status.idle": "2024-12-31T17:16:55.617717Z",
     "shell.execute_reply": "2024-12-31T17:16:55.616519Z"
    },
    "papermill": {
     "duration": 0.033835,
     "end_time": "2024-12-31T17:16:55.620169",
     "exception": false,
     "start_time": "2024-12-31T17:16:55.586334",
     "status": "completed"
    },
    "tags": []
   },
   "outputs": [],
   "source": [
    "y_train_val = train_df.Survived\n",
    "X_train_val = train_df.drop('Survived', axis=1)\n",
    "\n",
    "X_train, X_val, y_train, y_val = train_test_split(\n",
    "    X_train_val, y_train_val, test_size=0.25, stratify=y_train_val)"
   ]
  },
  {
   "cell_type": "markdown",
   "id": "4e0408c6",
   "metadata": {
    "papermill": {
     "duration": 0.007001,
     "end_time": "2024-12-31T17:16:55.634518",
     "exception": false,
     "start_time": "2024-12-31T17:16:55.627517",
     "status": "completed"
    },
    "tags": []
   },
   "source": [
    "## Creating Features"
   ]
  },
  {
   "cell_type": "code",
   "execution_count": 4,
   "id": "250535ae",
   "metadata": {
    "execution": {
     "iopub.execute_input": "2024-12-31T17:16:55.650676Z",
     "iopub.status.busy": "2024-12-31T17:16:55.650002Z",
     "iopub.status.idle": "2024-12-31T17:16:55.655281Z",
     "shell.execute_reply": "2024-12-31T17:16:55.654181Z"
    },
    "papermill": {
     "duration": 0.015619,
     "end_time": "2024-12-31T17:16:55.657305",
     "exception": false,
     "start_time": "2024-12-31T17:16:55.641686",
     "status": "completed"
    },
    "tags": []
   },
   "outputs": [],
   "source": [
    "import re\n",
    "\n",
    "def get_title(row):\n",
    "    # TODO: docstring\n",
    "    # the title is the first word before the period\n",
    "    pattern = r'\\b(\\w+)\\.'\n",
    "    match = re.search(pattern, row['Name'])\n",
    "    if match:\n",
    "        return match.group(1)\n",
    "    return None"
   ]
  },
  {
   "cell_type": "code",
   "execution_count": 5,
   "id": "c4788485",
   "metadata": {
    "execution": {
     "iopub.execute_input": "2024-12-31T17:16:55.673407Z",
     "iopub.status.busy": "2024-12-31T17:16:55.673020Z",
     "iopub.status.idle": "2024-12-31T17:16:55.679252Z",
     "shell.execute_reply": "2024-12-31T17:16:55.678268Z"
    },
    "papermill": {
     "duration": 0.016897,
     "end_time": "2024-12-31T17:16:55.681394",
     "exception": false,
     "start_time": "2024-12-31T17:16:55.664497",
     "status": "completed"
    },
    "tags": []
   },
   "outputs": [],
   "source": [
    "def get_title_group(row):\n",
    "    # TODO: docstring.  The point of the title group is to infer age.\n",
    "    title_group_dict = {\n",
    "        'Mr':       'grown_man',\n",
    "        'Miss':     'unmarried_female',\n",
    "        'Mrs':      'married_female',\n",
    "        'Master':   'child_male',\n",
    "        'Rev': \t    'nobility',\n",
    "        'Dr': \t    'nobility',\n",
    "        'Col':      'grown_man',\n",
    "        'Mlle':     'unmarried_female',\n",
    "        'Capt':     'nobility',\n",
    "        'Countess': 'unmarried_female',\n",
    "        'Don': \t    'nobility',\n",
    "        'Jonkheer': 'nobility',\n",
    "        'Major': \t'nobility',\n",
    "        'Mme': \t    'married_female',\n",
    "        'Ms':       'unmarried_female',\n",
    "        'Lady':     'married_female',\n",
    "        'Sir':      'grown_man',\n",
    "        'Dona':     'unmarried_female'\n",
    "    }\n",
    "    return title_group_dict[row['title']]"
   ]
  },
  {
   "cell_type": "code",
   "execution_count": 6,
   "id": "259fe163",
   "metadata": {
    "execution": {
     "iopub.execute_input": "2024-12-31T17:16:55.697978Z",
     "iopub.status.busy": "2024-12-31T17:16:55.697555Z",
     "iopub.status.idle": "2024-12-31T17:16:55.703469Z",
     "shell.execute_reply": "2024-12-31T17:16:55.702401Z"
    },
    "papermill": {
     "duration": 0.016617,
     "end_time": "2024-12-31T17:16:55.705604",
     "exception": false,
     "start_time": "2024-12-31T17:16:55.688987",
     "status": "completed"
    },
    "tags": []
   },
   "outputs": [],
   "source": [
    "def impute_age(row, age_groups):\n",
    "    # TODO: harden and include title\n",
    "    if pd.isnull(row['Age']):\n",
    "        # Get the mean age of passengers from the same gender and Pclass\n",
    "        return age_groups.loc[(\n",
    "            row['Sex'], row['Pclass'], row['title_group']),\n",
    "        'Age']\n",
    "    else:\n",
    "        return row['Age']"
   ]
  },
  {
   "cell_type": "code",
   "execution_count": 7,
   "id": "c774486d",
   "metadata": {
    "execution": {
     "iopub.execute_input": "2024-12-31T17:16:55.722086Z",
     "iopub.status.busy": "2024-12-31T17:16:55.721654Z",
     "iopub.status.idle": "2024-12-31T17:16:55.731396Z",
     "shell.execute_reply": "2024-12-31T17:16:55.730247Z"
    },
    "papermill": {
     "duration": 0.020364,
     "end_time": "2024-12-31T17:16:55.733496",
     "exception": false,
     "start_time": "2024-12-31T17:16:55.713132",
     "status": "completed"
    },
    "tags": []
   },
   "outputs": [],
   "source": [
    "def preprocess(X: pd.DataFrame) -> pd.DataFrame:\n",
    "    \"\"\"\n",
    "    Generates relevant features to predict whether a passenger survived the\n",
    "    Titanic disaster.\n",
    "    \n",
    "    Args:\n",
    "        X (pd.DataFrame): Features.\n",
    "\n",
    "    Returns:\n",
    "        pd.DataFrame: Subset of X with engineered columns defined by features\n",
    "            where multiclass variables are binarized.\n",
    "    \"\"\"\n",
    "    # Making a deep copy of X to not alter our original training data.\n",
    "    X_preprocessed = X.copy()\n",
    "\n",
    "    X_preprocessed['is_male'] = X_preprocessed['Sex'] == 'male'\n",
    "    X_preprocessed['is_child'] = X_preprocessed['Age'] < 18\n",
    "\n",
    "    # TODO: comments\n",
    "    X_preprocessed['title'] = X_preprocessed.apply(get_title, axis=1)\n",
    "    X_preprocessed['title_group'] = X_preprocessed.apply(get_title_group, axis=1)\n",
    "\n",
    "    # TODO pass age_groups to impute_age\n",
    "    age_groups = X_preprocessed.groupby(['Sex', 'Pclass', 'title_group']).agg({\n",
    "        'Age': 'mean'\n",
    "    })\n",
    "    \n",
    "    # TODO: Impute age based on Pclass, Title (as it contains info on age)\n",
    "    X_preprocessed['Age_not_null'] = X_preprocessed.apply(\n",
    "        lambda row: impute_age(row, age_groups), axis=1)\n",
    "\n",
    "    # Assuming all passengers will null Fares paid $0.\n",
    "    X_preprocessed['Fare_not_null'] = X_preprocessed['Fare'].fillna(0)\n",
    "\n",
    "    # Creating features based on Cabin.\n",
    "    X_preprocessed['no_cabin'] = X_preprocessed.apply(\n",
    "        lambda row: pd.isnull(row['Cabin']), axis=1)\n",
    "\n",
    "    # The size of a passenger's family is the number of siblings plus the number of\n",
    "    # parents plus themselves.\n",
    "    X_preprocessed['num_family_members'] = X_preprocessed['SibSp']+X_preprocessed['Parch']+1\n",
    "    X_preprocessed['family_size'] = pd.cut(\n",
    "        x=X_preprocessed['num_family_members'],\n",
    "        bins=[0, 2, 5, float('inf')],\n",
    "        labels=['alone', 'small', 'big'],\n",
    "        right=False\n",
    "    )\n",
    "\n",
    "    # Creating one hot encodings.\n",
    "    X_preprocessed = pd.get_dummies(X_preprocessed, columns=[\n",
    "        'Embarked', 'family_size', 'Pclass'])\n",
    "    return X_preprocessed"
   ]
  },
  {
   "cell_type": "markdown",
   "id": "1c996804",
   "metadata": {
    "papermill": {
     "duration": 0.007048,
     "end_time": "2024-12-31T17:16:55.747971",
     "exception": false,
     "start_time": "2024-12-31T17:16:55.740923",
     "status": "completed"
    },
    "tags": []
   },
   "source": [
    "# Models"
   ]
  },
  {
   "cell_type": "code",
   "execution_count": 8,
   "id": "5a6dad7d",
   "metadata": {
    "execution": {
     "iopub.execute_input": "2024-12-31T17:16:55.764758Z",
     "iopub.status.busy": "2024-12-31T17:16:55.763796Z",
     "iopub.status.idle": "2024-12-31T17:16:55.770832Z",
     "shell.execute_reply": "2024-12-31T17:16:55.769755Z"
    },
    "papermill": {
     "duration": 0.017502,
     "end_time": "2024-12-31T17:16:55.772774",
     "exception": false,
     "start_time": "2024-12-31T17:16:55.755272",
     "status": "completed"
    },
    "tags": []
   },
   "outputs": [],
   "source": [
    "def evaluate_model(model: BaseEstimator,\n",
    "                   X_train: pd.DataFrame,\n",
    "                   y_train: pd.Series,\n",
    "                   X_val: pd.DataFrame,\n",
    "                   y_val: pd.Series) -> dict[str: Union[str, float]]:\n",
    "    \"\"\"\n",
    "    Returns accuracy on training and validation sets. \n",
    "    \n",
    "    Args:\n",
    "        X_train (pd.DataFrame): Training features.\n",
    "        X_val (pd.DataFrame): Validation features.\n",
    "    \n",
    "    Returns:\n",
    "        (dict[str: Union[str, float]]): dictionary of training and validation\n",
    "            accuracies for model.\n",
    "    \"\"\"\n",
    "    y_pred_train = model.predict(X_train).round()\n",
    "    y_pred_val = model.predict(X_val).round()\n",
    "\n",
    "    train_accuracy = accuracy_score(\n",
    "        y_true=y_train, y_pred=y_pred_train)\n",
    "    val_accuracy = accuracy_score(\n",
    "        y_true=y_val, y_pred=y_pred_val)\n",
    "\n",
    "    return {\n",
    "        'model': model.estimator,\n",
    "        'training_accuracy': train_accuracy,\n",
    "        'validation_accuracy': val_accuracy\n",
    "    }"
   ]
  },
  {
   "cell_type": "markdown",
   "id": "0ff61740",
   "metadata": {
    "execution": {
     "iopub.execute_input": "2024-11-27T17:35:56.470211Z",
     "iopub.status.busy": "2024-11-27T17:35:56.469783Z",
     "iopub.status.idle": "2024-11-27T17:35:56.475218Z",
     "shell.execute_reply": "2024-11-27T17:35:56.474034Z",
     "shell.execute_reply.started": "2024-11-27T17:35:56.470175Z"
    },
    "papermill": {
     "duration": 0.007028,
     "end_time": "2024-12-31T17:16:55.787339",
     "exception": false,
     "start_time": "2024-12-31T17:16:55.780311",
     "status": "completed"
    },
    "tags": []
   },
   "source": [
    "## Gender Model"
   ]
  },
  {
   "cell_type": "code",
   "execution_count": 9,
   "id": "f3f29eb1",
   "metadata": {
    "execution": {
     "iopub.execute_input": "2024-12-31T17:16:55.803957Z",
     "iopub.status.busy": "2024-12-31T17:16:55.803524Z",
     "iopub.status.idle": "2024-12-31T17:16:55.810626Z",
     "shell.execute_reply": "2024-12-31T17:16:55.809601Z"
    },
    "papermill": {
     "duration": 0.017613,
     "end_time": "2024-12-31T17:16:55.812721",
     "exception": false,
     "start_time": "2024-12-31T17:16:55.795108",
     "status": "completed"
    },
    "tags": []
   },
   "outputs": [],
   "source": [
    "class GenderModel(BaseEstimator):\n",
    "    estimator = \"GenderModel\"\n",
    "    def fit(self, X_train: pd.DataFrame, y_train: pd.Series) -> \"GenderModel\":\n",
    "        \"\"\"\n",
    "        Fits a GenderModel for the given training data.\n",
    "\n",
    "        Args:\n",
    "            X (pd.DataFrame): Pandas Dataframe containing 'Sex' column.\n",
    "            y (pd.Series): Boolean target variable.\n",
    "\n",
    "        Retruns:\n",
    "            GenderModel: A fit GenderModel to the training data.\n",
    "        \"\"\"\n",
    "        return self\n",
    "    def predict(self, X: pd.DataFrame) -> np.ndarray:\n",
    "        \"\"\"\n",
    "        Predicts whether a passenger survives the Titanic solely based on gender.\n",
    "        Women are predicted to survive, men are not.\n",
    "    \n",
    "        Args:\n",
    "            X (pd.DataFrame): Pandas Dataframe containing 'Sex' column.\n",
    "    \n",
    "        Returns:\n",
    "            pd.Series: True if female, False otherwise.\n",
    "        \"\"\"\n",
    "        return np.where(X['Sex'] == 'female', 1, 0)\n",
    "    def score(self, X: pd.DataFrame, y_true: pd.DataFrame) -> float:\n",
    "        \"\"\"\n",
    "        Returns the accuracy of predicting a GenderModel on X against y.\n",
    "\n",
    "        Args:\n",
    "            X (pd.DataFrame): Pandas Dataframe containing 'Sex' column.\n",
    "\n",
    "        Returns:\n",
    "            float: accuracy of predictinging a GenderModel on X against y.\n",
    "        \"\"\"\n",
    "        y_pred = self.predict(X)\n",
    "        return (y_pred == y_true).mean()"
   ]
  },
  {
   "cell_type": "code",
   "execution_count": 10,
   "id": "a3dbc752",
   "metadata": {
    "execution": {
     "iopub.execute_input": "2024-12-31T17:16:55.829682Z",
     "iopub.status.busy": "2024-12-31T17:16:55.828875Z",
     "iopub.status.idle": "2024-12-31T17:16:55.851085Z",
     "shell.execute_reply": "2024-12-31T17:16:55.850080Z"
    },
    "papermill": {
     "duration": 0.033171,
     "end_time": "2024-12-31T17:16:55.853231",
     "exception": false,
     "start_time": "2024-12-31T17:16:55.820060",
     "status": "completed"
    },
    "tags": []
   },
   "outputs": [
    {
     "data": {
      "text/html": [
       "<style>#sk-container-id-1 {color: black;background-color: white;}#sk-container-id-1 pre{padding: 0;}#sk-container-id-1 div.sk-toggleable {background-color: white;}#sk-container-id-1 label.sk-toggleable__label {cursor: pointer;display: block;width: 100%;margin-bottom: 0;padding: 0.3em;box-sizing: border-box;text-align: center;}#sk-container-id-1 label.sk-toggleable__label-arrow:before {content: \"▸\";float: left;margin-right: 0.25em;color: #696969;}#sk-container-id-1 label.sk-toggleable__label-arrow:hover:before {color: black;}#sk-container-id-1 div.sk-estimator:hover label.sk-toggleable__label-arrow:before {color: black;}#sk-container-id-1 div.sk-toggleable__content {max-height: 0;max-width: 0;overflow: hidden;text-align: left;background-color: #f0f8ff;}#sk-container-id-1 div.sk-toggleable__content pre {margin: 0.2em;color: black;border-radius: 0.25em;background-color: #f0f8ff;}#sk-container-id-1 input.sk-toggleable__control:checked~div.sk-toggleable__content {max-height: 200px;max-width: 100%;overflow: auto;}#sk-container-id-1 input.sk-toggleable__control:checked~label.sk-toggleable__label-arrow:before {content: \"▾\";}#sk-container-id-1 div.sk-estimator input.sk-toggleable__control:checked~label.sk-toggleable__label {background-color: #d4ebff;}#sk-container-id-1 div.sk-label input.sk-toggleable__control:checked~label.sk-toggleable__label {background-color: #d4ebff;}#sk-container-id-1 input.sk-hidden--visually {border: 0;clip: rect(1px 1px 1px 1px);clip: rect(1px, 1px, 1px, 1px);height: 1px;margin: -1px;overflow: hidden;padding: 0;position: absolute;width: 1px;}#sk-container-id-1 div.sk-estimator {font-family: monospace;background-color: #f0f8ff;border: 1px dotted black;border-radius: 0.25em;box-sizing: border-box;margin-bottom: 0.5em;}#sk-container-id-1 div.sk-estimator:hover {background-color: #d4ebff;}#sk-container-id-1 div.sk-parallel-item::after {content: \"\";width: 100%;border-bottom: 1px solid gray;flex-grow: 1;}#sk-container-id-1 div.sk-label:hover label.sk-toggleable__label {background-color: #d4ebff;}#sk-container-id-1 div.sk-serial::before {content: \"\";position: absolute;border-left: 1px solid gray;box-sizing: border-box;top: 0;bottom: 0;left: 50%;z-index: 0;}#sk-container-id-1 div.sk-serial {display: flex;flex-direction: column;align-items: center;background-color: white;padding-right: 0.2em;padding-left: 0.2em;position: relative;}#sk-container-id-1 div.sk-item {position: relative;z-index: 1;}#sk-container-id-1 div.sk-parallel {display: flex;align-items: stretch;justify-content: center;background-color: white;position: relative;}#sk-container-id-1 div.sk-item::before, #sk-container-id-1 div.sk-parallel-item::before {content: \"\";position: absolute;border-left: 1px solid gray;box-sizing: border-box;top: 0;bottom: 0;left: 50%;z-index: -1;}#sk-container-id-1 div.sk-parallel-item {display: flex;flex-direction: column;z-index: 1;position: relative;background-color: white;}#sk-container-id-1 div.sk-parallel-item:first-child::after {align-self: flex-end;width: 50%;}#sk-container-id-1 div.sk-parallel-item:last-child::after {align-self: flex-start;width: 50%;}#sk-container-id-1 div.sk-parallel-item:only-child::after {width: 0;}#sk-container-id-1 div.sk-dashed-wrapped {border: 1px dashed gray;margin: 0 0.4em 0.5em 0.4em;box-sizing: border-box;padding-bottom: 0.4em;background-color: white;}#sk-container-id-1 div.sk-label label {font-family: monospace;font-weight: bold;display: inline-block;line-height: 1.2em;}#sk-container-id-1 div.sk-label-container {text-align: center;}#sk-container-id-1 div.sk-container {/* jupyter's `normalize.less` sets `[hidden] { display: none; }` but bootstrap.min.css set `[hidden] { display: none !important; }` so we also need the `!important` here to be able to override the default hidden behavior on the sphinx rendered scikit-learn.org. See: https://github.com/scikit-learn/scikit-learn/issues/21755 */display: inline-block !important;position: relative;}#sk-container-id-1 div.sk-text-repr-fallback {display: none;}</style><div id=\"sk-container-id-1\" class=\"sk-top-container\"><div class=\"sk-text-repr-fallback\"><pre>GridSearchCV(estimator=GenderModel(), param_grid={})</pre><b>In a Jupyter environment, please rerun this cell to show the HTML representation or trust the notebook. <br />On GitHub, the HTML representation is unable to render, please try loading this page with nbviewer.org.</b></div><div class=\"sk-container\" hidden><div class=\"sk-item sk-dashed-wrapped\"><div class=\"sk-label-container\"><div class=\"sk-label sk-toggleable\"><input class=\"sk-toggleable__control sk-hidden--visually\" id=\"sk-estimator-id-1\" type=\"checkbox\" ><label for=\"sk-estimator-id-1\" class=\"sk-toggleable__label sk-toggleable__label-arrow\">GridSearchCV</label><div class=\"sk-toggleable__content\"><pre>GridSearchCV(estimator=GenderModel(), param_grid={})</pre></div></div></div><div class=\"sk-parallel\"><div class=\"sk-parallel-item\"><div class=\"sk-item\"><div class=\"sk-label-container\"><div class=\"sk-label sk-toggleable\"><input class=\"sk-toggleable__control sk-hidden--visually\" id=\"sk-estimator-id-2\" type=\"checkbox\" ><label for=\"sk-estimator-id-2\" class=\"sk-toggleable__label sk-toggleable__label-arrow\">estimator: GenderModel</label><div class=\"sk-toggleable__content\"><pre>GenderModel()</pre></div></div></div><div class=\"sk-serial\"><div class=\"sk-item\"><div class=\"sk-estimator sk-toggleable\"><input class=\"sk-toggleable__control sk-hidden--visually\" id=\"sk-estimator-id-3\" type=\"checkbox\" ><label for=\"sk-estimator-id-3\" class=\"sk-toggleable__label sk-toggleable__label-arrow\">GenderModel</label><div class=\"sk-toggleable__content\"><pre>GenderModel()</pre></div></div></div></div></div></div></div></div></div></div>"
      ],
      "text/plain": [
       "GridSearchCV(estimator=GenderModel(), param_grid={})"
      ]
     },
     "execution_count": 10,
     "metadata": {},
     "output_type": "execute_result"
    }
   ],
   "source": [
    "gender_model = GridSearchCV(GenderModel(), param_grid={})\n",
    "\n",
    "gender_model.fit(X_train, y_train)"
   ]
  },
  {
   "cell_type": "markdown",
   "id": "a8a99c86",
   "metadata": {
    "papermill": {
     "duration": 0.007348,
     "end_time": "2024-12-31T17:16:55.868191",
     "exception": false,
     "start_time": "2024-12-31T17:16:55.860843",
     "status": "completed"
    },
    "tags": []
   },
   "source": [
    "## Random Forest\n",
    "### Feature Selection"
   ]
  },
  {
   "cell_type": "code",
   "execution_count": 11,
   "id": "a65a9a08",
   "metadata": {
    "execution": {
     "iopub.execute_input": "2024-12-31T17:16:55.885039Z",
     "iopub.status.busy": "2024-12-31T17:16:55.884629Z",
     "iopub.status.idle": "2024-12-31T17:16:55.973956Z",
     "shell.execute_reply": "2024-12-31T17:16:55.972928Z"
    },
    "papermill": {
     "duration": 0.100807,
     "end_time": "2024-12-31T17:16:55.976461",
     "exception": false,
     "start_time": "2024-12-31T17:16:55.875654",
     "status": "completed"
    },
    "tags": []
   },
   "outputs": [],
   "source": [
    "features_rf = [\"is_male\", \"Age_not_null\", \"Fare_not_null\", \"Pclass_1\", \"Pclass_2\",\n",
    "               \"Pclass_3\"]\n",
    "\n",
    "X_train_preprocessed_rf = preprocess(X_train).reindex(columns=features_rf)\n",
    "\n",
    "# Ensuring columns in X_val_preprocessed_rf are the same as the columns in\n",
    "# X_train_preprocessed_rf since we have one hot encodings\n",
    "X_val_preprocessed_rf = preprocess(X_val).reindex(columns=features_rf)"
   ]
  },
  {
   "cell_type": "markdown",
   "id": "9d29e05c",
   "metadata": {
    "papermill": {
     "duration": 0.007355,
     "end_time": "2024-12-31T17:16:55.991774",
     "exception": false,
     "start_time": "2024-12-31T17:16:55.984419",
     "status": "completed"
    },
    "tags": []
   },
   "source": [
    "### Hyperparameter Tuning"
   ]
  },
  {
   "cell_type": "code",
   "execution_count": 12,
   "id": "bc10309e",
   "metadata": {
    "execution": {
     "iopub.execute_input": "2024-12-31T17:16:56.009005Z",
     "iopub.status.busy": "2024-12-31T17:16:56.008588Z",
     "iopub.status.idle": "2024-12-31T17:17:06.058205Z",
     "shell.execute_reply": "2024-12-31T17:17:06.056988Z"
    },
    "papermill": {
     "duration": 10.060553,
     "end_time": "2024-12-31T17:17:06.060244",
     "exception": false,
     "start_time": "2024-12-31T17:16:55.999691",
     "status": "completed"
    },
    "tags": []
   },
   "outputs": [
    {
     "name": "stdout",
     "output_type": "stream",
     "text": [
      "Random Forest:\tGridSearchCV took 0:00:10.042719\n"
     ]
    }
   ],
   "source": [
    "# Trying ~10 combinations takes about 10 seconds.\n",
    "param_grid_rf = [{\n",
    "    'max_depth': np.arange(start=2, stop=3, step=1),\n",
    "    'max_features': np.arange(start=2, stop=4, step=1),\n",
    "    'n_estimators': [150, 200, 250]\n",
    "}]\n",
    "\n",
    "start_time = datetime.datetime.now()\n",
    "random_forest_model = GridSearchCV(\n",
    "    estimator=RandomForestClassifier(),\n",
    "    param_grid=param_grid_rf,\n",
    "    cv=StratifiedKFold(n_splits=5, shuffle=True),\n",
    "    # Using roc_auc as we have a class imbalance.\n",
    "    scoring='roc_auc'\n",
    ")\n",
    "random_forest_model.fit(X_train_preprocessed_rf, y_train)\n",
    "end_time = datetime.datetime.now()\n",
    "\n",
    "gridsearch_time = end_time-start_time\n",
    "print(f\"Random Forest:\\tGridSearchCV took {gridsearch_time}\")"
   ]
  },
  {
   "cell_type": "code",
   "execution_count": 13,
   "id": "5c03e381",
   "metadata": {
    "execution": {
     "iopub.execute_input": "2024-12-31T17:17:06.077742Z",
     "iopub.status.busy": "2024-12-31T17:17:06.076795Z",
     "iopub.status.idle": "2024-12-31T17:17:06.125609Z",
     "shell.execute_reply": "2024-12-31T17:17:06.124594Z"
    },
    "papermill": {
     "duration": 0.059708,
     "end_time": "2024-12-31T17:17:06.127756",
     "exception": false,
     "start_time": "2024-12-31T17:17:06.068048",
     "status": "completed"
    },
    "tags": []
   },
   "outputs": [
    {
     "data": {
      "text/plain": [
       "{'model': RandomForestClassifier(),\n",
       " 'training_accuracy': 0.7724550898203593,\n",
       " 'validation_accuracy': 0.8251121076233184}"
      ]
     },
     "execution_count": 13,
     "metadata": {},
     "output_type": "execute_result"
    }
   ],
   "source": [
    "evaluate_model(\n",
    "    model=random_forest_model, X_train=X_train_preprocessed_rf,\n",
    "    y_train=y_train, X_val=X_val_preprocessed_rf, y_val=y_val)"
   ]
  },
  {
   "cell_type": "markdown",
   "id": "4d91032d",
   "metadata": {
    "papermill": {
     "duration": 0.00739,
     "end_time": "2024-12-31T17:17:06.142922",
     "exception": false,
     "start_time": "2024-12-31T17:17:06.135532",
     "status": "completed"
    },
    "tags": []
   },
   "source": [
    "## XGBoost\n",
    "### Feature Selection"
   ]
  },
  {
   "cell_type": "code",
   "execution_count": 14,
   "id": "33244bec",
   "metadata": {
    "execution": {
     "iopub.execute_input": "2024-12-31T17:17:06.160441Z",
     "iopub.status.busy": "2024-12-31T17:17:06.159594Z",
     "iopub.status.idle": "2024-12-31T17:17:06.235725Z",
     "shell.execute_reply": "2024-12-31T17:17:06.234602Z"
    },
    "papermill": {
     "duration": 0.087543,
     "end_time": "2024-12-31T17:17:06.238184",
     "exception": false,
     "start_time": "2024-12-31T17:17:06.150641",
     "status": "completed"
    },
    "tags": []
   },
   "outputs": [],
   "source": [
    "features_xgb = ['Age', 'Fare', 'Pclass_2', 'Pclass_1', 'Pclass_3',\n",
    "                'family_size_alone', 'family_size_big', 'family_size_small',\n",
    "                'is_male', 'no_cabin']\n",
    "\n",
    "X_train_preprocessed_xgb = preprocess(X_train).reindex(columns=features_xgb)\n",
    "\n",
    "# Ensuring columns in X_val_preprocessed_rf are the same as the columns in\n",
    "# X_train_preprocessed_rf since we have one hot encodings\n",
    "X_val_preprocessed_xgb = preprocess(X_val).reindex(columns=features_xgb)"
   ]
  },
  {
   "cell_type": "code",
   "execution_count": 15,
   "id": "ca6b7191",
   "metadata": {
    "execution": {
     "iopub.execute_input": "2024-12-31T17:17:06.256438Z",
     "iopub.status.busy": "2024-12-31T17:17:06.255635Z",
     "iopub.status.idle": "2024-12-31T17:17:07.252527Z",
     "shell.execute_reply": "2024-12-31T17:17:07.250133Z"
    },
    "papermill": {
     "duration": 1.008974,
     "end_time": "2024-12-31T17:17:07.255053",
     "exception": false,
     "start_time": "2024-12-31T17:17:06.246079",
     "status": "completed"
    },
    "tags": []
   },
   "outputs": [
    {
     "name": "stdout",
     "output_type": "stream",
     "text": [
      "XGBoost:\tGridSearchCV took 0:00:00.988455\n"
     ]
    }
   ],
   "source": [
    "# Trying ~100 combinations takes about 1 minute.\n",
    "param_grid_xgb = [{\n",
    "    'n_estimators': [150],\n",
    "    'max_depth': [3],\n",
    "    'subsample': [0.6],\n",
    "    'colsample_bytree': [0.5],\n",
    "    'gamma': [2, 3],\n",
    "    'reg_alpha': [0, 0.1],\n",
    "    'reg_lambda': [10]\n",
    "}]\n",
    "\n",
    "start_time = datetime.datetime.now()\n",
    "xgboost_model = GridSearchCV(\n",
    "    estimator=XGBClassifier(),\n",
    "    param_grid=param_grid_xgb,\n",
    "    cv=StratifiedKFold(n_splits=5, shuffle=True),\n",
    "    # Using roc_auc as we have a class imbalance.\n",
    "    scoring='roc_auc'\n",
    ")\n",
    "xgboost_model.fit(X_train_preprocessed_xgb, y_train)\n",
    "end_time = datetime.datetime.now()\n",
    "\n",
    "gridsearch_time = end_time-start_time\n",
    "print(f\"XGBoost:\\tGridSearchCV took {gridsearch_time}\")"
   ]
  },
  {
   "cell_type": "code",
   "execution_count": 16,
   "id": "9d62a23a",
   "metadata": {
    "execution": {
     "iopub.execute_input": "2024-12-31T17:17:07.272741Z",
     "iopub.status.busy": "2024-12-31T17:17:07.272358Z",
     "iopub.status.idle": "2024-12-31T17:17:07.288787Z",
     "shell.execute_reply": "2024-12-31T17:17:07.288100Z"
    },
    "papermill": {
     "duration": 0.027422,
     "end_time": "2024-12-31T17:17:07.290665",
     "exception": false,
     "start_time": "2024-12-31T17:17:07.263243",
     "status": "completed"
    },
    "tags": []
   },
   "outputs": [
    {
     "data": {
      "text/plain": [
       "{'model': XGBClassifier(base_score=None, booster=None, callbacks=None,\n",
       "               colsample_bylevel=None, colsample_bynode=None,\n",
       "               colsample_bytree=None, device=None, early_stopping_rounds=None,\n",
       "               enable_categorical=False, eval_metric=None, feature_types=None,\n",
       "               gamma=None, grow_policy=None, importance_type=None,\n",
       "               interaction_constraints=None, learning_rate=None, max_bin=None,\n",
       "               max_cat_threshold=None, max_cat_to_onehot=None,\n",
       "               max_delta_step=None, max_depth=None, max_leaves=None,\n",
       "               min_child_weight=None, missing=nan, monotone_constraints=None,\n",
       "               multi_strategy=None, n_estimators=None, n_jobs=None,\n",
       "               num_parallel_tree=None, random_state=None, ...),\n",
       " 'training_accuracy': 0.8278443113772455,\n",
       " 'validation_accuracy': 0.8071748878923767}"
      ]
     },
     "execution_count": 16,
     "metadata": {},
     "output_type": "execute_result"
    }
   ],
   "source": [
    "evaluate_model(model=xgboost_model, X_train=X_train_preprocessed_xgb,\n",
    "               y_train=y_train, X_val=X_val_preprocessed_xgb, y_val=y_val)"
   ]
  },
  {
   "cell_type": "markdown",
   "id": "227d48d4",
   "metadata": {
    "papermill": {
     "duration": 0.008078,
     "end_time": "2024-12-31T17:17:07.306669",
     "exception": false,
     "start_time": "2024-12-31T17:17:07.298591",
     "status": "completed"
    },
    "tags": []
   },
   "source": [
    "## Neural Net\n",
    "### Feature Selection"
   ]
  },
  {
   "cell_type": "code",
   "execution_count": 17,
   "id": "5ebd787c",
   "metadata": {
    "execution": {
     "iopub.execute_input": "2024-12-31T17:17:07.325304Z",
     "iopub.status.busy": "2024-12-31T17:17:07.324344Z",
     "iopub.status.idle": "2024-12-31T17:17:07.402909Z",
     "shell.execute_reply": "2024-12-31T17:17:07.402034Z"
    },
    "papermill": {
     "duration": 0.090725,
     "end_time": "2024-12-31T17:17:07.405385",
     "exception": false,
     "start_time": "2024-12-31T17:17:07.314660",
     "status": "completed"
    },
    "tags": []
   },
   "outputs": [],
   "source": [
    "features_nn = ['Age_not_null', 'Fare_not_null', 'Pclass_2', 'Pclass_1',\n",
    "               'Pclass_3', 'family_size_alone', 'family_size_big',\n",
    "               'family_size_small', 'is_child', 'is_male', 'no_cabin']\n",
    "\n",
    "X_train_preprocessed_nn = preprocess(X_train).reindex(columns=features_nn)\n",
    "\n",
    "# Ensuring columns in X_val_preprocessed_rf are the same as the columns in\n",
    "# X_train_preprocessed_rf since we have one hot encodings\n",
    "X_val_preprocessed_nn = preprocess(X_val).reindex(columns=features_nn)"
   ]
  },
  {
   "cell_type": "code",
   "execution_count": 18,
   "id": "5dcf2dc3",
   "metadata": {
    "execution": {
     "iopub.execute_input": "2024-12-31T17:17:07.422702Z",
     "iopub.status.busy": "2024-12-31T17:17:07.422356Z",
     "iopub.status.idle": "2024-12-31T17:17:07.435020Z",
     "shell.execute_reply": "2024-12-31T17:17:07.433981Z"
    },
    "papermill": {
     "duration": 0.023857,
     "end_time": "2024-12-31T17:17:07.437176",
     "exception": false,
     "start_time": "2024-12-31T17:17:07.413319",
     "status": "completed"
    },
    "tags": []
   },
   "outputs": [],
   "source": [
    "# Scale Features.\n",
    "numeric_features_nn = ['Age_not_null', 'Fare_not_null']\n",
    "\n",
    "# Initialize scaler.\n",
    "scaler_nn = StandardScaler()\n",
    "# Fit scaler on training data.\n",
    "scaler_nn.fit(X_train_preprocessed_nn[numeric_features_nn])\n",
    "\n",
    "# Scale only specified columns.\n",
    "X_train_preprocessed_nn[numeric_features_nn] = scaler_nn.transform(\n",
    "    X_train_preprocessed_nn[numeric_features_nn])\n",
    "X_val_preprocessed_nn[numeric_features_nn] = scaler_nn.transform(\n",
    "    X_val_preprocessed_nn[numeric_features_nn])"
   ]
  },
  {
   "cell_type": "markdown",
   "id": "3e83b575",
   "metadata": {
    "papermill": {
     "duration": 0.007718,
     "end_time": "2024-12-31T17:17:07.452878",
     "exception": false,
     "start_time": "2024-12-31T17:17:07.445160",
     "status": "completed"
    },
    "tags": []
   },
   "source": [
    "### Training"
   ]
  },
  {
   "cell_type": "code",
   "execution_count": 19,
   "id": "0ef57f82",
   "metadata": {
    "execution": {
     "iopub.execute_input": "2024-12-31T17:17:07.470778Z",
     "iopub.status.busy": "2024-12-31T17:17:07.469917Z",
     "iopub.status.idle": "2024-12-31T17:17:34.214244Z",
     "shell.execute_reply": "2024-12-31T17:17:34.213115Z"
    },
    "papermill": {
     "duration": 26.755722,
     "end_time": "2024-12-31T17:17:34.216591",
     "exception": false,
     "start_time": "2024-12-31T17:17:07.460869",
     "status": "completed"
    },
    "tags": []
   },
   "outputs": [
    {
     "name": "stdout",
     "output_type": "stream",
     "text": [
      "Epoch 1/100\n",
      "\u001b[1m42/42\u001b[0m \u001b[32m━━━━━━━━━━━━━━━━━━━━\u001b[0m\u001b[37m\u001b[0m \u001b[1m2s\u001b[0m 11ms/step - accuracy: 0.4940 - loss: 0.6892 - val_accuracy: 0.6996 - val_loss: 0.6744\n",
      "Epoch 2/100\n",
      "\u001b[1m42/42\u001b[0m \u001b[32m━━━━━━━━━━━━━━━━━━━━\u001b[0m\u001b[37m\u001b[0m \u001b[1m0s\u001b[0m 6ms/step - accuracy: 0.5615 - loss: 0.6827 - val_accuracy: 0.6906 - val_loss: 0.6638\n",
      "Epoch 3/100\n",
      "\u001b[1m42/42\u001b[0m \u001b[32m━━━━━━━━━━━━━━━━━━━━\u001b[0m\u001b[37m\u001b[0m \u001b[1m0s\u001b[0m 6ms/step - accuracy: 0.6461 - loss: 0.6716 - val_accuracy: 0.6951 - val_loss: 0.6544\n",
      "Epoch 4/100\n",
      "\u001b[1m42/42\u001b[0m \u001b[32m━━━━━━━━━━━━━━━━━━━━\u001b[0m\u001b[37m\u001b[0m \u001b[1m0s\u001b[0m 6ms/step - accuracy: 0.6860 - loss: 0.6568 - val_accuracy: 0.6951 - val_loss: 0.6458\n",
      "Epoch 5/100\n",
      "\u001b[1m42/42\u001b[0m \u001b[32m━━━━━━━━━━━━━━━━━━━━\u001b[0m\u001b[37m\u001b[0m \u001b[1m0s\u001b[0m 6ms/step - accuracy: 0.6753 - loss: 0.6537 - val_accuracy: 0.6861 - val_loss: 0.6374\n",
      "Epoch 6/100\n",
      "\u001b[1m42/42\u001b[0m \u001b[32m━━━━━━━━━━━━━━━━━━━━\u001b[0m\u001b[37m\u001b[0m \u001b[1m0s\u001b[0m 6ms/step - accuracy: 0.6563 - loss: 0.6507 - val_accuracy: 0.6816 - val_loss: 0.6291\n",
      "Epoch 7/100\n",
      "\u001b[1m42/42\u001b[0m \u001b[32m━━━━━━━━━━━━━━━━━━━━\u001b[0m\u001b[37m\u001b[0m \u001b[1m0s\u001b[0m 7ms/step - accuracy: 0.6662 - loss: 0.6397 - val_accuracy: 0.6816 - val_loss: 0.6213\n",
      "Epoch 8/100\n",
      "\u001b[1m42/42\u001b[0m \u001b[32m━━━━━━━━━━━━━━━━━━━━\u001b[0m\u001b[37m\u001b[0m \u001b[1m0s\u001b[0m 7ms/step - accuracy: 0.6839 - loss: 0.6270 - val_accuracy: 0.6816 - val_loss: 0.6138\n",
      "Epoch 9/100\n",
      "\u001b[1m42/42\u001b[0m \u001b[32m━━━━━━━━━━━━━━━━━━━━\u001b[0m\u001b[37m\u001b[0m \u001b[1m0s\u001b[0m 7ms/step - accuracy: 0.6948 - loss: 0.6157 - val_accuracy: 0.6906 - val_loss: 0.6059\n",
      "Epoch 10/100\n",
      "\u001b[1m42/42\u001b[0m \u001b[32m━━━━━━━━━━━━━━━━━━━━\u001b[0m\u001b[37m\u001b[0m \u001b[1m0s\u001b[0m 7ms/step - accuracy: 0.6957 - loss: 0.6191 - val_accuracy: 0.6951 - val_loss: 0.5989\n",
      "Epoch 11/100\n",
      "\u001b[1m42/42\u001b[0m \u001b[32m━━━━━━━━━━━━━━━━━━━━\u001b[0m\u001b[37m\u001b[0m \u001b[1m0s\u001b[0m 7ms/step - accuracy: 0.7149 - loss: 0.6059 - val_accuracy: 0.6996 - val_loss: 0.5913\n",
      "Epoch 12/100\n",
      "\u001b[1m42/42\u001b[0m \u001b[32m━━━━━━━━━━━━━━━━━━━━\u001b[0m\u001b[37m\u001b[0m \u001b[1m0s\u001b[0m 7ms/step - accuracy: 0.6964 - loss: 0.6045 - val_accuracy: 0.7040 - val_loss: 0.5841\n",
      "Epoch 13/100\n",
      "\u001b[1m42/42\u001b[0m \u001b[32m━━━━━━━━━━━━━━━━━━━━\u001b[0m\u001b[37m\u001b[0m \u001b[1m0s\u001b[0m 6ms/step - accuracy: 0.7053 - loss: 0.5973 - val_accuracy: 0.7085 - val_loss: 0.5774\n",
      "Epoch 14/100\n",
      "\u001b[1m42/42\u001b[0m \u001b[32m━━━━━━━━━━━━━━━━━━━━\u001b[0m\u001b[37m\u001b[0m \u001b[1m0s\u001b[0m 6ms/step - accuracy: 0.6948 - loss: 0.5974 - val_accuracy: 0.7220 - val_loss: 0.5708\n",
      "Epoch 15/100\n",
      "\u001b[1m42/42\u001b[0m \u001b[32m━━━━━━━━━━━━━━━━━━━━\u001b[0m\u001b[37m\u001b[0m \u001b[1m0s\u001b[0m 6ms/step - accuracy: 0.7043 - loss: 0.5800 - val_accuracy: 0.7399 - val_loss: 0.5646\n",
      "Epoch 16/100\n",
      "\u001b[1m42/42\u001b[0m \u001b[32m━━━━━━━━━━━━━━━━━━━━\u001b[0m\u001b[37m\u001b[0m \u001b[1m0s\u001b[0m 6ms/step - accuracy: 0.7162 - loss: 0.5893 - val_accuracy: 0.7399 - val_loss: 0.5581\n",
      "Epoch 17/100\n",
      "\u001b[1m42/42\u001b[0m \u001b[32m━━━━━━━━━━━━━━━━━━━━\u001b[0m\u001b[37m\u001b[0m \u001b[1m0s\u001b[0m 6ms/step - accuracy: 0.7102 - loss: 0.5744 - val_accuracy: 0.7399 - val_loss: 0.5520\n",
      "Epoch 18/100\n",
      "\u001b[1m42/42\u001b[0m \u001b[32m━━━━━━━━━━━━━━━━━━━━\u001b[0m\u001b[37m\u001b[0m \u001b[1m0s\u001b[0m 6ms/step - accuracy: 0.7353 - loss: 0.5630 - val_accuracy: 0.7399 - val_loss: 0.5459\n",
      "Epoch 19/100\n",
      "\u001b[1m42/42\u001b[0m \u001b[32m━━━━━━━━━━━━━━━━━━━━\u001b[0m\u001b[37m\u001b[0m \u001b[1m0s\u001b[0m 7ms/step - accuracy: 0.7421 - loss: 0.5651 - val_accuracy: 0.7444 - val_loss: 0.5397\n",
      "Epoch 20/100\n",
      "\u001b[1m42/42\u001b[0m \u001b[32m━━━━━━━━━━━━━━━━━━━━\u001b[0m\u001b[37m\u001b[0m \u001b[1m0s\u001b[0m 6ms/step - accuracy: 0.7396 - loss: 0.5607 - val_accuracy: 0.7444 - val_loss: 0.5341\n",
      "Epoch 21/100\n",
      "\u001b[1m42/42\u001b[0m \u001b[32m━━━━━━━━━━━━━━━━━━━━\u001b[0m\u001b[37m\u001b[0m \u001b[1m0s\u001b[0m 6ms/step - accuracy: 0.7708 - loss: 0.5464 - val_accuracy: 0.7444 - val_loss: 0.5280\n",
      "Epoch 22/100\n",
      "\u001b[1m42/42\u001b[0m \u001b[32m━━━━━━━━━━━━━━━━━━━━\u001b[0m\u001b[37m\u001b[0m \u001b[1m0s\u001b[0m 6ms/step - accuracy: 0.7546 - loss: 0.5400 - val_accuracy: 0.7489 - val_loss: 0.5225\n",
      "Epoch 23/100\n",
      "\u001b[1m42/42\u001b[0m \u001b[32m━━━━━━━━━━━━━━━━━━━━\u001b[0m\u001b[37m\u001b[0m \u001b[1m0s\u001b[0m 6ms/step - accuracy: 0.7361 - loss: 0.5473 - val_accuracy: 0.7489 - val_loss: 0.5169\n",
      "Epoch 24/100\n",
      "\u001b[1m42/42\u001b[0m \u001b[32m━━━━━━━━━━━━━━━━━━━━\u001b[0m\u001b[37m\u001b[0m \u001b[1m0s\u001b[0m 6ms/step - accuracy: 0.7588 - loss: 0.5386 - val_accuracy: 0.7489 - val_loss: 0.5117\n",
      "Epoch 25/100\n",
      "\u001b[1m42/42\u001b[0m \u001b[32m━━━━━━━━━━━━━━━━━━━━\u001b[0m\u001b[37m\u001b[0m \u001b[1m0s\u001b[0m 6ms/step - accuracy: 0.7413 - loss: 0.5488 - val_accuracy: 0.7534 - val_loss: 0.5068\n",
      "Epoch 26/100\n",
      "\u001b[1m42/42\u001b[0m \u001b[32m━━━━━━━━━━━━━━━━━━━━\u001b[0m\u001b[37m\u001b[0m \u001b[1m0s\u001b[0m 6ms/step - accuracy: 0.7710 - loss: 0.5290 - val_accuracy: 0.7668 - val_loss: 0.5015\n",
      "Epoch 27/100\n",
      "\u001b[1m42/42\u001b[0m \u001b[32m━━━━━━━━━━━━━━━━━━━━\u001b[0m\u001b[37m\u001b[0m \u001b[1m0s\u001b[0m 6ms/step - accuracy: 0.7524 - loss: 0.5555 - val_accuracy: 0.7668 - val_loss: 0.4969\n",
      "Epoch 28/100\n",
      "\u001b[1m42/42\u001b[0m \u001b[32m━━━━━━━━━━━━━━━━━━━━\u001b[0m\u001b[37m\u001b[0m \u001b[1m0s\u001b[0m 6ms/step - accuracy: 0.7633 - loss: 0.5176 - val_accuracy: 0.7758 - val_loss: 0.4922\n",
      "Epoch 29/100\n",
      "\u001b[1m42/42\u001b[0m \u001b[32m━━━━━━━━━━━━━━━━━━━━\u001b[0m\u001b[37m\u001b[0m \u001b[1m0s\u001b[0m 6ms/step - accuracy: 0.7382 - loss: 0.5454 - val_accuracy: 0.7803 - val_loss: 0.4875\n",
      "Epoch 30/100\n",
      "\u001b[1m42/42\u001b[0m \u001b[32m━━━━━━━━━━━━━━━━━━━━\u001b[0m\u001b[37m\u001b[0m \u001b[1m0s\u001b[0m 6ms/step - accuracy: 0.7917 - loss: 0.5166 - val_accuracy: 0.7803 - val_loss: 0.4836\n",
      "Epoch 31/100\n",
      "\u001b[1m42/42\u001b[0m \u001b[32m━━━━━━━━━━━━━━━━━━━━\u001b[0m\u001b[37m\u001b[0m \u001b[1m0s\u001b[0m 6ms/step - accuracy: 0.7569 - loss: 0.5270 - val_accuracy: 0.7803 - val_loss: 0.4786\n",
      "Epoch 32/100\n",
      "\u001b[1m42/42\u001b[0m \u001b[32m━━━━━━━━━━━━━━━━━━━━\u001b[0m\u001b[37m\u001b[0m \u001b[1m0s\u001b[0m 6ms/step - accuracy: 0.7538 - loss: 0.5193 - val_accuracy: 0.7803 - val_loss: 0.4750\n",
      "Epoch 33/100\n",
      "\u001b[1m42/42\u001b[0m \u001b[32m━━━━━━━━━━━━━━━━━━━━\u001b[0m\u001b[37m\u001b[0m \u001b[1m0s\u001b[0m 6ms/step - accuracy: 0.7583 - loss: 0.5461 - val_accuracy: 0.7803 - val_loss: 0.4711\n",
      "Epoch 34/100\n",
      "\u001b[1m42/42\u001b[0m \u001b[32m━━━━━━━━━━━━━━━━━━━━\u001b[0m\u001b[37m\u001b[0m \u001b[1m0s\u001b[0m 6ms/step - accuracy: 0.7652 - loss: 0.5050 - val_accuracy: 0.7848 - val_loss: 0.4674\n",
      "Epoch 35/100\n",
      "\u001b[1m42/42\u001b[0m \u001b[32m━━━━━━━━━━━━━━━━━━━━\u001b[0m\u001b[37m\u001b[0m \u001b[1m0s\u001b[0m 6ms/step - accuracy: 0.7546 - loss: 0.5155 - val_accuracy: 0.7848 - val_loss: 0.4643\n",
      "Epoch 36/100\n",
      "\u001b[1m42/42\u001b[0m \u001b[32m━━━━━━━━━━━━━━━━━━━━\u001b[0m\u001b[37m\u001b[0m \u001b[1m0s\u001b[0m 6ms/step - accuracy: 0.8013 - loss: 0.4830 - val_accuracy: 0.7848 - val_loss: 0.4612\n",
      "Epoch 37/100\n",
      "\u001b[1m42/42\u001b[0m \u001b[32m━━━━━━━━━━━━━━━━━━━━\u001b[0m\u001b[37m\u001b[0m \u001b[1m0s\u001b[0m 6ms/step - accuracy: 0.7812 - loss: 0.4952 - val_accuracy: 0.7937 - val_loss: 0.4578\n",
      "Epoch 38/100\n",
      "\u001b[1m42/42\u001b[0m \u001b[32m━━━━━━━━━━━━━━━━━━━━\u001b[0m\u001b[37m\u001b[0m \u001b[1m0s\u001b[0m 6ms/step - accuracy: 0.7863 - loss: 0.5028 - val_accuracy: 0.7982 - val_loss: 0.4544\n",
      "Epoch 39/100\n",
      "\u001b[1m42/42\u001b[0m \u001b[32m━━━━━━━━━━━━━━━━━━━━\u001b[0m\u001b[37m\u001b[0m \u001b[1m0s\u001b[0m 6ms/step - accuracy: 0.8109 - loss: 0.4735 - val_accuracy: 0.7982 - val_loss: 0.4512\n",
      "Epoch 40/100\n",
      "\u001b[1m42/42\u001b[0m \u001b[32m━━━━━━━━━━━━━━━━━━━━\u001b[0m\u001b[37m\u001b[0m \u001b[1m0s\u001b[0m 6ms/step - accuracy: 0.8136 - loss: 0.4580 - val_accuracy: 0.8027 - val_loss: 0.4484\n",
      "Epoch 41/100\n",
      "\u001b[1m42/42\u001b[0m \u001b[32m━━━━━━━━━━━━━━━━━━━━\u001b[0m\u001b[37m\u001b[0m \u001b[1m0s\u001b[0m 6ms/step - accuracy: 0.7765 - loss: 0.4915 - val_accuracy: 0.8072 - val_loss: 0.4455\n",
      "Epoch 42/100\n",
      "\u001b[1m42/42\u001b[0m \u001b[32m━━━━━━━━━━━━━━━━━━━━\u001b[0m\u001b[37m\u001b[0m \u001b[1m0s\u001b[0m 6ms/step - accuracy: 0.8058 - loss: 0.4673 - val_accuracy: 0.8117 - val_loss: 0.4433\n",
      "Epoch 43/100\n",
      "\u001b[1m42/42\u001b[0m \u001b[32m━━━━━━━━━━━━━━━━━━━━\u001b[0m\u001b[37m\u001b[0m \u001b[1m0s\u001b[0m 6ms/step - accuracy: 0.8328 - loss: 0.4578 - val_accuracy: 0.8072 - val_loss: 0.4408\n",
      "Epoch 44/100\n",
      "\u001b[1m42/42\u001b[0m \u001b[32m━━━━━━━━━━━━━━━━━━━━\u001b[0m\u001b[37m\u001b[0m \u001b[1m0s\u001b[0m 6ms/step - accuracy: 0.8126 - loss: 0.4654 - val_accuracy: 0.8027 - val_loss: 0.4385\n",
      "Epoch 45/100\n",
      "\u001b[1m42/42\u001b[0m \u001b[32m━━━━━━━━━━━━━━━━━━━━\u001b[0m\u001b[37m\u001b[0m \u001b[1m0s\u001b[0m 6ms/step - accuracy: 0.8089 - loss: 0.4595 - val_accuracy: 0.8072 - val_loss: 0.4365\n",
      "Epoch 46/100\n",
      "\u001b[1m42/42\u001b[0m \u001b[32m━━━━━━━━━━━━━━━━━━━━\u001b[0m\u001b[37m\u001b[0m \u001b[1m0s\u001b[0m 6ms/step - accuracy: 0.8065 - loss: 0.4725 - val_accuracy: 0.8072 - val_loss: 0.4344\n",
      "Epoch 47/100\n",
      "\u001b[1m42/42\u001b[0m \u001b[32m━━━━━━━━━━━━━━━━━━━━\u001b[0m\u001b[37m\u001b[0m \u001b[1m0s\u001b[0m 6ms/step - accuracy: 0.8214 - loss: 0.4496 - val_accuracy: 0.8117 - val_loss: 0.4328\n",
      "Epoch 48/100\n",
      "\u001b[1m42/42\u001b[0m \u001b[32m━━━━━━━━━━━━━━━━━━━━\u001b[0m\u001b[37m\u001b[0m \u001b[1m0s\u001b[0m 6ms/step - accuracy: 0.8148 - loss: 0.4552 - val_accuracy: 0.8117 - val_loss: 0.4311\n",
      "Epoch 49/100\n",
      "\u001b[1m42/42\u001b[0m \u001b[32m━━━━━━━━━━━━━━━━━━━━\u001b[0m\u001b[37m\u001b[0m \u001b[1m0s\u001b[0m 6ms/step - accuracy: 0.7973 - loss: 0.4687 - val_accuracy: 0.8117 - val_loss: 0.4296\n",
      "Epoch 50/100\n",
      "\u001b[1m42/42\u001b[0m \u001b[32m━━━━━━━━━━━━━━━━━━━━\u001b[0m\u001b[37m\u001b[0m \u001b[1m0s\u001b[0m 6ms/step - accuracy: 0.8167 - loss: 0.4462 - val_accuracy: 0.8161 - val_loss: 0.4279\n",
      "Epoch 51/100\n",
      "\u001b[1m42/42\u001b[0m \u001b[32m━━━━━━━━━━━━━━━━━━━━\u001b[0m\u001b[37m\u001b[0m \u001b[1m0s\u001b[0m 6ms/step - accuracy: 0.8039 - loss: 0.4609 - val_accuracy: 0.8161 - val_loss: 0.4267\n",
      "Epoch 52/100\n",
      "\u001b[1m42/42\u001b[0m \u001b[32m━━━━━━━━━━━━━━━━━━━━\u001b[0m\u001b[37m\u001b[0m \u001b[1m0s\u001b[0m 6ms/step - accuracy: 0.8077 - loss: 0.4566 - val_accuracy: 0.8117 - val_loss: 0.4251\n",
      "Epoch 53/100\n",
      "\u001b[1m42/42\u001b[0m \u001b[32m━━━━━━━━━━━━━━━━━━━━\u001b[0m\u001b[37m\u001b[0m \u001b[1m0s\u001b[0m 6ms/step - accuracy: 0.7863 - loss: 0.4775 - val_accuracy: 0.8117 - val_loss: 0.4238\n",
      "Epoch 54/100\n",
      "\u001b[1m42/42\u001b[0m \u001b[32m━━━━━━━━━━━━━━━━━━━━\u001b[0m\u001b[37m\u001b[0m \u001b[1m0s\u001b[0m 6ms/step - accuracy: 0.8028 - loss: 0.4454 - val_accuracy: 0.8117 - val_loss: 0.4227\n",
      "Epoch 55/100\n",
      "\u001b[1m42/42\u001b[0m \u001b[32m━━━━━━━━━━━━━━━━━━━━\u001b[0m\u001b[37m\u001b[0m \u001b[1m0s\u001b[0m 7ms/step - accuracy: 0.8206 - loss: 0.4512 - val_accuracy: 0.8117 - val_loss: 0.4221\n",
      "Epoch 56/100\n",
      "\u001b[1m42/42\u001b[0m \u001b[32m━━━━━━━━━━━━━━━━━━━━\u001b[0m\u001b[37m\u001b[0m \u001b[1m0s\u001b[0m 6ms/step - accuracy: 0.8079 - loss: 0.4357 - val_accuracy: 0.8206 - val_loss: 0.4211\n",
      "Epoch 57/100\n",
      "\u001b[1m42/42\u001b[0m \u001b[32m━━━━━━━━━━━━━━━━━━━━\u001b[0m\u001b[37m\u001b[0m \u001b[1m0s\u001b[0m 6ms/step - accuracy: 0.8092 - loss: 0.4696 - val_accuracy: 0.8161 - val_loss: 0.4201\n",
      "Epoch 58/100\n",
      "\u001b[1m42/42\u001b[0m \u001b[32m━━━━━━━━━━━━━━━━━━━━\u001b[0m\u001b[37m\u001b[0m \u001b[1m0s\u001b[0m 6ms/step - accuracy: 0.8208 - loss: 0.4475 - val_accuracy: 0.8206 - val_loss: 0.4189\n",
      "Epoch 59/100\n",
      "\u001b[1m42/42\u001b[0m \u001b[32m━━━━━━━━━━━━━━━━━━━━\u001b[0m\u001b[37m\u001b[0m \u001b[1m0s\u001b[0m 6ms/step - accuracy: 0.8255 - loss: 0.4449 - val_accuracy: 0.8206 - val_loss: 0.4184\n",
      "Epoch 60/100\n",
      "\u001b[1m42/42\u001b[0m \u001b[32m━━━━━━━━━━━━━━━━━━━━\u001b[0m\u001b[37m\u001b[0m \u001b[1m0s\u001b[0m 6ms/step - accuracy: 0.8166 - loss: 0.4384 - val_accuracy: 0.8206 - val_loss: 0.4186\n",
      "Epoch 61/100\n",
      "\u001b[1m42/42\u001b[0m \u001b[32m━━━━━━━━━━━━━━━━━━━━\u001b[0m\u001b[37m\u001b[0m \u001b[1m0s\u001b[0m 6ms/step - accuracy: 0.8295 - loss: 0.4196 - val_accuracy: 0.8161 - val_loss: 0.4176\n",
      "Epoch 62/100\n",
      "\u001b[1m42/42\u001b[0m \u001b[32m━━━━━━━━━━━━━━━━━━━━\u001b[0m\u001b[37m\u001b[0m \u001b[1m0s\u001b[0m 6ms/step - accuracy: 0.8315 - loss: 0.4261 - val_accuracy: 0.8161 - val_loss: 0.4173\n",
      "Epoch 63/100\n",
      "\u001b[1m42/42\u001b[0m \u001b[32m━━━━━━━━━━━━━━━━━━━━\u001b[0m\u001b[37m\u001b[0m \u001b[1m0s\u001b[0m 6ms/step - accuracy: 0.8268 - loss: 0.4223 - val_accuracy: 0.8161 - val_loss: 0.4162\n",
      "Epoch 64/100\n",
      "\u001b[1m42/42\u001b[0m \u001b[32m━━━━━━━━━━━━━━━━━━━━\u001b[0m\u001b[37m\u001b[0m \u001b[1m0s\u001b[0m 6ms/step - accuracy: 0.8035 - loss: 0.4656 - val_accuracy: 0.8206 - val_loss: 0.4168\n",
      "Epoch 65/100\n",
      "\u001b[1m42/42\u001b[0m \u001b[32m━━━━━━━━━━━━━━━━━━━━\u001b[0m\u001b[37m\u001b[0m \u001b[1m0s\u001b[0m 6ms/step - accuracy: 0.7922 - loss: 0.4663 - val_accuracy: 0.8206 - val_loss: 0.4161\n",
      "Epoch 66/100\n",
      "\u001b[1m42/42\u001b[0m \u001b[32m━━━━━━━━━━━━━━━━━━━━\u001b[0m\u001b[37m\u001b[0m \u001b[1m0s\u001b[0m 6ms/step - accuracy: 0.8004 - loss: 0.4728 - val_accuracy: 0.8206 - val_loss: 0.4148\n",
      "Epoch 67/100\n",
      "\u001b[1m42/42\u001b[0m \u001b[32m━━━━━━━━━━━━━━━━━━━━\u001b[0m\u001b[37m\u001b[0m \u001b[1m0s\u001b[0m 6ms/step - accuracy: 0.8055 - loss: 0.4256 - val_accuracy: 0.8206 - val_loss: 0.4158\n",
      "Epoch 68/100\n",
      "\u001b[1m42/42\u001b[0m \u001b[32m━━━━━━━━━━━━━━━━━━━━\u001b[0m\u001b[37m\u001b[0m \u001b[1m0s\u001b[0m 6ms/step - accuracy: 0.8175 - loss: 0.4421 - val_accuracy: 0.8206 - val_loss: 0.4150\n",
      "Epoch 69/100\n",
      "\u001b[1m42/42\u001b[0m \u001b[32m━━━━━━━━━━━━━━━━━━━━\u001b[0m\u001b[37m\u001b[0m \u001b[1m0s\u001b[0m 6ms/step - accuracy: 0.8255 - loss: 0.4071 - val_accuracy: 0.8251 - val_loss: 0.4139\n",
      "Epoch 70/100\n",
      "\u001b[1m42/42\u001b[0m \u001b[32m━━━━━━━━━━━━━━━━━━━━\u001b[0m\u001b[37m\u001b[0m \u001b[1m0s\u001b[0m 6ms/step - accuracy: 0.8264 - loss: 0.4429 - val_accuracy: 0.8206 - val_loss: 0.4140\n",
      "Epoch 71/100\n",
      "\u001b[1m42/42\u001b[0m \u001b[32m━━━━━━━━━━━━━━━━━━━━\u001b[0m\u001b[37m\u001b[0m \u001b[1m0s\u001b[0m 6ms/step - accuracy: 0.8263 - loss: 0.4395 - val_accuracy: 0.8251 - val_loss: 0.4136\n",
      "Epoch 72/100\n",
      "\u001b[1m42/42\u001b[0m \u001b[32m━━━━━━━━━━━━━━━━━━━━\u001b[0m\u001b[37m\u001b[0m \u001b[1m0s\u001b[0m 6ms/step - accuracy: 0.8259 - loss: 0.4149 - val_accuracy: 0.8251 - val_loss: 0.4135\n",
      "Epoch 73/100\n",
      "\u001b[1m42/42\u001b[0m \u001b[32m━━━━━━━━━━━━━━━━━━━━\u001b[0m\u001b[37m\u001b[0m \u001b[1m0s\u001b[0m 6ms/step - accuracy: 0.8018 - loss: 0.4347 - val_accuracy: 0.8296 - val_loss: 0.4129\n",
      "Epoch 74/100\n",
      "\u001b[1m42/42\u001b[0m \u001b[32m━━━━━━━━━━━━━━━━━━━━\u001b[0m\u001b[37m\u001b[0m \u001b[1m0s\u001b[0m 6ms/step - accuracy: 0.8383 - loss: 0.4195 - val_accuracy: 0.8251 - val_loss: 0.4118\n",
      "Epoch 75/100\n",
      "\u001b[1m42/42\u001b[0m \u001b[32m━━━━━━━━━━━━━━━━━━━━\u001b[0m\u001b[37m\u001b[0m \u001b[1m0s\u001b[0m 6ms/step - accuracy: 0.8114 - loss: 0.4143 - val_accuracy: 0.8206 - val_loss: 0.4116\n",
      "Epoch 76/100\n",
      "\u001b[1m42/42\u001b[0m \u001b[32m━━━━━━━━━━━━━━━━━━━━\u001b[0m\u001b[37m\u001b[0m \u001b[1m0s\u001b[0m 6ms/step - accuracy: 0.8057 - loss: 0.4745 - val_accuracy: 0.8251 - val_loss: 0.4119\n",
      "Epoch 77/100\n",
      "\u001b[1m42/42\u001b[0m \u001b[32m━━━━━━━━━━━━━━━━━━━━\u001b[0m\u001b[37m\u001b[0m \u001b[1m0s\u001b[0m 6ms/step - accuracy: 0.8227 - loss: 0.4076 - val_accuracy: 0.8206 - val_loss: 0.4117\n",
      "Epoch 78/100\n",
      "\u001b[1m42/42\u001b[0m \u001b[32m━━━━━━━━━━━━━━━━━━━━\u001b[0m\u001b[37m\u001b[0m \u001b[1m0s\u001b[0m 6ms/step - accuracy: 0.8246 - loss: 0.4164 - val_accuracy: 0.8206 - val_loss: 0.4117\n",
      "Epoch 79/100\n",
      "\u001b[1m42/42\u001b[0m \u001b[32m━━━━━━━━━━━━━━━━━━━━\u001b[0m\u001b[37m\u001b[0m \u001b[1m0s\u001b[0m 6ms/step - accuracy: 0.8176 - loss: 0.4201 - val_accuracy: 0.8161 - val_loss: 0.4111\n",
      "Epoch 80/100\n",
      "\u001b[1m42/42\u001b[0m \u001b[32m━━━━━━━━━━━━━━━━━━━━\u001b[0m\u001b[37m\u001b[0m \u001b[1m0s\u001b[0m 6ms/step - accuracy: 0.8222 - loss: 0.4158 - val_accuracy: 0.8161 - val_loss: 0.4112\n",
      "Epoch 81/100\n",
      "\u001b[1m42/42\u001b[0m \u001b[32m━━━━━━━━━━━━━━━━━━━━\u001b[0m\u001b[37m\u001b[0m \u001b[1m0s\u001b[0m 6ms/step - accuracy: 0.8296 - loss: 0.4183 - val_accuracy: 0.8206 - val_loss: 0.4102\n",
      "Epoch 82/100\n",
      "\u001b[1m42/42\u001b[0m \u001b[32m━━━━━━━━━━━━━━━━━━━━\u001b[0m\u001b[37m\u001b[0m \u001b[1m0s\u001b[0m 6ms/step - accuracy: 0.8277 - loss: 0.4260 - val_accuracy: 0.8161 - val_loss: 0.4106\n",
      "Epoch 83/100\n",
      "\u001b[1m42/42\u001b[0m \u001b[32m━━━━━━━━━━━━━━━━━━━━\u001b[0m\u001b[37m\u001b[0m \u001b[1m0s\u001b[0m 6ms/step - accuracy: 0.8405 - loss: 0.3930 - val_accuracy: 0.8161 - val_loss: 0.4104\n",
      "Epoch 84/100\n",
      "\u001b[1m42/42\u001b[0m \u001b[32m━━━━━━━━━━━━━━━━━━━━\u001b[0m\u001b[37m\u001b[0m \u001b[1m0s\u001b[0m 6ms/step - accuracy: 0.8379 - loss: 0.4243 - val_accuracy: 0.8161 - val_loss: 0.4106\n",
      "Epoch 85/100\n",
      "\u001b[1m42/42\u001b[0m \u001b[32m━━━━━━━━━━━━━━━━━━━━\u001b[0m\u001b[37m\u001b[0m \u001b[1m0s\u001b[0m 6ms/step - accuracy: 0.8206 - loss: 0.4309 - val_accuracy: 0.8161 - val_loss: 0.4118\n",
      "Epoch 86/100\n",
      "\u001b[1m42/42\u001b[0m \u001b[32m━━━━━━━━━━━━━━━━━━━━\u001b[0m\u001b[37m\u001b[0m \u001b[1m0s\u001b[0m 6ms/step - accuracy: 0.8063 - loss: 0.4317 - val_accuracy: 0.8206 - val_loss: 0.4107\n",
      "Epoch 87/100\n",
      "\u001b[1m42/42\u001b[0m \u001b[32m━━━━━━━━━━━━━━━━━━━━\u001b[0m\u001b[37m\u001b[0m \u001b[1m0s\u001b[0m 6ms/step - accuracy: 0.8582 - loss: 0.3705 - val_accuracy: 0.8161 - val_loss: 0.4098\n",
      "Epoch 88/100\n",
      "\u001b[1m42/42\u001b[0m \u001b[32m━━━━━━━━━━━━━━━━━━━━\u001b[0m\u001b[37m\u001b[0m \u001b[1m0s\u001b[0m 6ms/step - accuracy: 0.8292 - loss: 0.4104 - val_accuracy: 0.8161 - val_loss: 0.4093\n"
     ]
    }
   ],
   "source": [
    "# Sequential model with 5 layers\n",
    "nn_model = Sequential(\n",
    "    [\n",
    "        layers.Input(shape=((len(features_nn),))),\n",
    "        layers.Dense(512, activation=\"relu\", name=\"layer1\"),\n",
    "        layers.Dropout(0.2),\n",
    "        layers.Dense(512, activation=\"relu\", name=\"layer2\"),\n",
    "        layers.Dropout(0.3),\n",
    "        layers.Dense(256, activation=\"relu\", name=\"layer3\"),\n",
    "        layers.Dropout(0.3),\n",
    "        layers.Dense(128, activation=\"relu\", name=\"layer4\"),\n",
    "        layers.Dropout(0.3),\n",
    "        layers.Dense(1, activation='sigmoid', name=\"layer5\"),\n",
    "    ]\n",
    ")\n",
    "\n",
    "nn_model.compile(\n",
    "    loss='binary_crossentropy',\n",
    "    optimizer=Adam(learning_rate=1e-5),\n",
    "    metrics=['accuracy']\n",
    ")\n",
    "\n",
    "# Setting estimator attribute for Leaderboard\n",
    "nn_model.estimator = \"NeuralNet\"\n",
    "\n",
    "early_stopping = EarlyStopping(\n",
    "    monitor='val_accuracy',\n",
    "    patience=15,\n",
    "    restore_best_weights=True\n",
    ")\n",
    "\n",
    "# Fit the model with early stopping\n",
    "history = nn_model.fit(\n",
    "    X_train_preprocessed_nn, y_train,\n",
    "    validation_data=(X_val_preprocessed_nn, y_val),\n",
    "    epochs=100,\n",
    "    batch_size=16,\n",
    "    callbacks=[early_stopping]\n",
    ")"
   ]
  },
  {
   "cell_type": "code",
   "execution_count": 20,
   "id": "94178288",
   "metadata": {
    "execution": {
     "iopub.execute_input": "2024-12-31T17:17:34.293576Z",
     "iopub.status.busy": "2024-12-31T17:17:34.293160Z",
     "iopub.status.idle": "2024-12-31T17:17:34.601221Z",
     "shell.execute_reply": "2024-12-31T17:17:34.600128Z"
    },
    "papermill": {
     "duration": 0.348164,
     "end_time": "2024-12-31T17:17:34.603290",
     "exception": false,
     "start_time": "2024-12-31T17:17:34.255126",
     "status": "completed"
    },
    "tags": []
   },
   "outputs": [
    {
     "name": "stdout",
     "output_type": "stream",
     "text": [
      "\u001b[1m21/21\u001b[0m \u001b[32m━━━━━━━━━━━━━━━━━━━━\u001b[0m\u001b[37m\u001b[0m \u001b[1m0s\u001b[0m 4ms/step\n",
      "\u001b[1m7/7\u001b[0m \u001b[32m━━━━━━━━━━━━━━━━━━━━\u001b[0m\u001b[37m\u001b[0m \u001b[1m0s\u001b[0m 2ms/step \n"
     ]
    },
    {
     "data": {
      "text/plain": [
       "{'model': 'NeuralNet',\n",
       " 'training_accuracy': 0.8188622754491018,\n",
       " 'validation_accuracy': 0.8295964125560538}"
      ]
     },
     "execution_count": 20,
     "metadata": {},
     "output_type": "execute_result"
    }
   ],
   "source": [
    "evaluate_model(model=nn_model, X_train=X_train_preprocessed_nn, y_train=y_train,\n",
    "               X_val=X_val_preprocessed_nn, y_val=y_val)"
   ]
  },
  {
   "cell_type": "markdown",
   "id": "a659eaa2",
   "metadata": {
    "papermill": {
     "duration": 0.03592,
     "end_time": "2024-12-31T17:17:34.675870",
     "exception": false,
     "start_time": "2024-12-31T17:17:34.639950",
     "status": "completed"
    },
    "tags": []
   },
   "source": [
    "## Logistic Regression\n",
    "### Feature Selection"
   ]
  },
  {
   "cell_type": "code",
   "execution_count": 21,
   "id": "1314f6c7",
   "metadata": {
    "execution": {
     "iopub.execute_input": "2024-12-31T17:17:34.750785Z",
     "iopub.status.busy": "2024-12-31T17:17:34.750100Z",
     "iopub.status.idle": "2024-12-31T17:17:34.828681Z",
     "shell.execute_reply": "2024-12-31T17:17:34.827561Z"
    },
    "papermill": {
     "duration": 0.118578,
     "end_time": "2024-12-31T17:17:34.831110",
     "exception": false,
     "start_time": "2024-12-31T17:17:34.712532",
     "status": "completed"
    },
    "tags": []
   },
   "outputs": [],
   "source": [
    "features_lr = [\"Age_not_null\", \"is_male\", \"Fare_not_null\", \"Pclass_1\",\n",
    "               \"Pclass_2\", \"Pclass_3\", \"no_cabin\", \"family_size_alone\",\n",
    "               \"family_size_small\", \"family_size_big\"]\n",
    "\n",
    "X_train_preprocessed_lr = preprocess(X_train).reindex(columns=features_lr)\n",
    "X_val_preprocessed_lr = preprocess(X_val).reindex(columns=features_lr)"
   ]
  },
  {
   "cell_type": "code",
   "execution_count": 22,
   "id": "19e22d2c",
   "metadata": {
    "execution": {
     "iopub.execute_input": "2024-12-31T17:17:34.910644Z",
     "iopub.status.busy": "2024-12-31T17:17:34.909708Z",
     "iopub.status.idle": "2024-12-31T17:17:34.922853Z",
     "shell.execute_reply": "2024-12-31T17:17:34.921704Z"
    },
    "papermill": {
     "duration": 0.053794,
     "end_time": "2024-12-31T17:17:34.924864",
     "exception": false,
     "start_time": "2024-12-31T17:17:34.871070",
     "status": "completed"
    },
    "tags": []
   },
   "outputs": [],
   "source": [
    "# Scale Features.\n",
    "numeric_features_lr = ['Age_not_null', 'Fare_not_null']\n",
    "\n",
    "# Initialize scaler.\n",
    "scaler_lr = StandardScaler()\n",
    "# Fit scaler on training data.\n",
    "scaler_lr.fit(X_train_preprocessed_lr[numeric_features_lr])\n",
    "\n",
    "# Scale only specified columns.\n",
    "X_train_preprocessed_lr[numeric_features_lr] = scaler_lr.transform(\n",
    "    X_train_preprocessed_lr[numeric_features_lr])\n",
    "X_val_preprocessed_lr[numeric_features_lr] = scaler_lr.transform(\n",
    "    X_val_preprocessed_lr[numeric_features_lr])"
   ]
  },
  {
   "cell_type": "markdown",
   "id": "fe6cfb86",
   "metadata": {
    "papermill": {
     "duration": 0.049702,
     "end_time": "2024-12-31T17:17:35.018090",
     "exception": false,
     "start_time": "2024-12-31T17:17:34.968388",
     "status": "completed"
    },
    "tags": []
   },
   "source": [
    "### Hyperparameter Tuning"
   ]
  },
  {
   "cell_type": "code",
   "execution_count": 23,
   "id": "cb3625e5",
   "metadata": {
    "execution": {
     "iopub.execute_input": "2024-12-31T17:17:35.096596Z",
     "iopub.status.busy": "2024-12-31T17:17:35.096178Z",
     "iopub.status.idle": "2024-12-31T17:17:35.629397Z",
     "shell.execute_reply": "2024-12-31T17:17:35.628293Z"
    },
    "papermill": {
     "duration": 0.573458,
     "end_time": "2024-12-31T17:17:35.631449",
     "exception": false,
     "start_time": "2024-12-31T17:17:35.057991",
     "status": "completed"
    },
    "tags": []
   },
   "outputs": [
    {
     "name": "stdout",
     "output_type": "stream",
     "text": [
      "Logistic Regression:\tGridSearchCV took 0:00:00.526888\n"
     ]
    }
   ],
   "source": [
    "# Trying ~15 combinations takes about 1 second.\n",
    "param_grid_lr = [{\n",
    "    'penalty': ['l2'],\n",
    "    'solver': ['newton-cholesky', 'liblinear'],\n",
    "    'C': np.arange(start=.2, stop=.9, step=.1)\n",
    "}]\n",
    "\n",
    "start_time = datetime.datetime.now()\n",
    "lr_model = GridSearchCV(\n",
    "    estimator=LogisticRegression(),\n",
    "    param_grid=param_grid_lr,\n",
    "    cv=StratifiedKFold(n_splits=5, shuffle=True),\n",
    "    # Using roc_auc as we have a class imbalance.\n",
    "    scoring='roc_auc'\n",
    ")\n",
    "lr_model.fit(X_train_preprocessed_lr, y_train)\n",
    "end_time = datetime.datetime.now()\n",
    "\n",
    "gridsearch_time = end_time-start_time\n",
    "print(f\"Logistic Regression:\\tGridSearchCV took {gridsearch_time}\")"
   ]
  },
  {
   "cell_type": "code",
   "execution_count": 24,
   "id": "63f44e41",
   "metadata": {
    "execution": {
     "iopub.execute_input": "2024-12-31T17:17:35.706188Z",
     "iopub.status.busy": "2024-12-31T17:17:35.705767Z",
     "iopub.status.idle": "2024-12-31T17:17:35.718782Z",
     "shell.execute_reply": "2024-12-31T17:17:35.717937Z"
    },
    "papermill": {
     "duration": 0.053013,
     "end_time": "2024-12-31T17:17:35.720871",
     "exception": false,
     "start_time": "2024-12-31T17:17:35.667858",
     "status": "completed"
    },
    "tags": []
   },
   "outputs": [
    {
     "data": {
      "text/plain": [
       "{'model': LogisticRegression(),\n",
       " 'training_accuracy': 0.8263473053892215,\n",
       " 'validation_accuracy': 0.8161434977578476}"
      ]
     },
     "execution_count": 24,
     "metadata": {},
     "output_type": "execute_result"
    }
   ],
   "source": [
    "evaluate_model(model=lr_model, X_train=X_train_preprocessed_lr, y_train=y_train,\n",
    "               X_val=X_val_preprocessed_lr, y_val=y_val)"
   ]
  },
  {
   "cell_type": "markdown",
   "id": "170958bb",
   "metadata": {
    "papermill": {
     "duration": 0.036187,
     "end_time": "2024-12-31T17:17:35.794208",
     "exception": false,
     "start_time": "2024-12-31T17:17:35.758021",
     "status": "completed"
    },
    "tags": []
   },
   "source": [
    "# Leaderboard"
   ]
  },
  {
   "cell_type": "code",
   "execution_count": 25,
   "id": "53d68ca5",
   "metadata": {
    "execution": {
     "iopub.execute_input": "2024-12-31T17:17:35.869605Z",
     "iopub.status.busy": "2024-12-31T17:17:35.868546Z",
     "iopub.status.idle": "2024-12-31T17:17:36.120879Z",
     "shell.execute_reply": "2024-12-31T17:17:36.119948Z"
    },
    "papermill": {
     "duration": 0.292369,
     "end_time": "2024-12-31T17:17:36.123157",
     "exception": false,
     "start_time": "2024-12-31T17:17:35.830788",
     "status": "completed"
    },
    "tags": []
   },
   "outputs": [
    {
     "name": "stdout",
     "output_type": "stream",
     "text": [
      "\u001b[1m21/21\u001b[0m \u001b[32m━━━━━━━━━━━━━━━━━━━━\u001b[0m\u001b[37m\u001b[0m \u001b[1m0s\u001b[0m 2ms/step \n",
      "\u001b[1m7/7\u001b[0m \u001b[32m━━━━━━━━━━━━━━━━━━━━\u001b[0m\u001b[37m\u001b[0m \u001b[1m0s\u001b[0m 2ms/step \n"
     ]
    }
   ],
   "source": [
    "# Adding models to the Leaderboard.\n",
    "gender_model_evaluation = evaluate_model(\n",
    "    model=gender_model, X_train=X_train, y_train=y_train,\n",
    "    X_val=X_val, y_val=y_val)\n",
    "\n",
    "random_forest_evaluation = evaluate_model(\n",
    "    model=random_forest_model, X_train=X_train_preprocessed_rf, y_train=y_train,\n",
    "    X_val=X_val_preprocessed_rf, y_val=y_val)\n",
    "\n",
    "xgb_evaluation = evaluate_model(\n",
    "    model=xgboost_model, X_train=X_train_preprocessed_xgb,\n",
    "    y_train=y_train, X_val=X_val_preprocessed_xgb, y_val=y_val)\n",
    "\n",
    "nn_evaluation = evaluate_model(\n",
    "    model=nn_model, X_train=X_train_preprocessed_nn,\n",
    "    y_train=y_train, X_val=X_val_preprocessed_nn, y_val=y_val)\n",
    "\n",
    "lr_evaluation = evaluate_model(\n",
    "    model=lr_model, X_train=X_train_preprocessed_lr,\n",
    "    y_train=y_train, X_val=X_val_preprocessed_lr, y_val=y_val)"
   ]
  },
  {
   "cell_type": "code",
   "execution_count": 26,
   "id": "3f62882a",
   "metadata": {
    "execution": {
     "iopub.execute_input": "2024-12-31T17:17:36.200317Z",
     "iopub.status.busy": "2024-12-31T17:17:36.199418Z",
     "iopub.status.idle": "2024-12-31T17:17:36.221855Z",
     "shell.execute_reply": "2024-12-31T17:17:36.220684Z"
    },
    "papermill": {
     "duration": 0.063487,
     "end_time": "2024-12-31T17:17:36.223963",
     "exception": false,
     "start_time": "2024-12-31T17:17:36.160476",
     "status": "completed"
    },
    "tags": []
   },
   "outputs": [
    {
     "data": {
      "text/html": [
       "<div>\n",
       "<style scoped>\n",
       "    .dataframe tbody tr th:only-of-type {\n",
       "        vertical-align: middle;\n",
       "    }\n",
       "\n",
       "    .dataframe tbody tr th {\n",
       "        vertical-align: top;\n",
       "    }\n",
       "\n",
       "    .dataframe thead th {\n",
       "        text-align: right;\n",
       "    }\n",
       "</style>\n",
       "<table border=\"1\" class=\"dataframe\">\n",
       "  <thead>\n",
       "    <tr style=\"text-align: right;\">\n",
       "      <th></th>\n",
       "      <th>model</th>\n",
       "      <th>training_accuracy</th>\n",
       "      <th>validation_accuracy</th>\n",
       "    </tr>\n",
       "  </thead>\n",
       "  <tbody>\n",
       "    <tr>\n",
       "      <th>3</th>\n",
       "      <td>NeuralNet</td>\n",
       "      <td>0.818862</td>\n",
       "      <td>0.829596</td>\n",
       "    </tr>\n",
       "    <tr>\n",
       "      <th>1</th>\n",
       "      <td>RandomForestClassifier()</td>\n",
       "      <td>0.772455</td>\n",
       "      <td>0.825112</td>\n",
       "    </tr>\n",
       "    <tr>\n",
       "      <th>4</th>\n",
       "      <td>LogisticRegression()</td>\n",
       "      <td>0.826347</td>\n",
       "      <td>0.816143</td>\n",
       "    </tr>\n",
       "    <tr>\n",
       "      <th>0</th>\n",
       "      <td>GenderModel()</td>\n",
       "      <td>0.779940</td>\n",
       "      <td>0.807175</td>\n",
       "    </tr>\n",
       "    <tr>\n",
       "      <th>2</th>\n",
       "      <td>XGBClassifier(base_score=None, booster=None, c...</td>\n",
       "      <td>0.827844</td>\n",
       "      <td>0.807175</td>\n",
       "    </tr>\n",
       "  </tbody>\n",
       "</table>\n",
       "</div>"
      ],
      "text/plain": [
       "                                               model  training_accuracy  \\\n",
       "3                                          NeuralNet           0.818862   \n",
       "1                           RandomForestClassifier()           0.772455   \n",
       "4                               LogisticRegression()           0.826347   \n",
       "0                                      GenderModel()           0.779940   \n",
       "2  XGBClassifier(base_score=None, booster=None, c...           0.827844   \n",
       "\n",
       "   validation_accuracy  \n",
       "3             0.829596  \n",
       "1             0.825112  \n",
       "4             0.816143  \n",
       "0             0.807175  \n",
       "2             0.807175  "
      ]
     },
     "execution_count": 26,
     "metadata": {},
     "output_type": "execute_result"
    }
   ],
   "source": [
    "leaderboard = pd.DataFrame([\n",
    "    gender_model_evaluation, random_forest_evaluation, xgb_evaluation,\n",
    "    nn_evaluation, lr_evaluation])\n",
    "\n",
    "leaderboard.sort_values(by='validation_accuracy', ascending=False, inplace=True)\n",
    "\n",
    "leaderboard.head(len(leaderboard))"
   ]
  },
  {
   "cell_type": "markdown",
   "id": "b748b4a7",
   "metadata": {
    "papermill": {
     "duration": 0.088495,
     "end_time": "2024-12-31T17:17:36.349614",
     "exception": false,
     "start_time": "2024-12-31T17:17:36.261119",
     "status": "completed"
    },
    "tags": []
   },
   "source": [
    "# Submission"
   ]
  },
  {
   "cell_type": "code",
   "execution_count": 27,
   "id": "9165e8a6",
   "metadata": {
    "execution": {
     "iopub.execute_input": "2024-12-31T17:17:36.425478Z",
     "iopub.status.busy": "2024-12-31T17:17:36.424680Z",
     "iopub.status.idle": "2024-12-31T17:17:36.473251Z",
     "shell.execute_reply": "2024-12-31T17:17:36.472154Z"
    },
    "papermill": {
     "duration": 0.088906,
     "end_time": "2024-12-31T17:17:36.475587",
     "exception": false,
     "start_time": "2024-12-31T17:17:36.386681",
     "status": "completed"
    },
    "tags": []
   },
   "outputs": [],
   "source": [
    "# Predicting on X_test.\n",
    "X_test_preprocessed_lr = preprocess(X_test).reindex(columns=features_lr)\n",
    "X_test_preprocessed_lr[numeric_features_lr] = scaler_lr.transform(\n",
    "    X_test_preprocessed_lr[numeric_features_lr])\n",
    "y_pred_test = lr_model.predict(X_test_preprocessed_lr)"
   ]
  },
  {
   "cell_type": "code",
   "execution_count": 28,
   "id": "438052b9",
   "metadata": {
    "execution": {
     "iopub.execute_input": "2024-12-31T17:17:36.552728Z",
     "iopub.status.busy": "2024-12-31T17:17:36.552333Z",
     "iopub.status.idle": "2024-12-31T17:17:36.564452Z",
     "shell.execute_reply": "2024-12-31T17:17:36.563176Z"
    },
    "papermill": {
     "duration": 0.053347,
     "end_time": "2024-12-31T17:17:36.566829",
     "exception": false,
     "start_time": "2024-12-31T17:17:36.513482",
     "status": "completed"
    },
    "tags": []
   },
   "outputs": [
    {
     "data": {
      "text/html": [
       "<div>\n",
       "<style scoped>\n",
       "    .dataframe tbody tr th:only-of-type {\n",
       "        vertical-align: middle;\n",
       "    }\n",
       "\n",
       "    .dataframe tbody tr th {\n",
       "        vertical-align: top;\n",
       "    }\n",
       "\n",
       "    .dataframe thead th {\n",
       "        text-align: right;\n",
       "    }\n",
       "</style>\n",
       "<table border=\"1\" class=\"dataframe\">\n",
       "  <thead>\n",
       "    <tr style=\"text-align: right;\">\n",
       "      <th></th>\n",
       "      <th>PassengerId</th>\n",
       "      <th>Survived</th>\n",
       "    </tr>\n",
       "  </thead>\n",
       "  <tbody>\n",
       "    <tr>\n",
       "      <th>0</th>\n",
       "      <td>892</td>\n",
       "      <td>0</td>\n",
       "    </tr>\n",
       "    <tr>\n",
       "      <th>1</th>\n",
       "      <td>893</td>\n",
       "      <td>0</td>\n",
       "    </tr>\n",
       "    <tr>\n",
       "      <th>2</th>\n",
       "      <td>894</td>\n",
       "      <td>0</td>\n",
       "    </tr>\n",
       "    <tr>\n",
       "      <th>3</th>\n",
       "      <td>895</td>\n",
       "      <td>0</td>\n",
       "    </tr>\n",
       "    <tr>\n",
       "      <th>4</th>\n",
       "      <td>896</td>\n",
       "      <td>1</td>\n",
       "    </tr>\n",
       "    <tr>\n",
       "      <th>5</th>\n",
       "      <td>897</td>\n",
       "      <td>0</td>\n",
       "    </tr>\n",
       "    <tr>\n",
       "      <th>6</th>\n",
       "      <td>898</td>\n",
       "      <td>1</td>\n",
       "    </tr>\n",
       "    <tr>\n",
       "      <th>7</th>\n",
       "      <td>899</td>\n",
       "      <td>0</td>\n",
       "    </tr>\n",
       "    <tr>\n",
       "      <th>8</th>\n",
       "      <td>900</td>\n",
       "      <td>1</td>\n",
       "    </tr>\n",
       "    <tr>\n",
       "      <th>9</th>\n",
       "      <td>901</td>\n",
       "      <td>0</td>\n",
       "    </tr>\n",
       "    <tr>\n",
       "      <th>10</th>\n",
       "      <td>902</td>\n",
       "      <td>0</td>\n",
       "    </tr>\n",
       "    <tr>\n",
       "      <th>11</th>\n",
       "      <td>903</td>\n",
       "      <td>0</td>\n",
       "    </tr>\n",
       "    <tr>\n",
       "      <th>12</th>\n",
       "      <td>904</td>\n",
       "      <td>1</td>\n",
       "    </tr>\n",
       "    <tr>\n",
       "      <th>13</th>\n",
       "      <td>905</td>\n",
       "      <td>0</td>\n",
       "    </tr>\n",
       "    <tr>\n",
       "      <th>14</th>\n",
       "      <td>906</td>\n",
       "      <td>1</td>\n",
       "    </tr>\n",
       "    <tr>\n",
       "      <th>15</th>\n",
       "      <td>907</td>\n",
       "      <td>1</td>\n",
       "    </tr>\n",
       "    <tr>\n",
       "      <th>16</th>\n",
       "      <td>908</td>\n",
       "      <td>0</td>\n",
       "    </tr>\n",
       "    <tr>\n",
       "      <th>17</th>\n",
       "      <td>909</td>\n",
       "      <td>0</td>\n",
       "    </tr>\n",
       "    <tr>\n",
       "      <th>18</th>\n",
       "      <td>910</td>\n",
       "      <td>1</td>\n",
       "    </tr>\n",
       "    <tr>\n",
       "      <th>19</th>\n",
       "      <td>911</td>\n",
       "      <td>0</td>\n",
       "    </tr>\n",
       "    <tr>\n",
       "      <th>20</th>\n",
       "      <td>912</td>\n",
       "      <td>0</td>\n",
       "    </tr>\n",
       "    <tr>\n",
       "      <th>21</th>\n",
       "      <td>913</td>\n",
       "      <td>0</td>\n",
       "    </tr>\n",
       "    <tr>\n",
       "      <th>22</th>\n",
       "      <td>914</td>\n",
       "      <td>1</td>\n",
       "    </tr>\n",
       "    <tr>\n",
       "      <th>23</th>\n",
       "      <td>915</td>\n",
       "      <td>0</td>\n",
       "    </tr>\n",
       "    <tr>\n",
       "      <th>24</th>\n",
       "      <td>916</td>\n",
       "      <td>1</td>\n",
       "    </tr>\n",
       "    <tr>\n",
       "      <th>25</th>\n",
       "      <td>917</td>\n",
       "      <td>0</td>\n",
       "    </tr>\n",
       "    <tr>\n",
       "      <th>26</th>\n",
       "      <td>918</td>\n",
       "      <td>1</td>\n",
       "    </tr>\n",
       "    <tr>\n",
       "      <th>27</th>\n",
       "      <td>919</td>\n",
       "      <td>0</td>\n",
       "    </tr>\n",
       "    <tr>\n",
       "      <th>28</th>\n",
       "      <td>920</td>\n",
       "      <td>0</td>\n",
       "    </tr>\n",
       "    <tr>\n",
       "      <th>29</th>\n",
       "      <td>921</td>\n",
       "      <td>0</td>\n",
       "    </tr>\n",
       "    <tr>\n",
       "      <th>30</th>\n",
       "      <td>922</td>\n",
       "      <td>0</td>\n",
       "    </tr>\n",
       "    <tr>\n",
       "      <th>31</th>\n",
       "      <td>923</td>\n",
       "      <td>0</td>\n",
       "    </tr>\n",
       "    <tr>\n",
       "      <th>32</th>\n",
       "      <td>924</td>\n",
       "      <td>1</td>\n",
       "    </tr>\n",
       "    <tr>\n",
       "      <th>33</th>\n",
       "      <td>925</td>\n",
       "      <td>1</td>\n",
       "    </tr>\n",
       "    <tr>\n",
       "      <th>34</th>\n",
       "      <td>926</td>\n",
       "      <td>1</td>\n",
       "    </tr>\n",
       "    <tr>\n",
       "      <th>35</th>\n",
       "      <td>927</td>\n",
       "      <td>0</td>\n",
       "    </tr>\n",
       "    <tr>\n",
       "      <th>36</th>\n",
       "      <td>928</td>\n",
       "      <td>1</td>\n",
       "    </tr>\n",
       "    <tr>\n",
       "      <th>37</th>\n",
       "      <td>929</td>\n",
       "      <td>1</td>\n",
       "    </tr>\n",
       "    <tr>\n",
       "      <th>38</th>\n",
       "      <td>930</td>\n",
       "      <td>0</td>\n",
       "    </tr>\n",
       "    <tr>\n",
       "      <th>39</th>\n",
       "      <td>931</td>\n",
       "      <td>0</td>\n",
       "    </tr>\n",
       "    <tr>\n",
       "      <th>40</th>\n",
       "      <td>932</td>\n",
       "      <td>0</td>\n",
       "    </tr>\n",
       "    <tr>\n",
       "      <th>41</th>\n",
       "      <td>933</td>\n",
       "      <td>0</td>\n",
       "    </tr>\n",
       "    <tr>\n",
       "      <th>42</th>\n",
       "      <td>934</td>\n",
       "      <td>0</td>\n",
       "    </tr>\n",
       "    <tr>\n",
       "      <th>43</th>\n",
       "      <td>935</td>\n",
       "      <td>1</td>\n",
       "    </tr>\n",
       "    <tr>\n",
       "      <th>44</th>\n",
       "      <td>936</td>\n",
       "      <td>1</td>\n",
       "    </tr>\n",
       "    <tr>\n",
       "      <th>45</th>\n",
       "      <td>937</td>\n",
       "      <td>0</td>\n",
       "    </tr>\n",
       "    <tr>\n",
       "      <th>46</th>\n",
       "      <td>938</td>\n",
       "      <td>0</td>\n",
       "    </tr>\n",
       "    <tr>\n",
       "      <th>47</th>\n",
       "      <td>939</td>\n",
       "      <td>0</td>\n",
       "    </tr>\n",
       "    <tr>\n",
       "      <th>48</th>\n",
       "      <td>940</td>\n",
       "      <td>1</td>\n",
       "    </tr>\n",
       "    <tr>\n",
       "      <th>49</th>\n",
       "      <td>941</td>\n",
       "      <td>1</td>\n",
       "    </tr>\n",
       "  </tbody>\n",
       "</table>\n",
       "</div>"
      ],
      "text/plain": [
       "    PassengerId  Survived\n",
       "0           892         0\n",
       "1           893         0\n",
       "2           894         0\n",
       "3           895         0\n",
       "4           896         1\n",
       "5           897         0\n",
       "6           898         1\n",
       "7           899         0\n",
       "8           900         1\n",
       "9           901         0\n",
       "10          902         0\n",
       "11          903         0\n",
       "12          904         1\n",
       "13          905         0\n",
       "14          906         1\n",
       "15          907         1\n",
       "16          908         0\n",
       "17          909         0\n",
       "18          910         1\n",
       "19          911         0\n",
       "20          912         0\n",
       "21          913         0\n",
       "22          914         1\n",
       "23          915         0\n",
       "24          916         1\n",
       "25          917         0\n",
       "26          918         1\n",
       "27          919         0\n",
       "28          920         0\n",
       "29          921         0\n",
       "30          922         0\n",
       "31          923         0\n",
       "32          924         1\n",
       "33          925         1\n",
       "34          926         1\n",
       "35          927         0\n",
       "36          928         1\n",
       "37          929         1\n",
       "38          930         0\n",
       "39          931         0\n",
       "40          932         0\n",
       "41          933         0\n",
       "42          934         0\n",
       "43          935         1\n",
       "44          936         1\n",
       "45          937         0\n",
       "46          938         0\n",
       "47          939         0\n",
       "48          940         1\n",
       "49          941         1"
      ]
     },
     "execution_count": 28,
     "metadata": {},
     "output_type": "execute_result"
    }
   ],
   "source": [
    "submission_df = pd.DataFrame({\n",
    "    \"PassengerId\": X_test.PassengerId,\n",
    "    \"Survived\": y_pred_test\n",
    "})\n",
    "\n",
    "submission_df.head(50)"
   ]
  },
  {
   "cell_type": "code",
   "execution_count": 29,
   "id": "b42b86d8",
   "metadata": {
    "execution": {
     "iopub.execute_input": "2024-12-31T17:17:36.645322Z",
     "iopub.status.busy": "2024-12-31T17:17:36.644298Z",
     "iopub.status.idle": "2024-12-31T17:17:36.652663Z",
     "shell.execute_reply": "2024-12-31T17:17:36.651495Z"
    },
    "papermill": {
     "duration": 0.04936,
     "end_time": "2024-12-31T17:17:36.654631",
     "exception": false,
     "start_time": "2024-12-31T17:17:36.605271",
     "status": "completed"
    },
    "tags": []
   },
   "outputs": [
    {
     "name": "stdout",
     "output_type": "stream",
     "text": [
      "Submission saved to submission.csv\n"
     ]
    }
   ],
   "source": [
    "submission_df.to_csv('submission.csv', index=False)\n",
    "print(\"Submission saved to submission.csv\")"
   ]
  }
 ],
 "metadata": {
  "kaggle": {
   "accelerator": "none",
   "dataSources": [
    {
     "databundleVersionId": 26502,
     "sourceId": 3136,
     "sourceType": "competition"
    }
   ],
   "dockerImageVersionId": 30786,
   "isGpuEnabled": false,
   "isInternetEnabled": true,
   "language": "python",
   "sourceType": "notebook"
  },
  "kernelspec": {
   "display_name": "Python 3",
   "language": "python",
   "name": "python3"
  },
  "language_info": {
   "codemirror_mode": {
    "name": "ipython",
    "version": 3
   },
   "file_extension": ".py",
   "mimetype": "text/x-python",
   "name": "python",
   "nbconvert_exporter": "python",
   "pygments_lexer": "ipython3",
   "version": "3.10.14"
  },
  "papermill": {
   "default_parameters": {},
   "duration": 61.187863,
   "end_time": "2024-12-31T17:17:38.217390",
   "environment_variables": {},
   "exception": null,
   "input_path": "__notebook__.ipynb",
   "output_path": "__notebook__.ipynb",
   "parameters": {},
   "start_time": "2024-12-31T17:16:37.029527",
   "version": "2.6.0"
  }
 },
 "nbformat": 4,
 "nbformat_minor": 5
}
